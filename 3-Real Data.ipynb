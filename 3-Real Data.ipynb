{
 "cells": [
  {
   "cell_type": "code",
   "execution_count": 113,
   "metadata": {
    "vscode": {
     "languageId": "r"
    }
   },
   "outputs": [],
   "source": [
    "# Load required libraries\n",
    "library(tidyverse)\n",
    "library(Hmisc)\n",
    "library(VIM)\n",
    "library(mice)\n",
    "\n",
    "#library(ggplot2)\n",
    "#library(dplyr)\n",
    "#library(tidyr)\n",
    "library(knitr)"
   ]
  },
  {
   "cell_type": "markdown",
   "metadata": {},
   "source": [
    "### Load Data"
   ]
  },
  {
   "cell_type": "code",
   "execution_count": 204,
   "metadata": {
    "vscode": {
     "languageId": "r"
    }
   },
   "outputs": [],
   "source": [
    "# Baca data\n",
    "data <- read.csv(\"DATA_MASTER - MASTER_RAPI.csv\")"
   ]
  },
  {
   "cell_type": "code",
   "execution_count": 205,
   "metadata": {
    "vscode": {
     "languageId": "r"
    }
   },
   "outputs": [
    {
     "data": {
      "text/html": [
       "<style>\n",
       ".list-inline {list-style: none; margin:0; padding: 0}\n",
       ".list-inline>li {display: inline-block}\n",
       ".list-inline>li:not(:last-child)::after {content: \"\\00b7\"; padding: 0 .5ex}\n",
       "</style>\n",
       "<ol class=list-inline><li>'NO'</li><li>'KODE_SAMPEL'</li><li>'NO_RM'</li><li>'NAMA'</li><li>'TGL_LAHIR'</li><li>'USIA'</li><li>'JENIS_KEL'</li><li>'KEL_UTAMA'</li><li>'TGL_OPNAME'</li><li>'TGL_CATH'</li><li>'RIW_DM'</li><li>'RIW_HT'</li><li>'RIW_DISLIPIDEMIA'</li><li>'RIW_MEROKOK'</li><li>'RIW_KELUARGA'</li><li>'RIW_ALKOHOL'</li><li>'TB'</li><li>'BB'</li><li>'TD_S'</li><li>'TD_D'</li><li>'HR'</li><li>'RR'</li><li>'TEMP'</li><li>'KEPALA_LEHER'</li><li>'JANTUNG'</li><li>'PARU'</li><li>'ABDOMEN'</li><li>'EKSTREMITAS'</li><li>'HB'</li><li>'LEUKOSIT'</li><li>'PLT'</li><li>'HBSAG'</li><li>'BUN'</li><li>'SK'</li><li>'ALBUMIN'</li><li>'ANTIHCV'</li><li>'NATRIUM'</li><li>'K'</li><li>'GDS'</li><li>'GDP'</li><li>'GD_2JPP'</li><li>'KOL_TOT'</li><li>'TG'</li><li>'HDL'</li><li>'LDL'</li><li>'UREUM'</li><li>'EGFR'</li><li>'ASAM_URAT'</li><li>'HBA1C'</li><li>'HSTROP_1'</li><li>'IRAMA_EKG'</li><li>'AKSIS_EKG'</li><li>'X'</li><li>'EF_ECHO'</li><li>'X.1'</li><li>'FOTO_THORAX'</li><li>'X.2'</li><li>'LMCA'</li><li>'LMCA_POINT'</li><li>'LAD_PROX'</li><li>'LAD_PROX_POINT'</li><li>'LAD_MID'</li><li>'LAD_MID_POINT'</li><li>'LAD_DIST'</li><li>'LAD_DIST_POINT'</li><li>'LAD_D1'</li><li>'LAD_D1_POINT'</li><li>'LAD_D2'</li><li>'LAD_D2_POINT'</li><li>'LAD_API'</li><li>'LAD_API_POINT'</li><li>'LCX_PROX'</li><li>'LCX_PROX_POINT'</li><li>'LCX_DIST'</li><li>'LCX_DIST_POINT'</li><li>'LCX_OM'</li><li>'LCX_OM_POINT'</li><li>'LCX_PL'</li><li>'LCX_PL_POINT'</li><li>'RCA_PROX'</li><li>'RCA_PROX_POINT'</li><li>'RCA_MID'</li><li>'RCA_MID_POINT'</li><li>'RCA_DIST'</li><li>'RCA_DIST_POINT'</li><li>'RCA_PD'</li><li>'RCA_PD_POINT'</li><li>'GENSINI'</li><li>'SEG_TERLIBAT'</li></ol>\n"
      ],
      "text/latex": [
       "\\begin{enumerate*}\n",
       "\\item 'NO'\n",
       "\\item 'KODE\\_SAMPEL'\n",
       "\\item 'NO\\_RM'\n",
       "\\item 'NAMA'\n",
       "\\item 'TGL\\_LAHIR'\n",
       "\\item 'USIA'\n",
       "\\item 'JENIS\\_KEL'\n",
       "\\item 'KEL\\_UTAMA'\n",
       "\\item 'TGL\\_OPNAME'\n",
       "\\item 'TGL\\_CATH'\n",
       "\\item 'RIW\\_DM'\n",
       "\\item 'RIW\\_HT'\n",
       "\\item 'RIW\\_DISLIPIDEMIA'\n",
       "\\item 'RIW\\_MEROKOK'\n",
       "\\item 'RIW\\_KELUARGA'\n",
       "\\item 'RIW\\_ALKOHOL'\n",
       "\\item 'TB'\n",
       "\\item 'BB'\n",
       "\\item 'TD\\_S'\n",
       "\\item 'TD\\_D'\n",
       "\\item 'HR'\n",
       "\\item 'RR'\n",
       "\\item 'TEMP'\n",
       "\\item 'KEPALA\\_LEHER'\n",
       "\\item 'JANTUNG'\n",
       "\\item 'PARU'\n",
       "\\item 'ABDOMEN'\n",
       "\\item 'EKSTREMITAS'\n",
       "\\item 'HB'\n",
       "\\item 'LEUKOSIT'\n",
       "\\item 'PLT'\n",
       "\\item 'HBSAG'\n",
       "\\item 'BUN'\n",
       "\\item 'SK'\n",
       "\\item 'ALBUMIN'\n",
       "\\item 'ANTIHCV'\n",
       "\\item 'NATRIUM'\n",
       "\\item 'K'\n",
       "\\item 'GDS'\n",
       "\\item 'GDP'\n",
       "\\item 'GD\\_2JPP'\n",
       "\\item 'KOL\\_TOT'\n",
       "\\item 'TG'\n",
       "\\item 'HDL'\n",
       "\\item 'LDL'\n",
       "\\item 'UREUM'\n",
       "\\item 'EGFR'\n",
       "\\item 'ASAM\\_URAT'\n",
       "\\item 'HBA1C'\n",
       "\\item 'HSTROP\\_1'\n",
       "\\item 'IRAMA\\_EKG'\n",
       "\\item 'AKSIS\\_EKG'\n",
       "\\item 'X'\n",
       "\\item 'EF\\_ECHO'\n",
       "\\item 'X.1'\n",
       "\\item 'FOTO\\_THORAX'\n",
       "\\item 'X.2'\n",
       "\\item 'LMCA'\n",
       "\\item 'LMCA\\_POINT'\n",
       "\\item 'LAD\\_PROX'\n",
       "\\item 'LAD\\_PROX\\_POINT'\n",
       "\\item 'LAD\\_MID'\n",
       "\\item 'LAD\\_MID\\_POINT'\n",
       "\\item 'LAD\\_DIST'\n",
       "\\item 'LAD\\_DIST\\_POINT'\n",
       "\\item 'LAD\\_D1'\n",
       "\\item 'LAD\\_D1\\_POINT'\n",
       "\\item 'LAD\\_D2'\n",
       "\\item 'LAD\\_D2\\_POINT'\n",
       "\\item 'LAD\\_API'\n",
       "\\item 'LAD\\_API\\_POINT'\n",
       "\\item 'LCX\\_PROX'\n",
       "\\item 'LCX\\_PROX\\_POINT'\n",
       "\\item 'LCX\\_DIST'\n",
       "\\item 'LCX\\_DIST\\_POINT'\n",
       "\\item 'LCX\\_OM'\n",
       "\\item 'LCX\\_OM\\_POINT'\n",
       "\\item 'LCX\\_PL'\n",
       "\\item 'LCX\\_PL\\_POINT'\n",
       "\\item 'RCA\\_PROX'\n",
       "\\item 'RCA\\_PROX\\_POINT'\n",
       "\\item 'RCA\\_MID'\n",
       "\\item 'RCA\\_MID\\_POINT'\n",
       "\\item 'RCA\\_DIST'\n",
       "\\item 'RCA\\_DIST\\_POINT'\n",
       "\\item 'RCA\\_PD'\n",
       "\\item 'RCA\\_PD\\_POINT'\n",
       "\\item 'GENSINI'\n",
       "\\item 'SEG\\_TERLIBAT'\n",
       "\\end{enumerate*}\n"
      ],
      "text/markdown": [
       "1. 'NO'\n",
       "2. 'KODE_SAMPEL'\n",
       "3. 'NO_RM'\n",
       "4. 'NAMA'\n",
       "5. 'TGL_LAHIR'\n",
       "6. 'USIA'\n",
       "7. 'JENIS_KEL'\n",
       "8. 'KEL_UTAMA'\n",
       "9. 'TGL_OPNAME'\n",
       "10. 'TGL_CATH'\n",
       "11. 'RIW_DM'\n",
       "12. 'RIW_HT'\n",
       "13. 'RIW_DISLIPIDEMIA'\n",
       "14. 'RIW_MEROKOK'\n",
       "15. 'RIW_KELUARGA'\n",
       "16. 'RIW_ALKOHOL'\n",
       "17. 'TB'\n",
       "18. 'BB'\n",
       "19. 'TD_S'\n",
       "20. 'TD_D'\n",
       "21. 'HR'\n",
       "22. 'RR'\n",
       "23. 'TEMP'\n",
       "24. 'KEPALA_LEHER'\n",
       "25. 'JANTUNG'\n",
       "26. 'PARU'\n",
       "27. 'ABDOMEN'\n",
       "28. 'EKSTREMITAS'\n",
       "29. 'HB'\n",
       "30. 'LEUKOSIT'\n",
       "31. 'PLT'\n",
       "32. 'HBSAG'\n",
       "33. 'BUN'\n",
       "34. 'SK'\n",
       "35. 'ALBUMIN'\n",
       "36. 'ANTIHCV'\n",
       "37. 'NATRIUM'\n",
       "38. 'K'\n",
       "39. 'GDS'\n",
       "40. 'GDP'\n",
       "41. 'GD_2JPP'\n",
       "42. 'KOL_TOT'\n",
       "43. 'TG'\n",
       "44. 'HDL'\n",
       "45. 'LDL'\n",
       "46. 'UREUM'\n",
       "47. 'EGFR'\n",
       "48. 'ASAM_URAT'\n",
       "49. 'HBA1C'\n",
       "50. 'HSTROP_1'\n",
       "51. 'IRAMA_EKG'\n",
       "52. 'AKSIS_EKG'\n",
       "53. 'X'\n",
       "54. 'EF_ECHO'\n",
       "55. 'X.1'\n",
       "56. 'FOTO_THORAX'\n",
       "57. 'X.2'\n",
       "58. 'LMCA'\n",
       "59. 'LMCA_POINT'\n",
       "60. 'LAD_PROX'\n",
       "61. 'LAD_PROX_POINT'\n",
       "62. 'LAD_MID'\n",
       "63. 'LAD_MID_POINT'\n",
       "64. 'LAD_DIST'\n",
       "65. 'LAD_DIST_POINT'\n",
       "66. 'LAD_D1'\n",
       "67. 'LAD_D1_POINT'\n",
       "68. 'LAD_D2'\n",
       "69. 'LAD_D2_POINT'\n",
       "70. 'LAD_API'\n",
       "71. 'LAD_API_POINT'\n",
       "72. 'LCX_PROX'\n",
       "73. 'LCX_PROX_POINT'\n",
       "74. 'LCX_DIST'\n",
       "75. 'LCX_DIST_POINT'\n",
       "76. 'LCX_OM'\n",
       "77. 'LCX_OM_POINT'\n",
       "78. 'LCX_PL'\n",
       "79. 'LCX_PL_POINT'\n",
       "80. 'RCA_PROX'\n",
       "81. 'RCA_PROX_POINT'\n",
       "82. 'RCA_MID'\n",
       "83. 'RCA_MID_POINT'\n",
       "84. 'RCA_DIST'\n",
       "85. 'RCA_DIST_POINT'\n",
       "86. 'RCA_PD'\n",
       "87. 'RCA_PD_POINT'\n",
       "88. 'GENSINI'\n",
       "89. 'SEG_TERLIBAT'\n",
       "\n",
       "\n"
      ],
      "text/plain": [
       " [1] \"NO\"               \"KODE_SAMPEL\"      \"NO_RM\"            \"NAMA\"            \n",
       " [5] \"TGL_LAHIR\"        \"USIA\"             \"JENIS_KEL\"        \"KEL_UTAMA\"       \n",
       " [9] \"TGL_OPNAME\"       \"TGL_CATH\"         \"RIW_DM\"           \"RIW_HT\"          \n",
       "[13] \"RIW_DISLIPIDEMIA\" \"RIW_MEROKOK\"      \"RIW_KELUARGA\"     \"RIW_ALKOHOL\"     \n",
       "[17] \"TB\"               \"BB\"               \"TD_S\"             \"TD_D\"            \n",
       "[21] \"HR\"               \"RR\"               \"TEMP\"             \"KEPALA_LEHER\"    \n",
       "[25] \"JANTUNG\"          \"PARU\"             \"ABDOMEN\"          \"EKSTREMITAS\"     \n",
       "[29] \"HB\"               \"LEUKOSIT\"         \"PLT\"              \"HBSAG\"           \n",
       "[33] \"BUN\"              \"SK\"               \"ALBUMIN\"          \"ANTIHCV\"         \n",
       "[37] \"NATRIUM\"          \"K\"                \"GDS\"              \"GDP\"             \n",
       "[41] \"GD_2JPP\"          \"KOL_TOT\"          \"TG\"               \"HDL\"             \n",
       "[45] \"LDL\"              \"UREUM\"            \"EGFR\"             \"ASAM_URAT\"       \n",
       "[49] \"HBA1C\"            \"HSTROP_1\"         \"IRAMA_EKG\"        \"AKSIS_EKG\"       \n",
       "[53] \"X\"                \"EF_ECHO\"          \"X.1\"              \"FOTO_THORAX\"     \n",
       "[57] \"X.2\"              \"LMCA\"             \"LMCA_POINT\"       \"LAD_PROX\"        \n",
       "[61] \"LAD_PROX_POINT\"   \"LAD_MID\"          \"LAD_MID_POINT\"    \"LAD_DIST\"        \n",
       "[65] \"LAD_DIST_POINT\"   \"LAD_D1\"           \"LAD_D1_POINT\"     \"LAD_D2\"          \n",
       "[69] \"LAD_D2_POINT\"     \"LAD_API\"          \"LAD_API_POINT\"    \"LCX_PROX\"        \n",
       "[73] \"LCX_PROX_POINT\"   \"LCX_DIST\"         \"LCX_DIST_POINT\"   \"LCX_OM\"          \n",
       "[77] \"LCX_OM_POINT\"     \"LCX_PL\"           \"LCX_PL_POINT\"     \"RCA_PROX\"        \n",
       "[81] \"RCA_PROX_POINT\"   \"RCA_MID\"          \"RCA_MID_POINT\"    \"RCA_DIST\"        \n",
       "[85] \"RCA_DIST_POINT\"   \"RCA_PD\"           \"RCA_PD_POINT\"     \"GENSINI\"         \n",
       "[89] \"SEG_TERLIBAT\"    "
      ]
     },
     "metadata": {},
     "output_type": "display_data"
    }
   ],
   "source": [
    "# Lihat Kolom Dalam Data\n",
    "colnames(data)"
   ]
  },
  {
   "cell_type": "code",
   "execution_count": 116,
   "metadata": {
    "vscode": {
     "languageId": "r"
    }
   },
   "outputs": [
    {
     "name": "stdout",
     "output_type": "stream",
     "text": [
      "'data.frame':\t245 obs. of  89 variables:\n",
      " $ NO              : int  1 2 3 4 5 6 7 8 9 10 ...\n",
      " $ KODE_SAMPEL     : int  24211 24212 24213 24214 24215 24216 24217 24218 24219 24220 ...\n",
      " $ NO_RM           : int  264773 263972 266650 266306 263608 266225 266033 266454 267372 243943 ...\n",
      " $ NAMA            : chr  \"IJAH\" \"IRWANSYAH\" \"HAJI FATHUL AZIS\" \"IDRIS\" ...\n",
      " $ TGL_LAHIR       : chr  \"31/12/1940\" \"8/1/1978\" \"07/12/1959\" \"1/7/1967\" ...\n",
      " $ USIA            : int  83 46 64 57 83 78 57 65 65 50 ...\n",
      " $ JENIS_KEL       : chr  \"P\" \"L\" \"L\" \"L\" ...\n",
      " $ KEL_UTAMA       : chr  \"NYERI DADA HILANG TIMBUL, RUJUKAN RSHK\" \"NYERI PERUT TITAPI TIDAK ADA NYERI DADA\" \"NYERI DADA, SESAK NAFAS, LEMAS CEPAT LELAH\" \"NYERI DADA SAAT BERAKTIVITAS\" ...\n",
      " $ TGL_OPNAME      : chr  \"31/07/2024\" \"31/07/2024\" \"19/08/2024\" \"19/08/2024\" ...\n",
      " $ TGL_CATH        : chr  \"01/08/2024\" \"01/08/2024\" \"21/08/2024\" \"20/08/2024\" ...\n",
      " $ RIW_DM          : chr  \"TIDAK\" \"YA\" \"TIDAK\" \"TIDAK\" ...\n",
      " $ RIW_HT          : chr  \"TIDAK\" \"YA\" \"TIDAK\" \"YA\" ...\n",
      " $ RIW_DISLIPIDEMIA: chr  \"TIDAK\" \"TIDAK\" \"TIDAK\" \"TIDAK\" ...\n",
      " $ RIW_MEROKOK     : chr  \"YA\" \"TIDAK\" \"TIDAK\" \"YA\" ...\n",
      " $ RIW_KELUARGA    : chr  \"TIDAK\" \"TIDAK\" \"TIDAK\" \"TIDAK\" ...\n",
      " $ RIW_ALKOHOL     : chr  \"TIDAK\" \"TIDAK\" \"TIDAK\" \"TIDAK\" ...\n",
      " $ TB              : int  NA 161 NA 155 165 150 NA 150 155 168 ...\n",
      " $ BB              : int  NA 72 NA 55 60 55 NA 65 50 70 ...\n",
      " $ TD_S            : int  NA 143 104 150 NA 110 167 96 100 179 ...\n",
      " $ TD_D            : int  NA 85 66 98 NA 70 107 57 64 116 ...\n",
      " $ HR              : int  NA 93 59 70 NA 63 79 81 52 71 ...\n",
      " $ RR              : int  NA 20 20 20 NA 28 22 20 28 28 ...\n",
      " $ TEMP            : chr  \"\" \"\" \"\" \"\" ...\n",
      " $ KEPALA_LEHER    : logi  NA NA NA NA NA NA ...\n",
      " $ JANTUNG         : logi  NA NA NA NA NA NA ...\n",
      " $ PARU            : logi  NA NA NA NA NA NA ...\n",
      " $ ABDOMEN         : logi  NA NA NA NA NA NA ...\n",
      " $ EKSTREMITAS     : logi  NA NA NA NA NA NA ...\n",
      " $ HB              : chr  \"9,4\" \"14,5\" \"15,5\" \"13,5\" ...\n",
      " $ LEUKOSIT        : num  8.29 7.77 9.93 7.41 NA ...\n",
      " $ PLT             : num  347 231 328 170 NA ...\n",
      " $ HBSAG           : chr  \"NON_REAKTIF\" \"NON_REAKTIF\" \"NON_REAKTIF\" \"NON_REAKTIF\" ...\n",
      " $ BUN             : chr  \"12,15\" \"18,22\" \"27,57\" \"25,23\" ...\n",
      " $ SK              : chr  \"0,8\" \"1,2\" \"1,6\" \"1,9\" ...\n",
      " $ ALBUMIN         : chr  \"\" \"\" \"\" \"\" ...\n",
      " $ ANTIHCV         : chr  \"NON_REAKTIF\" \"NON_REAKTIF\" \"NON_REAKTIF\" \"NON_REAKTIF\" ...\n",
      " $ NATRIUM         : chr  \"136\" \"137\" \"132\" \"143\" ...\n",
      " $ K               : chr  \"3,8\" \"4,5\" \"4,8\" \"4,4\" ...\n",
      " $ GDS             : num  NA NA 119 NA 174 NA 137 4 105 128 ...\n",
      " $ GDP             : int  86 126 NA 91 NA NA NA 108 NA NA ...\n",
      " $ GD_2JPP         : int  NA 236 NA NA NA NA NA NA NA NA ...\n",
      " $ KOL_TOT         : int  175 216 NA NA NA NA NA NA NA NA ...\n",
      " $ TG              : int  77 171 NA NA NA NA NA NA NA NA ...\n",
      " $ HDL             : int  43 40 NA NA NA NA NA NA NA NA ...\n",
      " $ LDL             : int  45 186 NA NA NA NA NA NA NA NA ...\n",
      " $ UREUM           : int  26 39 59 54 NA 45 17 NA 49 20 ...\n",
      " $ EGFR            : chr  \"92,00\" \"\" \"\" \"\" ...\n",
      " $ ASAM_URAT       : chr  \"\" \"7,9\" \"\" \"\" ...\n",
      " $ HBA1C           : chr  \"5,6\" \"9,1\" \"\" \"\" ...\n",
      " $ HSTROP_1        : chr  \"\" \"\" \"\" \"\" ...\n",
      " $ IRAMA_EKG       : logi  NA NA NA NA NA NA ...\n",
      " $ AKSIS_EKG       : logi  NA NA NA NA NA NA ...\n",
      " $ X               : logi  NA NA NA NA NA NA ...\n",
      " $ EF_ECHO         : logi  NA NA NA NA NA NA ...\n",
      " $ X.1             : logi  NA NA NA NA NA NA ...\n",
      " $ FOTO_THORAX     : logi  NA NA NA NA NA NA ...\n",
      " $ X.2             : logi  NA NA NA NA NA NA ...\n",
      " $ LMCA            : int  0 0 0 0 0 0 0 0 0 0 ...\n",
      " $ LMCA_POINT      : int  0 0 0 0 0 0 0 0 0 0 ...\n",
      " $ LAD_PROX        : int  0 0 99 40 0 0 0 90 50 0 ...\n",
      " $ LAD_PROX_POINT  : chr  \"0\" \"0\" \"40\" \"5\" ...\n",
      " $ LAD_MID         : int  0 30 0 0 0 0 0 0 0 0 ...\n",
      " $ LAD_MID_POINT   : chr  \"0\" \"3\" \"0\" \"0\" ...\n",
      " $ LAD_DIST        : int  0 0 0 0 90 0 0 0 0 0 ...\n",
      " $ LAD_DIST_POINT  : int  0 0 0 0 8 0 0 0 0 0 ...\n",
      " $ LAD_D1          : int  60 0 0 0 0 0 0 99 0 0 ...\n",
      " $ LAD_D1_POINT    : int  4 0 0 0 0 0 0 16 0 0 ...\n",
      " $ LAD_D2          : int  0 0 0 0 0 0 0 0 0 0 ...\n",
      " $ LAD_D2_POINT    : int  0 0 0 0 0 0 0 0 0 0 ...\n",
      " $ LAD_API         : int  0 0 0 0 0 0 0 0 0 0 ...\n",
      " $ LAD_API_POINT   : int  0 0 0 0 0 0 0 0 0 0 ...\n",
      " $ LCX_PROX        : int  0 0 0 50 90 0 0 80 0 0 ...\n",
      " $ LCX_PROX_POINT  : int  0 0 0 5 20 0 0 20 0 0 ...\n",
      " $ LCX_DIST        : int  0 0 60 0 90 50 0 0 50 100 ...\n",
      " $ LCX_DIST_POINT  : int  0 0 4 0 8 2 0 0 2 32 ...\n",
      " $ LCX_OM          : int  40 0 0 0 0 0 0 0 0 0 ...\n",
      " $ LCX_OM_POINT    : int  2 0 0 0 0 0 0 0 0 0 ...\n",
      " $ LCX_PL          : int  0 0 0 0 0 0 0 0 0 0 ...\n",
      " $ LCX_PL_POINT    : int  0 0 0 0 0 0 0 0 0 0 ...\n",
      " $ RCA_PROX        : int  0 0 60 0 40 100 40 0 0 0 ...\n",
      " $ RCA_PROX_POINT  : int  0 0 4 0 2 32 2 0 0 0 ...\n",
      " $ RCA_MID         : int  90 0 0 0 0 0 40 0 0 0 ...\n",
      " $ RCA_MID_POINT   : int  NA 0 0 0 0 0 2 0 0 0 ...\n",
      " $ RCA_DIST        : int  0 0 0 0 100 0 0 0 0 0 ...\n",
      " $ RCA_DIST_POINT  : int  0 0 0 0 32 0 0 0 0 0 ...\n",
      " $ RCA_PD          : int  0 0 0 90 0 0 0 0 0 0 ...\n",
      " $ RCA_PD_POINT    : int  0 0 0 8 0 0 0 0 0 0 ...\n",
      " $ GENSINI         : chr  \"14\" \"3\" \"48\" \"18\" ...\n",
      " $ SEG_TERLIBAT    : int  3 1 3 3 5 2 2 3 2 1 ...\n"
     ]
    }
   ],
   "source": [
    "# Lihat struktur data\n",
    "str(data)"
   ]
  },
  {
   "cell_type": "code",
   "execution_count": 117,
   "metadata": {
    "vscode": {
     "languageId": "r"
    }
   },
   "outputs": [
    {
     "data": {
      "text/plain": [
       "   Length     Class      Mode \n",
       "      245 character character "
      ]
     },
     "metadata": {},
     "output_type": "display_data"
    }
   ],
   "source": [
    "summary(data$K)"
   ]
  },
  {
   "cell_type": "markdown",
   "metadata": {},
   "source": [
    "### Konversi Data"
   ]
  },
  {
   "cell_type": "code",
   "execution_count": 118,
   "metadata": {
    "vscode": {
     "languageId": "r"
    }
   },
   "outputs": [],
   "source": [
    "# Fungsi untuk mengkonversi floating point dengan koma\n",
    "clean_numeric <- function(x) {\n",
    "  # Jika kolom berisi karakter atau faktor\n",
    "  if(is.character(x) || is.factor(x)) {\n",
    "    # Ganti koma dengan titik\n",
    "    x <- gsub(\",\", \".\", x)\n",
    "    # Coba konversi ke numerik\n",
    "    x <- suppressWarnings(as.numeric(x))\n",
    "  }\n",
    "  return(x)\n",
    "}\n",
    "\n",
    "# Identifikasi kolom yang berpotensi numerik\n",
    "numeric_cols <- c(\"USIA\", \"TB\", \"BB\", \"TD_S\", \"TD_D\", \"HR\", \"RR\", \"TEMP\",\n",
    "                 \"HB\", \"LEUKOSIT\", \"PLT\", \"BUN\", \"SK\", \"ALBUMIN\", \"NATRIUM\", \"K\",\n",
    "                 \"GDS\", \"GDP\", \"GD_2JPP\", \"KOL_TOT\", \"TG\", \"HDL\", \"LDL\",\n",
    "                 \"UREUM\", \"EGFR\", \"ASAM_URAT\", \"HBA1C\", \"HSTROP_1\", \"LMCA_POINT\", \n",
    "                 \"LAD_PROX_POINT\", \"LAD_MID_POINT\", \"LAD_DIST_POINT\", \"LAD_D1_POINT\",\n",
    "                 \"LAD_D2_POINT\", \"LAD_API_POINT\", \"LCX_PROX_POINT\", \"LCX_DIST_POINT\",\n",
    "                 \"LCX_OM_POINT\", \"LCX_PL_POINT\", \"RCA_PROX_POINT\", \"RCA_MID_POINT\", \n",
    "                 \"RCA_DIST_POINT\", \"RCA_PD_POINT\", \"GENSINI\")\n",
    "\n",
    "# Aplikasikan konversi\n",
    "data[numeric_cols] <- lapply(data[numeric_cols], clean_numeric)"
   ]
  },
  {
   "cell_type": "code",
   "execution_count": 119,
   "metadata": {
    "vscode": {
     "languageId": "r"
    }
   },
   "outputs": [],
   "source": [
    "# Konversi variabel biner menjadi numerik\n",
    "data$JENIS_KEL <- ifelse(data$JENIS_KEL == \"L\", 1, 0)\n",
    "data$RIW_DM <- ifelse(data$RIW_DM == \"YA\", 1, 0)\n",
    "data$RIW_HT <- ifelse(data$RIW_HT == \"YA\", 1, 0)\n",
    "data$RIW_DISLIPIDEMIA <- ifelse(data$RIW_DISLIPIDEMIA == \"YA\", 1, 0)\n",
    "data$RIW_MEROKOK <- ifelse(data$RIW_MEROKOK == \"YA\", 1, 0)\n",
    "data$RIW_KELUARGA <- ifelse(data$RIW_KELUARGA == \"YA\", 1, 0)\n",
    "data$RIW_ALKOHOL <- ifelse(data$RIW_ALKOHOL == \"YA\", 1, 0)\n",
    "data$HBSAG <- ifelse(data$HBSAG == \"REAKTIF\", 1, 0)\n",
    "data$ANTIHCV <- ifelse(data$ANTIHCV == \"REAKTIF\", 1, 0)"
   ]
  },
  {
   "cell_type": "code",
   "execution_count": 120,
   "metadata": {
    "vscode": {
     "languageId": "r"
    }
   },
   "outputs": [
    {
     "name": "stdout",
     "output_type": "stream",
     "text": [
      "'data.frame':\t245 obs. of  89 variables:\n",
      " $ NO              : int  1 2 3 4 5 6 7 8 9 10 ...\n",
      " $ KODE_SAMPEL     : int  24211 24212 24213 24214 24215 24216 24217 24218 24219 24220 ...\n",
      " $ NO_RM           : int  264773 263972 266650 266306 263608 266225 266033 266454 267372 243943 ...\n",
      " $ NAMA            : chr  \"IJAH\" \"IRWANSYAH\" \"HAJI FATHUL AZIS\" \"IDRIS\" ...\n",
      " $ TGL_LAHIR       : chr  \"31/12/1940\" \"8/1/1978\" \"07/12/1959\" \"1/7/1967\" ...\n",
      " $ USIA            : int  83 46 64 57 83 78 57 65 65 50 ...\n",
      " $ JENIS_KEL       : num  0 1 1 1 1 0 1 0 1 1 ...\n",
      " $ KEL_UTAMA       : chr  \"NYERI DADA HILANG TIMBUL, RUJUKAN RSHK\" \"NYERI PERUT TITAPI TIDAK ADA NYERI DADA\" \"NYERI DADA, SESAK NAFAS, LEMAS CEPAT LELAH\" \"NYERI DADA SAAT BERAKTIVITAS\" ...\n",
      " $ TGL_OPNAME      : chr  \"31/07/2024\" \"31/07/2024\" \"19/08/2024\" \"19/08/2024\" ...\n",
      " $ TGL_CATH        : chr  \"01/08/2024\" \"01/08/2024\" \"21/08/2024\" \"20/08/2024\" ...\n",
      " $ RIW_DM          : num  0 1 0 0 0 0 0 0 0 0 ...\n",
      " $ RIW_HT          : num  0 1 0 1 0 0 1 0 0 1 ...\n",
      " $ RIW_DISLIPIDEMIA: num  0 0 0 0 0 0 0 0 0 0 ...\n",
      " $ RIW_MEROKOK     : num  1 0 0 1 0 0 0 0 0 0 ...\n",
      " $ RIW_KELUARGA    : num  0 0 0 0 0 1 0 0 0 0 ...\n",
      " $ RIW_ALKOHOL     : num  0 0 0 0 0 0 0 0 0 0 ...\n",
      " $ TB              : int  NA 161 NA 155 165 150 NA 150 155 168 ...\n",
      " $ BB              : int  NA 72 NA 55 60 55 NA 65 50 70 ...\n",
      " $ TD_S            : int  NA 143 104 150 NA 110 167 96 100 179 ...\n",
      " $ TD_D            : int  NA 85 66 98 NA 70 107 57 64 116 ...\n",
      " $ HR              : int  NA 93 59 70 NA 63 79 81 52 71 ...\n",
      " $ RR              : int  NA 20 20 20 NA 28 22 20 28 28 ...\n",
      " $ TEMP            : num  NA NA NA NA NA NA NA 36.3 NA NA ...\n",
      " $ KEPALA_LEHER    : logi  NA NA NA NA NA NA ...\n",
      " $ JANTUNG         : logi  NA NA NA NA NA NA ...\n",
      " $ PARU            : logi  NA NA NA NA NA NA ...\n",
      " $ ABDOMEN         : logi  NA NA NA NA NA NA ...\n",
      " $ EKSTREMITAS     : logi  NA NA NA NA NA NA ...\n",
      " $ HB              : num  9.4 14.5 15.5 13.5 14.5 12.3 12.3 11.6 12.8 15.3 ...\n",
      " $ LEUKOSIT        : num  8.29 7.77 9.93 7.41 NA ...\n",
      " $ PLT             : num  347 231 328 170 NA ...\n",
      " $ HBSAG           : num  0 0 0 0 0 0 0 0 0 0 ...\n",
      " $ BUN             : num  12.2 18.2 27.6 25.2 54 ...\n",
      " $ SK              : num  0.8 1.2 1.6 1.9 1.7 0.6 0.9 2.3 1 0.8 ...\n",
      " $ ALBUMIN         : num  NA NA NA NA NA NA NA 3.6 NA NA ...\n",
      " $ ANTIHCV         : num  0 0 0 0 0 0 0 0 0 0 ...\n",
      " $ NATRIUM         : num  136 137 132 143 135 137 136 139 141 140 ...\n",
      " $ K               : num  3.8 4.5 4.8 4.4 4 4.1 3.5 NA 3.7 4.3 ...\n",
      " $ GDS             : num  NA NA 119 NA 174 NA 137 4 105 128 ...\n",
      " $ GDP             : int  86 126 NA 91 NA NA NA 108 NA NA ...\n",
      " $ GD_2JPP         : int  NA 236 NA NA NA NA NA NA NA NA ...\n",
      " $ KOL_TOT         : int  175 216 NA NA NA NA NA NA NA NA ...\n",
      " $ TG              : int  77 171 NA NA NA NA NA NA NA NA ...\n",
      " $ HDL             : int  43 40 NA NA NA NA NA NA NA NA ...\n",
      " $ LDL             : int  45 186 NA NA NA NA NA NA NA NA ...\n",
      " $ UREUM           : int  26 39 59 54 NA 45 17 NA 49 20 ...\n",
      " $ EGFR            : num  92 NA NA NA NA NA NA NA NA NA ...\n",
      " $ ASAM_URAT       : num  NA 7.9 NA NA NA NA NA NA NA NA ...\n",
      " $ HBA1C           : num  5.6 9.1 NA NA NA NA NA NA NA NA ...\n",
      " $ HSTROP_1        : num  NA NA NA NA NA NA NA NA NA NA ...\n",
      " $ IRAMA_EKG       : logi  NA NA NA NA NA NA ...\n",
      " $ AKSIS_EKG       : logi  NA NA NA NA NA NA ...\n",
      " $ X               : logi  NA NA NA NA NA NA ...\n",
      " $ EF_ECHO         : logi  NA NA NA NA NA NA ...\n",
      " $ X.1             : logi  NA NA NA NA NA NA ...\n",
      " $ FOTO_THORAX     : logi  NA NA NA NA NA NA ...\n",
      " $ X.2             : logi  NA NA NA NA NA NA ...\n",
      " $ LMCA            : int  0 0 0 0 0 0 0 0 0 0 ...\n",
      " $ LMCA_POINT      : int  0 0 0 0 0 0 0 0 0 0 ...\n",
      " $ LAD_PROX        : int  0 0 99 40 0 0 0 90 50 0 ...\n",
      " $ LAD_PROX_POINT  : num  0 0 40 5 0 0 0 20 5 0 ...\n",
      " $ LAD_MID         : int  0 30 0 0 0 0 0 0 0 0 ...\n",
      " $ LAD_MID_POINT   : num  0 3 0 0 0 0 0 0 0 0 ...\n",
      " $ LAD_DIST        : int  0 0 0 0 90 0 0 0 0 0 ...\n",
      " $ LAD_DIST_POINT  : int  0 0 0 0 8 0 0 0 0 0 ...\n",
      " $ LAD_D1          : int  60 0 0 0 0 0 0 99 0 0 ...\n",
      " $ LAD_D1_POINT    : int  4 0 0 0 0 0 0 16 0 0 ...\n",
      " $ LAD_D2          : int  0 0 0 0 0 0 0 0 0 0 ...\n",
      " $ LAD_D2_POINT    : int  0 0 0 0 0 0 0 0 0 0 ...\n",
      " $ LAD_API         : int  0 0 0 0 0 0 0 0 0 0 ...\n",
      " $ LAD_API_POINT   : int  0 0 0 0 0 0 0 0 0 0 ...\n",
      " $ LCX_PROX        : int  0 0 0 50 90 0 0 80 0 0 ...\n",
      " $ LCX_PROX_POINT  : int  0 0 0 5 20 0 0 20 0 0 ...\n",
      " $ LCX_DIST        : int  0 0 60 0 90 50 0 0 50 100 ...\n",
      " $ LCX_DIST_POINT  : int  0 0 4 0 8 2 0 0 2 32 ...\n",
      " $ LCX_OM          : int  40 0 0 0 0 0 0 0 0 0 ...\n",
      " $ LCX_OM_POINT    : int  2 0 0 0 0 0 0 0 0 0 ...\n",
      " $ LCX_PL          : int  0 0 0 0 0 0 0 0 0 0 ...\n",
      " $ LCX_PL_POINT    : int  0 0 0 0 0 0 0 0 0 0 ...\n",
      " $ RCA_PROX        : int  0 0 60 0 40 100 40 0 0 0 ...\n",
      " $ RCA_PROX_POINT  : int  0 0 4 0 2 32 2 0 0 0 ...\n",
      " $ RCA_MID         : int  90 0 0 0 0 0 40 0 0 0 ...\n",
      " $ RCA_MID_POINT   : int  NA 0 0 0 0 0 2 0 0 0 ...\n",
      " $ RCA_DIST        : int  0 0 0 0 100 0 0 0 0 0 ...\n",
      " $ RCA_DIST_POINT  : int  0 0 0 0 32 0 0 0 0 0 ...\n",
      " $ RCA_PD          : int  0 0 0 90 0 0 0 0 0 0 ...\n",
      " $ RCA_PD_POINT    : int  0 0 0 8 0 0 0 0 0 0 ...\n",
      " $ GENSINI         : num  14 3 48 18 70 34 4 56 7 32 ...\n",
      " $ SEG_TERLIBAT    : int  3 1 3 3 5 2 2 3 2 1 ...\n"
     ]
    }
   ],
   "source": [
    "# Melihat Struktur Data Setelah Konversi\n",
    "str(data)"
   ]
  },
  {
   "cell_type": "code",
   "execution_count": 121,
   "metadata": {
    "vscode": {
     "languageId": "r"
    }
   },
   "outputs": [
    {
     "data": {
      "text/plain": [
       "   Min. 1st Qu.  Median    Mean 3rd Qu.    Max.    NA's \n",
       "  2.500   3.800   4.200   5.249   4.600 112.000      14 "
      ]
     },
     "metadata": {},
     "output_type": "display_data"
    },
    {
     "data": {
      "text/plain": [
       "   Min. 1st Qu.  Median    Mean 3rd Qu.    Max. \n",
       "   0.00   17.00   39.00   47.48   72.00  224.00 "
      ]
     },
     "metadata": {},
     "output_type": "display_data"
    }
   ],
   "source": [
    "# Membuktikan Bahwa Variabel Sudah Bertipe Numerik\n",
    "summary(data$K)\n",
    "summary(data$GENSINI)"
   ]
  },
  {
   "cell_type": "code",
   "execution_count": 122,
   "metadata": {
    "vscode": {
     "languageId": "r"
    }
   },
   "outputs": [],
   "source": [
    "# Parameter Ini Tidak Digunakan Saat Mengolah Data\n",
    "parameter_eksklusi_olah_data <- c(\n",
    "               \"NO\",\n",
    "               \"KODE_SAMPEL\",\n",
    "               \"NO_RM\",\n",
    "               \"NAMA\",\n",
    "               \"TGL_LAHIR\",\n",
    "               \"KEL_UTAMA\",\n",
    "               \"TGL_OPNAME\",\n",
    "               \"TGL_CATH\",\n",
    "               \"HSTROP_1\",\n",
    "               \"X\",\n",
    "               \"X.1\",\n",
    "               \"X.2\",\n",
    "               \"AKSIS_EKG\",\n",
    "               \"IRAMA_EKG\",\n",
    "               \"EF_ECHO\",\n",
    "               \"FOTO_THORAX\")\n",
    "\n",
    "data <- data[!names(data) %in% parameter_eksklusi_olah_data]"
   ]
  },
  {
   "cell_type": "markdown",
   "metadata": {},
   "source": [
    "### Analisis _Missing Data_"
   ]
  },
  {
   "cell_type": "code",
   "execution_count": 206,
   "metadata": {
    "vscode": {
     "languageId": "r"
    }
   },
   "outputs": [
    {
     "data": {
      "text/plain": [
       "\n",
       "\n",
       "|Variable         | Missing_Count| Missing_Percent|\n",
       "|:----------------|-------------:|---------------:|\n",
       "|KEPALA_LEHER     |           245|          100.00|\n",
       "|JANTUNG          |           245|          100.00|\n",
       "|PARU             |           245|          100.00|\n",
       "|ABDOMEN          |           245|          100.00|\n",
       "|EKSTREMITAS      |           245|          100.00|\n",
       "|IRAMA_EKG        |           245|          100.00|\n",
       "|AKSIS_EKG        |           245|          100.00|\n",
       "|X                |           245|          100.00|\n",
       "|EF_ECHO          |           245|          100.00|\n",
       "|X.1              |           245|          100.00|\n",
       "|FOTO_THORAX      |           245|          100.00|\n",
       "|X.2              |           245|          100.00|\n",
       "|GD_2JPP          |           231|           94.29|\n",
       "|GDP              |           149|           60.82|\n",
       "|TG               |           138|           56.33|\n",
       "|LDL              |           134|           54.69|\n",
       "|HDL              |           133|           54.29|\n",
       "|KOL_TOT          |           130|           53.06|\n",
       "|UREUM            |           119|           48.57|\n",
       "|GDS              |           117|           47.76|\n",
       "|RR               |            78|           31.84|\n",
       "|HR               |            75|           30.61|\n",
       "|TD_S             |            72|           29.39|\n",
       "|TD_D             |            72|           29.39|\n",
       "|TB               |            46|           18.78|\n",
       "|BB               |            43|           17.55|\n",
       "|PLT              |             9|            3.67|\n",
       "|LEUKOSIT         |             8|            3.27|\n",
       "|RCA_MID_POINT    |             1|            0.41|\n",
       "|NO               |             0|            0.00|\n",
       "|KODE_SAMPEL      |             0|            0.00|\n",
       "|NO_RM            |             0|            0.00|\n",
       "|NAMA             |             0|            0.00|\n",
       "|TGL_LAHIR        |             0|            0.00|\n",
       "|USIA             |             0|            0.00|\n",
       "|JENIS_KEL        |             0|            0.00|\n",
       "|KEL_UTAMA        |             0|            0.00|\n",
       "|TGL_OPNAME       |             0|            0.00|\n",
       "|TGL_CATH         |             0|            0.00|\n",
       "|RIW_DM           |             0|            0.00|\n",
       "|RIW_HT           |             0|            0.00|\n",
       "|RIW_DISLIPIDEMIA |             0|            0.00|\n",
       "|RIW_MEROKOK      |             0|            0.00|\n",
       "|RIW_KELUARGA     |             0|            0.00|\n",
       "|RIW_ALKOHOL      |             0|            0.00|\n",
       "|TEMP             |             0|            0.00|\n",
       "|HB               |             0|            0.00|\n",
       "|HBSAG            |             0|            0.00|\n",
       "|BUN              |             0|            0.00|\n",
       "|SK               |             0|            0.00|\n",
       "|ALBUMIN          |             0|            0.00|\n",
       "|ANTIHCV          |             0|            0.00|\n",
       "|NATRIUM          |             0|            0.00|\n",
       "|K                |             0|            0.00|\n",
       "|EGFR             |             0|            0.00|\n",
       "|ASAM_URAT        |             0|            0.00|\n",
       "|HBA1C            |             0|            0.00|\n",
       "|HSTROP_1         |             0|            0.00|\n",
       "|LMCA             |             0|            0.00|\n",
       "|LMCA_POINT       |             0|            0.00|\n",
       "|LAD_PROX         |             0|            0.00|\n",
       "|LAD_PROX_POINT   |             0|            0.00|\n",
       "|LAD_MID          |             0|            0.00|\n",
       "|LAD_MID_POINT    |             0|            0.00|\n",
       "|LAD_DIST         |             0|            0.00|\n",
       "|LAD_DIST_POINT   |             0|            0.00|\n",
       "|LAD_D1           |             0|            0.00|\n",
       "|LAD_D1_POINT     |             0|            0.00|\n",
       "|LAD_D2           |             0|            0.00|\n",
       "|LAD_D2_POINT     |             0|            0.00|\n",
       "|LAD_API          |             0|            0.00|\n",
       "|LAD_API_POINT    |             0|            0.00|\n",
       "|LCX_PROX         |             0|            0.00|\n",
       "|LCX_PROX_POINT   |             0|            0.00|\n",
       "|LCX_DIST         |             0|            0.00|\n",
       "|LCX_DIST_POINT   |             0|            0.00|\n",
       "|LCX_OM           |             0|            0.00|\n",
       "|LCX_OM_POINT     |             0|            0.00|\n",
       "|LCX_PL           |             0|            0.00|\n",
       "|LCX_PL_POINT     |             0|            0.00|\n",
       "|RCA_PROX         |             0|            0.00|\n",
       "|RCA_PROX_POINT   |             0|            0.00|\n",
       "|RCA_MID          |             0|            0.00|\n",
       "|RCA_DIST         |             0|            0.00|\n",
       "|RCA_DIST_POINT   |             0|            0.00|\n",
       "|RCA_PD           |             0|            0.00|\n",
       "|RCA_PD_POINT     |             0|            0.00|\n",
       "|GENSINI          |             0|            0.00|\n",
       "|SEG_TERLIBAT     |             0|            0.00|"
      ]
     },
     "metadata": {},
     "output_type": "display_data"
    }
   ],
   "source": [
    "# Hitung persentase missing untuk setiap kolom, diurutkan desc() dari persentase data hilang\n",
    "missing_summary <- data.frame(\n",
    "  Variable = names(data),\n",
    "  Missing_Count = colSums(is.na(data)),\n",
    "  Missing_Percent = round(colSums(is.na(data))/nrow(data)*100, 2)\n",
    ") %>%\n",
    "  arrange(desc(Missing_Percent))\n",
    "\n",
    "# Tulis Hasil Missing Data Ke CSV\n",
    "kable(missing_summary, row.names = FALSE)\n",
    "write.csv(missing_summary, \"./out/missing_summary.csv\", quote = FALSE, row.names= FALSE)"
   ]
  },
  {
   "cell_type": "code",
   "execution_count": 124,
   "metadata": {
    "vscode": {
     "languageId": "r"
    }
   },
   "outputs": [
    {
     "name": "stderr",
     "output_type": "stream",
     "text": [
      "Warning message in plot.aggr(res, ...):\n",
      "\"not enough vertical space to display frequencies (too many combinations)\"\n"
     ]
    },
    {
     "data": {
      "text/html": [
       "<strong>pdf:</strong> 2"
      ],
      "text/latex": [
       "\\textbf{pdf:} 2"
      ],
      "text/markdown": [
       "**pdf:** 2"
      ],
      "text/plain": [
       "pdf \n",
       "  2 "
      ]
     },
     "metadata": {},
     "output_type": "display_data"
    }
   ],
   "source": [
    "# Visualisasi pola missing data untuk variabel utama\n",
    "# Buka device PNG dengan ukuran yang lebih besar\n",
    "png(\"./out/missing_summary.png\", \n",
    "    width = 3200,    # Lebar dalam pixel\n",
    "    height = 1800,   # Tinggi dalam pixel\n",
    "    res = 300)       # Resolusi\n",
    "\n",
    "# Plot\n",
    "aggr(data, \n",
    "     numbers = TRUE,\n",
    "     bars = FALSE,\n",
    "     combined = TRUE,\n",
    "     border = TRUE,\n",
    "     cex.axis = 0.5,     # Ukuran label sedikit diperbesar\n",
    "     horizontal = TRUE,\n",
    "     las = 2,\n",
    "     mar = c(4, 12, 4, 2)  # Margin kiri diperbesar untuk label\n",
    ")\n",
    "\n",
    "# Tutup device\n",
    "dev.off()"
   ]
  },
  {
   "cell_type": "markdown",
   "metadata": {},
   "source": [
    "### Eksklusi Variabel (Bagian 1)"
   ]
  },
  {
   "cell_type": "code",
   "execution_count": 125,
   "metadata": {
    "vscode": {
     "languageId": "r"
    }
   },
   "outputs": [
    {
     "name": "stdout",
     "output_type": "stream",
     "text": [
      "'data.frame':\t245 obs. of  32 variables:\n",
      " $ USIA            : int  83 46 64 57 83 78 57 65 65 50 ...\n",
      " $ JENIS_KEL       : num  0 1 1 1 1 0 1 0 1 1 ...\n",
      " $ RIW_DM          : num  0 1 0 0 0 0 0 0 0 0 ...\n",
      " $ RIW_HT          : num  0 1 0 1 0 0 1 0 0 1 ...\n",
      " $ RIW_DISLIPIDEMIA: num  0 0 0 0 0 0 0 0 0 0 ...\n",
      " $ RIW_MEROKOK     : num  1 0 0 1 0 0 0 0 0 0 ...\n",
      " $ RIW_KELUARGA    : num  0 0 0 0 0 1 0 0 0 0 ...\n",
      " $ RIW_ALKOHOL     : num  0 0 0 0 0 0 0 0 0 0 ...\n",
      " $ TB              : int  NA 161 NA 155 165 150 NA 150 155 168 ...\n",
      " $ BB              : int  NA 72 NA 55 60 55 NA 65 50 70 ...\n",
      " $ TD_S            : int  NA 143 104 150 NA 110 167 96 100 179 ...\n",
      " $ TD_D            : int  NA 85 66 98 NA 70 107 57 64 116 ...\n",
      " $ HR              : int  NA 93 59 70 NA 63 79 81 52 71 ...\n",
      " $ RR              : int  NA 20 20 20 NA 28 22 20 28 28 ...\n",
      " $ HB              : num  9.4 14.5 15.5 13.5 14.5 12.3 12.3 11.6 12.8 15.3 ...\n",
      " $ LEUKOSIT        : num  8.29 7.77 9.93 7.41 NA ...\n",
      " $ PLT             : num  347 231 328 170 NA ...\n",
      " $ HBSAG           : num  0 0 0 0 0 0 0 0 0 0 ...\n",
      " $ BUN             : num  12.2 18.2 27.6 25.2 54 ...\n",
      " $ SK              : num  0.8 1.2 1.6 1.9 1.7 0.6 0.9 2.3 1 0.8 ...\n",
      " $ ANTIHCV         : num  0 0 0 0 0 0 0 0 0 0 ...\n",
      " $ NATRIUM         : num  136 137 132 143 135 137 136 139 141 140 ...\n",
      " $ K               : num  3.8 4.5 4.8 4.4 4 4.1 3.5 NA 3.7 4.3 ...\n",
      " $ GDS             : num  NA NA 119 NA 174 NA 137 4 105 128 ...\n",
      " $ GDP             : int  86 126 NA 91 NA NA NA 108 NA NA ...\n",
      " $ KOL_TOT         : int  175 216 NA NA NA NA NA NA NA NA ...\n",
      " $ TG              : int  77 171 NA NA NA NA NA NA NA NA ...\n",
      " $ HDL             : int  43 40 NA NA NA NA NA NA NA NA ...\n",
      " $ LDL             : int  45 186 NA NA NA NA NA NA NA NA ...\n",
      " $ UREUM           : int  26 39 59 54 NA 45 17 NA 49 20 ...\n",
      " $ HBA1C           : num  5.6 9.1 NA NA NA NA NA NA NA NA ...\n",
      " $ GENSINI         : num  14 3 48 18 70 34 4 56 7 32 ...\n"
     ]
    }
   ],
   "source": [
    "# Drop kolom berdasarkan kriteria missing value >50% dan relevansi klinis\n",
    "columns_to_drop <- c(\n",
    "    # Kolom dengan missing value tinggi\n",
    "    \"TEMP\", \"ALBUMIN\", \"GD_2JPP\", \"EGFR\", \"ASAM_URAT\", \n",
    "    \"KEPALA_LEHER\", \"JANTUNG\", \"PARU\", \"ABDOMEN\", \"EKSTREMITAS\",\n",
    "    \n",
    "    # Kolom yang merupakan hasil angiografi (tidak bisa jadi prediktor)\n",
    "    \"LMCA\", \"LMCA_POINT\", \n",
    "    \"LAD_PROX\", \"LAD_PROX_POINT\", \"LAD_MID\", \"LAD_MID_POINT\",\n",
    "    \"LAD_DIST\", \"LAD_DIST_POINT\", \"LAD_D1\", \"LAD_D1_POINT\",\n",
    "    \"LAD_D2\", \"LAD_D2_POINT\", \"LAD_API\", \"LAD_API_POINT\",\n",
    "    \"LCX_PROX\", \"LCX_PROX_POINT\", \"LCX_DIST\", \"LCX_DIST_POINT\",\n",
    "    \"LCX_OM\", \"LCX_OM_POINT\", \"LCX_PL\", \"LCX_PL_POINT\",\n",
    "    \"RCA_PROX\", \"RCA_PROX_POINT\", \"RCA_MID\", \"RCA_MID_POINT\",\n",
    "    \"RCA_DIST\", \"RCA_DIST_POINT\", \"RCA_PD\", \"RCA_PD_POINT\",\n",
    "    \"SEG_TERLIBAT\"\n",
    "\n",
    "    # Nilai tinggi tetapi tidak di drop, pertimbangan klinis:\n",
    "    # HBA1C, GDP, TG, LDL, HDL, KOLESTEROL TOTAL, UREUM,\n",
    ")\n",
    "\n",
    "# Membuat dataset baru tanpa kolom yang di-drop\n",
    "data_clean <- data[, !names(data) %in% columns_to_drop]\n",
    "\n",
    "# 2. Melihat struktur data setelah pembersihan\n",
    "str(data_clean)"
   ]
  },
  {
   "cell_type": "markdown",
   "metadata": {},
   "source": [
    "### _Multiple Imputation_"
   ]
  },
  {
   "cell_type": "code",
   "execution_count": 126,
   "metadata": {
    "vscode": {
     "languageId": "r"
    }
   },
   "outputs": [
    {
     "name": "stdout",
     "output_type": "stream",
     "text": [
      "[1] \"Variabel yang akan diimputasi:\"\n",
      " [1] \"TB\"       \"BB\"       \"TD_S\"     \"TD_D\"     \"HR\"       \"RR\"      \n",
      " [7] \"HB\"       \"LEUKOSIT\" \"PLT\"      \"BUN\"      \"SK\"       \"NATRIUM\" \n",
      "[13] \"K\"        \"GDS\"      \"GDP\"      \"KOL_TOT\"  \"TG\"       \"HDL\"     \n",
      "[19] \"LDL\"      \"UREUM\"    \"HBA1C\"   \n"
     ]
    }
   ],
   "source": [
    "# 1. Persiapan untuk multiple imputation\n",
    "# Pertama lihat variabel yang akan diimputasi,\n",
    "# yaitu variabel dengan data kosong (is.na) > 0\n",
    "vars_for_imputation <- names(data_clean)[colSums(is.na(data_clean)) > 0]\n",
    "print(\"Variabel yang akan diimputasi:\")\n",
    "print(vars_for_imputation)"
   ]
  },
  {
   "cell_type": "code",
   "execution_count": 127,
   "metadata": {
    "vscode": {
     "languageId": "r"
    }
   },
   "outputs": [
    {
     "data": {
      "text/plain": [
       "~TB + BB + TD_S + TD_D + HR + RR + HB + LEUKOSIT + PLT + BUN + \n",
       "    SK + NATRIUM + K + GDS + GDP + KOL_TOT + TG + HDL + LDL + \n",
       "    UREUM + HBA1C"
      ]
     },
     "metadata": {},
     "output_type": "display_data"
    }
   ],
   "source": [
    "# Buat formula untuk imputasi\n",
    "imputation_formula <- as.formula(paste(\"~\", paste(vars_for_imputation, collapse = \"+\")))\n",
    "imputation_formula"
   ]
  },
  {
   "cell_type": "code",
   "execution_count": 128,
   "metadata": {
    "vscode": {
     "languageId": "r"
    }
   },
   "outputs": [
    {
     "name": "stdout",
     "output_type": "stream",
     "text": [
      "Iteration 13 \n"
     ]
    }
   ],
   "source": [
    "# Lakukan multiple imputation\n",
    "set.seed(123)\n",
    "imputation <- aregImpute(imputation_formula, \n",
    "                        data = data_clean,\n",
    "                        n.impute = 10,\n",
    "                        type = 'pmm',\n",
    "                        nk = 0)\n"
   ]
  },
  {
   "cell_type": "code",
   "execution_count": 129,
   "metadata": {
    "vscode": {
     "languageId": "r"
    }
   },
   "outputs": [],
   "source": [
    "# 2. Dapatkan dataset yang sudah diimputasi menggunakan fit.mult.impute\n",
    "# Menyimpan hasil imputasi dalam list\n",
    "imputed_datasets <- list()\n",
    "\n",
    "# Loop untuk mendapatkan setiap dataset hasil imputasi\n",
    "for(i in 1:10) {  # 10 sesuai dengan n.impute\n",
    "    imputed_datasets[[i]] <- impute.transcan(\n",
    "        imputation,\n",
    "        imputation = i,\n",
    "        data = data_clean,\n",
    "        list.out = TRUE,\n",
    "        pr = FALSE,\n",
    "        check = FALSE\n",
    "    )\n",
    "}"
   ]
  },
  {
   "cell_type": "code",
   "execution_count": 130,
   "metadata": {
    "vscode": {
     "languageId": "r"
    }
   },
   "outputs": [
    {
     "data": {
      "text/plain": [
       "\n",
       "\n",
       "| USIA| JENIS_KEL| RIW_DM| RIW_HT| RIW_DISLIPIDEMIA| RIW_MEROKOK| RIW_KELUARGA| RIW_ALKOHOL|  TB|  BB| TD_S| TD_D|  HR| RR|   HB| LEUKOSIT|    PLT| HBSAG|   BUN|   SK| ANTIHCV| NATRIUM|      K| GDS| GDP| KOL_TOT|  TG| HDL| LDL| UREUM| HBA1C| GENSINI|\n",
       "|----:|---------:|------:|------:|----------------:|-----------:|------------:|-----------:|---:|---:|----:|----:|---:|--:|----:|--------:|------:|-----:|-----:|----:|-------:|-------:|------:|---:|---:|-------:|---:|---:|---:|-----:|-----:|-------:|\n",
       "|   83|         0|      0|      0|                0|           1|            0|           0| 150|  65|  153|   70|  91| 20|  9.4|    8.286| 347.40|     0| 12.15|  0.8|       0|   136.0|   3.80| 135|  86|     175|  77|  43|  45|    26|   5.6|    14.0|\n",
       "|   46|         1|      1|      1|                0|           0|            0|           0| 161|  72|  143|   85|  93| 20| 14.5|    7.767| 231.00|     0| 18.22|  1.2|       0|   137.0|   4.50| 148| 126|     216| 171|  40| 186|    39|   9.1|     3.0|\n",
       "|   64|         1|      0|      0|                0|           0|            0|           0| 165|  57|  104|   66|  59| 20| 15.5|    9.931| 327.60|     0| 27.57|  1.6|       0|   132.0|   4.80| 119| 115|     164| 187|  39|  84|    59|   5.6|    48.0|\n",
       "|   57|         1|      0|      1|                0|           1|            0|           0| 155|  55|  150|   98|  70| 20| 13.5|    7.412| 170.50|     0| 25.23|  1.9|       0|   143.0|   4.40| 106|  91|     214| 199|  36| 114|    54|   5.6|    18.0|\n",
       "|   83|         1|      0|      0|                0|           0|            0|           0| 165|  60|  115|   56|  50| 20| 14.5|   10.670|  29.40|     0| 54.00|  1.7|       0|   135.0|   4.00| 174| 178|     165|  66|  40|  88|   109|   5.6|    70.0|\n",
       "|   78|         0|      0|      0|                0|           0|            1|           0| 150|  55|  110|   70|  63| 28| 12.3|    8.741| 315.10|     0| 21.03|  0.6|       0|   137.0|   4.10| 105| 117|     162| 143|  28| 107|    45|   5.6|    34.0|\n",
       "|   57|         1|      0|      1|                0|           0|            0|           0| 165|  70|  167|  107|  79| 22| 12.3|    6.311| 283.90|     0|  7.94|  0.9|       0|   136.0|   3.50| 137| 115|     247| 179|  53| 209|    17|   5.6|     4.0|\n",
       "|   65|         0|      0|      0|                0|           0|            0|           0| 150|  65|   96|   57|  81| 20| 11.6|   11.300| 246.40|     0| 28.50|  2.3|       0|   139.0|   4.10|   4| 108|     175| 223|  56| 121|    63|   5.6|    56.0|\n",
       "|   65|         1|      0|      0|                0|           0|            0|           0| 155|  50|  100|   64|  52| 28| 12.8|    7.109| 153.10|     0| 22.90|  1.0|       0|   141.0|   3.70| 105| 129|     143|  75|  44| 106|    49|   5.6|     7.0|\n",
       "|   50|         1|      0|      1|                0|           0|            0|           0| 168|  70|  179|  116|  71| 28| 15.3|   13.330| 365.90|     0|  9.35|  0.8|       0|   140.0|   4.30| 128|  91|     208| 119|  32| 179|    20|   5.6|    32.0|\n",
       "|   68|         0|      0|      0|                0|           0|            0|           0| 150|  60|  115|   60|  70| 24| 12.1|    8.286| 197.30|     0| 54.67|  0.8|       0|   142.0| 112.00| 117| 154|     239|  82|  46| 261|    93|   5.2|    15.0|\n",
       "|   51|         0|      0|      1|                0|           0|            0|           0| 155|  62|  121|   78|  81| 28| 12.8|    6.799| 290.02|     0| 15.89|  0.8|       0|   140.0|   4.30|  82|  91|     168| 151|  57| 157|    45|   5.6|     3.0|\n",
       "|   57|         1|      0|      1|                0|           1|            0|           0| 150|  60|  136|   63|  87| 28| 13.8|   15.850| 331.00|     0| 17.76|  1.0|       0|   139.0|   3.90| 169|  95|     170|  80|  45| 130|    45|   5.6|   140.0|\n",
       "|   42|         0|      0|      0|                0|           1|            0|           0| 160|  65|  112|   68|  95| 24| 18.2|   24.250| 318.00|     0|  9.35|  1.1|       0|   136.0|   3.90| 250| 147|     202| 133|  43| 135|    19|   5.6|    20.0|\n",
       "|   69|         1|      1|      1|                0|           0|            0|           0| 160|  67|  151|   89|  49| 21|  9.4|    8.791| 521.20|     0| 18.22|  2.2|       0|   142.0|   4.40| 119| 108|     195| 185|  40| 161|    39|   5.6|    20.0|\n",
       "|   57|         1|      0|      0|                0|           0|            0|           0| 162|  52|  122|   74|  64| 20| 13.9|    7.940| 441.00|     0|  7.94|  0.8|       0|   145.0|   4.80| 137|  90|     202| 177|  57| 177|    17|   5.6|    26.0|\n",
       "|   60|         1|      0|      0|                0|           0|            0|           0| 155|  60|  118|   61|  55| 20| 13.4|   11.760| 218.40|     0| 10.75|  0.8|       0|   140.0|   3.70| 100|  83|     199|  93|  46| 131|    23|   5.6|    64.0|\n",
       "|   60|         1|      0|      1|                0|           1|            0|           0| 158|  66|  134|   73|  67| 20| 12.9|    7.167| 174.40|     0| 14.02|  1.1|       0|   140.0|   4.30| 100|  84|     113| 152|  23|  66|    30|   5.6|   148.0|\n",
       "|   65|         1|      0|      0|                0|           0|            0|           0| 165|  69|  190|   80|  87| 20| 11.1|    8.833| 348.10|     0| 15.42|  1.0|       0|   139.0|   4.10|  99| 100|     217| 206|  38| 133|    36|   3.7|    30.0|\n",
       "|   57|         1|      0|      0|                0|           0|            0|           0| 164|  64|  140|   72|  61| 28| 13.9|   12.230| 244.00|     0| 11.21|  0.9|       0|   145.0|   4.70|  70|  82|     217|  95|  37| 229|    24|   5.6|    80.0|\n",
       "|   63|         1|      0|      0|                0|           0|            0|           0| 155|  43|   96|   57|  52| 25| 11.0|   12.160| 295.00|     0| 18.22|  0.8|       0|   140.0|   3.60|  83| 122|     162| 101|  50| 124|    39|   5.6|   132.0|\n",
       "|   69|         1|      0|      1|                0|           0|            0|           0| 170|  68|  151|   87|  78| 25| 11.6|    8.700| 255.00|     0| 21.03|  1.0|       0|   139.0|   4.00| 254|  87|     119|  55|  40|  90|    45|   5.6|    24.0|\n",
       "|   56|         0|      1|      1|                0|           0|            0|           0| 153|  53|  107|   67|  69| 20| 11.8|    6.668| 225.00|     0| 12.15|  0.8|       0|   143.0|   3.90|  91| 176|     139| 197|  21|  66|    15|   5.6|    40.0|\n",
       "|   61|         1|      0|      0|                0|           0|            0|           0| 162|  62|  114|   74|  70| 20| 13.8|    7.450| 217.00|     0| 14.02|  0.7|       0|   139.0|   4.80| 212|  80|     112|  96|  34|  64|    30|   5.6|    41.0|\n",
       "|   73|         0|      1|      0|                0|           0|            0|           0| 151|  40|  110|   60|  87| 20| 13.7|    9.839| 350.00|     0| 12.15|  0.9|       0|   141.0|   4.00|   5| 148|     175| 231|  38| 130|    26|  10.8|    26.0|\n",
       "|   46|         1|      0|      0|                0|           0|            0|           0| 171|  80|  133|   98| 111| 20| 14.8|    8.370| 229.00|     0| 12.62|  1.0|       0|   135.0|   4.30| 158|  87|     130|  87|  30|  83|    26|   5.6|     4.0|\n",
       "|   61|         0|      1|      0|                0|           0|            0|           0| 150|  50|  112|   68|  60| 20| 12.0|   10.940| 638.90|     0| 18.22|  1.2|       0|   138.0|   5.10| 254| 160|     180| 206|  45| 121|    39|   5.6|    31.0|\n",
       "|   56|         1|      1|      0|                0|           0|            0|           0| 165|  65|  138|   89|  72| 21| 11.8|   15.870| 260.30|     0| 50.93|  2.6|       0|   129.0|   4.60| 160| 173|     174| 199|  37| 128|   109|   9.9|     5.0|\n",
       "|   52|         1|      0|      0|                0|           0|            0|           0| 150|  70|  123|   87|  91| 24| 12.8|    7.129| 260.50|     0| 25.23|  1.6|       0|   140.0|   5.00| 139|  95|     206| 197|  41| 170|    54|   5.6|    64.0|\n",
       "|   60|         1|      0|      0|                0|           0|            0|           0| 178|  78|  113|   80|  65| 20| 15.9|    7.400| 237.00|     0| 23.83|  1.4|       0|   142.0|   4.70| 104|  90|     169| 175|  37| 124|    51|   5.6|    48.0|\n",
       "|   59|         1|      0|      1|                0|           0|            0|           0| 175|  69|  155|   98|  54| 18| 14.1|    8.211| 212.90|     1| 14.02|  1.0|       0|   136.0|   4.50| 102| 101|     107| 138|  33|  61|    30|   3.7|    15.0|\n",
       "|   59|         0|      1|      1|                0|           0|            0|           0| 155|  65|  153|   75|  65| 22| 10.2|   10.920| 253.40|     0| 28.97|  2.2|       0|   129.0|   4.90|  99| 103|     359| 328|  43| 261|    66|   5.6|    50.0|\n",
       "|   55|         1|      0|      0|                0|           1|            0|           0| 163|  64|  134|   92|  77| 20| 13.6|    8.077| 265.50|     0| 11.21|  1.3|       0|   142.0|   4.40|  92|  94|     237| 223|  52| 209|    24|   5.6|     2.0|\n",
       "|   54|         1|      0|      0|                0|           1|            0|           0| 165|  93|  188|   92|  63| 20| 15.0|    6.826| 248.80|     0| 11.21|  1.1|       0|   139.0|   4.70| 160|  92|     172| 103|  50| 138|    21|   5.6|     7.0|\n",
       "|   53|         1|      0|      0|                0|           0|            0|           0| 160|  65|  137|   85|  93| 28| 13.1|   13.660| 226.00|     0| 15.42|  0.9|       0|   136.0|   4.50| 179| 108|     220| 119|  41| 160|    41|   6.4|    13.0|\n",
       "|   46|         1|      0|      0|                0|           0|            0|           0| 164|  62|  111|   80|  68| 28| 13.8|   14.740| 255.00|     1| 10.28|  0.7|       0|   137.0|   4.30| 130|  87|     178| 187|  43| 107|    30|  14.9|    50.0|\n",
       "|   65|         1|      1|      1|                0|           0|            0|           0| 165|  70|  111|   82|  91| 28| 15.4|    9.588| 265.10|     0| 12.15|  0.9|       0|   137.0|   4.30| 175|  81|     183| 130|  52| 131|    27|   5.6|     2.5|\n",
       "|   41|         1|      0|      0|                0|           0|            0|           0| 155|  48|  173|   80|  67| 21| 12.9|   18.150| 313.40|     0|  7.01|  0.7|       0|   135.0|   4.20| 160| 148|     140| 175|  33|  96|    15|   5.6|    16.0|\n",
       "|   55|         1|      1|      1|                0|           0|            0|           0| 160|  60|  125|   80| 111| 28| 14.8|   18.050| 305.70|     0| 21.50|  1.1|       0|   128.0|   4.20| 362| 129|     278| 169|  53| 177|    46|   5.6|    36.0|\n",
       "|   65|         1|      0|      0|                0|           0|            0|           0| 165|  60|  128|   65|  61| 20| 11.6|   14.700| 282.00|     0| 15.89|  0.5|       0|   136.0|   3.80| 133| 108|     142| 128|  28|  83|    26|   5.6|    52.0|\n",
       "|   57|         1|      0|      1|                0|           1|            0|           0| 161|  76|  100|   68|  57| 22| 17.3|    6.140| 177.00|     1| 14.02|  1.2|       0|   140.0|   4.80| 128|  93|     158|  79|  31|  45|    19|   5.9|    25.0|\n",
       "|   54|         1|      0|      1|                0|           0|            0|           0| 170|  70|  173|   81|  51| 24| 14.6|   14.450| 149.00|     0| 19.16|  1.3|       0|   141.0|   4.40| 136|  85|     156| 137|  40|  90|    45|   5.6|    26.0|\n",
       "|   62|         1|      0|      0|                1|           1|            0|           0| 165|  55|  117|   84| 103| 22| 14.5|   12.030| 348.70|     0| 15.42|  0.8|       0|   137.0|   3.70| 133|  81|     199| 101|  53| 179|    39|   5.9|    30.0|\n",
       "|   67|         1|      1|      1|                0|           1|            0|           0| 161|  67|  147|   84|  54| 20| 14.6|    9.570| 310.00|     0|  8.88|  0.9|       0|   139.0|   5.20| 129| 246|     153| 193|  40| 125|    19|  10.8|    80.0|\n",
       "|   43|         1|      0|      0|                0|           0|            0|           0| 160|  65|   96|   50|  75| 20| 14.3|    9.360| 181.00|     0| 10.28|  1.1|       0|   141.0|   3.80| 108| 109|     239| 177|  46| 189|    22|   5.6|    20.0|\n",
       "|   60|         0|      1|      0|                0|           0|            0|           0| 165|  60|  140|   87|  91| 28| 15.9|   13.600| 308.00|     0| 10.75|  0.7|       0|   139.0|   3.90| 165|  95|     265| 155|  53| 221|    44|   6.5|   105.0|\n",
       "|   67|         0|      0|      1|                0|           0|            0|           0| 155|  60|  150|   75|  80| 22| 12.7|    7.903| 125.60|     0|  9.81|  0.6|       0|   143.0|   3.50| 137| 108|     187|  86|  56| 157|    21|   6.2|    20.0|\n",
       "|   60|         1|      0|      1|                0|           0|            0|           0| 165|  74|  189|  105|  95| 20| 13.2|   13.680| 301.00|     0| 20.09|  1.3|       0|   140.0|   4.50| 199| 100|     239| 203|  45| 186|    49|   5.6|    10.0|\n",
       "|   63|         1|      0|      0|                0|           0|            0|           0| 160|  59|  110|   73|  78| 20| 13.8|    9.824| 186.50|     0| 12.15|  0.8|       0|   134.0|   4.20|  93|  79|     166|  82|  39|  93|    21|   5.6|    40.0|\n",
       "|   57|         1|      1|      0|                0|           0|            0|           0| 161|  42|  140|   80|  82| 20| 12.1|    7.291| 183.00|     0| 18.22|  1.3|       0|   134.0|  39.00| 160| 199|     108| 106|  35|  94|    39|  14.9|     3.5|\n",
       "|   54|         1|      1|      0|                0|           0|            0|           0| 144|  60|  131|   80|  82| 28| 10.4|    9.955| 185.30|     0| 27.57|  1.5|       0|   139.0|   3.90| 572| 105|     199| 136|  52| 107|    59|   5.6|    20.0|\n",
       "|   63|         1|      1|      0|                1|           0|            0|           0| 153|  51|  119|   83|  95| 20| 13.2|    5.800| 107.60|     0| 18.32|  1.2|       0|   143.0|   4.70| 145|  92|     214|  73|  57| 189|    39|   6.5|    84.0|\n",
       "|   56|         1|      0|      0|                0|           0|            0|           0| 174|  65|  118|   84|  57| 28| 16.7|    8.800| 260.20|     0| 43.46|  2.8|       0|   136.0|   4.10| 127| 107|     154| 139|  50| 106|    93|   5.6|    25.0|\n",
       "|   64|         1|      0|      0|                0|           1|            0|           0| 165|  70|  121|   85|  58| 18| 14.9|    6.618| 201.50|     1| 14.95|  1.1|       0|   139.0|   3.60| 139|  91|     168|  92|  53| 106|    32|   5.6|    32.0|\n",
       "|   63|         0|      0|      1|                0|           0|            0|           0| 160|  72|  171|  105|  67| 20| 15.6|   16.150|  24.60|     0| 12.15|  1.0|       0|   134.0|   3.50| 119| 117|     142|  88|  26|  64|    26|   5.6|    20.0|\n",
       "|   55|         0|      0|      0|                0|           0|            0|           0| 148|  74|   98|   60|  60| 20| 13.3|    8.583| 239.50|     0| 12.62|  0.7|       0|   140.0|   3.80| 156|  87|     148| 199|  45|  95|    27|   3.7|     2.5|\n",
       "|   57|         1|      0|      1|                0|           0|            0|           0| 158|  64|  128|   75|  70| 20| 10.0|    4.577| 377.70|     0| 12.15|  1.0|       0|   143.0|   3.90|  89|  95|     137| 137|  48| 129|    39|   5.6|    27.0|\n",
       "|   62|         1|      0|      0|                0|           0|            0|           0| 160|  61|  119|   69|  61| 20| 13.8|    5.796| 171.00|     0| 14.02|  1.2|       0|   141.0|   4.50|  83|  84|     161| 180|  43| 120|    30|   6.0|   120.0|\n",
       "|   49|         0|      1|      0|                0|           0|            0|           0| 146|  52|  128|   76|  90| 20| 12.7|    8.243| 284.80|     0| 19.16|  0.8|       0|   142.0|   4.30|  95| 107|     284| 206|  59| 204|    41|   5.6|    10.0|\n",
       "|   45|         1|      0|      0|                0|           0|            0|           0| 165|  67|  123|   70|  70| 20| 13.5|    6.856| 121.50|     0| 14.95|  0.8|       0|   138.0|   4.40|  99|  79|     112|  64|  26|  75|    24|   5.6|    90.0|\n",
       "|   42|         1|      0|      0|                0|           1|            0|           0| 169|  65|  130|   86|  68| 20| 13.8|    7.220| 331.00|     0| 13.08|  1.0|       0|   141.0|   4.60|  86| 104|     143|  82|  57|  99|    34|  13.2|     6.0|\n",
       "|   56|         1|      0|      0|                0|           1|            0|           0| 168|  79|  129|   83|  65| 20| 14.5|    6.708| 239.50|     0| 14.02|  1.1|       0|   139.0|   4.20| 130|  70|     168| 136|  37| 133|    30|   7.5|    80.0|\n",
       "|   45|         1|      0|      1|                0|           0|            0|           0| 160|  65|  148|   81|  83| 19| 17.5|   15.400| 473.00|     0| 25.70|  0.8|       0|   139.0|   4.60| 383| 234|     253| 226|  53| 131|    43|   5.6|     9.0|\n",
       "|   61|         1|      1|      1|                0|           1|            0|           0| 165|  58|  122|   88|  91| 24| 12.4|   13.490| 318.00|     0| 23.83|  1.2|       0|   135.0|   2.70| 160| 107|     158|  75|  41| 134|    59|   3.7|    64.0|\n",
       "|   59|         0|      1|      1|                0|           0|            0|           0| 150|  50|  177|  100|  63| 28| 13.7|   10.970| 324.80|     0|  8.41|  1.0|       0|   140.0|   3.60| 188| 156|     359| 177|  45| 227|    18|   5.6|    80.0|\n",
       "|   53|         0|      1|      1|                0|           0|            0|           0| 155|  50|  125|   62|  48| 25| 13.1|   14.800| 349.20|     1| 16.82|  0.8|       0|   135.0|   5.30| 177|  92|     158| 251|  21|  73|    36|   5.6|    32.0|\n",
       "|   70|         0|      0|      1|                0|           0|            0|           0| 165|  59|  151|   79|  66| 18| 12.1|    6.239| 215.10|     0|  7.94|  0.8|       0|   138.0|   4.00|  82|  93|     134|  65|  47|  74|    21|   5.6|     1.0|\n",
       "|   61|         0|      0|      1|                0|           0|            0|           0| 150|  62|  140|   96|  71| 20| 10.2|    5.432| 103.00|     0| 21.03|  1.4|       0|   141.0|   3.70| 102| 115|     137| 152|  41|  92|    45|   5.6|     0.0|\n",
       "|   64|         0|      1|      1|                0|           0|            0|           0| 150|  50|  122|   68|  91| 28| 10.0|    9.460| 391.00|     0| 13.55| 10.0|       0|   141.0|   2.50| 106|  92|     359| 397|  47| 186|    29|   5.6|     8.0|\n",
       "|   51|         1|      0|      1|                0|           0|            0|           0| 170|  63|  127|   72|  81| 18| 12.4|   10.770| 282.00|     0| 10.28|  1.1|       0|   138.0|   3.70| 142| 122|     164| 137|  46|  97|    22|   5.6|   118.0|\n",
       "|   69|         1|      1|      1|                0|           1|            0|           0| 164|  70|  137|   70|  90| 18| 16.1|   12.660| 297.90|     0| 15.89|  1.3|       0|   140.0|   3.90| 290| 109|     153| 192|  47|  90|    34|   7.1|     2.5|\n",
       "|   68|         1|      0|      0|                0|           0|            0|           0| 165|  70|  148|   68|  68| 20| 13.6|    7.330| 142.00|     0| 17.76|  1.2|       0|   142.0|   2.60| 212|  99|     208|  87|  51| 156|    32|   5.6|   112.0|\n",
       "|   53|         1|      0|      0|                0|           0|            0|           0| 165|  55|  111|   63|  94| 21| 10.5|   13.420| 319.40|     0| 17.76|  1.5|       0|   135.0|   2.50| 109| 108|     171| 149|  56|  88|    47|   5.6|    58.0|\n",
       "|   64|         1|      1|      1|                0|           1|            0|           0| 161|  72|  141|   75|  60| 28| 12.3|  201.200| 364.00|     0| 12.15|  1.2|       0|   137.0|   4.50| 240|  86|     148|  88|  43|  45|    18|   5.6|    28.0|\n",
       "|   53|         0|      1|      0|                1|           0|            0|           0| 163|  66|  126|   68|  87| 18| 13.7|   10.390| 327.90|     0| 12.15|  0.7|       0|   139.0|   4.50| 129| 164|     196| 151|  37| 167|    26|   5.6|     2.0|\n",
       "|   53|         1|      1|      0|                0|           0|            0|           0| 170|  65|  144|   61|  62| 28| 13.5|    7.901| 201.60|     0| 18.22|  1.6|       0|   134.0|   4.70| 290| 154|     199| 161|  32| 115|    34|   5.6|    80.0|\n",
       "|   53|         1|      0|      0|                0|           0|            0|           0| 171|  74|  121|   77|  77| 20| 14.9|    6.799| 221.30|     0|  9.81|  1.3|       0|   142.0|   4.10| 178| 104|     148| 166|  38|  93|    21|   5.6|    38.0|\n",
       "|   76|         1|      0|      0|                0|           0|            0|           0| 160|  60|  108|   65|  64| 20| 14.4|    5.490| 172.70|     0| 15.89|  1.1|       0|   142.0|   4.00| 160| 130|     135|  79|  46|  80|    34|   5.6|    40.0|\n",
       "|   51|         0|      1|      1|                0|           0|            0|           0| 141|  35|  189|   95|  63| 20| 11.2|    7.710| 299.00|     0| 35.05|  1.2|       0|   136.0|   4.70| 147| 177|     359| 263|  43| 227|    75|   9.1|    17.0|\n",
       "|   71|         1|      0|      1|                0|           0|            0|           0| 160|  50|  124|   68|  52| 24| 13.3|   12.250| 313.40|     0| 20.84|  1.1|       0|   139.0|   4.10| 130|  84|     110| 155|  57|  66|    66|  10.8|    68.0|\n",
       "|   55|         1|      0|      1|                0|           0|            0|           0| 169|  70|  137|  102|  97| 28| 14.1|   18.620| 233.30|     0| 10.75|  0.8|       0|   138.0|   3.90| 154|  95|     199| 117|  28| 179|    23|   5.6|    40.0|\n",
       "|   55|         1|      0|      1|                0|           0|            0|           0| 160|  69|  175|   96|  88| 24| 13.9|    8.060| 257.00|     0| 14.02|  0.9|       0|   139.0|   4.10|  96| 191|     166| 141|  28| 105|    34|   5.6|    45.0|\n",
       "|   64|         1|      0|      0|                0|           0|            0|           0| 145|  35|  120|   81|  83| 20| 13.5|    5.040| 302.00|     0|  9.81|  0.6|       0|   138.0|   4.10| 141|  75|     173|  93|  44| 103|    21|   5.6|    40.0|\n",
       "|   65|         1|      0|      0|                0|           0|            0|           0| 164|  59|  111|   67|  68| 22| 12.1|   12.930| 210.80|     0|  7.48|  1.0|       0|   133.0|   3.80| 263| 204|     208|  90|  50| 156|    16|   5.6|    48.0|\n",
       "|   63|         1|      0|      0|                0|           1|            0|           0| 163|  72|  126|   63|  57| 20| 13.8|    8.230| 262.00|     0| 16.82|  1.2|       0|   138.0|   4.20|  86|  81|     187| 120|  53| 114|    36|   5.6|    10.0|\n",
       "|   78|         1|      0|      0|                0|           1|            0|           0| 160|  60|   97|   70|  49| 28| 11.5|   10.590| 199.20|     0| 22.43|  2.6|       0|   141.0|   4.60| 119|  98|     131|  97|  35|  88|    48|   5.6|   224.0|\n",
       "|   65|         1|      0|      1|                0|           0|            0|           0| 160|  70|  113|   72|  40| 28| 12.7|   16.260| 161.00|     0| 47.66|  1.8|       0|   132.0|   5.00| 136|  95|     148|  86|  43| 121|   102|   5.6|    32.0|\n",
       "|   68|         1|      1|      0|                0|           0|            0|           0| 160|  65|  104|   67|  69| 20| 13.5|   12.050| 158.00|     0| 18.69|  1.3|       0|   138.0|   3.10| 123| 297|     108| 247|  35|  78|    40|  13.2|    20.0|\n",
       "|   45|         1|      0|      0|                0|           0|            0|           0| 165|  60|  117|   62|  70| 24| 11.8|   14.590| 148.00|     0|  8.88|  0.7|       0|   132.0|   3.90| 139|  92|     134| 120|  27|  62|    19|   5.6|    32.0|\n",
       "|   54|         1|      0|      0|                0|           1|            0|           0| 165|  70|  117|   70|  46| 28| 12.6|   12.390| 158.00|     1|  8.88|  0.9|       0|   136.0|   4.50| 164|  98|     178| 187|  21|  79|    19|   5.6|    56.0|\n",
       "|   51|         1|      1|      1|                0|           0|            0|           0| 150|  49|  201|   95|  82| 24| 11.9|    9.480| 253.00|     0| 34.11|  1.9|       0|   145.0|   5.90|  95|  90|     304| 188|  46| 204|    85|   5.6|     8.0|\n",
       "|   63|         1|      0|      1|                0|           1|            0|           0| 154|  58|  136|   86|  79| 18| 13.0|    8.816| 177.00|     0| 14.02|  0.9|       0|   140.0|   4.00| 212|  88|     163| 175|  30| 100|    23|   5.6|    13.0|\n",
       "|   64|         1|      0|      1|                0|           0|            0|           0| 168|  59|  143|   85|  68| 20| 12.5|    8.267| 240.10|     0| 11.68|  0.9|       0|   135.0|   4.60| 128|  99|     140| 141|  31|  78|    32|   5.6|    37.0|\n",
       "|   63|         1|      0|      1|                0|           1|            0|           0| 155|  70|  133|   87| 108| 28|  8.6|   13.090| 301.80|     0| 29.44|  1.6|       0|   142.0|   4.50| 136| 191|     166| 177|  30| 166|    61|  14.9|    78.0|\n",
       "|   60|         1|      0|      1|                0|           0|            0|           0| 146|  62|  149|   66|  66| 20| 11.1|    7.052| 216.20|     0| 15.89|  0.8|       0|   139.0|   4.10|  92|  95|     115|  64|  43|  62|    34|   5.6|    32.0|\n",
       "|   55|         0|      0|      1|                0|           0|            0|           0| 170|  80|  147|   83|  98| 28| 14.6|   11.890| 256.00|     0| 14.02|  1.1|       0|   142.3|   2.94| 129|  92|     139|  82|  53| 106|    45|   5.6|    33.0|\n",
       "|   56|         0|      1|      1|                0|           0|            0|           0| 155|  65|  125|   83|  93| 28| 12.2|    7.721| 306.80|     0| 21.50|  1.4|       0|   126.0|   4.90| 538| 160|     202|  82|  30| 166|    34|   5.6|    74.0|\n",
       "|   46|         1|      0|      0|                0|           1|            0|           0| 160|  71|  179|   85|  63| 22| 15.3|    6.030| 188.00|     1| 13.08|  1.1|       0|   143.0|   4.50| 130|  95|     284| 247|  37| 189|    23|   6.1|    22.0|\n",
       "|   54|         1|      0|      0|                0|           1|            0|           0| 169|  65|  128|   95|  72| 28| 14.7|   10.340| 195.00|     0| 14.02|  1.1|       0|   140.0|   3.90|  91| 100|     158| 206|  33|  93|    30|   5.6|    72.0|\n",
       "|   35|         0|      1|      0|                0|           0|            0|           0| 162|  72|  133|   82|  72| 18| 12.6|    7.630| 367.00|     0| 20.09|  1.2|       0|   140.0|   4.80| 174| 129|     165| 251|  48|  80|    43|   5.6|     8.0|\n",
       "|   54|         1|      0|      0|                0|           0|            0|           0| 165|  65|  102|   70|  70| 28| 14.4|   15.100| 332.00|     0| 18.22|  0.7|       0|   134.0|   3.70| 182| 108|     142|  72|  28| 125|    33|   5.6|    80.0|\n",
       "|   64|         1|      0|      1|                0|           0|            0|           0| 160|  70|  100|   75| 130| 28| 13.8|   19.280| 193.00|     0| 45.33|  1.8|       0|   146.0|   4.40| 147|  90|     245| 217|  53| 186|    97|   5.6|    88.0|\n",
       "|   61|         1|      0|      0|                0|           0|            0|           0| 153|  55|  148|   73|  52| 24| 15.9|   10.140| 290.30|     0| 28.97|  1.7|       0|   144.0|   4.40|  70| 100|     184|  91|  31|  97|    59|   6.4|   134.0|\n",
       "|   61|         0|      0|      0|                0|           0|            0|           0| 161|  60|  133|   80|  68| 20| 11.5|    9.177| 197.30|     0| 25.23|  1.8|       0|   141.0|   5.30| 119|  87|     307| 437|  48| 183|    45|   5.6|     5.0|\n",
       "|   71|         1|      1|      0|                0|           0|            0|           0| 165|  70|  124|   73|  67| 24| 14.5|    9.261| 251.40|     0| 10.28|  1.0|       0|   135.0|   4.50| 233| 112|     168| 187|  43|  96|    22|   5.6|    68.0|\n",
       "|   61|         1|      0|      0|                0|           0|            0|           0| 160|  60|  134|   85|  78| 20| 13.1|    9.021| 311.50|     0| 20.09|  0.9|       0|   135.0|   4.60| 121|  84|     194| 169|  30| 114|    43|   5.6|    72.0|\n",
       "|   63|         1|      0|      0|                0|           1|            0|           0| 156|  53|  128|   76|  63| 20| 11.7|   10.300| 294.40|     0| 14.95|  1.2|       0|   139.0|   4.20|   5| 107|     120| 101|  29|  62|    32|   5.6|   116.0|\n",
       "|   58|         1|      1|      1|                0|           0|            0|           0| 173|  83|  156|   90|  90| 22| 15.7|    6.070| 267.00|     0| 11.21|  1.0|       0|   139.0|   4.20| 139| 129|     163| 192|  43|  96|    34|   5.6|    16.0|\n",
       "|   56|         0|      1|      1|                0|           0|            0|           0| 153|  53|  152|   96|  80| 20| 11.8|    6.668| 225.00|     0| 12.15|  0.8|       0|   143.0|   3.90| 147| 176|     161|  77|  31|  93|    26|   5.6|    40.0|\n",
       "|   52|         1|      0|      0|                0|           0|            0|           0| 165|  70|  128|   75|  88| 20| 12.5|   12.910| 213.00|     0| 11.68|  1.0|       0|   135.0|   4.30| 122| 103|     198| 117|  43| 166|    30|   5.6|    39.0|\n",
       "|   45|         1|      0|      0|                0|           1|            0|           0| 165|  62|  129|   82|  64| 28| 15.8|   12.060| 177.00|     0| 11.21|  0.9|       0|   141.0|   4.30| 115|  94|     220| 245|  31| 131|    24|   5.6|    36.0|\n",
       "|   61|         1|      1|      1|                0|           0|            0|           0| 150|  50|  100|   68|  54| 20|  9.3|    7.934| 244.90|     0| 31.78|  1.2|       0|   145.0|   4.20| 106| 119|     166|  97|  46| 134|    68|   5.6|     5.0|\n",
       "|   67|         1|      1|      1|                0|           0|            0|           0| 145|  50|   96|   70|  82| 21| 13.0|    8.297| 225.10|     0| 21.03|  1.2|       0|   143.0|   4.50| 155| 117|     134| 211|  40|  32|    33|   5.6|    12.0|\n",
       "|   59|         1|      0|      0|                0|           0|            0|           0| 160|  65|  123|   68|  50| 28| 12.7|   11.300| 220.00|     0| 16.82|  1.0|       0|   138.0|  36.00| 145|  93|     202| 117|  41| 189|    36|   5.6|    68.0|\n",
       "|   53|         1|      0|      0|                0|           0|            0|           0| 162|  67|  144|   92|  87| 28| 14.6|    7.777| 262.70|     0| 13.55|  0.9|       0|   137.0|   4.60|  92|  82|     134| 136|  31|  96|    44|   5.6|    80.0|\n",
       "|   81|         1|      0|      0|                0|           0|            0|           0| 155|  70|  147|   87| 103| 22| 11.2|   11.990| 280.50|     0| 15.89|  0.8|       0|   138.0|   3.90| 318| 156|     247| 128|  83| 177|    34|   6.4|    64.0|\n",
       "|   66|         0|      0|      0|                0|           0|            0|           0| 150|  50|  151|   76|  92| 20| 13.3|   11.880| 417.00|     0| 18.22|  0.8|       0|   135.0|   3.50|  96| 126|     220| 112|  32| 135|    32|  13.2|     9.0|\n",
       "|   67|         1|      0|      0|                0|           0|            0|           0| 160|  53|  128|   59|  51| 20| 10.9|   10.070| 293.00|     0| 16.82|  0.8|       0|   143.0|   4.10| 106|  91|     119|  69|  30|  90|    36|   5.6|     2.0|\n",
       "|   63|         0|      1|      1|                0|           0|            0|           0| 150|  60|  159|   89|  63| 20| 11.6|   11.010| 225.50|     0| 21.03|  0.8|       0|   141.0|   4.10| 135| 234|     188| 140|  44| 106|    45|   5.6|    36.0|\n",
       "|   48|         1|      0|      0|                0|           0|            0|           0| 170|  80|  133|   68|  94| 28| 14.9|   11.610| 366.00|     0| 11.21|  1.2|       0|   141.0|   3.40| 198|  92|     158| 221|  59| 115|    41|   5.2|    98.0|\n",
       "|   63|         1|      1|      0|                0|           0|            0|           0| 150|  60|  151|   70|  88| 28| 11.9|   15.560| 271.00|     0| 12.15|  1.9|       0|   142.0|   3.10| 148|  94|     202| 226|  45| 114|    47|   5.6|    48.0|\n",
       "|   58|         1|      0|      0|                0|           0|            0|           0| 167|  71|  149|   57|  54| 20| 15.4|    7.482| 243.40|     0| 10.75|  0.9|       0|   140.0|   3.40| 137|  94|     142|  87|  36|  92|    23|   5.6|     6.0|\n",
       "|   76|         1|      0|      0|                0|           0|            0|           0| 160|  55|  201|  105| 120| 20| 14.6|   16.180| 348.10|     0| 23.83|  1.4|       0|   127.0|   3.80| 538| 147|     284| 221|  68| 158|    59|   5.6|    84.0|\n",
       "|   66|         0|      1|      1|                0|           0|            0|           0| 145|  56|  140|   82|  97| 18| 13.3|   10.520| 263.20|     0| 22.43|  1.0|       0|   136.0|   5.30| 135| 204|     274| 203|  45| 186|    48|   5.6|    64.0|\n",
       "|   59|         1|      1|      0|                0|           0|            0|           0| 167|  72|  100|   80|  88| 20| 13.9|    8.562| 242.60|     0|  9.35|  1.3|       0|   140.0|   4.30| 129| 119|     149| 437|  26|  63|    20|   5.6|   104.0|\n",
       "|   76|         1|      1|      1|                0|           0|            0|           0| 162|  52|  117|   63|  73| 20| 10.4|   12.550| 308.40|     0| 22.90|  1.3|       0|   133.0|   3.80| 139| 108|     171|  86|  38| 106|    49|   5.6|    92.0|\n",
       "|   50|         1|      0|      1|                0|           0|            0|           0| 173|  62|  133|   63|  68| 20| 13.2|    6.350| 186.00|     0| 12.50|  1.0|       0|   140.0|   4.00|  70|  82|     151| 187|  27|  83|    27|   5.6|     1.0|\n",
       "|   58|         1|      0|      0|                0|           0|            0|           0| 165|  65|  159|  105|  97| 87| 11.5|   24.210| 210.00|     0|  7.24|  6.9|       0|   135.0|   5.20|  74|  86|     175|  77|  43| 261|   155|   5.6|    37.0|\n",
       "|   58|         1|      0|      1|                0|           0|            0|           0| 159|  70|  190|   92|  80| 20| 13.3|    7.700| 214.00|     0| 22.43|  1.2|       0|   139.0|   4.20|  96|  81|     179| 210|  56|  83|    55|   5.6|     5.0|\n",
       "|   68|         0|      0|      1|                0|           0|            0|           0| 150|  44|  150|   72|  67| 20| 11.2|    6.864| 242.60|     0| 35.05|  1.8|       0|   135.0|   6.60| 130| 108|     166| 108|  36|  94|    61|   5.6|   132.0|\n",
       "|   57|         1|      1|      0|                0|           0|            0|           0| 165|  78|  159|   75|  83| 20| 15.6|   10.040| 240.00|     0| 13.08|  0.9|       0|   135.0|   3.50| 165| 108|     104|  97|  31|  96|    24|  10.0|    12.0|\n",
       "|   40|         0|      0|      0|                0|           0|            0|           0| 173|  70|  107|   79|  95| 22| 12.7|   16.280| 255.20|     0| 19.16|  0.9|       0|   126.0|   3.70| 102|  94|     107|  95|  21|  62|    41|   5.6|    70.0|\n",
       "|   69|         1|      0|      1|                0|           0|            0|           0| 160|  57|  134|   84|  74| 20| 11.5|    7.460| 239.00|     0| 10.75|  0.9|       0|   137.0|   3.90| 117|  87|     171| 211|  35|  96|    23|   5.6|     7.0|\n",
       "|   47|         1|      0|      0|                0|           1|            0|           0| 160|  75|  101|   68|  90| 22| 14.9|   13.700| 225.00|     0| 10.75|  1.2|       0|   140.0|   3.80| 133|  95|     143| 251|  41|  84|    31|   5.6|    32.0|\n",
       "|   50|         1|      0|      0|                0|           1|            0|           0| 160|  74|  120|   80|  68| 20| 12.9|   10.480| 206.90|     0| 14.02|  1.0|       0|   140.0|   3.20| 113|  81|     174| 130|  37| 166|    30|   5.6|    54.0|\n",
       "|   40|         1|      0|      0|                0|           1|            0|           0| 165|  75|  151|   91|  65| 28| 13.1|   13.000| 274.00|     0| 12.15|  1.0|       0|   141.0|   3.50| 203|  82|     107| 168|  36|  96|    34|   5.9|    34.0|\n",
       "|   77|         1|      0|      0|                0|           1|            0|           0| 160|  50|  124|   60|  71| 20| 13.8|    7.054| 150.40|     0| 27.10|  1.4|       0|   141.0|   4.00| 112|  95|     110| 124|  45|  52|    63|   5.6|    22.0|\n",
       "|   78|         0|      0|      0|                0|           0|            0|           0| 155|  55|  139|   71|  67| 20| 13.6|    7.070| 224.00|     0|  9.81|  0.8|       0|   137.0|   3.70| 185| 108|     142| 112|  28|  90|    21|   5.6|    49.0|\n",
       "|   61|         0|      0|      1|                0|           0|            0|           0| 165|  65|  157|   83|  67| 18|  9.6|    7.787| 355.70|     0| 17.29|  1.8|       0|   144.0|   4.20| 119|  98|     245| 397|  33| 107|    37|   5.8|    53.0|\n",
       "|   66|         0|      0|      0|                0|           0|            0|           0| 150|  80|  125|   71|  93| 18| 14.0|   15.230| 249.00|     0| 11.68|  0.7|       0|   137.0|   3.90| 141| 156|     115|  55|  40|  92|    20|   5.6|    65.0|\n",
       "|   68|         1|      0|      0|                0|           0|            0|           0| 160|  60|   91|   59|  85| 28| 15.3|   16.150| 257.80|     0| 11.21|  0.9|       0|   135.0|   3.80| 139|  98|     180|  77|  38| 166|    21|   5.6|    32.0|\n",
       "|   68|         1|      1|      1|                0|           0|            0|           0| 166|  60|  170|   74|  56| 20| 12.6|    8.596| 220.60|     0| 26.17|  1.6|       0|   138.0|   3.80| 106| 124|     165|  91|  35| 117|    45|   6.6|    42.0|\n",
       "|   57|         1|      0|      1|                0|           1|            0|           0| 165|  90|  137|   72|  75| 18| 14.5|   10.000| 261.00|     0| 14.95|  0.7|       0|   132.0|   3.70| 135| 108|     175| 231|  32| 120|    17|   5.6|    28.0|\n",
       "|   67|         0|      0|      1|                0|           0|            0|           0| 163|  55|  136|   70|  57| 18| 10.5|   10.240| 362.90|     0| 39.72|  1.7|       0|   138.0|   4.60|  95|  95|     174|  86|  45| 130|    85|   5.6|   100.0|\n",
       "|   45|         1|      0|      0|                0|           0|            0|           0| 165|  75|  127|   25|  61| 28| 15.9|   12.050| 172.70|     0|  7.94|  0.8|       0|   136.0|   4.00| 160|  91|     194| 140|  33| 106|    23|   5.6|    32.0|\n",
       "|   37|         1|      0|      1|                0|           0|            0|           0| 150|  72|  188|   80|  93| 20| 12.9|   14.830| 231.00|     1|  9.81|  0.8|       0|   143.0|   3.80| 171| 180|     170|  97|  59| 129|    27|   5.6|     7.0|\n",
       "|   52|         0|      0|      1|                0|           0|            0|           0| 150|  73|  180|  108| 103| 20| 10.2|   15.500| 289.00|     1|  7.94|  0.7|       0|   135.0|   4.30| 123|  95|     104| 105|  25|  70|    31|   5.6|    18.0|\n",
       "|   59|         1|      1|      0|                0|           0|            0|           0| 165|  65|  134|   73|  54| 15| 15.4|   14.440| 242.00|     0| 22.43|  0.9|       0|   138.0|   3.90| 326| 126|     158|  77|  38|  74|    36|   5.6|    48.0|\n",
       "|   61|         1|      0|      0|                0|           0|            0|           0| 150|  60|  136|   85|  60| 22| 12.6|   13.220| 236.20|     0| 18.22|  1.1|       0|   140.0|   4.10| 137|  77|     125| 147|  29|  73|    40|   5.6|    26.0|\n",
       "|   75|         0|      0|      1|                0|           0|            0|           0| 165|  65|  153|  107|  60| 22| 11.8|   10.600| 230.00|     0| 25.70|  1.5|       0|   139.0|   3.40| 129| 104|     173|  90|  39| 167|    55|   5.6|    40.0|\n",
       "|   62|         1|      0|      1|                0|           0|            0|           0| 151|  93|  194|   93|  99| 20| 13.4|    6.874| 184.90|     0| 13.08|  1.0|       0|   141.0|   4.80|  86|  84|     168| 149|  28| 102|    24|   5.6|    56.0|\n",
       "|   53|         1|      1|      1|                0|           0|            0|           0| 160|  63|  155|   80|  78| 28| 15.3|   10.160| 393.50|     0| 14.02|  1.0|       0|   142.0|   5.10| 162| 147|     156| 187|  37|  88|    46|   5.6|    37.0|\n",
       "|   34|         1|      0|      0|                0|           0|            0|           0| 160|  60|  126|   68|  60| 28| 14.7|   17.530| 274.40|     0|  7.01|  1.0|       0|   140.0|   4.20| 117|  95|     187| 117|  44| 157|    31|   5.6|    40.0|\n",
       "|   48|         1|      0|      1|                0|           0|            0|           0| 168|  62|  156|   84|  79| 20| 14.8|   12.560| 358.60|     0| 11.21|  0.8|       0|   142.0|   5.20| 212| 117|     167| 101|  37| 106|    19|   5.6|    64.0|\n",
       "|   50|         1|      0|      1|                0|           0|            0|           0| 161|  83|  174|   99|  97| 87| 12.6|   15.560| 305.40|     0| 15.89|  1.3|       0|   142.0|   4.20| 318|  86|     112|  85|  11| 131|   155|   5.6|    44.0|\n",
       "|   49|         1|      0|      0|                0|           0|            0|           0| 160|  55|  131|   81|  72| 20| 13.4|    7.290| 198.00|     0| 14.02|  1.0|       0|   137.0|   4.80|  82|  85|     198| 119|  35| 135|    24|   5.6|   104.0|\n",
       "|   68|         1|      0|      0|                0|           1|            0|           0| 160|  53|   68|   44|  42| 28| 10.2|   15.400| 170.80|     0| 35.05|  1.8|       0|   134.0|   4.30|  89| 101|     153|  97|  35|  93|    61|   5.6|     0.0|\n",
       "|   41|         0|      0|      0|                0|           1|            0|           0| 167|  75|  121|   74|  63| 28| 16.3|    8.300| 167.00|     0| 12.15|  0.7|       0|   138.0|   4.00| 130|  84|     173| 140|  39| 111|    29|   5.6|    64.0|\n",
       "|   49|         1|      0|      0|                0|           0|            0|           0| 158|  53|  100|   51|  50| 28| 14.1|    7.833| 267.10|     0| 11.21|  1.1|       0|   140.0|   3.70|  76|  85|     206|  90|  39| 153|    32|   5.6|    23.0|\n",
       "|   55|         1|      0|      0|                0|           0|            0|           0| 155|  65|  171|   92|  90| 20| 13.3|    8.102| 302.90|     0| 19.15|  1.2|       0|   141.0|   4.70| 127| 103|     165| 143|  35|  79|    47|   5.6|    88.0|\n",
       "|   62|         0|      0|      0|                0|           0|            0|           0| 170|  70|  114|   80|  93| 28| 14.3|   16.240| 321.00|     0| 10.75|  1.2|       0|   134.0|   3.20| 175| 108|     284| 206|  52| 221|    26|   5.6|    46.0|\n",
       "|   63|         0|      0|      1|                0|           0|            0|           0| 169|  55|  122|   72|  62| 20| 14.3|    6.454| 263.60|     0| 11.21|  0.8|       0|   141.0|   4.40|  76| 122|     200| 179|  44| 158|    24|   5.6|    92.0|\n",
       "|   58|         1|      0|      1|                0|           0|            0|           0| 154|  66|  133|   77|  49| 20| 14.3|    6.650| 152.10|     0| 15.89|  1.5|       0|   140.0|   4.00| 106| 135|     158|  92|  38|  93|    34|   5.6|    10.0|\n",
       "|   73|         1|      0|      0|                0|           0|            0|           0| 163|  43|  110|   83|  90| 28| 12.1|    7.643| 159.60|     0| 16.82|  1.0|       0|   138.0|   3.60|  96|  93|     164| 168|  32|  95|    36|   5.6|   132.0|\n",
       "|   41|         1|      1|      0|                0|           0|            0|           0| 141|  70|  123|   83| 120| 28| 13.9|   15.280| 308.00|     0| 11.21|  0.7|       0|   137.0|  10.70| 267|  84|     307| 221|  68| 227|    30|   5.6|    96.0|\n",
       "|   45|         1|      0|      1|                0|           1|            0|           0| 176|  85|  137|   80|  90| 20| 10.1|    7.030| 296.00|     0| 15.89|  0.9|       0|   137.0|   4.70|  92|  79|     174| 116|  47| 102|    34|   5.6|     0.0|\n",
       "|   54|         1|      0|      0|                0|           0|            0|           0| 166|  69|  136|   69|  64| 28| 13.0|    9.609| 237.80|     0| 14.02|  1.6|       0|   142.0|   3.80|  70|  79|     153| 114|  28|  88|    40|   5.6|    21.0|\n",
       "|   51|         1|      0|      0|                0|           0|            0|           0| 165|  87|  122|   63|  71| 28| 12.9|    5.408| 170.80|     0| 28.50|  1.8|       0|   136.0|   5.30|  76|  96|     107|  72|  26|  88|    61|   5.6|     2.0|\n",
       "|   59|         1|      0|      0|                0|           1|            0|           0| 169|  69|  136|   93|  89| 20| 14.9|    6.648| 215.50|     0|  9.81|  0.8|       0|   135.0|   4.10|   4|  87|     155| 174|  27|  98|    21|  14.9|   160.0|\n",
       "|   51|         1|      0|      0|                0|           0|            0|           0| 168|  75|   94|   68| 101| 28| 14.1|   22.000| 246.00|     0| 22.43|  2.4|       0|   129.0|   4.40| 263|  99|     161| 169|  50|  97|    59|   5.6|    32.0|\n",
       "|   51|         1|      0|      0|                0|           0|            0|           0| 165|  80|  112|   63|  54| 28| 13.5|    9.076| 166.70|     0|  8.41|  0.8|       0|   136.0|   4.20| 121| 168|     135|  72|  33|  99|    10|   5.6|    80.0|\n",
       "|   64|         1|      1|      0|                0|           0|            0|           0| 170|  80|  110|   69| 120| 28| 15.0|    7.721| 183.00|     0| 11.68|  1.0|       0|   141.0|   3.70| 135|  92|     128| 274|  28|  32|    39|   5.6|    40.0|\n",
       "|   70|         0|      0|      1|                0|           0|            0|           0| 175|  60|  100|   80|  81| 28| 14.9|    9.010| 276.50|     0| 13.08|  0.9|       0|   138.0|   3.90| 113|  90|     191|  77|  25| 113|    32|   5.6|   140.0|\n",
       "|   51|         1|      1|      1|                0|           0|            0|           0| 150|  51|  179|   68|  56| 18| 11.1|    9.266| 229.30|     0| 33.18|  1.8|       0|   136.0|   5.20| 119| 178|     253| 274|  56| 130|    61|   5.6|     8.0|\n",
       "|   51|         1|      0|      0|                0|           1|            0|           0| 170|  68|  125|   80|  57| 28| 15.0|   14.390| 245.80|     0| 11.21|  0.9|       0|   137.0|   4.30| 149|  90|     206| 203|  45| 131|    28|   5.6|    32.0|\n",
       "|   60|         1|      1|      0|                0|           1|            0|           0| 160|  57|   95|   56|  91| 28| 15.9|    9.861| 201.90|     0| 18.69|  1.1|       0|   136.0|   3.50| 232|  98|     149| 128|  35|  73|    34|   5.6|   172.0|\n",
       "|   50|         1|      0|      0|                0|           0|            0|           0| 171|  71|  118|   56|  50| 18| 14.3|    9.800| 347.00|     0| 10.75|  1.0|       0|   138.0|   3.80| 112| 104|     113| 199|  36|  66|    17|   5.6|    10.0|\n",
       "|   60|         1|      0|      0|                0|           0|            0|           0| 155|  50|  143|   90|  63| 28| 12.1|    9.430| 288.00|     0| 14.95|  1.1|       0|   138.0|   3.90|  78| 119|     198|  82|  44| 179|    45|   6.0|    87.0|\n",
       "|   44|         1|      0|      0|                0|           0|            0|           0| 170|  70|  110|   68|  67| 20| 15.0|   14.440| 293.00|     1| 11.21|  0.8|       0|   136.0|   4.40|  93| 191|     135| 166|  40|  93|    23|   5.6|    10.0|\n",
       "|   61|         1|      1|      1|                0|           1|            0|           0| 161|  60|  189|   95|  67| 28| 11.7|    7.550| 199.00|     0| 25.70|  1.5|       0|   138.0|  39.00| 182|  98|     359| 397|  57| 201|    75|   5.6|    88.0|\n",
       "|   62|         1|      0|      1|                0|           0|            0|           0| 144|  45|  148|   81|  82| 21|  9.4|    7.710| 377.90|     0| 32.24|  1.8|       0|   123.0|   5.30| 302| 162|     175|  77|  46| 128|    73|   5.6|    80.0|\n",
       "|   66|         1|      0|      1|                0|           1|            0|           0| 168|  80|  140|   74|  69| 28| 12.9|   10.860| 149.00|     0| 17.76|  1.3|       0|   138.0|   4.60| 102|  82|     162| 199|  30| 125|    58|   5.6|    21.0|\n",
       "|   56|         1|      1|      1|                0|           0|            0|           0| 165|  65|  133|   63|  88| 28| 14.1|   10.660| 224.00|     0| 12.62|  1.0|       0|   133.0|   4.60| 383| 108|     175| 217|  33|  90|    27|   5.6|    48.0|\n",
       "|   46|         0|      1|      1|                0|           0|            0|           0| 152|  78|  166|  101|  83| 18| 11.8|    9.410| 456.00|     0|  8.88|  0.6|       0|   134.0|   3.90| 233| 132|     187| 136|  52| 156|    19|   5.6|     1.0|\n",
       "|   55|         1|      0|      1|                0|           0|            0|           0| 160|  65|  140|   90|  63| 18| 16.3|   11.620| 212.50|     0| 19.16|  1.8|       0|   135.0|   4.20|  86| 129|     189| 167|  52| 122|    43|   5.6|    20.0|\n",
       "|   59|         1|      0|      0|                0|           1|            0|           0| 165|  70|  144|   68|  90| 18| 14.2|   11.560| 262.00|     0| 21.50|  1.0|       0|   140.0|   3.27| 205|  90|     130|  82|  46|  71|    46|  10.8|    68.0|\n",
       "|   63|         1|      0|      0|                0|           0|            0|           0| 165|  52|  111|   63|  87| 20| 11.7|    6.690| 172.00|     0| 29.44|  1.7|       0|   138.0|   4.40| 129|  87|     168| 130|  38| 105|    63|   5.6|   116.0|\n",
       "|   65|         0|      1|      0|                0|           0|            0|           0| 150|  57|  113|   68|  73| 20| 12.8|   15.110| 316.00|     0| 13.55|  0.7|       0|   142.0|   4.80| 128| 176|     199| 169|  57| 156|    20|   5.6|    32.0|\n",
       "|   60|         1|      0|      0|                0|           1|            0|           0| 156|  49|  112|   65|  85| 22| 13.3|   10.250| 314.90|     0| 20.56|  1.8|       0|   141.0|   3.90|  76|  82|     178|  77|  44| 100|    44|   5.6|   152.0|\n",
       "|   60|         0|      1|      0|                0|           0|            0|           0| 150|  60|   96|   66|  74| 28| 12.1|    8.813| 276.20|     0| 27.10|  0.6|       0|   137.0|   4.70| 245| 340|     278| 177|  68| 201|    58|  10.7|    20.0|\n",
       "|   64|         1|      0|      0|                0|           1|            0|           0| 160|  42|  125|   74|  74| 22| 12.7|   11.760| 269.00|     0|  9.35|  0.7|       0|   130.0|   4.20| 135|  88|     195| 128|  29| 125|    20|   5.6|    40.0|\n",
       "|   63|         1|      1|      0|                0|           0|            0|           0| 160| 105|  117|   79|  97| 23| 13.5|   24.210| 246.40|     0|  9.81|  1.1|       0|   140.0|   4.50| 112|  96|     108| 171|  30|  97|    20|   5.6|    28.0|\n",
       "|   64|         1|      0|      0|                0|           0|            0|           0| 165|  65|  155|  105|  82| 20| 12.3|    6.097| 241.80|     0| 19.63|  1.4|       0|   137.0|   4.20| 128| 148|     284| 721|  34|  79|    49|   9.3|     4.0|\n",
       "|   49|         1|      0|      1|                0|           0|            0|           0| 168|  75|  147|   96|  64| 20| 14.6|    7.589| 328.80|     1| 10.75|  0.9|       0|   136.0|   4.30| 198|  95|     148| 171|  28|  80|    23|   5.6|    20.0|\n",
       "|   74|         1|      0|      0|                0|           1|            0|           0| 160|  60|  148|   66|  68| 28| 11.4|    8.115| 175.00|     0| 14.95|  0.9|       0|   140.0|   4.10| 290| 108|     174| 114|  31| 102|    39|   5.6|    88.0|\n",
       "|   66|         1|      0|      1|                0|           0|            0|           0| 162|  65|  142|   92|  98| 18| 15.0|    6.860| 274.60|     1| 14.02|  1.0|       0|   136.0|   4.90| 137|  84|     168| 117|  30| 100|    30|   5.6|    40.0|\n",
       "|   63|         1|      0|      1|                0|           0|            0|           0| 165|  75|  137|   67|  78| 20| 13.4|    7.795| 266.20|     0| 14.49|  1.3|       0|   138.0|   4.70| 149|  90|     221| 221|  33| 134|    31|   5.6|    70.0|\n",
       "|   68|         1|      0|      1|                0|           0|            0|           0| 172|  65|  149|   61|  60| 20| 13.8|    7.452| 160.30|     0| 11.21|  1.1|       0|   138.0|   4.40| 115|  87|     194| 206|  47|  95|    24|   5.6|     0.0|\n",
       "|   55|         1|      0|      0|                0|           1|            0|           0| 167|  65|  133|   90|  81| 18| 15.0|    2.925| 201.30|     0| 12.15|  1.1|       0|   137.0|   4.30| 139|  90|     108|  80|  41|  32|    26|   5.6|     0.0|\n",
       "|   60|         1|      1|      1|                0|           1|            0|           0| 165|  68|  122|   88|  91| 24| 12.4|   13.490| 318.00|     0| 23.83|  1.2|       0|   135.0|   2.70| 160|  79|     158| 139|  28| 100|    45|   5.6|    16.0|\n",
       "|   64|         1|      0|      0|                0|           0|            0|           0| 163|  63|  125|   88|  87| 28| 14.6|    8.480| 293.00|     0| 17.29|  1.3|       0|   137.0|   4.80| 121|  82|     107|  72|  26|  64|    46|   5.6|    64.0|\n",
       "|   70|         1|      1|      0|                0|           0|            0|           0| 156|  70|  124|   68|  82| 18| 13.6|    7.855| 204.00|     0| 34.11|  1.6|       0|   138.0|   4.40| 182| 105|     107| 117|  40|  90|    73|   8.4|    66.0|\n",
       "|   50|         0|      0|      0|                0|           0|            0|           0| 165|  65|  124|   88|  60| 20| 12.8|   16.700| 186.00|     0| 19.63|  1.0|       0|   136.0|   3.60| 134|  81|     168| 187|  32| 120|    43|   5.6|    39.0|\n",
       "|   44|         0|      0|      0|                0|           0|            0|           0| 167|  71|  124|   65|  81| 22| 12.3|    9.770| 275.00|     0| 22.43|  1.0|       0|   130.0|   5.30|  94| 100|      92|  66|  11|  58|    44|   5.6|    82.0|\n",
       "|   60|         1|      0|      1|                0|           0|            0|           0| 160|  62|  145|   84|  87| 20| 11.5|    6.028| 225.40|     0| 13.80|  1.1|       0|   139.0|   4.30|  94|  98|     187| 221|  23| 106|    36|   5.6|    84.0|\n",
       "|   59|         1|      0|      0|                0|           1|            0|           0| 175|  68|  103|   60|  98| 20| 16.5|   11.260| 301.40|     0|  8.88|  1.0|       0|   141.0|   4.40| 137|  98|     195| 168|  52| 102|    19|   5.3|     0.0|\n",
       "|   63|         0|      0|      0|                0|           0|            0|           0| 155|  60|  103|   85|  74| 20| 13.1|    6.478| 267.20|     0| 10.28|  0.6|       0|   136.0|   4.00| 290|  77|     119| 138|  37|  62|    23|   5.6|    74.0|\n",
       "|   60|         0|      1|      0|                0|           0|            0|           0| 163|  50|  133|   67|  81| 20| 10.9|    8.694| 257.70|     0|  9.81|  0.8|       0|   140.0|   3.40| 135| 168|     159| 274|  38|  75|    21|   5.6|     2.5|\n",
       "|   66|         0|      1|      0|                0|           0|            0|           0| 169|  50|  117|   71|  66| 21| 11.8|   13.000| 319.60|     0|  9.35|  0.7|       0|   138.0|   3.60| 178| 101|     170| 112|  43| 115|    20|   5.6|    90.0|\n",
       "|   63|         1|      0|      0|                0|           1|            0|           0| 160|  59|  133|   67|  56| 20| 14.5|    9.344| 269.10|     0| 19.16|  1.0|       0|   142.0|   4.50|  89|  84|     165| 247|  35|  99|    41|   5.6|    16.0|\n",
       "|   46|         1|      0|      0|                0|           1|            0|           0| 160|  58|  138|   69|  63| 20| 13.4|    7.087| 145.10|     1| 12.15|  1.0|       0|   135.0|   4.00|  92|  70|     145|  88|  40| 101|    26|   5.3|    32.0|\n",
       "|   84|         1|      0|      0|                0|           1|            0|           0| 168|  45|  121|   63|  69| 18| 10.9|    6.971| 214.50|     0| 16.82|  1.0|       0|   141.0|   3.20|  99| 100|     114|  55|  41|  63|    36|   5.6|    39.0|\n",
       "|   64|         1|      0|      1|                0|           1|            0|           0| 170|  68|  110|   80|  88| 20| 12.6|   12.930| 208.90|     0| 15.42|  1.3|       0|   134.0|   4.30| 119|  83|     117|  77|  40|  65|    33|   5.6|    44.0|\n",
       "|   30|         1|      1|      1|                0|           1|            0|           0| 171| 105|  167|   85|  51| 20| 17.5|   10.090| 386.30|     0| 30.84|  1.3|       0|   133.0|   4.90| 105|  70|     186| 231|  31| 121|    59|   5.6|    40.0|\n",
       "|   66|         1|      1|      0|                0|           0|            0|           0| 175|  63|  156|   57|  80| 16| 10.5|   17.880| 194.00|     0| 34.58|  1.4|       0|   127.0|   4.40| 321|  93|     206| 117|  68| 130|    75|   6.6|    82.0|\n",
       "|   52|         1|      0|      1|                0|           1|            0|           0| 160|  62|  149|   75|  42| 24| 14.8|    8.149| 361.80|     0| 11.21|  1.4|       0|   138.0|   5.10| 106|  85|     107| 130|  21|  62|    36|   5.6|   130.0|\n",
       "|   78|         1|      0|      1|                0|           0|            0|           0| 155|  54|  152|   75|  80| 20| 12.8|   10.960| 277.00|     0| 14.02|  0.7|       0|   136.0|   4.90| 124| 147|     171| 133|  39| 128|    30|   5.6|     2.0|\n",
       "|   66|         1|      1|      0|                0|           0|            0|           0| 145|  49|  107|   63|  87| 20| 14.9|    5.500| 269.00|     0| 12.13|  0.9|       0|   142.0|   4.00| 139| 155|     130|  72|  32|  76|    17|   5.6|    38.0|\n",
       "|   73|         1|      0|      1|                0|           0|            0|           0| 144|  55|  144|   77|  87| 20| 14.2|    6.016| 136.20|     0| 14.95|  0.7|       0|   140.0|   3.00| 142| 104|     139|  75|  26|  84|    32|   5.6|    40.0|\n",
       "|   46|         0|      1|      1|                0|           0|            0|           0| 150|  70|  134|   99| 109| 20| 12.6|   14.300| 424.00|     0| 20.56|  0.9|       0|   136.0|   3.00| 368| 100|     148| 193|  45|  98|    46|   5.6|    84.0|\n",
       "|   63|         1|      0|      1|                0|           0|            0|           0| 155|  69|  132|   81|  69| 20| 12.3|   10.670| 259.90|     0| 13.08|  1.2|       0|   137.0|   3.90|  92|  97|     131| 211|  35|  96|    28|   5.6|   104.0|\n",
       "|   49|         1|      0|      1|                0|           0|            0|           0| 165|  70|  144|   73|  90| 20| 14.3|   16.820| 207.70|     0| 10.75|  1.0|       0|   138.0|   3.00| 162| 145|     172| 217|  26|  79|    22|   5.6|    64.0|\n",
       "|   67|         1|      0|      1|                0|           0|            0|           0| 165|  52|  188|   87|  69| 19| 11.4|    6.858| 241.10|     0| 21.03|  1.9|       0|   138.0|   4.50|  92|  92|     149|  82|  23|  65|    45|   3.7|    22.0|\n",
       "|   65|         0|      0|      1|                0|           0|            0|           0| 150|  70|  152|   62|  70| 21|  9.7|    9.340| 301.00|     0| 12.50|  1.8|       0|   137.0|   4.10| 106|  84|     168| 223|  37| 115|    44|   5.6|    74.0|\n",
       "|   57|         1|      0|      0|                0|           0|            0|           0| 160|  50|  102|   65|  95| 21|  8.8|    7.877| 200.30|     0| 16.36|  0.6|       0|   131.0|   5.50| 111|  87|     158|  90|  34|  99|    35|   5.6|    14.0|\n",
       "|   64|         0|      0|      0|                0|           0|            0|           0| 161|  50|  107|   65| 126| 25| 12.1|   14.830|  26.00|     0| 54.67|  1.8|       0|   136.0|   4.30| 302| 112|     199| 117|  36| 102|    93|   5.6|   130.0|\n",
       "|   66|         1|      0|      0|                0|           0|            0|           0| 153|  55|   88|   51| 100| 30| 12.7|    8.600| 252.00|     0| 14.02|  0.6|       0|   139.0|   4.30| 171|  84|     153|  85|  45| 125|    33|   5.6|    84.0|\n",
       "|   50|         1|      0|      1|                0|           1|            0|           0| 167|  60|   78|   50|  54| 28| 17.6|   19.020| 244.00|     0| 11.68|  1.5|       0|   143.0|   3.70| 203|  87|     168| 221|  56|  95|    38|   5.6|    56.0|\n",
       "|   54|         1|      0|      1|                0|           0|            0|           0| 165|  64|  140|   72|  73| 17| 14.2|    5.888| 257.80|     0| 14.02|  1.1|       0|   138.0|   5.00| 233| 108|     142| 226|  37|  68|    31|   5.6|    12.0|\n",
       "|   55|         0|      0|      0|                0|           0|            0|           0| 178|  75|  127|   78|  74| 22|  9.2|   17.980| 349.80|     0| 14.02|  1.8|       0|   138.0|   3.80| 119|  82|     153| 116|  39| 130|    30|   5.6|    13.0|\n",
       "|   59|         0|      0|      1|                0|           0|            0|           0| 155|  52|  179|   85| 102| 20| 12.8|    7.920| 321.00|     0| 13.08|  0.8|       0|   146.0|   4.70| 182| 134|     205| 328|  43| 107|    28|   5.6|    24.0|\n",
       "|   54|         0|      0|      0|                0|           0|            0|           0| 161|  50|  114|   61|  68| 20| 10.0|    8.490| 425.00|     0| 14.16|  0.6|       0|   137.0|  35.00| 182| 117|     168| 106|  36| 157|    23|   5.6|    22.0|\n",
       "|   70|         1|      0|      0|                0|           1|            0|           0| 165|  65|  102|   81|  54| 20| 16.5|   12.710| 210.00|     0| 20.09|  1.3|       0|   134.0|   3.90| 130| 164|     220| 185|  52| 186|    36|   5.6|    80.0|\n",
       "|   42|         1|      0|      0|                0|           1|            0|           0| 165|  60|  112|   70|  63| 28| 13.2|   12.770|  22.50|     0| 13.55|  1.1|       0|   139.0|   3.70| 142|  79|     167|  55|  27| 129|    29|   5.6|    34.0|\n",
       "|   61|         1|      0|      1|                0|           1|            0|           0| 160|  65|  173|   95|  61| 18| 12.8|   13.940| 229.60|     0| 21.96|  0.8|       0|   141.0|   3.80| 227| 147|     164| 112|  38|  96|    47|   5.6|    88.0|\n",
       "|   58|         1|      0|      0|                0|           0|            0|           0| 170|  55|  123|   68|  71| 15| 13.6|    7.174| 286.50|     0| 11.21|  0.8|       0|   140.0|   4.60| 134| 180|     134|  85|  39|  71|    16|   5.6|    92.0|\n",
       "|   42|         1|      1|      0|                0|           0|            0|           0| 170|  75|  117|   81|  93| 28| 13.3|   14.030| 283.00|     0| 11.68|  1.0|       0|   135.0|   4.90| 373|  95|     220| 101|  57| 229|    25|   5.6|    64.0|\n",
       "|   49|         1|      0|      0|                0|           0|            0|           0| 161|  74|  119|   78|  90| 28| 15.7|    9.720| 224.00|     0| 18.22|  1.3|       0|   136.0|   4.00| 225| 100|     117|  77|  38|  94|    45|   5.6|    73.0|\n",
       "|   57|         1|      0|      0|                0|           0|            0|           0| 160|  60|  131|   86|  91| 20| 13.0|    8.475| 202.30|     0| 17.76|  1.2|       0|   141.0|   4.70| 160| 112|     284|  77|  83| 201|    43|   5.6|   132.0|\n",
       "|   62|         1|      1|      1|                0|           0|            0|           0| 162|  60|  140|   86|  74| 19| 12.5|   76.662| 302.40|     0| 27.10|  1.5|       0|   144.0|   5.20| 124| 162|     162| 143|  36|  79|    58|   5.6|    40.0|\n",
       "|   64|         1|      0|      0|                0|           1|            0|           0| 165|  65|  118|   72|  60| 18| 14.5|   10.100| 171.90|     1| 18.22|  1.0|       0|   140.0|   3.70| 227| 100|     117| 137|  40|  68|    39|   5.6|    88.0|\n",
       "|   58|         1|      1|      0|                0|           0|            0|           0| 170|  67|   88|   68|  60| 19| 14.0|   15.740| 189.60|     0| 15.89|  1.0|       0|   130.0|   3.90| 250| 108|     175| 117|  40| 125|    23|   5.6|    26.0|\n",
       "|   59|         1|      0|      0|                0|           0|            0|           0| 160|  62|  104|   68|  61| 18| 14.1|    7.883| 150.40|     1|  7.48|  0.9|       1|   140.0|   3.40| 110| 122|     128| 133|  31|  66|    16|   5.6|    44.0|\n",
       "|   63|         1|      0|      0|                0|           0|            0|           0| 165|  96|  130|   89|  80| 16| 13.5|    6.626|  29.40|     0| 15.89|  1.5|       0|   142.0|   4.90| 106|  90|     108|  91|  30|  58|    17|   5.6|    88.0|\n",
       "|   78|         1|      0|      1|                0|           0|            0|           0| 170|  44|  171|   81|  62| 20| 13.1|    6.080| 259.70|     0| 14.95|  0.9|       0|   143.0|   4.20|  92|  95|     284| 117|  57| 209|    36|   5.6|    14.0|"
      ]
     },
     "metadata": {},
     "output_type": "display_data"
    }
   ],
   "source": [
    "# Menggunakan dataset pertama untuk analisis deskriptif\n",
    "data_imputed <- data_clean\n",
    "for(var in names(imputed_datasets[[1]])) {\n",
    "    data_imputed[[var]] <- imputed_datasets[[1]][[var]]\n",
    "}\n",
    "# summary(data_imputed)\n",
    "kable(data_imputed)"
   ]
  },
  {
   "cell_type": "markdown",
   "metadata": {},
   "source": [
    "### Analisis Deskriptif"
   ]
  },
  {
   "cell_type": "markdown",
   "metadata": {},
   "source": [
    "#### Summary Data"
   ]
  },
  {
   "cell_type": "code",
   "execution_count": 131,
   "metadata": {
    "vscode": {
     "languageId": "r"
    }
   },
   "outputs": [
    {
     "name": "stdout",
     "output_type": "stream",
     "text": [
      "[1] \"Ringkasan Statistik Variabel Numerik:\"\n"
     ]
    },
    {
     "data": {
      "text/plain": [
       "\n",
       "\n",
       "|Variable |   N|   Mean|    SD| Median|    Min|    Max|     Q1|     Q3|\n",
       "|:--------|---:|------:|-----:|------:|------:|------:|------:|------:|\n",
       "|USIA     | 245|  58.80|  9.41|  60.00|  30.00|  84.00|  53.00|  64.00|\n",
       "|BB       | 245|  63.65| 10.81|  65.00|  35.00| 105.00|  57.00|  70.00|\n",
       "|TB       | 245| 160.89|  7.48| 161.00| 141.00| 178.00| 155.00| 165.00|\n",
       "|TD_S     | 245| 132.82| 24.48| 131.00|  68.00| 201.00| 117.00| 148.00|\n",
       "|TD_D     | 245|  76.78| 13.15|  75.00|  25.00| 116.00|  68.00|  85.00|\n",
       "|HR       | 245|  75.28| 16.73|  72.00|  40.00| 130.00|  63.00|  88.00|\n",
       "|RR       | 245|  22.79|  6.93|  20.00|  15.00|  87.00|  20.00|  28.00|\n",
       "|HB       | 245|  13.23|  1.76|  13.30|   8.60|  18.20|  12.10|  14.50|\n",
       "|LEUKOSIT | 245|  11.46| 13.42|   9.57|   2.92| 201.20|   7.64|  12.91|\n",
       "|PLT      | 245| 252.79| 80.28| 249.00|  22.50| 638.90| 201.90| 301.00|\n",
       "|BUN      | 245|  17.29|  8.59|  14.95|   7.01|  54.67|  11.68|  20.09|\n",
       "|SK       | 245|   1.19|  0.78|   1.00|   0.50|  10.00|   0.80|   1.30|\n",
       "|NATRIUM  | 245| 138.04|  3.76| 138.00| 123.00| 146.00| 136.00| 141.00|\n",
       "|K        | 245|   5.19|  8.07|   4.20|   2.50| 112.00|   3.80|   4.60|\n",
       "|GDS      | 245| 151.21| 78.97| 133.00|   4.00| 572.00| 106.00| 169.00|\n",
       "|GDP      | 245| 111.60| 37.42|  98.00|  70.00| 340.00|  90.00| 119.00|\n",
       "|KOL_TOT  | 245| 175.84| 51.03| 168.00|  92.00| 359.00| 143.00| 198.00|\n",
       "|TG       | 245| 150.47| 77.62| 136.00|  55.00| 721.00|  91.00| 188.00|\n",
       "|HDL      | 245|  40.04| 10.86|  39.00|  11.00|  83.00|  32.00|  46.00|\n",
       "|LDL      | 245| 117.47| 46.00| 106.00|  32.00| 261.00|  88.00| 134.00|\n",
       "|UREUM    | 245|  38.71| 20.71|  34.00|  10.00| 155.00|  24.00|  45.00|\n",
       "|HBA1C    | 245|   6.05|  1.72|   5.60|   3.70|  14.90|   5.60|   5.60|\n",
       "|GENSINI  | 245|  47.48| 39.20|  39.00|   0.00| 224.00|  17.00|  72.00|"
      ]
     },
     "metadata": {},
     "output_type": "display_data"
    },
    {
     "name": "stdout",
     "output_type": "stream",
     "text": [
      "[1] \"Ringkasan Statistik Variabel Kategorik Biner:\"\n"
     ]
    },
    {
     "data": {
      "text/plain": [
       "\n",
       "\n",
       "|Variable         |   N| Yes_n| Yes_percent| No_n| No_percent|\n",
       "|:----------------|---:|-----:|-----------:|----:|----------:|\n",
       "|JENIS_KEL        | 245|   189|       77.14|   56|      22.86|\n",
       "|RIW_DM           | 245|    63|       25.71|  182|      74.29|\n",
       "|RIW_HT           | 245|    99|       40.41|  146|      59.59|\n",
       "|RIW_DISLIPIDEMIA | 245|     3|        1.22|  242|      98.78|\n",
       "|RIW_MEROKOK      | 245|    56|       22.86|  189|      77.14|\n",
       "|RIW_KELUARGA     | 245|     1|        0.41|  244|      99.59|\n",
       "|RIW_ALKOHOL      | 245|     0|        0.00|  245|     100.00|\n",
       "|HBSAG            | 245|    15|        6.12|  230|      93.88|\n",
       "|ANTIHCV          | 245|     1|        0.41|  244|      99.59|"
      ]
     },
     "metadata": {},
     "output_type": "display_data"
    }
   ],
   "source": [
    "# 3. Analisis deskriptif dengan data yang sudah diimputasi\n",
    "# Definisikan variabel kategorik biner (yang sudah dikonversi ke 1/0)\n",
    "binary_vars <- c(\"JENIS_KEL\", \"RIW_DM\", \"RIW_HT\", \"RIW_DISLIPIDEMIA\", \n",
    "                \"RIW_MEROKOK\", \"RIW_KELUARGA\", \"RIW_ALKOHOL\",\n",
    "                \"HBSAG\", \"ANTIHCV\")\n",
    "\n",
    "# Definisikan variabel numerik murni\n",
    "numeric_vars <- c(\"USIA\", \"BB\", \"TB\", \"TD_S\", \"TD_D\", \"HR\", \"RR\",\n",
    "                 \"HB\", \"LEUKOSIT\", \"PLT\", \"BUN\", \"SK\", \"NATRIUM\", \"K\",\n",
    "                 \"GDS\", \"GDP\", \"KOL_TOT\", \"TG\", \"HDL\", \"LDL\",\n",
    "                 \"UREUM\", \"HBA1C\", \"GENSINI\")\n",
    "\n",
    "# Analisis untuk variabel numerik\n",
    "numeric_summary <- data.frame(\n",
    "    Variable = numeric_vars,\n",
    "    N = sapply(data_imputed[numeric_vars], length),\n",
    "    Mean = round(sapply(data_imputed[numeric_vars], mean), 2),\n",
    "    SD = round(sapply(data_imputed[numeric_vars], sd), 2),\n",
    "    Median = round(sapply(data_imputed[numeric_vars], median), 2),\n",
    "    Min = round(sapply(data_imputed[numeric_vars], min), 2),\n",
    "    Max = round(sapply(data_imputed[numeric_vars], max), 2),\n",
    "    Q1 = round(sapply(data_imputed[numeric_vars], function(x) quantile(x, 0.25)), 2),\n",
    "    Q3 = round(sapply(data_imputed[numeric_vars], function(x) quantile(x, 0.75)), 2)\n",
    ")\n",
    "\n",
    "# Analisis untuk variabel biner\n",
    "binary_summary <- data.frame(\n",
    "    Variable = binary_vars,\n",
    "    N = sapply(data_imputed[binary_vars], length),\n",
    "    Yes_n = sapply(data_imputed[binary_vars], sum),\n",
    "    Yes_percent = round(sapply(data_imputed[binary_vars], function(x) mean(x) * 100), 2),\n",
    "    No_n = sapply(data_imputed[binary_vars], function(x) sum(x == 0)),\n",
    "    No_percent = round(sapply(data_imputed[binary_vars], function(x) mean(x == 0) * 100), 2)\n",
    ")\n",
    "\n",
    "# Simpan hasil\n",
    "write.csv(numeric_summary, \"./out/summary_numeric_imputed.csv\",  quote = FALSE, row.names= FALSE)\n",
    "write.csv(binary_summary, \"./out/summary_binary_imputed.csv\",  quote = FALSE, row.names= FALSE)\n",
    "\n",
    "# Print hasil\n",
    "print(\"Ringkasan Statistik Variabel Numerik:\")\n",
    "kable(numeric_summary, row.names = FALSE)\n",
    "\n",
    "print(\"Ringkasan Statistik Variabel Kategorik Biner:\")\n",
    "kable(binary_summary, row.names = FALSE)"
   ]
  },
  {
   "cell_type": "markdown",
   "metadata": {},
   "source": [
    "#### Visualisasi Data"
   ]
  },
  {
   "cell_type": "code",
   "execution_count": 132,
   "metadata": {
    "vscode": {
     "languageId": "r"
    }
   },
   "outputs": [],
   "source": [
    "#4. Visualisasi Sesuai Tipe Data\n",
    "library(ggplot2)\n",
    "library(gridExtra)"
   ]
  },
  {
   "cell_type": "code",
   "execution_count": 133,
   "metadata": {
    "vscode": {
     "languageId": "r"
    }
   },
   "outputs": [
    {
     "data": {
      "text/html": [
       "<strong>pdf:</strong> 2"
      ],
      "text/latex": [
       "\\textbf{pdf:} 2"
      ],
      "text/markdown": [
       "**pdf:** 2"
      ],
      "text/plain": [
       "pdf \n",
       "  2 "
      ]
     },
     "metadata": {},
     "output_type": "display_data"
    }
   ],
   "source": [
    "# a. Visualisasi untuk variabel biner\n",
    "# Function untuk membuat pie chart\n",
    "create_piechart <- function(data, var, labels) {\n",
    "    # Hitung frekuensi dan persentase\n",
    "    count <- table(data[[var]])\n",
    "    n_total <- sum(count)\n",
    "    prop_data <- data.frame(\n",
    "        category = names(count),\n",
    "        count = as.numeric(count),\n",
    "        percentage = as.numeric(prop.table(count) * 100)\n",
    "    )\n",
    "    \n",
    "    # Buat label dengan format n(%)\n",
    "    prop_data$label <- sprintf(\"%d (%.1f%%)\", \n",
    "                             prop_data$count, \n",
    "                             prop_data$percentage)\n",
    "    \n",
    "    # Ganti nama kategori sesuai labels\n",
    "    prop_data$category <- labels[prop_data$category]\n",
    "    \n",
    "    ggplot(prop_data, aes(x = \"\", y = percentage, fill = category)) +\n",
    "        geom_bar(stat = \"identity\", width = 1) +\n",
    "        coord_polar(\"y\", start = 0) +\n",
    "        geom_text(aes(label = label),\n",
    "                 position = position_stack(vjust = 0.5)) +\n",
    "        theme_void() +\n",
    "        labs(title = var,\n",
    "             fill = \"\") +\n",
    "        theme(plot.title = element_text(hjust = 0.5, size = 12, face = \"bold\"))\n",
    "}\n",
    "\n",
    "# Definisi label untuk setiap variabel\n",
    "labels_list <- list(\n",
    "    JENIS_KEL = c(\"0\" = \"Perempuan\", \"1\" = \"Laki-laki\"),\n",
    "    RIW_DM = c(\"0\" = \"Tidak\", \"1\" = \"Ya\"),\n",
    "    RIW_HT = c(\"0\" = \"Tidak\", \"1\" = \"Ya\"),\n",
    "    RIW_DISLIPIDEMIA = c(\"0\" = \"Tidak\", \"1\" = \"Ya\"),\n",
    "    RIW_MEROKOK = c(\"0\" = \"Tidak\", \"1\" = \"Ya\"),\n",
    "    RIW_KELUARGA = c(\"0\" = \"Tidak\", \"1\" = \"Ya\"),\n",
    "    RIW_ALKOHOL = c(\"0\" = \"Tidak\", \"1\" = \"Ya\"),\n",
    "    HBSAG = c(\"0\" = \"Non-Reaktif\", \"1\" = \"Reaktif\"),\n",
    "    ANTIHCV = c(\"0\" = \"Non-Reaktif\", \"1\" = \"Reaktif\")\n",
    ")\n",
    "\n",
    "# Buat pie chart untuk setiap variabel\n",
    "piecharts <- lapply(names(labels_list), function(var) {\n",
    "    create_piechart(data_imputed, var, labels_list[[var]])\n",
    "})\n",
    "\n",
    "# Simpan plot\n",
    "png(\"./out/distribusi_biner_pie.png\", \n",
    "    width = 1500, \n",
    "    height = 1500, \n",
    "    res = 200)\n",
    "do.call(grid.arrange, c(piecharts, ncol = 3))\n",
    "dev.off()"
   ]
  },
  {
   "cell_type": "code",
   "execution_count": 134,
   "metadata": {
    "vscode": {
     "languageId": "r"
    }
   },
   "outputs": [
    {
     "name": "stderr",
     "output_type": "stream",
     "text": [
      "Warning message:\n",
      "\"\u001b[1m\u001b[22mRemoved 1 row containing missing values or values outside the scale range\n",
      "(`geom_bar()`).\"\n",
      "Warning message:\n",
      "\"\u001b[1m\u001b[22mRemoved 3 rows containing missing values or values outside the scale range\n",
      "(`geom_bar()`).\"\n",
      "Warning message:\n",
      "\"\u001b[1m\u001b[22mRemoved 3 rows containing missing values or values outside the scale range\n",
      "(`geom_bar()`).\"\n"
     ]
    },
    {
     "data": {
      "text/html": [
       "<strong>pdf:</strong> 2"
      ],
      "text/latex": [
       "\\textbf{pdf:} 2"
      ],
      "text/markdown": [
       "**pdf:** 2"
      ],
      "text/plain": [
       "pdf \n",
       "  2 "
      ]
     },
     "metadata": {},
     "output_type": "display_data"
    },
    {
     "name": "stderr",
     "output_type": "stream",
     "text": [
      "Warning message:\n",
      "\"\u001b[1m\u001b[22mRemoved 1 row containing missing values or values outside the scale range\n",
      "(`geom_bar()`).\"\n",
      "Warning message:\n",
      "\"\u001b[1m\u001b[22mRemoved 1 row containing missing values or values outside the scale range\n",
      "(`geom_bar()`).\"\n",
      "Warning message:\n",
      "\"\u001b[1m\u001b[22mRemoved 1 row containing missing values or values outside the scale range\n",
      "(`geom_bar()`).\"\n",
      "Warning message:\n",
      "\"\u001b[1m\u001b[22mRemoved 2 rows containing missing values or values outside the scale range\n",
      "(`geom_bar()`).\"\n"
     ]
    },
    {
     "data": {
      "text/html": [
       "<strong>pdf:</strong> 2"
      ],
      "text/latex": [
       "\\textbf{pdf:} 2"
      ],
      "text/markdown": [
       "**pdf:** 2"
      ],
      "text/plain": [
       "pdf \n",
       "  2 "
      ]
     },
     "metadata": {},
     "output_type": "display_data"
    },
    {
     "name": "stderr",
     "output_type": "stream",
     "text": [
      "Warning message:\n",
      "\"\u001b[1m\u001b[22mRemoved 1 row containing missing values or values outside the scale range\n",
      "(`geom_bar()`).\"\n",
      "Warning message:\n",
      "\"\u001b[1m\u001b[22mRemoved 1 row containing missing values or values outside the scale range\n",
      "(`geom_bar()`).\"\n",
      "Warning message:\n",
      "\"\u001b[1m\u001b[22mRemoved 1 row containing missing values or values outside the scale range\n",
      "(`geom_bar()`).\"\n"
     ]
    },
    {
     "data": {
      "text/html": [
       "<strong>pdf:</strong> 2"
      ],
      "text/latex": [
       "\\textbf{pdf:} 2"
      ],
      "text/markdown": [
       "**pdf:** 2"
      ],
      "text/plain": [
       "pdf \n",
       "  2 "
      ]
     },
     "metadata": {},
     "output_type": "display_data"
    },
    {
     "name": "stderr",
     "output_type": "stream",
     "text": [
      "Warning message:\n",
      "\"\u001b[1m\u001b[22mRemoved 2 rows containing missing values or values outside the scale range\n",
      "(`geom_bar()`).\"\n",
      "Warning message:\n",
      "\"\u001b[1m\u001b[22mRemoved 2 rows containing missing values or values outside the scale range\n",
      "(`geom_bar()`).\"\n",
      "Warning message:\n",
      "\"\u001b[1m\u001b[22mRemoved 1 row containing missing values or values outside the scale range\n",
      "(`geom_bar()`).\"\n",
      "Warning message:\n",
      "\"\u001b[1m\u001b[22mRemoved 1 row containing missing values or values outside the scale range\n",
      "(`geom_bar()`).\"\n"
     ]
    },
    {
     "data": {
      "text/html": [
       "<strong>pdf:</strong> 2"
      ],
      "text/latex": [
       "\\textbf{pdf:} 2"
      ],
      "text/markdown": [
       "**pdf:** 2"
      ],
      "text/plain": [
       "pdf \n",
       "  2 "
      ]
     },
     "metadata": {},
     "output_type": "display_data"
    },
    {
     "name": "stderr",
     "output_type": "stream",
     "text": [
      "Warning message:\n",
      "\"\u001b[1m\u001b[22mRemoved 1 row containing missing values or values outside the scale range\n",
      "(`geom_bar()`).\"\n",
      "Warning message:\n",
      "\"\u001b[1m\u001b[22mRemoved 2 rows containing missing values or values outside the scale range\n",
      "(`geom_bar()`).\"\n",
      "Warning message:\n",
      "\"\u001b[1m\u001b[22mRemoved 1 row containing missing values or values outside the scale range\n",
      "(`geom_bar()`).\"\n"
     ]
    },
    {
     "data": {
      "text/html": [
       "<strong>pdf:</strong> 2"
      ],
      "text/latex": [
       "\\textbf{pdf:} 2"
      ],
      "text/markdown": [
       "**pdf:** 2"
      ],
      "text/plain": [
       "pdf \n",
       "  2 "
      ]
     },
     "metadata": {},
     "output_type": "display_data"
    },
    {
     "name": "stderr",
     "output_type": "stream",
     "text": [
      "Warning message:\n",
      "\"\u001b[1m\u001b[22mRemoved 3 rows containing missing values or values outside the scale range\n",
      "(`geom_bar()`).\"\n",
      "Warning message:\n",
      "\"\u001b[1m\u001b[22mRemoved 1 row containing missing values or values outside the scale range\n",
      "(`geom_bar()`).\"\n"
     ]
    },
    {
     "data": {
      "text/html": [
       "<strong>pdf:</strong> 2"
      ],
      "text/latex": [
       "\\textbf{pdf:} 2"
      ],
      "text/markdown": [
       "**pdf:** 2"
      ],
      "text/plain": [
       "pdf \n",
       "  2 "
      ]
     },
     "metadata": {},
     "output_type": "display_data"
    },
    {
     "data": {
      "text/html": [
       "<strong>pdf:</strong> 2"
      ],
      "text/latex": [
       "\\textbf{pdf:} 2"
      ],
      "text/markdown": [
       "**pdf:** 2"
      ],
      "text/plain": [
       "pdf \n",
       "  2 "
      ]
     },
     "metadata": {},
     "output_type": "display_data"
    }
   ],
   "source": [
    "# b. Visualisasi untuk Variabel Numerik\n",
    "# Fungsi yang sudah dimodifikasi untuk menghasilkan histogram frekuensi\n",
    "create_histogram <- function(data, var) {\n",
    "    # Hitung range untuk skala y yang sesuai\n",
    "    hist_data <- hist(data[[var]], plot = FALSE)\n",
    "    max_density <- max(hist_data$density) * 1.2\n",
    "    \n",
    "    # Hitung breaks untuk sumbu y yang lebih masuk akal\n",
    "    y_breaks <- pretty(seq(0, max_density, length.out = 5))\n",
    "    \n",
    "    ggplot(data, aes_string(x = var)) +\n",
    "        geom_histogram(aes(y = ..density..), \n",
    "                      bins = 30,\n",
    "                      fill = \"#A8D5E5\",\n",
    "                      color = \"#2C3E50\",\n",
    "                      alpha = 0.7) +\n",
    "        geom_density(color = \"#E74C3C\",\n",
    "                    linewidth = 1) +\n",
    "        theme_minimal(base_size = 14) +\n",
    "        theme(\n",
    "            plot.title = element_text(size = 16, face = \"bold\", hjust = 0.5),\n",
    "            axis.title = element_text(size = 14),\n",
    "            axis.text = element_text(size = 12),\n",
    "            plot.margin = margin(t = 15, r = 15, b = 15, l = 15),\n",
    "            panel.grid.minor = element_blank()\n",
    "        ) +\n",
    "        labs(title = paste(\"Distribusi\", var),\n",
    "             x = var,\n",
    "             y = \"Frekuensi Relatif\") + # Mengubah label y menjadi lebih deskriptif\n",
    "        scale_y_continuous(\n",
    "            limits = c(0, max_density),\n",
    "            breaks = y_breaks,\n",
    "            labels = scales::percent_format(accuracy = 0.1, scale = 100), # Mengubah format ke persentase\n",
    "            expand = expansion(mult = c(0, 0.05))\n",
    "        ) +\n",
    "        scale_x_continuous(\n",
    "            labels = scales::number_format(accuracy = 1),\n",
    "            breaks = pretty(data[[var]], n = 5),\n",
    "            expand = expansion(mult = c(0.05, 0.05))\n",
    "        )\n",
    "}\n",
    "\n",
    "# Contoh variabel\n",
    "basic_vars <- c(\"USIA\", \"BB\", \"TB\")\n",
    "\n",
    "# Simpan histogram karakteristik dasar menjadi file PNG\n",
    "png(\"./out/1_distribusi_karakteristik.png\", width = 1800, height = 600, res = 150)\n",
    "grid.arrange(grobs = lapply(basic_vars, function(var) create_histogram(data_imputed, var)), \n",
    "             ncol = 3)\n",
    "dev.off()\n",
    "\n",
    "# Variabel lainnya dapat disesuaikan dengan cara yang sama:\n",
    "vital_vars <- c(\"TD_S\", \"TD_D\", \"HR\", \"RR\")\n",
    "png(\"./out/2_distribusi_tanda_vital.png\", width = 1800, height = 1000, res = 150)\n",
    "grid.arrange(grobs = lapply(vital_vars, function(var) create_histogram(data_imputed, var)), \n",
    "             ncol = 2)\n",
    "dev.off()\n",
    "\n",
    "blood_vars <- c(\"HB\", \"LEUKOSIT\", \"PLT\", \"BUN\")\n",
    "png(\"./out/3_distribusi_darah_rutin.png\", width = 1800, height = 1000, res = 150)\n",
    "grid.arrange(grobs = lapply(blood_vars, function(var) create_histogram(data_imputed, var)), \n",
    "             ncol = 2)\n",
    "dev.off()\n",
    "\n",
    "chem_vars <- c(\"SK\", \"NATRIUM\", \"K\", \"GDS\")\n",
    "png(\"./out/4_distribusi_kimia_darah.png\", width = 1800, height = 1000, res = 150)\n",
    "grid.arrange(grobs = lapply(chem_vars, function(var) create_histogram(data_imputed, var)), \n",
    "             ncol = 2)\n",
    "dev.off()\n",
    "\n",
    "lipid_vars <- c(\"KOL_TOT\", \"TG\", \"HDL\", \"LDL\")\n",
    "png(\"./out/5_distribusi_profil_lipid.png\", width = 1800, height = 1000, res = 150)\n",
    "grid.arrange(grobs = lapply(lipid_vars, function(var) create_histogram(data_imputed, var)), \n",
    "             ncol = 2)\n",
    "dev.off()\n",
    "\n",
    "other_vars <- c(\"GDP\", \"UREUM\", \"HBA1C\")\n",
    "png(\"./out/6_distribusi_lainnya.png\", width = 1800, height = 600, res = 150)\n",
    "grid.arrange(grobs = lapply(other_vars, function(var) create_histogram(data_imputed, var)), \n",
    "             ncol = 3)\n",
    "dev.off()\n",
    "\n",
    "png(\"./out/7_distribusi_gensini.png\", width = 800, height = 400, res = 150)\n",
    "print(create_histogram(data_imputed, \"GENSINI\"))\n",
    "dev.off()\n"
   ]
  },
  {
   "cell_type": "code",
   "execution_count": 135,
   "metadata": {
    "vscode": {
     "languageId": "r"
    }
   },
   "outputs": [
    {
     "data": {
      "text/html": [
       "<strong>pdf:</strong> 2"
      ],
      "text/latex": [
       "\\textbf{pdf:} 2"
      ],
      "text/markdown": [
       "**pdf:** 2"
      ],
      "text/plain": [
       "pdf \n",
       "  2 "
      ]
     },
     "metadata": {},
     "output_type": "display_data"
    },
    {
     "data": {
      "text/html": [
       "<strong>pdf:</strong> 2"
      ],
      "text/latex": [
       "\\textbf{pdf:} 2"
      ],
      "text/markdown": [
       "**pdf:** 2"
      ],
      "text/plain": [
       "pdf \n",
       "  2 "
      ]
     },
     "metadata": {},
     "output_type": "display_data"
    },
    {
     "data": {
      "text/html": [
       "<strong>pdf:</strong> 2"
      ],
      "text/latex": [
       "\\textbf{pdf:} 2"
      ],
      "text/markdown": [
       "**pdf:** 2"
      ],
      "text/plain": [
       "pdf \n",
       "  2 "
      ]
     },
     "metadata": {},
     "output_type": "display_data"
    },
    {
     "name": "stdout",
     "output_type": "stream",
     "text": [
      "[1] \"Statistik Segmen:\"\n"
     ]
    },
    {
     "data": {
      "text/plain": [
       "\n",
       "\n",
       "|Segment  | N_Involved| Percent_Involved| Mean_Stenosis| Mean_Point|\n",
       "|:--------|----------:|----------------:|-------------:|----------:|\n",
       "|LMCA     |         31|            12.65|          7.18|       2.90|\n",
       "|LAD_PROX |        151|            61.63|         45.73|      17.10|\n",
       "|LAD_MID  |         84|            34.29|         26.49|       5.82|\n",
       "|LAD_DIST |         25|            10.20|          7.82|       1.22|\n",
       "|LAD_D1   |          9|             3.67|          2.89|       0.31|\n",
       "|LAD_D2   |          0|             0.00|          0.00|       0.00|\n",
       "|LAD_API  |          0|             0.00|          0.00|       0.00|\n",
       "|LCX_PROX |         39|            15.92|         12.41|       5.04|\n",
       "|LCX_DIST |         69|            28.16|         20.28|       2.91|\n",
       "|LCX_OM   |         20|             8.16|          5.57|       0.45|\n",
       "|LCX_PL   |          3|             1.22|          0.78|       0.02|\n",
       "|RCA_PROX |        100|            40.82|         31.16|       5.56|\n",
       "|RCA_MID  |         72|            29.39|         23.26|       3.82|\n",
       "|RCA_DIST |         38|            15.51|         11.89|       2.11|\n",
       "|RCA_PD   |          4|             1.63|          1.31|       0.20|"
      ]
     },
     "metadata": {},
     "output_type": "display_data"
    },
    {
     "name": "stdout",
     "output_type": "stream",
     "text": [
      "[1] \"Statistik Keterlibatan Segmen per Pasien:\"\n"
     ]
    },
    {
     "data": {
      "text/plain": [
       "\n",
       "\n",
       "| Mean_Segments| SD_Segments| Min_Segments| Max_Segments|\n",
       "|-------------:|-----------:|------------:|------------:|\n",
       "|          2.63|        1.52|            0|           10|"
      ]
     },
     "metadata": {},
     "output_type": "display_data"
    }
   ],
   "source": [
    "# 1. Membuat data frame untuk analisis segmen\n",
    "segment_pairs <- data.frame(\n",
    "    segmen = c(\"LMCA\", \"LAD_PROX\", \"LAD_MID\", \"LAD_DIST\", \"LAD_D1\", \n",
    "               \"LAD_D2\", \"LAD_API\", \"LCX_PROX\", \"LCX_DIST\", \"LCX_OM\", \n",
    "               \"LCX_PL\", \"RCA_PROX\", \"RCA_MID\", \"RCA_DIST\", \"RCA_PD\"),\n",
    "    point = c(\"LMCA_POINT\", \"LAD_PROX_POINT\", \"LAD_MID_POINT\", \"LAD_DIST_POINT\", \n",
    "              \"LAD_D1_POINT\", \"LAD_D2_POINT\", \"LAD_API_POINT\", \"LCX_PROX_POINT\", \n",
    "              \"LCX_DIST_POINT\", \"LCX_OM_POINT\", \"LCX_PL_POINT\", \"RCA_PROX_POINT\", \n",
    "              \"RCA_MID_POINT\", \"RCA_DIST_POINT\", \"RCA_PD_POINT\")\n",
    ")\n",
    "\n",
    "# 2. Fungsi untuk menghitung summary statistik segmen\n",
    "calculate_segment_stats <- function(data, segment_pairs) {\n",
    "    results <- data.frame()\n",
    "    \n",
    "    for(i in 1:nrow(segment_pairs)) {\n",
    "        seg_name <- segment_pairs$segmen[i]\n",
    "        point_name <- segment_pairs$point[i]\n",
    "        \n",
    "        # Hitung statistik\n",
    "        n_involved <- sum(data[[point_name]] > 0, na.rm = TRUE)\n",
    "        mean_stenosis <- round(mean(data[[seg_name]], na.rm = TRUE),2)\n",
    "        mean_point <- round(mean(data[[point_name]], na.rm = TRUE),2)\n",
    "        \n",
    "        results <- rbind(results, data.frame(\n",
    "            Segment = seg_name,\n",
    "            N_Involved = n_involved,\n",
    "            Percent_Involved = round((n_involved/nrow(data))*100,2),\n",
    "            Mean_Stenosis = mean_stenosis,\n",
    "            Mean_Point = mean_point\n",
    "        ))\n",
    "    }\n",
    "    \n",
    "    return(results)\n",
    "}\n",
    "\n",
    "# 3. Hitung jumlah segmen terlibat per pasien\n",
    "calculate_involved_segments <- function(data, segment_pairs) {\n",
    "    point_cols <- segment_pairs$point\n",
    "    involved_count <- rowSums(data[point_cols] > 0, na.rm = TRUE)\n",
    "    mean_involved <- round(mean(involved_count),2)\n",
    "    sd_involved <- sd(involved_count)\n",
    "    \n",
    "    return(data.frame(\n",
    "        Mean_Segments = mean_involved,\n",
    "        SD_Segments = round(sd_involved,2),\n",
    "        Min_Segments = min(involved_count),\n",
    "        Max_Segments = max(involved_count)\n",
    "    ))\n",
    "}\n",
    "\n",
    "# 4. Lakukan analisis\n",
    "segment_stats <- calculate_segment_stats(data, segment_pairs)\n",
    "involvement_stats <- calculate_involved_segments(data, segment_pairs)\n",
    "\n",
    "# 5. Buat visualisasi\n",
    "# a. Bar plot untuk N pasien terlibat per segmen\n",
    "involvement_plot <- ggplot(segment_stats, aes(x = reorder(Segment, -N_Involved), y = N_Involved)) +\n",
    "    geom_bar(stat = \"identity\", fill = \"#A8D5E5\", color = \"#2C3E50\") +\n",
    "    theme_minimal(base_size = 14) +\n",
    "    theme(\n",
    "        axis.text.x = element_text(angle = 45, hjust = 1),\n",
    "        plot.title = element_text(size = 16, face = \"bold\", hjust = 0.5)\n",
    "    ) +\n",
    "    labs(title = \"Jumlah Pasien Terlibat per Segmen\",\n",
    "         x = \"Segmen\",\n",
    "         y = \"Jumlah Pasien\")\n",
    "\n",
    "# b. Bar plot untuk rerata stenosis per segmen\n",
    "stenosis_plot <- ggplot(segment_stats, aes(x = reorder(Segment, -Mean_Stenosis), y = Mean_Stenosis)) +\n",
    "    geom_bar(stat = \"identity\", fill = \"#A8D5E5\", color = \"#2C3E50\") +\n",
    "    theme_minimal(base_size = 14) +\n",
    "    theme(\n",
    "        axis.text.x = element_text(angle = 45, hjust = 1),\n",
    "        plot.title = element_text(size = 16, face = \"bold\", hjust = 0.5)\n",
    "    ) +\n",
    "    labs(title = \"Rerata Stenosis per Segmen\",\n",
    "         x = \"Segmen\",\n",
    "         y = \"Rerata Stenosis (%)\")\n",
    "\n",
    "# c. Bar plot untuk rerata point per segmen\n",
    "point_plot <- ggplot(segment_stats, aes(x = reorder(Segment, -Mean_Point), y = Mean_Point)) +\n",
    "    geom_bar(stat = \"identity\", fill = \"#A8D5E5\", color = \"#2C3E50\") +\n",
    "    theme_minimal(base_size = 14) +\n",
    "    theme(\n",
    "        axis.text.x = element_text(angle = 45, hjust = 1),\n",
    "        plot.title = element_text(size = 16, face = \"bold\", hjust = 0.5)\n",
    "    ) +\n",
    "    labs(title = \"Rerata Point per Segmen\",\n",
    "         x = \"Segmen\",\n",
    "         y = \"Rerata Point\")\n",
    "\n",
    "# 6. Simpan hasil\n",
    "# Simpan statistik ke CSV\n",
    "write.csv(segment_stats, \"./out/summary_segment_statistics.csv\", row.names = FALSE, quote = FALSE)\n",
    "write.csv(involvement_stats, \"./out/summary_involvement_statistics.csv\", row.names = FALSE, quote = FALSE)\n",
    "\n",
    "# Simpan plot\n",
    "png(\"./out/segment_involvement_plot.png\", width = 1800, height = 1000, res = 150)\n",
    "print(involvement_plot)\n",
    "dev.off()\n",
    "\n",
    "png(\"./out/segment_stenosis_plot.png\", width = 1800, height = 1000, res = 150)\n",
    "print(stenosis_plot)\n",
    "dev.off()\n",
    "\n",
    "png(\"./out/segment_point_plot.png\", width = 1800, height = 1000, res = 150)\n",
    "print(point_plot)\n",
    "dev.off()\n",
    "\n",
    "# Print ringkasan\n",
    "print(\"Statistik Segmen:\")\n",
    "kable(segment_stats)\n",
    "print(\"Statistik Keterlibatan Segmen per Pasien:\")\n",
    "kable(involvement_stats)"
   ]
  },
  {
   "cell_type": "markdown",
   "metadata": {},
   "source": [
    "### Analisis Bivariat"
   ]
  },
  {
   "cell_type": "code",
   "execution_count": 143,
   "metadata": {
    "vscode": {
     "languageId": "r"
    }
   },
   "outputs": [],
   "source": [
    "# Load required packages\n",
    "library(Hmisc)\n",
    "library(corrplot)\n",
    "library(tidyverse)\n"
   ]
  },
  {
   "cell_type": "code",
   "execution_count": null,
   "metadata": {
    "vscode": {
     "languageId": "r"
    }
   },
   "outputs": [],
   "source": [
    "# Fungsi untuk melakukan uji normalitas dan korelasi\n",
    "perform_correlation_analysis <- function(data, var, target = \"GENSINI\") {\n",
    "  # Skip jika variabel tidak memiliki variasi\n",
    "  if (length(unique(data[[var]])) == 1) {\n",
    "    return(data.frame(\n",
    "      Variable = var,\n",
    "      Method = NA,\n",
    "      Correlation = NA,\n",
    "      p_value = NA,\n",
    "      normality_var = NA,\n",
    "      normality_target = NA,\n",
    "      status = \"No variation\"\n",
    "    ))\n",
    "  }\n",
    "  \n",
    "  # Uji normalitas\n",
    "  norm_var <- tryCatch({\n",
    "    shapiro.test(data[[var]])$p.value\n",
    "  }, error = function(e) {\n",
    "    return(0) # Return 0 jika error (tidak normal)\n",
    "  })\n",
    "  \n",
    "  norm_target <- shapiro.test(data[[target]])$p.value\n",
    "  \n",
    "  # Pilih metode berdasarkan normalitas\n",
    "  if(norm_var > 0.05 && norm_target > 0.05) {\n",
    "    test <- cor.test(data[[var]], data[[target]], \n",
    "                     method = \"pearson\",\n",
    "                     exact = FALSE)\n",
    "    method <- \"Pearson\"\n",
    "  } else {\n",
    "    test <- cor.test(data[[var]], data[[target]], \n",
    "                     method = \"spearman\",\n",
    "                     exact = FALSE)\n",
    "    method <- \"Spearman\"\n",
    "  }\n",
    "  \n",
    "  data.frame(\n",
    "    Variable = var,\n",
    "    Method = method,\n",
    "    Correlation = round(as.numeric(test$estimate), 3),\n",
    "    p_value = round(test$p.value, 4),\n",
    "    normality_var = round(norm_var, 4),\n",
    "    normality_target = round(norm_target, 4),\n",
    "    status = \"Analyzed\"\n",
    "  )\n",
    "}"
   ]
  },
  {
   "cell_type": "code",
   "execution_count": null,
   "metadata": {
    "vscode": {
     "languageId": "r"
    }
   },
   "outputs": [],
   "source": [
    "\n",
    "# 1. Definisi variabel\n",
    "numeric_vars <- c(\"USIA\", \"BB\", \"TB\", \"TD_S\", \"TD_D\", \"HR\", \"RR\",\n",
    "                 \"HB\", \"LEUKOSIT\", \"PLT\", \"BUN\", \"SK\", \"NATRIUM\", \"K\",\n",
    "                 \"GDS\", \"GDP\", \"KOL_TOT\", \"TG\", \"HDL\", \"LDL\",\n",
    "                 \"UREUM\", \"HBA1C\")\n",
    "\n",
    "binary_vars <- c(\"JENIS_KEL\", \"RIW_DM\", \"RIW_HT\", \"RIW_DISLIPIDEMIA\", \n",
    "                \"RIW_MEROKOK\", \"HBSAG\", \"ANTIHCV\", \"RIW_ALKOHOL\" ,\"RIW_KELUARGA\") "
   ]
  },
  {
   "cell_type": "code",
   "execution_count": null,
   "metadata": {
    "vscode": {
     "languageId": "r"
    }
   },
   "outputs": [],
   "source": [
    "# 2. Analisis korelasi\n",
    "# Untuk variabel numerik\n",
    "numeric_correlations <- do.call(rbind, lapply(numeric_vars, function(var) {\n",
    "  perform_correlation_analysis(data_imputed, var)\n",
    "}))\n",
    "\n",
    "# Untuk variabel biner\n",
    "binary_correlations <- do.call(rbind, lapply(binary_vars, function(var) {\n",
    "  perform_correlation_analysis(data_imputed, var)\n",
    "}))"
   ]
  },
  {
   "cell_type": "code",
   "execution_count": null,
   "metadata": {
    "vscode": {
     "languageId": "r"
    }
   },
   "outputs": [],
   "source": [
    "# 3. Gabung dan proses hasil\n",
    "all_correlations <- rbind(numeric_correlations, binary_correlations) %>%\n",
    "  mutate(\n",
    "    abs_corr = abs(Correlation),\n",
    "    significance = case_when(\n",
    "      is.na(p_value) ~ \"\",\n",
    "      p_value < 0.001 ~ \"***\",\n",
    "      p_value < 0.01 ~ \"**\",\n",
    "      p_value < 0.05 ~ \"*\",\n",
    "      p_value < 0.25 ~ \".\",\n",
    "      TRUE ~ \"ns\"\n",
    "    ),\n",
    "    interpretation = case_when(\n",
    "      is.na(Correlation) ~ \"No variation\",\n",
    "      abs(Correlation) >= 0.7 ~ \"Very Strong\",\n",
    "      abs(Correlation) >= 0.5 ~ \"Strong\",\n",
    "      abs(Correlation) >= 0.3 ~ \"Moderate\",\n",
    "      abs(Correlation) >= 0.1 ~ \"Weak\",\n",
    "      TRUE ~ \"Very Weak\"\n",
    "    ),\n",
    "    eligible_for_model = !is.na(p_value) & p_value < 0.25\n",
    "  ) %>%\n",
    "  arrange(desc(abs_corr))\n",
    "\n",
    "# 4. Simpan hasil\n",
    "write.csv(all_correlations, \"./out/biv_all_correlations.csv\", row.names = FALSE, quote = FALSE)\n",
    "\n",
    "# 5. Visualisasi untuk variabel yang eligible\n",
    "eligible_vars <- all_correlations %>%\n",
    "  filter(eligible_for_model) %>%\n",
    "  pull(Variable)\n",
    "\n",
    "if(length(eligible_vars) > 0) {\n",
    "  # Matrix korelasi\n",
    "  correlation_matrix <- cor(data_imputed[c(eligible_vars, \"GENSINI\")], \n",
    "                          method = \"spearman\")\n",
    "  \n",
    "  png(\"./out/biv_correlation_matrix.png\", width = 2000, height = 2000, res = 200)\n",
    "  corrplot(correlation_matrix,\n",
    "           method = \"color\",\n",
    "           type = \"upper\",\n",
    "           order = \"hclust\",\n",
    "           addCoef.col = \"black\",\n",
    "           tl.col = \"black\",\n",
    "           tl.srt = 45,\n",
    "           number.cex = 0.7,\n",
    "           tl.cex = 0.7,\n",
    "           diag = FALSE)\n",
    "  dev.off()\n",
    "  \n",
    "  # Scatter plots untuk variabel numerik yang eligible\n",
    "  eligible_numeric_vars <- intersect(eligible_vars, numeric_vars)\n",
    "  \n",
    "  for(var in eligible_numeric_vars) {\n",
    "    cor_info <- all_correlations[all_correlations$Variable == var, ]\n",
    "    \n",
    "    plot <- ggplot(data_imputed, aes_string(x = var, y = \"GENSINI\")) +\n",
    "      geom_point(alpha = 0.5) +\n",
    "      geom_smooth(method = \"lm\", color = \"red\") +\n",
    "      theme_minimal() +\n",
    "      labs(\n",
    "        title = paste(\"Scatter Plot:\", var, \"vs Gensini Score\"),\n",
    "        subtitle = paste0(\n",
    "          cor_info$Method, \" correlation: \", round(cor_info$Correlation, 3),\n",
    "          \" (\", cor_info$interpretation, \")\\n\",\n",
    "          \"p-value: \", format.pval(cor_info$p_value, digits = 3),\n",
    "          cor_info$significance\n",
    "        )\n",
    "      )\n",
    "    \n",
    "    ggsave(paste0(\"./out/biv_scatter_\", var, \".png\"), \n",
    "           plot, width = 8, height = 6)\n",
    "  }\n",
    "  \n",
    "  # Box plots untuk variabel biner yang eligible\n",
    "  eligible_binary_vars <- intersect(eligible_vars, binary_vars)\n",
    "  \n",
    "  for(var in eligible_binary_vars) {\n",
    "    cor_info <- all_correlations[all_correlations$Variable == var, ]\n",
    "    \n",
    "    plot <- ggplot(data_imputed, aes_string(x = var, y = \"GENSINI\")) +\n",
    "      geom_boxplot() +\n",
    "      theme_minimal() +\n",
    "      labs(\n",
    "        title = paste(\"Box Plot:\", var, \"vs Gensini Score\"),\n",
    "        subtitle = paste0(\n",
    "          cor_info$Method, \" correlation: \", round(cor_info$Correlation, 3),\n",
    "          \" (\", cor_info$interpretation, \")\\n\",\n",
    "          \"p-value: \", format.pval(cor_info$p_value, digits = 3),\n",
    "          cor_info$significance\n",
    "        )\n",
    "      )\n",
    "    \n",
    "    ggsave(paste0(\"./out/biv_boxplot_\", var, \".png\"), \n",
    "           plot, width = 8, height = 6)\n",
    "  }\n",
    "}\n",
    "\n",
    "# Print ringkasan\n",
    "cat(\"\\nRingkasan Analisis Korelasi:\\n\")\n",
    "cat(\"============================\\n\")\n",
    "cat(\"Total variabel dianalisis:\", nrow(all_correlations), \"\\n\")\n",
    "cat(\"Variabel eligible (p < 0.25):\", sum(all_correlations$eligible_for_model), \"\\n\")\n",
    "cat(\"Variabel tanpa variasi:\", sum(all_correlations$status == \"No variation\"), \"\\n\\n\")\n",
    "\n",
    "cat(\"Variabel eligible untuk model (p < 0.25):\\n\")\n",
    "print(all_correlations %>% \n",
    "  filter(eligible_for_model) %>%\n",
    "  select(Variable, Method, Correlation, p_value, interpretation, significance))"
   ]
  },
  {
   "cell_type": "markdown",
   "metadata": {},
   "source": [
    "### Analisis VIF"
   ]
  },
  {
   "cell_type": "code",
   "execution_count": 149,
   "metadata": {
    "vscode": {
     "languageId": "r"
    }
   },
   "outputs": [],
   "source": [
    "# Load required packages\n",
    "library(car)\n",
    "library(tidyverse)"
   ]
  },
  {
   "cell_type": "code",
   "execution_count": 151,
   "metadata": {
    "vscode": {
     "languageId": "r"
    }
   },
   "outputs": [
    {
     "name": "stdout",
     "output_type": "stream",
     "text": [
      "[1] \"Hasil Analisis VIF:\"\n",
      "         Variable  VIF Multicollinearity\n",
      "KOL_TOT   KOL_TOT 5.76           Moderat\n",
      "LDL           LDL 4.40            Ringan\n",
      "RR             RR 1.86           Minimal\n",
      "TG             TG 1.86           Minimal\n",
      "UREUM       UREUM 1.65           Minimal\n",
      "HDL           HDL 1.62           Minimal\n",
      "SK             SK 1.43           Minimal\n",
      "TD_S         TD_S 1.40           Minimal\n",
      "BB             BB 1.36           Minimal\n",
      "RIW_HT     RIW_HT 1.29           Minimal\n",
      "USIA         USIA 1.22           Minimal\n",
      "GDS           GDS 1.19           Minimal\n",
      "LEUKOSIT LEUKOSIT 1.08           Minimal\n",
      "HBA1C       HBA1C 1.08           Minimal\n",
      "\n",
      "Variabel dengan multikolinearitas moderat-serius (VIF > 5):\n",
      "        Variable  VIF Multicollinearity\n",
      "KOL_TOT  KOL_TOT 5.76           Moderat\n"
     ]
    }
   ],
   "source": [
    "# Pilih variabel untuk analisis VIF (11 dari p < 0.25 + 3 pertimbangan klinis)\n",
    "selected_vars <- c(\n",
    "    # Variabel dengan p < 0.25\n",
    "    \"RR\", \"TD_S\", \"USIA\", \"TG\", \"HDL\", \"RIW_HT\",\n",
    "    \"LEUKOSIT\", \"UREUM\", \"GDS\", \"BB\", \"SK\",\n",
    "    \n",
    "    # Variabel tambahan dari pertimbangan klinis\n",
    "    \"HBA1C\", \"KOL_TOT\", \"LDL\"\n",
    ")\n",
    "\n",
    "# Buat dataset dengan variabel terpilih\n",
    "vif_data <- data_imputed[selected_vars]\n",
    "\n",
    "# Lakukan analisis VIF\n",
    "vif_results <- data.frame(\n",
    "    Variable = names(vif_data),\n",
    "    VIF = round(vif(lm(GENSINI ~ ., data = cbind(vif_data, GENSINI = data_imputed$GENSINI))), 2)\n",
    ") %>%\n",
    "    arrange(desc(VIF))\n",
    "\n",
    "# Tambahkan interpretasi\n",
    "vif_results <- vif_results %>%\n",
    "    mutate(\n",
    "        Multicollinearity = case_when(\n",
    "            VIF > 10 ~ \"Serius\",\n",
    "            VIF > 5 ~ \"Moderat\",\n",
    "            VIF > 2.5 ~ \"Ringan\",\n",
    "            TRUE ~ \"Minimal\"\n",
    "        )\n",
    "    )\n",
    "\n",
    "# Simpan hasil\n",
    "write.csv(vif_results, \"./out/vif_results_01.csv\", row.names = FALSE, quote = FALSE)\n",
    "\n",
    "# Print hasil\n",
    "print(\"Hasil Analisis VIF:\")\n",
    "print(vif_results)\n",
    "\n",
    "# Identifikasi variabel dengan VIF tinggi\n",
    "high_vif <- vif_results %>%\n",
    "    filter(VIF > 5) %>%\n",
    "    arrange(desc(VIF))\n",
    "\n",
    "if(nrow(high_vif) > 0) {\n",
    "    cat(\"\\nVariabel dengan multikolinearitas moderat-serius (VIF > 5):\\n\")\n",
    "    print(high_vif)\n",
    "}"
   ]
  },
  {
   "cell_type": "code",
   "execution_count": 203,
   "metadata": {
    "vscode": {
     "languageId": "r"
    }
   },
   "outputs": [
    {
     "name": "stdout",
     "output_type": "stream",
     "text": [
      "[1] \"Hasil Analisis VIF:\"\n"
     ]
    },
    {
     "name": "stdout",
     "output_type": "stream",
     "text": [
      "         Variable  VIF Multicollinearity\n",
      "RR             RR 1.79           Minimal\n",
      "UREUM       UREUM 1.64           Minimal\n",
      "LDL           LDL 1.62           Minimal\n",
      "HDL           HDL 1.59           Minimal\n",
      "SK             SK 1.40           Minimal\n",
      "TD_S         TD_S 1.32           Minimal\n",
      "RIW_HT     RIW_HT 1.29           Minimal\n",
      "USIA         USIA 1.22           Minimal\n",
      "BB             BB 1.19           Minimal\n",
      "TG             TG 1.15           Minimal\n",
      "GDS           GDS 1.14           Minimal\n",
      "LEUKOSIT LEUKOSIT 1.07           Minimal\n",
      "HBA1C       HBA1C 1.05           Minimal\n"
     ]
    }
   ],
   "source": [
    "# Pilih variabel untuk analisis VIF (11 dari p < 0.25 + 3 pertimbangan klinis)\n",
    "# Eksklusi KOL_TOT\n",
    "selected_vars <- c(\n",
    "    # Variabel dengan p < 0.25\n",
    "    \"RR\", \"TD_S\", \"USIA\", \"TG\", \"HDL\", \"RIW_HT\",\n",
    "    \"LEUKOSIT\", \"UREUM\", \"GDS\", \"BB\", \"SK\",\n",
    "    \n",
    "    # Variabel tambahan dari pertimbangan klinis\n",
    "    \"HBA1C\", \"LDL\"\n",
    ")\n",
    "\n",
    "# Buat dataset dengan variabel terpilih\n",
    "vif_data <- data_imputed[selected_vars]\n",
    "\n",
    "# Lakukan analisis VIF\n",
    "vif_results <- data.frame(\n",
    "    Variable = names(vif_data),\n",
    "    VIF = round(vif(lm(GENSINI ~ ., data = cbind(vif_data, GENSINI = data_imputed$GENSINI))), 2)\n",
    ") %>%\n",
    "    arrange(desc(VIF))\n",
    "\n",
    "# Tambahkan interpretasi\n",
    "vif_results <- vif_results %>%\n",
    "    mutate(\n",
    "        Multicollinearity = case_when(\n",
    "            VIF > 10 ~ \"Serius\",\n",
    "            VIF > 5 ~ \"Moderat\",\n",
    "            VIF > 2.5 ~ \"Ringan\",\n",
    "            TRUE ~ \"Minimal\"\n",
    "        )\n",
    "    )\n",
    "\n",
    "# Simpan hasil\n",
    "write.csv(vif_results, \"./out/vif_results_02.csv\", row.names = FALSE, quote = FALSE)\n",
    "\n",
    "# Print hasil\n",
    "print(\"Hasil Analisis VIF:\")\n",
    "print(vif_results)\n",
    "\n",
    "# Identifikasi variabel dengan VIF tinggi\n",
    "high_vif <- vif_results %>%\n",
    "    filter(VIF > 5) %>%\n",
    "    arrange(desc(VIF))\n",
    "\n",
    "if(nrow(high_vif) > 0) {\n",
    "    cat(\"\\nVariabel dengan multikolinearitas moderat-serius (VIF > 5):\\n\")\n",
    "    print(high_vif)\n",
    "}"
   ]
  },
  {
   "cell_type": "code",
   "execution_count": null,
   "metadata": {
    "vscode": {
     "languageId": "r"
    }
   },
   "outputs": [],
   "source": [
    "write.csv(head(data), \"./out/raw_data_summary.csv\", row.names = FALSE, quote = FALSE)"
   ]
  },
  {
   "cell_type": "markdown",
   "metadata": {
    "vscode": {
     "languageId": "r"
    }
   },
   "source": [
    "### Pengembangan Model"
   ]
  },
  {
   "cell_type": "code",
   "execution_count": 194,
   "metadata": {
    "vscode": {
     "languageId": "r"
    }
   },
   "outputs": [],
   "source": [
    "# Load required packages\n",
    "library(rms)      # untuk OLS dan restricted cubic splines\n",
    "library(mgcv)     # untuk GAM\n",
    "library(glmnet)   # untuk ridge regression\n",
    "library(splines2) # untuk fungsi basis spline tambahan\n",
    "library(ggplot2)  # untuk visualisasi\n",
    "library(gridExtra)# untuk menyusun multiple plot"
   ]
  },
  {
   "cell_type": "code",
   "execution_count": 195,
   "metadata": {
    "vscode": {
     "languageId": "r"
    }
   },
   "outputs": [
    {
     "name": "stdout",
     "output_type": "stream",
     "text": [
      "[1] \"Mengecek kelengkapan data:\"\n",
      "[1] \"Jumlah dataset imputasi: 10\"\n",
      "[1] \"Dimensi dataset pertama: 245x14\"\n",
      "[1] \"Kolom dalam dataset pertama:\"\n",
      " [1] \"RR\"       \"UREUM\"    \"LDL\"      \"HDL\"      \"SK\"       \"TD_S\"    \n",
      " [7] \"RIW_HT\"   \"USIA\"     \"BB\"       \"TG\"       \"GDS\"      \"LEUKOSIT\"\n",
      "[13] \"HBA1C\"    \"GENSINI\" \n"
     ]
    }
   ],
   "source": [
    "###### 1. PERSIAPAN DATA ######\n",
    "# Tambahkan skor Gensini, RIW_HT, dan USIA ke setiap dataset hasil imputasi\n",
    "for(i in 1:length(imputed_datasets)) {\n",
    "  imputed_datasets[[i]]$GENSINI <- data$GENSINI\n",
    "  imputed_datasets[[i]]$RIW_HT <- data$RIW_HT\n",
    "  imputed_datasets[[i]]$USIA <- data$USIA\n",
    "}\n",
    "\n",
    "# Verifikasi data sudah lengkap\n",
    "print(\"Mengecek kelengkapan data:\")\n",
    "print(paste(\"Jumlah dataset imputasi:\", length(imputed_datasets)))\n",
    "print(paste(\"Dimensi dataset pertama:\", paste(dim(imputed_datasets[[1]]), collapse=\"x\")))\n",
    "print(\"Kolom dalam dataset pertama:\")\n",
    "print(names(imputed_datasets[[1]]))"
   ]
  },
  {
   "cell_type": "markdown",
   "metadata": {
    "vscode": {
     "languageId": "r"
    }
   },
   "source": [
    "#### Model OLS"
   ]
  },
  {
   "cell_type": "code",
   "execution_count": 196,
   "metadata": {
    "vscode": {
     "languageId": "r"
    }
   },
   "outputs": [
    {
     "name": "stdout",
     "output_type": "stream",
     "text": [
      "[1] \"Model OLS ke- 1 selesai dibuat\"\n",
      "[1] \"Model OLS ke- 2 selesai dibuat\"\n",
      "[1] \"Model OLS ke- 3 selesai dibuat\"\n",
      "[1] \"Model OLS ke- 4 selesai dibuat\"\n",
      "[1] \"Model OLS ke- 5 selesai dibuat\"\n",
      "[1] \"Model OLS ke- 6 selesai dibuat\"\n",
      "[1] \"Model OLS ke- 7 selesai dibuat\"\n",
      "[1] \"Model OLS ke- 8 selesai dibuat\"\n",
      "[1] \"Model OLS ke- 9 selesai dibuat\"\n",
      "[1] \"Model OLS ke- 10 selesai dibuat\"\n"
     ]
    }
   ],
   "source": [
    "###### 2. MODEL OLS ######\n",
    "# List untuk menyimpan model OLS dari setiap imputasi\n",
    "ols_models <- list()\n",
    "\n",
    "# Fit model untuk setiap dataset hasil imputasi\n",
    "for(i in 1:length(imputed_datasets)) {\n",
    "  # Formula OLS\n",
    "  ols_models[[i]] <- ols(\n",
    "    GENSINI ~ rcs(RR,3) + rcs(UREUM,4) + rcs(LDL,3) + rcs(HDL,3) + \n",
    "              rcs(SK,4) + rcs(TD_S,3) + RIW_HT + USIA + rcs(BB,3) + \n",
    "              rcs(TG,4) + rcs(GDS,3) + rcs(LEUKOSIT,4) + HBA1C,\n",
    "    data = imputed_datasets[[i]],\n",
    "    x = TRUE,  # simpan matriks x untuk prediksi\n",
    "    y = TRUE   # simpan vektor y untuk validasi\n",
    "  )\n",
    "  print(paste(\"Model OLS ke-\", i, \"selesai dibuat\"))\n",
    "}\n"
   ]
  },
  {
   "cell_type": "code",
   "execution_count": 197,
   "metadata": {
    "vscode": {
     "languageId": "r"
    }
   },
   "outputs": [],
   "source": [
    "###### 3. FUNGSI PREDIKSI OLS ######\n",
    "predict_ols <- function(newdata, models) {\n",
    "  # Prediksi untuk setiap model\n",
    "  predictions <- sapply(models, function(model) {\n",
    "    predict(model, newdata = newdata)\n",
    "  })\n",
    "  \n",
    "  # Rata-rata prediksi dari semua model\n",
    "  rowMeans(predictions)\n",
    "}"
   ]
  },
  {
   "cell_type": "code",
   "execution_count": 198,
   "metadata": {
    "vscode": {
     "languageId": "r"
    }
   },
   "outputs": [
    {
     "name": "stdout",
     "output_type": "stream",
     "text": [
      "[1] \"Struktur imputed_datasets:\"\n",
      "[1] \"list\"\n",
      "[1] 10\n",
      "[1] \"\\nStruktur dataset pertama:\"\n",
      "[1] \"data.frame\"\n"
     ]
    },
    {
     "name": "stdout",
     "output_type": "stream",
     "text": [
      "[1] 245  14\n",
      "[1] \"\\nNama kolom dataset pertama:\"\n",
      " [1] \"RR\"       \"UREUM\"    \"LDL\"      \"HDL\"      \"SK\"       \"TD_S\"    \n",
      " [7] \"RIW_HT\"   \"USIA\"     \"BB\"       \"TG\"       \"GDS\"      \"LEUKOSIT\"\n",
      "[13] \"HBA1C\"    \"GENSINI\" \n",
      "[1] \"\\nCoba akses nilai:\"\n",
      "[1] \"Baris pertama dataset pertama:\"\n",
      "  RR UREUM LDL HDL  SK TD_S RIW_HT USIA BB TG GDS LEUKOSIT HBA1C GENSINI\n",
      "1 20    26  45  43 0.8  153      0   83 65 77 135    8.286   5.6      14\n"
     ]
    }
   ],
   "source": [
    "# 1. Periksa struktur imputed_datasets\n",
    "print(\"Struktur imputed_datasets:\")\n",
    "print(class(imputed_datasets))\n",
    "print(length(imputed_datasets))\n",
    "\n",
    "# 2. Periksa struktur dataset pertama\n",
    "print(\"\\nStruktur dataset pertama:\")\n",
    "print(class(imputed_datasets[[1]]))\n",
    "print(dim(imputed_datasets[[1]]))\n",
    "print(\"\\nNama kolom dataset pertama:\")\n",
    "print(names(imputed_datasets[[1]]))\n",
    "\n",
    "# 3. Coba akses beberapa nilai\n",
    "print(\"\\nCoba akses nilai:\")\n",
    "print(\"Baris pertama dataset pertama:\")\n",
    "print(head(imputed_datasets[[1]], 1))"
   ]
  },
  {
   "cell_type": "code",
   "execution_count": 199,
   "metadata": {
    "vscode": {
     "languageId": "r"
    }
   },
   "outputs": [
    {
     "name": "stdout",
     "output_type": "stream",
     "text": [
      "[1] \"Struktur data frame hasil konversi:\"\n",
      "[1] \"data.frame\"\n",
      "[1] 245  14\n",
      " [1] \"RR\"       \"UREUM\"    \"LDL\"      \"HDL\"      \"SK\"       \"TD_S\"    \n",
      " [7] \"RIW_HT\"   \"USIA\"     \"BB\"       \"TG\"       \"GDS\"      \"LEUKOSIT\"\n",
      "[13] \"HBA1C\"    \"GENSINI\" \n"
     ]
    }
   ],
   "source": [
    "# Konversi hasil imputasi ke format data frame\n",
    "imputed_dfs <- list()\n",
    "for(i in 1:length(imputed_datasets)) {\n",
    "    # Buat data frame dari list kolom\n",
    "    imp_df <- data.frame(\n",
    "        RR = imputed_datasets[[i]]$RR,\n",
    "        UREUM = imputed_datasets[[i]]$UREUM,\n",
    "        LDL = imputed_datasets[[i]]$LDL,\n",
    "        HDL = imputed_datasets[[i]]$HDL,\n",
    "        SK = imputed_datasets[[i]]$SK,\n",
    "        TD_S = imputed_datasets[[i]]$TD_S,\n",
    "        RIW_HT = imputed_datasets[[i]]$RIW_HT,\n",
    "        USIA = imputed_datasets[[i]]$USIA,\n",
    "        BB = imputed_datasets[[i]]$BB,\n",
    "        TG = imputed_datasets[[i]]$TG,\n",
    "        GDS = imputed_datasets[[i]]$GDS,\n",
    "        LEUKOSIT = imputed_datasets[[i]]$LEUKOSIT,\n",
    "        HBA1C = imputed_datasets[[i]]$HBA1C,\n",
    "        GENSINI = imputed_datasets[[i]]$GENSINI\n",
    "    )\n",
    "    imputed_dfs[[i]] <- imp_df\n",
    "}\n",
    "\n",
    "# Verifikasi struktur data baru\n",
    "print(\"Struktur data frame hasil konversi:\")\n",
    "print(class(imputed_dfs[[1]]))\n",
    "print(dim(imputed_dfs[[1]]))\n",
    "print(names(imputed_dfs[[1]]))\n",
    "\n",
    "# Jika verifikasi berhasil, update imputed_datasets\n",
    "imputed_datasets <- imputed_dfs"
   ]
  },
  {
   "cell_type": "code",
   "execution_count": 200,
   "metadata": {
    "vscode": {
     "languageId": "r"
    }
   },
   "outputs": [
    {
     "name": "stderr",
     "output_type": "stream",
     "text": [
      "Warning message in formula.character(object, env = baseenv()):\n",
      "\"Using formula(x) is deprecated when x is a character vector of length > 1.\n",
      "  Consider formula(paste(x, collapse = \" \")) instead.\"\n",
      "Warning message in formula.character(object, env = baseenv()):\n",
      "\"Using formula(x) is deprecated when x is a character vector of length > 1.\n",
      "  Consider formula(paste(x, collapse = \" \")) instead.\"\n",
      "Warning message in formula.character(object, env = baseenv()):\n",
      "\"Using formula(x) is deprecated when x is a character vector of length > 1.\n",
      "  Consider formula(paste(x, collapse = \" \")) instead.\"\n",
      "Warning message in formula.character(object, env = baseenv()):\n",
      "\"Using formula(x) is deprecated when x is a character vector of length > 1.\n",
      "  Consider formula(paste(x, collapse = \" \")) instead.\"\n",
      "Warning message in formula.character(object, env = baseenv()):\n",
      "\"Using formula(x) is deprecated when x is a character vector of length > 1.\n",
      "  Consider formula(paste(x, collapse = \" \")) instead.\"\n",
      "Warning message in formula.character(object, env = baseenv()):\n",
      "\"Using formula(x) is deprecated when x is a character vector of length > 1.\n",
      "  Consider formula(paste(x, collapse = \" \")) instead.\"\n",
      "Warning message in formula.character(object, env = baseenv()):\n",
      "\"Using formula(x) is deprecated when x is a character vector of length > 1.\n",
      "  Consider formula(paste(x, collapse = \" \")) instead.\"\n",
      "Warning message in formula.character(object, env = baseenv()):\n",
      "\"Using formula(x) is deprecated when x is a character vector of length > 1.\n",
      "  Consider formula(paste(x, collapse = \" \")) instead.\"\n",
      "Warning message in formula.character(object, env = baseenv()):\n",
      "\"Using formula(x) is deprecated when x is a character vector of length > 1.\n",
      "  Consider formula(paste(x, collapse = \" \")) instead.\"\n",
      "Warning message in formula.character(object, env = baseenv()):\n",
      "\"Using formula(x) is deprecated when x is a character vector of length > 1.\n",
      "  Consider formula(paste(x, collapse = \" \")) instead.\"\n"
     ]
    },
    {
     "name": "stdout",
     "output_type": "stream",
     "text": [
      "[1] \"Bootstrap iteration 1 completed\"\n"
     ]
    },
    {
     "name": "stderr",
     "output_type": "stream",
     "text": [
      "Warning message in formula.character(object, env = baseenv()):\n",
      "\"Using formula(x) is deprecated when x is a character vector of length > 1.\n",
      "  Consider formula(paste(x, collapse = \" \")) instead.\"\n",
      "Warning message in formula.character(object, env = baseenv()):\n",
      "\"Using formula(x) is deprecated when x is a character vector of length > 1.\n",
      "  Consider formula(paste(x, collapse = \" \")) instead.\"\n",
      "Warning message in formula.character(object, env = baseenv()):\n",
      "\"Using formula(x) is deprecated when x is a character vector of length > 1.\n",
      "  Consider formula(paste(x, collapse = \" \")) instead.\"\n",
      "Warning message in formula.character(object, env = baseenv()):\n",
      "\"Using formula(x) is deprecated when x is a character vector of length > 1.\n",
      "  Consider formula(paste(x, collapse = \" \")) instead.\"\n",
      "Warning message in formula.character(object, env = baseenv()):\n",
      "\"Using formula(x) is deprecated when x is a character vector of length > 1.\n",
      "  Consider formula(paste(x, collapse = \" \")) instead.\"\n",
      "Warning message in formula.character(object, env = baseenv()):\n",
      "\"Using formula(x) is deprecated when x is a character vector of length > 1.\n",
      "  Consider formula(paste(x, collapse = \" \")) instead.\"\n",
      "Warning message in formula.character(object, env = baseenv()):\n",
      "\"Using formula(x) is deprecated when x is a character vector of length > 1.\n",
      "  Consider formula(paste(x, collapse = \" \")) instead.\"\n",
      "Warning message in formula.character(object, env = baseenv()):\n",
      "\"Using formula(x) is deprecated when x is a character vector of length > 1.\n",
      "  Consider formula(paste(x, collapse = \" \")) instead.\"\n",
      "Warning message in formula.character(object, env = baseenv()):\n",
      "\"Using formula(x) is deprecated when x is a character vector of length > 1.\n",
      "  Consider formula(paste(x, collapse = \" \")) instead.\"\n",
      "Warning message in formula.character(object, env = baseenv()):\n",
      "\"Using formula(x) is deprecated when x is a character vector of length > 1.\n",
      "  Consider formula(paste(x, collapse = \" \")) instead.\"\n"
     ]
    },
    {
     "name": "stdout",
     "output_type": "stream",
     "text": [
      "[1] \"Bootstrap iteration 2 completed\"\n"
     ]
    },
    {
     "name": "stderr",
     "output_type": "stream",
     "text": [
      "Warning message in formula.character(object, env = baseenv()):\n",
      "\"Using formula(x) is deprecated when x is a character vector of length > 1.\n",
      "  Consider formula(paste(x, collapse = \" \")) instead.\"\n",
      "Warning message in formula.character(object, env = baseenv()):\n",
      "\"Using formula(x) is deprecated when x is a character vector of length > 1.\n",
      "  Consider formula(paste(x, collapse = \" \")) instead.\"\n",
      "Warning message in formula.character(object, env = baseenv()):\n",
      "\"Using formula(x) is deprecated when x is a character vector of length > 1.\n",
      "  Consider formula(paste(x, collapse = \" \")) instead.\"\n",
      "Warning message in formula.character(object, env = baseenv()):\n",
      "\"Using formula(x) is deprecated when x is a character vector of length > 1.\n",
      "  Consider formula(paste(x, collapse = \" \")) instead.\"\n",
      "Warning message in formula.character(object, env = baseenv()):\n",
      "\"Using formula(x) is deprecated when x is a character vector of length > 1.\n",
      "  Consider formula(paste(x, collapse = \" \")) instead.\"\n",
      "Warning message in formula.character(object, env = baseenv()):\n",
      "\"Using formula(x) is deprecated when x is a character vector of length > 1.\n",
      "  Consider formula(paste(x, collapse = \" \")) instead.\"\n",
      "Warning message in formula.character(object, env = baseenv()):\n",
      "\"Using formula(x) is deprecated when x is a character vector of length > 1.\n",
      "  Consider formula(paste(x, collapse = \" \")) instead.\"\n",
      "Warning message in formula.character(object, env = baseenv()):\n",
      "\"Using formula(x) is deprecated when x is a character vector of length > 1.\n",
      "  Consider formula(paste(x, collapse = \" \")) instead.\"\n",
      "Warning message in formula.character(object, env = baseenv()):\n",
      "\"Using formula(x) is deprecated when x is a character vector of length > 1.\n",
      "  Consider formula(paste(x, collapse = \" \")) instead.\"\n",
      "Warning message in formula.character(object, env = baseenv()):\n",
      "\"Using formula(x) is deprecated when x is a character vector of length > 1.\n",
      "  Consider formula(paste(x, collapse = \" \")) instead.\"\n"
     ]
    },
    {
     "name": "stdout",
     "output_type": "stream",
     "text": [
      "[1] \"Bootstrap iteration 3 completed\"\n"
     ]
    },
    {
     "name": "stderr",
     "output_type": "stream",
     "text": [
      "Warning message in formula.character(object, env = baseenv()):\n",
      "\"Using formula(x) is deprecated when x is a character vector of length > 1.\n",
      "  Consider formula(paste(x, collapse = \" \")) instead.\"\n",
      "Warning message in formula.character(object, env = baseenv()):\n",
      "\"Using formula(x) is deprecated when x is a character vector of length > 1.\n",
      "  Consider formula(paste(x, collapse = \" \")) instead.\"\n",
      "Warning message in formula.character(object, env = baseenv()):\n",
      "\"Using formula(x) is deprecated when x is a character vector of length > 1.\n",
      "  Consider formula(paste(x, collapse = \" \")) instead.\"\n",
      "Warning message in formula.character(object, env = baseenv()):\n",
      "\"Using formula(x) is deprecated when x is a character vector of length > 1.\n",
      "  Consider formula(paste(x, collapse = \" \")) instead.\"\n",
      "Warning message in formula.character(object, env = baseenv()):\n",
      "\"Using formula(x) is deprecated when x is a character vector of length > 1.\n",
      "  Consider formula(paste(x, collapse = \" \")) instead.\"\n",
      "Warning message in formula.character(object, env = baseenv()):\n",
      "\"Using formula(x) is deprecated when x is a character vector of length > 1.\n",
      "  Consider formula(paste(x, collapse = \" \")) instead.\"\n",
      "Warning message in formula.character(object, env = baseenv()):\n",
      "\"Using formula(x) is deprecated when x is a character vector of length > 1.\n",
      "  Consider formula(paste(x, collapse = \" \")) instead.\"\n",
      "Warning message in formula.character(object, env = baseenv()):\n",
      "\"Using formula(x) is deprecated when x is a character vector of length > 1.\n",
      "  Consider formula(paste(x, collapse = \" \")) instead.\"\n",
      "Warning message in formula.character(object, env = baseenv()):\n",
      "\"Using formula(x) is deprecated when x is a character vector of length > 1.\n",
      "  Consider formula(paste(x, collapse = \" \")) instead.\"\n",
      "Warning message in formula.character(object, env = baseenv()):\n",
      "\"Using formula(x) is deprecated when x is a character vector of length > 1.\n",
      "  Consider formula(paste(x, collapse = \" \")) instead.\"\n"
     ]
    },
    {
     "name": "stdout",
     "output_type": "stream",
     "text": [
      "[1] \"Bootstrap iteration 4 completed\"\n"
     ]
    },
    {
     "name": "stderr",
     "output_type": "stream",
     "text": [
      "Warning message in formula.character(object, env = baseenv()):\n",
      "\"Using formula(x) is deprecated when x is a character vector of length > 1.\n",
      "  Consider formula(paste(x, collapse = \" \")) instead.\"\n",
      "Warning message in formula.character(object, env = baseenv()):\n",
      "\"Using formula(x) is deprecated when x is a character vector of length > 1.\n",
      "  Consider formula(paste(x, collapse = \" \")) instead.\"\n",
      "Warning message in formula.character(object, env = baseenv()):\n",
      "\"Using formula(x) is deprecated when x is a character vector of length > 1.\n",
      "  Consider formula(paste(x, collapse = \" \")) instead.\"\n",
      "Warning message in formula.character(object, env = baseenv()):\n",
      "\"Using formula(x) is deprecated when x is a character vector of length > 1.\n",
      "  Consider formula(paste(x, collapse = \" \")) instead.\"\n",
      "Warning message in formula.character(object, env = baseenv()):\n",
      "\"Using formula(x) is deprecated when x is a character vector of length > 1.\n",
      "  Consider formula(paste(x, collapse = \" \")) instead.\"\n",
      "Warning message in formula.character(object, env = baseenv()):\n",
      "\"Using formula(x) is deprecated when x is a character vector of length > 1.\n",
      "  Consider formula(paste(x, collapse = \" \")) instead.\"\n",
      "Warning message in formula.character(object, env = baseenv()):\n",
      "\"Using formula(x) is deprecated when x is a character vector of length > 1.\n",
      "  Consider formula(paste(x, collapse = \" \")) instead.\"\n",
      "Warning message in formula.character(object, env = baseenv()):\n",
      "\"Using formula(x) is deprecated when x is a character vector of length > 1.\n",
      "  Consider formula(paste(x, collapse = \" \")) instead.\"\n",
      "Warning message in formula.character(object, env = baseenv()):\n",
      "\"Using formula(x) is deprecated when x is a character vector of length > 1.\n",
      "  Consider formula(paste(x, collapse = \" \")) instead.\"\n",
      "Warning message in formula.character(object, env = baseenv()):\n",
      "\"Using formula(x) is deprecated when x is a character vector of length > 1.\n",
      "  Consider formula(paste(x, collapse = \" \")) instead.\"\n"
     ]
    },
    {
     "name": "stdout",
     "output_type": "stream",
     "text": [
      "[1] \"Bootstrap iteration 5 completed\"\n"
     ]
    },
    {
     "name": "stderr",
     "output_type": "stream",
     "text": [
      "Warning message in formula.character(object, env = baseenv()):\n",
      "\"Using formula(x) is deprecated when x is a character vector of length > 1.\n",
      "  Consider formula(paste(x, collapse = \" \")) instead.\"\n",
      "Warning message in formula.character(object, env = baseenv()):\n",
      "\"Using formula(x) is deprecated when x is a character vector of length > 1.\n",
      "  Consider formula(paste(x, collapse = \" \")) instead.\"\n",
      "Warning message in formula.character(object, env = baseenv()):\n",
      "\"Using formula(x) is deprecated when x is a character vector of length > 1.\n",
      "  Consider formula(paste(x, collapse = \" \")) instead.\"\n",
      "Warning message in formula.character(object, env = baseenv()):\n",
      "\"Using formula(x) is deprecated when x is a character vector of length > 1.\n",
      "  Consider formula(paste(x, collapse = \" \")) instead.\"\n",
      "Warning message in formula.character(object, env = baseenv()):\n",
      "\"Using formula(x) is deprecated when x is a character vector of length > 1.\n",
      "  Consider formula(paste(x, collapse = \" \")) instead.\"\n",
      "Warning message in formula.character(object, env = baseenv()):\n",
      "\"Using formula(x) is deprecated when x is a character vector of length > 1.\n",
      "  Consider formula(paste(x, collapse = \" \")) instead.\"\n",
      "Warning message in formula.character(object, env = baseenv()):\n",
      "\"Using formula(x) is deprecated when x is a character vector of length > 1.\n",
      "  Consider formula(paste(x, collapse = \" \")) instead.\"\n",
      "Warning message in formula.character(object, env = baseenv()):\n",
      "\"Using formula(x) is deprecated when x is a character vector of length > 1.\n",
      "  Consider formula(paste(x, collapse = \" \")) instead.\"\n",
      "Warning message in formula.character(object, env = baseenv()):\n",
      "\"Using formula(x) is deprecated when x is a character vector of length > 1.\n",
      "  Consider formula(paste(x, collapse = \" \")) instead.\"\n",
      "Warning message in formula.character(object, env = baseenv()):\n",
      "\"Using formula(x) is deprecated when x is a character vector of length > 1.\n",
      "  Consider formula(paste(x, collapse = \" \")) instead.\"\n"
     ]
    },
    {
     "name": "stdout",
     "output_type": "stream",
     "text": [
      "[1] \"Bootstrap iteration 6 completed\"\n"
     ]
    },
    {
     "name": "stderr",
     "output_type": "stream",
     "text": [
      "Warning message in formula.character(object, env = baseenv()):\n",
      "\"Using formula(x) is deprecated when x is a character vector of length > 1.\n",
      "  Consider formula(paste(x, collapse = \" \")) instead.\"\n",
      "Warning message in formula.character(object, env = baseenv()):\n",
      "\"Using formula(x) is deprecated when x is a character vector of length > 1.\n",
      "  Consider formula(paste(x, collapse = \" \")) instead.\"\n",
      "Warning message in formula.character(object, env = baseenv()):\n",
      "\"Using formula(x) is deprecated when x is a character vector of length > 1.\n",
      "  Consider formula(paste(x, collapse = \" \")) instead.\"\n",
      "Warning message in formula.character(object, env = baseenv()):\n",
      "\"Using formula(x) is deprecated when x is a character vector of length > 1.\n",
      "  Consider formula(paste(x, collapse = \" \")) instead.\"\n",
      "Warning message in formula.character(object, env = baseenv()):\n",
      "\"Using formula(x) is deprecated when x is a character vector of length > 1.\n",
      "  Consider formula(paste(x, collapse = \" \")) instead.\"\n",
      "Warning message in formula.character(object, env = baseenv()):\n",
      "\"Using formula(x) is deprecated when x is a character vector of length > 1.\n",
      "  Consider formula(paste(x, collapse = \" \")) instead.\"\n",
      "Warning message in formula.character(object, env = baseenv()):\n",
      "\"Using formula(x) is deprecated when x is a character vector of length > 1.\n",
      "  Consider formula(paste(x, collapse = \" \")) instead.\"\n",
      "Warning message in formula.character(object, env = baseenv()):\n",
      "\"Using formula(x) is deprecated when x is a character vector of length > 1.\n",
      "  Consider formula(paste(x, collapse = \" \")) instead.\"\n",
      "Warning message in formula.character(object, env = baseenv()):\n",
      "\"Using formula(x) is deprecated when x is a character vector of length > 1.\n",
      "  Consider formula(paste(x, collapse = \" \")) instead.\"\n",
      "Warning message in formula.character(object, env = baseenv()):\n",
      "\"Using formula(x) is deprecated when x is a character vector of length > 1.\n",
      "  Consider formula(paste(x, collapse = \" \")) instead.\"\n"
     ]
    },
    {
     "name": "stdout",
     "output_type": "stream",
     "text": [
      "[1] \"Bootstrap iteration 7 completed\"\n"
     ]
    },
    {
     "name": "stderr",
     "output_type": "stream",
     "text": [
      "Warning message in formula.character(object, env = baseenv()):\n",
      "\"Using formula(x) is deprecated when x is a character vector of length > 1.\n",
      "  Consider formula(paste(x, collapse = \" \")) instead.\"\n",
      "Warning message in formula.character(object, env = baseenv()):\n",
      "\"Using formula(x) is deprecated when x is a character vector of length > 1.\n",
      "  Consider formula(paste(x, collapse = \" \")) instead.\"\n",
      "Warning message in formula.character(object, env = baseenv()):\n",
      "\"Using formula(x) is deprecated when x is a character vector of length > 1.\n",
      "  Consider formula(paste(x, collapse = \" \")) instead.\"\n",
      "Warning message in formula.character(object, env = baseenv()):\n",
      "\"Using formula(x) is deprecated when x is a character vector of length > 1.\n",
      "  Consider formula(paste(x, collapse = \" \")) instead.\"\n",
      "Warning message in formula.character(object, env = baseenv()):\n",
      "\"Using formula(x) is deprecated when x is a character vector of length > 1.\n",
      "  Consider formula(paste(x, collapse = \" \")) instead.\"\n",
      "Warning message in formula.character(object, env = baseenv()):\n",
      "\"Using formula(x) is deprecated when x is a character vector of length > 1.\n",
      "  Consider formula(paste(x, collapse = \" \")) instead.\"\n",
      "Warning message in formula.character(object, env = baseenv()):\n",
      "\"Using formula(x) is deprecated when x is a character vector of length > 1.\n",
      "  Consider formula(paste(x, collapse = \" \")) instead.\"\n",
      "Warning message in formula.character(object, env = baseenv()):\n",
      "\"Using formula(x) is deprecated when x is a character vector of length > 1.\n",
      "  Consider formula(paste(x, collapse = \" \")) instead.\"\n",
      "Warning message in formula.character(object, env = baseenv()):\n",
      "\"Using formula(x) is deprecated when x is a character vector of length > 1.\n",
      "  Consider formula(paste(x, collapse = \" \")) instead.\"\n",
      "Warning message in formula.character(object, env = baseenv()):\n",
      "\"Using formula(x) is deprecated when x is a character vector of length > 1.\n",
      "  Consider formula(paste(x, collapse = \" \")) instead.\"\n"
     ]
    },
    {
     "name": "stdout",
     "output_type": "stream",
     "text": [
      "[1] \"Bootstrap iteration 8 completed\"\n"
     ]
    },
    {
     "name": "stderr",
     "output_type": "stream",
     "text": [
      "Warning message in rcspline.eval(x, nk = nknots, inclx = TRUE, pc = pc, fractied = fractied):\n",
      "\"could not obtain 3 interior knots with default algorithm.\n",
      " Used alternate algorithm to obtain 3 knots\"\n",
      "Warning message in rcspline.eval(x, nk = nknots, inclx = TRUE, pc = pc, fractied = fractied):\n",
      "\"could not obtain 3 interior knots with default algorithm.\n",
      " Used alternate algorithm to obtain 3 knots\"\n",
      "Warning message in formula.character(object, env = baseenv()):\n",
      "\"Using formula(x) is deprecated when x is a character vector of length > 1.\n",
      "  Consider formula(paste(x, collapse = \" \")) instead.\"\n",
      "Warning message in formula.character(object, env = baseenv()):\n",
      "\"Using formula(x) is deprecated when x is a character vector of length > 1.\n",
      "  Consider formula(paste(x, collapse = \" \")) instead.\"\n",
      "Warning message in formula.character(object, env = baseenv()):\n",
      "\"Using formula(x) is deprecated when x is a character vector of length > 1.\n",
      "  Consider formula(paste(x, collapse = \" \")) instead.\"\n",
      "Warning message in formula.character(object, env = baseenv()):\n",
      "\"Using formula(x) is deprecated when x is a character vector of length > 1.\n",
      "  Consider formula(paste(x, collapse = \" \")) instead.\"\n",
      "Warning message in formula.character(object, env = baseenv()):\n",
      "\"Using formula(x) is deprecated when x is a character vector of length > 1.\n",
      "  Consider formula(paste(x, collapse = \" \")) instead.\"\n",
      "Warning message in formula.character(object, env = baseenv()):\n",
      "\"Using formula(x) is deprecated when x is a character vector of length > 1.\n",
      "  Consider formula(paste(x, collapse = \" \")) instead.\"\n",
      "Warning message in formula.character(object, env = baseenv()):\n",
      "\"Using formula(x) is deprecated when x is a character vector of length > 1.\n",
      "  Consider formula(paste(x, collapse = \" \")) instead.\"\n",
      "Warning message in formula.character(object, env = baseenv()):\n",
      "\"Using formula(x) is deprecated when x is a character vector of length > 1.\n",
      "  Consider formula(paste(x, collapse = \" \")) instead.\"\n",
      "Warning message in formula.character(object, env = baseenv()):\n",
      "\"Using formula(x) is deprecated when x is a character vector of length > 1.\n",
      "  Consider formula(paste(x, collapse = \" \")) instead.\"\n",
      "Warning message in formula.character(object, env = baseenv()):\n",
      "\"Using formula(x) is deprecated when x is a character vector of length > 1.\n",
      "  Consider formula(paste(x, collapse = \" \")) instead.\"\n"
     ]
    },
    {
     "name": "stdout",
     "output_type": "stream",
     "text": [
      "[1] \"Bootstrap iteration 9 completed\"\n"
     ]
    },
    {
     "name": "stderr",
     "output_type": "stream",
     "text": [
      "Warning message in formula.character(object, env = baseenv()):\n",
      "\"Using formula(x) is deprecated when x is a character vector of length > 1.\n",
      "  Consider formula(paste(x, collapse = \" \")) instead.\"\n",
      "Warning message in formula.character(object, env = baseenv()):\n",
      "\"Using formula(x) is deprecated when x is a character vector of length > 1.\n",
      "  Consider formula(paste(x, collapse = \" \")) instead.\"\n",
      "Warning message in formula.character(object, env = baseenv()):\n",
      "\"Using formula(x) is deprecated when x is a character vector of length > 1.\n",
      "  Consider formula(paste(x, collapse = \" \")) instead.\"\n",
      "Warning message in formula.character(object, env = baseenv()):\n",
      "\"Using formula(x) is deprecated when x is a character vector of length > 1.\n",
      "  Consider formula(paste(x, collapse = \" \")) instead.\"\n",
      "Warning message in formula.character(object, env = baseenv()):\n",
      "\"Using formula(x) is deprecated when x is a character vector of length > 1.\n",
      "  Consider formula(paste(x, collapse = \" \")) instead.\"\n",
      "Warning message in formula.character(object, env = baseenv()):\n",
      "\"Using formula(x) is deprecated when x is a character vector of length > 1.\n",
      "  Consider formula(paste(x, collapse = \" \")) instead.\"\n",
      "Warning message in formula.character(object, env = baseenv()):\n",
      "\"Using formula(x) is deprecated when x is a character vector of length > 1.\n",
      "  Consider formula(paste(x, collapse = \" \")) instead.\"\n",
      "Warning message in formula.character(object, env = baseenv()):\n",
      "\"Using formula(x) is deprecated when x is a character vector of length > 1.\n",
      "  Consider formula(paste(x, collapse = \" \")) instead.\"\n",
      "Warning message in formula.character(object, env = baseenv()):\n",
      "\"Using formula(x) is deprecated when x is a character vector of length > 1.\n",
      "  Consider formula(paste(x, collapse = \" \")) instead.\"\n",
      "Warning message in formula.character(object, env = baseenv()):\n",
      "\"Using formula(x) is deprecated when x is a character vector of length > 1.\n",
      "  Consider formula(paste(x, collapse = \" \")) instead.\"\n"
     ]
    },
    {
     "name": "stdout",
     "output_type": "stream",
     "text": [
      "[1] \"Bootstrap iteration 10 completed\"\n",
      "[1] \"\\nOptimism-corrected performance metrics:\"\n",
      "     MAE      MSE     RMSE       R2 \n",
      "  30.057 1959.583   42.817   -0.281 \n",
      "[1] \"\\nPerforma per iterasi bootstrap:\"\n",
      "        MAE     MSE  RMSE    R2\n",
      " [1,] 31.27 2171.19 46.60 -0.42\n",
      " [2,] 30.83 1552.16 39.40 -0.01\n",
      " [3,] 34.14 5722.59 75.65 -2.74\n",
      " [4,] 28.61 1421.36 37.70  0.07\n",
      " [5,] 28.85 1415.91 37.63  0.07\n",
      " [6,] 28.84 1448.93 38.06  0.05\n",
      " [7,] 29.01 1397.17 37.38  0.09\n",
      " [8,] 30.24 1497.00 38.69  0.02\n",
      " [9,] 29.52 1440.09 37.95  0.06\n",
      "[10,] 29.26 1529.43 39.11  0.00\n"
     ]
    }
   ],
   "source": [
    "###### 4. VALIDASI BOOTSTRAP UNTUK OLS ######\n",
    "n_bootstrap <- 10\n",
    "bootstrap_performance_ols <- matrix(NA, n_bootstrap, 4)  # Tambah 1 kolom untuk RMSE\n",
    "colnames(bootstrap_performance_ols) <- c(\"MAE\", \"MSE\", \"RMSE\", \"R2\")\n",
    "\n",
    "for(b in 1:n_bootstrap) {\n",
    "  # Bootstrap sample\n",
    "  boot_index <- sample(nrow(imputed_datasets[[1]]), replace = TRUE)\n",
    "  \n",
    "  # Fit model pada bootstrap sample dengan as.formula()\n",
    "  boot_models <- lapply(imputed_datasets, function(data) {\n",
    "    boot_data <- data[boot_index, ]\n",
    "    \n",
    "    # Gunakan as.formula() untuk menghindari warning\n",
    "    formula_ols <- as.formula(\n",
    "      \"GENSINI ~ rcs(RR,3) + rcs(UREUM,4) + rcs(LDL,3) + rcs(HDL,3) + \n",
    "                rcs(SK,4) + rcs(TD_S,3) + RIW_HT + USIA + rcs(BB,3) + \n",
    "                rcs(TG,4) + rcs(GDS,3) + rcs(LEUKOSIT,4) + HBA1C\"\n",
    "    )\n",
    "    \n",
    "    ols(formula_ols, data = boot_data)\n",
    "  })\n",
    "  \n",
    "  # Prediksi pada data original\n",
    "  pred <- predict_ols(imputed_datasets[[1]], boot_models)\n",
    "  obs <- imputed_datasets[[1]]$GENSINI\n",
    "  \n",
    "  # Hitung metrik performa\n",
    "  bootstrap_performance_ols[b, \"MAE\"] <- round(mean(abs(pred - obs)),2)\n",
    "  bootstrap_performance_ols[b, \"MSE\"] <- round(mean((pred - obs)^2),2)\n",
    "  bootstrap_performance_ols[b, \"RMSE\"] <- round(sqrt(bootstrap_performance_ols[b, \"MSE\"]),2)\n",
    "  bootstrap_performance_ols[b, \"R2\"] <- round(1 - sum((obs - pred)^2) / sum((obs - mean(obs))^2),2)\n",
    "  \n",
    "  print(paste(\"Bootstrap iteration\", b, \"completed\"))\n",
    "}\n",
    "\n",
    "# Optimism-corrected performance metrics\n",
    "optimism_ols <- colMeans(bootstrap_performance_ols)\n",
    "print(\"\\nOptimism-corrected performance metrics:\")\n",
    "print(optimism_ols)\n",
    "\n",
    "# Print detail performa per iterasi dengan format yang lebih rapi\n",
    "print(\"\\nPerforma per iterasi bootstrap:\")\n",
    "print(round(bootstrap_performance_ols, 3))\n",
    "\n",
    "# Simpan hasil performa OLS\n",
    "write.csv(bootstrap_performance_ols, \"./out/performance__ols_bootstrap_performance.csv\", \n",
    "          row.names = FALSE, quote = FALSE)\n",
    "write.csv(t(as.matrix(optimism_ols)), \"./out/performance__ols_optimism_corrected.csv\", \n",
    "          row.names = FALSE, quote = FALSE)"
   ]
  },
  {
   "cell_type": "markdown",
   "metadata": {},
   "source": [
    "#### Model GAM"
   ]
  },
  {
   "cell_type": "code",
   "execution_count": 208,
   "metadata": {
    "vscode": {
     "languageId": "r"
    }
   },
   "outputs": [
    {
     "name": "stdout",
     "output_type": "stream",
     "text": [
      "[1] \"Model GAM ke- 1 selesai dibuat\"\n",
      "[1] \"Model GAM ke- 2 selesai dibuat\"\n",
      "[1] \"Model GAM ke- 3 selesai dibuat\"\n",
      "[1] \"Model GAM ke- 4 selesai dibuat\"\n",
      "[1] \"Model GAM ke- 5 selesai dibuat\"\n",
      "[1] \"Model GAM ke- 6 selesai dibuat\"\n",
      "[1] \"Model GAM ke- 7 selesai dibuat\"\n",
      "[1] \"Model GAM ke- 8 selesai dibuat\"\n",
      "[1] \"Model GAM ke- 9 selesai dibuat\"\n",
      "[1] \"Model GAM ke- 10 selesai dibuat\"\n"
     ]
    }
   ],
   "source": [
    "###### 5. MODEL GAM ######\n",
    "# List untuk menyimpan model GAM dari setiap imputasi\n",
    "gam_models <- list()\n",
    "\n",
    "# Fit model untuk setiap dataset hasil imputasi\n",
    "for(i in 1:length(imputed_datasets)) {\n",
    "  # Formula GAM dengan penalized smoothing splines\n",
    "  formula_gam <- as.formula(\n",
    "    \"GENSINI ~ s(RR) + s(UREUM, k=4) + s(LDL) + s(HDL) + \n",
    "              s(SK, k=4) + s(TD_S) + RIW_HT + USIA + s(BB) + \n",
    "              s(TG, k=4) + s(GDS) + s(LEUKOSIT, k=4) + s(HBA1C)\"\n",
    "  )\n",
    "  \n",
    "  gam_models[[i]] <- gam(formula_gam, data = imputed_datasets[[i]])\n",
    "  print(paste(\"Model GAM ke-\", i, \"selesai dibuat\"))\n",
    "}\n"
   ]
  },
  {
   "cell_type": "code",
   "execution_count": 209,
   "metadata": {
    "vscode": {
     "languageId": "r"
    }
   },
   "outputs": [],
   "source": [
    "###### 6. FUNGSI PREDIKSI GAM ######\n",
    "predict_gam <- function(newdata, models) {\n",
    "  # Prediksi untuk setiap model\n",
    "  predictions <- sapply(models, function(model) {\n",
    "    predict(model, newdata = newdata)\n",
    "  })\n",
    "  \n",
    "  # Rata-rata prediksi dari semua model\n",
    "  rowMeans(predictions)\n",
    "}"
   ]
  },
  {
   "cell_type": "code",
   "execution_count": 210,
   "metadata": {
    "vscode": {
     "languageId": "r"
    }
   },
   "outputs": [
    {
     "name": "stdout",
     "output_type": "stream",
     "text": [
      "[1] \"Bootstrap iteration 1 completed\"\n",
      "[1] \"Bootstrap iteration 2 completed\"\n",
      "[1] \"Bootstrap iteration 3 completed\"\n",
      "[1] \"Bootstrap iteration 4 completed\"\n",
      "[1] \"Bootstrap iteration 5 completed\"\n",
      "[1] \"Bootstrap iteration 6 completed\"\n",
      "[1] \"Bootstrap iteration 7 completed\"\n",
      "[1] \"Bootstrap iteration 8 completed\"\n",
      "[1] \"Bootstrap iteration 9 completed\"\n",
      "[1] \"Bootstrap iteration 10 completed\"\n",
      "[1] \"\\nOptimism-corrected performance metrics GAM:\"\n",
      "     MAE      MSE     RMSE       R2 \n",
      "  29.049 1591.300   39.800   -0.100 \n",
      "[1] \"\\nPerforma per iterasi bootstrap GAM:\"\n",
      "        MAE  MSE RMSE R2\n",
      " [1,] 29.12 1831   43  0\n",
      " [2,] 31.30 2301   48 -1\n",
      " [3,] 28.38 1412   38  0\n",
      " [4,] 31.60 1931   44  0\n",
      " [5,] 28.21 1387   37  0\n",
      " [6,] 29.30 1502   39  0\n",
      " [7,] 27.94 1410   38  0\n",
      " [8,] 27.89 1295   36  0\n",
      " [9,] 27.81 1447   38  0\n",
      "[10,] 28.94 1397   37  0\n"
     ]
    }
   ],
   "source": [
    "###### 7. VALIDASI BOOTSTRAP UNTUK GAM ######\n",
    "n_bootstrap <- 10\n",
    "bootstrap_performance_gam <- matrix(NA, n_bootstrap, 4)\n",
    "colnames(bootstrap_performance_gam) <- c(\"MAE\", \"MSE\", \"RMSE\", \"R2\")\n",
    "\n",
    "for(b in 1:n_bootstrap) {\n",
    "  # Bootstrap sample\n",
    "  boot_index <- sample(nrow(imputed_datasets[[1]]), replace = TRUE)\n",
    "  \n",
    "  # Fit model pada bootstrap sample\n",
    "  boot_models <- lapply(imputed_datasets, function(data) {\n",
    "    boot_data <- data[boot_index, ]\n",
    "    gam(formula_gam, data = boot_data)\n",
    "  })\n",
    "  \n",
    "  # Prediksi pada data original\n",
    "  pred <- predict_gam(imputed_datasets[[1]], boot_models)\n",
    "  obs <- imputed_datasets[[1]]$GENSINI\n",
    "  \n",
    "  # Hitung metrik performa\n",
    "  bootstrap_performance_gam[b, \"MAE\"] <- round(mean(abs(pred - obs)),2)\n",
    "  bootstrap_performance_gam[b, \"MSE\"] <- round(mean((pred - obs)^2))\n",
    "  bootstrap_performance_gam[b, \"RMSE\"] <- round(sqrt(bootstrap_performance_gam[b, \"MSE\"]))\n",
    "  bootstrap_performance_gam[b, \"R2\"] <- round(1 - sum((obs - pred)^2) / sum((obs - mean(obs))^2))\n",
    "  \n",
    "  print(paste(\"Bootstrap iteration\", b, \"completed\"))\n",
    "}\n",
    "\n",
    "# Optimism-corrected performance metrics\n",
    "optimism_gam <- colMeans(bootstrap_performance_gam)\n",
    "print(\"\\nOptimism-corrected performance metrics GAM:\")\n",
    "print(optimism_gam)\n",
    "\n",
    "# Print detail performa per iterasi\n",
    "print(\"\\nPerforma per iterasi bootstrap GAM:\")\n",
    "print(round(bootstrap_performance_gam, 3))\n",
    "\n",
    "# Simpan hasil performa GAM\n",
    "write.csv(bootstrap_performance_gam, \"./out/performance__gam_bootstrap_performance.csv\", \n",
    "          row.names = FALSE, quote = FALSE)\n",
    "write.csv(t(as.matrix(optimism_gam)), \"./out/performance__gam_optimism_corrected.csv\", \n",
    "          row.names = FALSE, quote = FALSE)"
   ]
  },
  {
   "cell_type": "markdown",
   "metadata": {
    "vscode": {
     "languageId": "r"
    }
   },
   "source": [
    "#### Model RIDGE"
   ]
  },
  {
   "cell_type": "code",
   "execution_count": 211,
   "metadata": {
    "vscode": {
     "languageId": "r"
    }
   },
   "outputs": [],
   "source": [
    "###### 8. MODEL RIDGE REGRESSION ######\n",
    "library(glmnet)\n"
   ]
  },
  {
   "cell_type": "code",
   "execution_count": 212,
   "metadata": {
    "vscode": {
     "languageId": "r"
    }
   },
   "outputs": [],
   "source": [
    "# Fungsi untuk membuat matriks design dengan splines\n",
    "create_design_matrix <- function(data) {\n",
    "  # Inisialisasi list untuk menyimpan basis splines\n",
    "  spline_bases <- list()\n",
    "  \n",
    "  # Buat basis splines untuk setiap variabel\n",
    "  spline_bases$RR <- rcs(data$RR, 3)\n",
    "  spline_bases$UREUM <- rcs(data$UREUM, 4)\n",
    "  spline_bases$LDL <- rcs(data$LDL, 3)\n",
    "  spline_bases$HDL <- rcs(data$HDL, 3)\n",
    "  spline_bases$SK <- rcs(data$SK, 4)\n",
    "  spline_bases$TD_S <- rcs(data$TD_S, 3)\n",
    "  spline_bases$BB <- rcs(data$BB, 3)\n",
    "  spline_bases$TG <- rcs(data$TG, 4)\n",
    "  spline_bases$GDS <- rcs(data$GDS, 3)\n",
    "  spline_bases$LEUKOSIT <- rcs(data$LEUKOSIT, 4)\n",
    "  \n",
    "  # Gabungkan dalam satu matriks\n",
    "  X <- do.call(cbind, c(\n",
    "    lapply(spline_bases, as.matrix),\n",
    "    list(\n",
    "      RIW_HT = data$RIW_HT,\n",
    "      USIA = data$USIA,\n",
    "      HBA1C = data$HBA1C\n",
    "    )\n",
    "  ))\n",
    "  \n",
    "  return(as.matrix(X))\n",
    "}"
   ]
  },
  {
   "cell_type": "code",
   "execution_count": 213,
   "metadata": {
    "vscode": {
     "languageId": "r"
    }
   },
   "outputs": [
    {
     "name": "stdout",
     "output_type": "stream",
     "text": [
      "[1] \"Model Ridge ke- 1 selesai dibuat\"\n",
      "[1] \"Model Ridge ke- 2 selesai dibuat\"\n",
      "[1] \"Model Ridge ke- 3 selesai dibuat\"\n",
      "[1] \"Model Ridge ke- 4 selesai dibuat\"\n",
      "[1] \"Model Ridge ke- 5 selesai dibuat\"\n",
      "[1] \"Model Ridge ke- 6 selesai dibuat\"\n",
      "[1] \"Model Ridge ke- 7 selesai dibuat\"\n",
      "[1] \"Model Ridge ke- 8 selesai dibuat\"\n",
      "[1] \"Model Ridge ke- 9 selesai dibuat\"\n",
      "[1] \"Model Ridge ke- 10 selesai dibuat\"\n"
     ]
    }
   ],
   "source": [
    "# List untuk menyimpan model ridge\n",
    "ridge_models <- list()\n",
    "\n",
    "# Grid nilai lambda untuk CV\n",
    "lambdas <- 10^seq(2, -10, by = -0.5)\n",
    "\n",
    "# Fit model untuk setiap dataset hasil imputasi\n",
    "for(i in 1:length(imputed_datasets)) {\n",
    "  # Buat matriks design\n",
    "  X <- create_design_matrix(imputed_datasets[[i]])\n",
    "  y <- imputed_datasets[[i]]$GENSINI\n",
    "  \n",
    "  # Cross-validation untuk memilih lambda optimal\n",
    "  cv_ridge <- cv.glmnet(X, y, alpha = 0, lambda = lambdas)\n",
    "  \n",
    "  # Fit model dengan lambda optimal\n",
    "  ridge_models[[i]] <- glmnet(X, y, alpha = 0, lambda = cv_ridge$lambda.min)\n",
    "  \n",
    "  print(paste(\"Model Ridge ke-\", i, \"selesai dibuat\"))\n",
    "}"
   ]
  },
  {
   "cell_type": "code",
   "execution_count": 215,
   "metadata": {
    "vscode": {
     "languageId": "r"
    }
   },
   "outputs": [],
   "source": [
    "###### 9. FUNGSI PREDIKSI RIDGE ######\n",
    "predict_ridge <- function(newdata, models) {\n",
    "  # Buat design matrix untuk data baru\n",
    "  X_new <- create_design_matrix(newdata)\n",
    "  \n",
    "  # Prediksi untuk setiap model\n",
    "  predictions <- sapply(models, function(model) {\n",
    "    predict(model, newx = X_new)\n",
    "  })\n",
    "  \n",
    "  # Rata-rata prediksi dari semua model\n",
    "  rowMeans(predictions)\n",
    "}"
   ]
  },
  {
   "cell_type": "code",
   "execution_count": 217,
   "metadata": {
    "vscode": {
     "languageId": "r"
    }
   },
   "outputs": [
    {
     "name": "stdout",
     "output_type": "stream",
     "text": [
      "[1] \"Bootstrap iteration 1 completed\"\n",
      "[1] \"Bootstrap iteration 2 completed\"\n",
      "[1] \"Bootstrap iteration 3 completed\"\n",
      "[1] \"Bootstrap iteration 4 completed\"\n",
      "[1] \"Bootstrap iteration 5 completed\"\n",
      "[1] \"Bootstrap iteration 6 completed\"\n",
      "[1] \"Bootstrap iteration 7 completed\"\n",
      "[1] \"Bootstrap iteration 8 completed\"\n",
      "[1] \"Bootstrap iteration 9 completed\"\n",
      "[1] \"Bootstrap iteration 10 completed\"\n",
      "[1] \"\\nOptimism-corrected performance metrics Ridge:\"\n",
      "     MAE      MSE     RMSE       R2 \n",
      "  31.086 1627.900   40.005   -0.063 \n",
      "[1] \"\\nPerforma per iterasi bootstrap Ridge:\"\n",
      "        MAE  MSE  RMSE    R2\n",
      " [1,] 31.82 1581 39.76 -0.03\n",
      " [2,] 29.77 1417 37.64  0.07\n",
      " [3,] 29.35 1395 37.35  0.09\n",
      " [4,] 30.26 1461 38.22  0.05\n",
      " [5,] 28.98 1416 37.63  0.07\n",
      " [6,] 30.62 1468 38.31  0.04\n",
      " [7,] 30.07 1425 37.75  0.07\n",
      " [8,] 38.89 3083 55.52 -1.01\n",
      " [9,] 29.60 1457 38.17  0.05\n",
      "[10,] 31.50 1576 39.70 -0.03\n"
     ]
    }
   ],
   "source": [
    "###### 10. VALIDASI BOOTSTRAP UNTUK RIDGE ######\n",
    "n_bootstrap <- 10\n",
    "bootstrap_performance_ridge <- matrix(NA, n_bootstrap, 4)\n",
    "colnames(bootstrap_performance_ridge) <- c(\"MAE\", \"MSE\", \"RMSE\", \"R2\")\n",
    "\n",
    "for(b in 1:n_bootstrap) {\n",
    "  # Bootstrap sample\n",
    "  boot_index <- sample(nrow(imputed_datasets[[1]]), replace = TRUE)\n",
    "  \n",
    "  # Fit model pada bootstrap sample\n",
    "  boot_models <- lapply(imputed_datasets, function(data) {\n",
    "    boot_data <- data[boot_index, ]\n",
    "    X <- create_design_matrix(boot_data)\n",
    "    y <- boot_data$GENSINI\n",
    "    \n",
    "    # Cross-validation untuk lambda optimal\n",
    "    cv_ridge <- cv.glmnet(X, y, alpha = 0, lambda = lambdas)\n",
    "    \n",
    "    # Fit model\n",
    "    glmnet(X, y, alpha = 0, lambda = cv_ridge$lambda.min)\n",
    "  })\n",
    "  \n",
    "  # Prediksi pada data original\n",
    "  pred <- predict_ridge(imputed_datasets[[1]], boot_models)\n",
    "  obs <- imputed_datasets[[1]]$GENSINI\n",
    "  \n",
    "  # Hitung metrik performa\n",
    "  bootstrap_performance_ridge[b, \"MAE\"] <- round(mean(abs(pred - obs)),2)\n",
    "  bootstrap_performance_ridge[b, \"MSE\"] <- round(mean((pred - obs)^2))\n",
    "  bootstrap_performance_ridge[b, \"RMSE\"] <- round(sqrt(bootstrap_performance_ridge[b, \"MSE\"]),2)\n",
    "  bootstrap_performance_ridge[b, \"R2\"] <- 1 - round(sum((obs - pred)^2) / sum((obs - mean(obs))^2),2)\n",
    "  \n",
    "  print(paste(\"Bootstrap iteration\", b, \"completed\"))\n",
    "}\n",
    "\n",
    "# Optimism-corrected performance metrics\n",
    "optimism_ridge <- colMeans(bootstrap_performance_ridge)\n",
    "print(\"\\nOptimism-corrected performance metrics Ridge:\")\n",
    "print(optimism_ridge)\n",
    "\n",
    "# Print detail performa per iterasi\n",
    "print(\"\\nPerforma per iterasi bootstrap Ridge:\")\n",
    "print(round(bootstrap_performance_ridge, 3))\n",
    "\n",
    "# Simpan hasil performa Ridge\n",
    "write.csv(bootstrap_performance_ridge, \"./out/performance__ridge_bootstrap_performance.csv\", \n",
    "          row.names = FALSE, quote = FALSE)\n",
    "write.csv(t(as.matrix(optimism_ridge)), \"./out/performance__ridge_optimism_corrected.csv\", \n",
    "          row.names = FALSE, quote = FALSE)"
   ]
  },
  {
   "cell_type": "markdown",
   "metadata": {},
   "source": [
    "#### Perbandingan Performa Model"
   ]
  },
  {
   "cell_type": "code",
   "execution_count": 218,
   "metadata": {
    "vscode": {
     "languageId": "r"
    }
   },
   "outputs": [],
   "source": [
    "# Gabungkan semua hasil performa\n",
    "all_performance <- data.frame(\n",
    "  Model = rep(c(\"OLS\", \"GAM\", \"Ridge\"), each = n_bootstrap),\n",
    "  MAE = c(bootstrap_performance_ols[,\"MAE\"], \n",
    "          bootstrap_performance_gam[,\"MAE\"], \n",
    "          bootstrap_performance_ridge[,\"MAE\"]),\n",
    "  MSE = c(bootstrap_performance_ols[,\"MSE\"], \n",
    "          bootstrap_performance_gam[,\"MSE\"], \n",
    "          bootstrap_performance_ridge[,\"MSE\"]),\n",
    "  RMSE = c(bootstrap_performance_ols[,\"RMSE\"], \n",
    "           bootstrap_performance_gam[,\"RMSE\"], \n",
    "           bootstrap_performance_ridge[,\"RMSE\"]),\n",
    "  R2 = c(bootstrap_performance_ols[,\"R2\"], \n",
    "         bootstrap_performance_gam[,\"R2\"], \n",
    "         bootstrap_performance_ridge[,\"R2\"])\n",
    ")\n"
   ]
  },
  {
   "cell_type": "code",
   "execution_count": 220,
   "metadata": {
    "vscode": {
     "languageId": "r"
    }
   },
   "outputs": [],
   "source": [
    "# Buat boxplot untuk setiap metrik\n",
    "library(ggplot2)\n",
    "library(gridExtra)\n",
    "\n",
    "p1 <- ggplot(all_performance, aes(x = Model, y = MAE, fill = Model)) +\n",
    "  geom_boxplot() +\n",
    "  theme_minimal() +\n",
    "  labs(title = \"MAE Across Models\", y = \"Mean Absolute Error\")\n",
    "\n",
    "p2 <- ggplot(all_performance, aes(x = Model, y = RMSE, fill = Model)) +\n",
    "  geom_boxplot() +\n",
    "  theme_minimal() +\n",
    "  labs(title = \"RMSE Across Models\", y = \"Root Mean Square Error\")\n",
    "\n",
    "p3 <- ggplot(all_performance, aes(x = Model, y = R2, fill = Model)) +\n",
    "  geom_boxplot() +\n",
    "  theme_minimal() +\n",
    "  labs(title = \"R² Across Models\", y = \"R-squared\")\n",
    "\n",
    "# Simpan plot\n",
    "ggsave(\"./out/performance__model_comparison_plots.png\", \n",
    "       arrangeGrob(p1, p2, p3, ncol = 3),\n",
    "       width = 15, height = 5)"
   ]
  },
  {
   "cell_type": "markdown",
   "metadata": {},
   "source": [
    "### Kalibrasi Model"
   ]
  },
  {
   "cell_type": "code",
   "execution_count": 221,
   "metadata": {
    "vscode": {
     "languageId": "r"
    }
   },
   "outputs": [],
   "source": [
    "###### 11. KALIBRASI MODEL ######\n",
    "# Fungsi untuk menghitung kalibrasi\n",
    "calculate_calibration <- function(observed, predicted) {\n",
    "  # Fit regresi linear observed vs predicted\n",
    "  cal_model <- lm(observed ~ predicted)\n",
    "  \n",
    "  # Hitung statistik kalibrasi\n",
    "  calibration <- list(\n",
    "    intercept = coef(cal_model)[1],\n",
    "    slope = coef(cal_model)[2],\n",
    "    r_squared = summary(cal_model)$r.squared,\n",
    "    calibration_in_large = mean(observed) - mean(predicted)\n",
    "  )\n",
    "  \n",
    "  return(calibration)\n",
    "}\n"
   ]
  },
  {
   "cell_type": "code",
   "execution_count": 222,
   "metadata": {
    "vscode": {
     "languageId": "r"
    }
   },
   "outputs": [
    {
     "name": "stderr",
     "output_type": "stream",
     "text": [
      "Warning message in formula.character(object, env = baseenv()):\n",
      "\"Using formula(x) is deprecated when x is a character vector of length > 1.\n",
      "  Consider formula(paste(x, collapse = \" \")) instead.\"\n",
      "Warning message in formula.character(object, env = baseenv()):\n",
      "\"Using formula(x) is deprecated when x is a character vector of length > 1.\n",
      "  Consider formula(paste(x, collapse = \" \")) instead.\"\n",
      "Warning message in formula.character(object, env = baseenv()):\n",
      "\"Using formula(x) is deprecated when x is a character vector of length > 1.\n",
      "  Consider formula(paste(x, collapse = \" \")) instead.\"\n",
      "Warning message in formula.character(object, env = baseenv()):\n",
      "\"Using formula(x) is deprecated when x is a character vector of length > 1.\n",
      "  Consider formula(paste(x, collapse = \" \")) instead.\"\n",
      "Warning message in formula.character(object, env = baseenv()):\n",
      "\"Using formula(x) is deprecated when x is a character vector of length > 1.\n",
      "  Consider formula(paste(x, collapse = \" \")) instead.\"\n",
      "Warning message in formula.character(object, env = baseenv()):\n",
      "\"Using formula(x) is deprecated when x is a character vector of length > 1.\n",
      "  Consider formula(paste(x, collapse = \" \")) instead.\"\n",
      "Warning message in formula.character(object, env = baseenv()):\n",
      "\"Using formula(x) is deprecated when x is a character vector of length > 1.\n",
      "  Consider formula(paste(x, collapse = \" \")) instead.\"\n",
      "Warning message in formula.character(object, env = baseenv()):\n",
      "\"Using formula(x) is deprecated when x is a character vector of length > 1.\n",
      "  Consider formula(paste(x, collapse = \" \")) instead.\"\n",
      "Warning message in formula.character(object, env = baseenv()):\n",
      "\"Using formula(x) is deprecated when x is a character vector of length > 1.\n",
      "  Consider formula(paste(x, collapse = \" \")) instead.\"\n",
      "Warning message in formula.character(object, env = baseenv()):\n",
      "\"Using formula(x) is deprecated when x is a character vector of length > 1.\n",
      "  Consider formula(paste(x, collapse = \" \")) instead.\"\n",
      "\u001b[1m\u001b[22m`geom_smooth()` using formula = 'y ~ x'\n",
      "\u001b[1m\u001b[22m`geom_smooth()` using formula = 'y ~ x'\n",
      "\u001b[1m\u001b[22m`geom_smooth()` using formula = 'y ~ x'\n"
     ]
    },
    {
     "name": "stdout",
     "output_type": "stream",
     "text": [
      "[1] \"Hasil Kalibrasi:\"\n",
      "                  Model  Intercept    Slope R_squared Calibration_in_large\n",
      "OLS.(Intercept)     OLS  -1.132307 1.025630 0.1487694           0.08250277\n",
      "GAM.(Intercept)     GAM  -9.082098 1.191949 0.1622756           0.02649749\n",
      "Ridge.(Intercept) Ridge -16.441178 1.388715 0.1053652           1.45088984\n"
     ]
    }
   ],
   "source": [
    "# Hitung kalibrasi untuk setiap model\n",
    "calibration_results <- list()\n",
    "\n",
    "# OLS\n",
    "pred_ols <- predict_ols(imputed_datasets[[1]], ols_models)\n",
    "calibration_results$OLS <- calculate_calibration(imputed_datasets[[1]]$GENSINI, pred_ols)\n",
    "\n",
    "# GAM\n",
    "pred_gam <- predict_gam(imputed_datasets[[1]], gam_models)\n",
    "calibration_results$GAM <- calculate_calibration(imputed_datasets[[1]]$GENSINI, pred_gam)\n",
    "\n",
    "# Ridge\n",
    "pred_ridge <- predict_ridge(imputed_datasets[[1]], ridge_models)\n",
    "calibration_results$Ridge <- calculate_calibration(imputed_datasets[[1]]$GENSINI, pred_ridge)\n",
    "\n",
    "# Konversi hasil ke data frame\n",
    "calibration_df <- data.frame(\n",
    "  Model = names(calibration_results),\n",
    "  Intercept = sapply(calibration_results, function(x) x$intercept),\n",
    "  Slope = sapply(calibration_results, function(x) x$slope),\n",
    "  R_squared = sapply(calibration_results, function(x) x$r_squared),\n",
    "  Calibration_in_large = sapply(calibration_results, function(x) x$calibration_in_large)\n",
    ")\n",
    "\n",
    "# Simpan hasil kalibrasi\n",
    "write.csv(calibration_df, \"./out/performance__calibration_results.csv\", \n",
    "          row.names = FALSE, quote = FALSE)\n",
    "\n",
    "# Visualisasi kalibrasi\n",
    "# Plot kalibrasi untuk setiap model\n",
    "plot_calibration <- function(observed, predicted, model_name) {\n",
    "  data <- data.frame(observed = observed, predicted = predicted)\n",
    "  \n",
    "  ggplot(data, aes(x = predicted, y = observed)) +\n",
    "    geom_point(alpha = 0.5) +\n",
    "    geom_smooth(method = \"lm\", col = \"red\") +\n",
    "    geom_abline(intercept = 0, slope = 1, linetype = \"dashed\") +\n",
    "    theme_minimal() +\n",
    "    labs(title = paste(\"Calibration Plot -\", model_name),\n",
    "         x = \"Predicted Gensini Score\",\n",
    "         y = \"Observed Gensini Score\")\n",
    "}\n",
    "\n",
    "p1 <- plot_calibration(imputed_datasets[[1]]$GENSINI, pred_ols, \"OLS\")\n",
    "p2 <- plot_calibration(imputed_datasets[[1]]$GENSINI, pred_gam, \"GAM\")\n",
    "p3 <- plot_calibration(imputed_datasets[[1]]$GENSINI, pred_ridge, \"Ridge\")\n",
    "\n",
    "# Simpan plot kalibrasi\n",
    "ggsave(\"./out/performance__calibration_plots.png\", \n",
    "       arrangeGrob(p1, p2, p3, ncol = 3),\n",
    "       width = 15, height = 5)\n",
    "\n",
    "print(\"Hasil Kalibrasi:\")\n",
    "print(calibration_df)"
   ]
  },
  {
   "cell_type": "markdown",
   "metadata": {},
   "source": [
    "### Ekstraksi Koefisien OLS"
   ]
  },
  {
   "cell_type": "code",
   "execution_count": 300,
   "metadata": {
    "vscode": {
     "languageId": "r"
    }
   },
   "outputs": [
    {
     "name": "stdout",
     "output_type": "stream",
     "text": [
      " [1] \"Intercept\"  \"RR\"         \"RR'\"        \"UREUM\"      \"UREUM'\"    \n",
      " [6] \"UREUM''\"    \"LDL\"        \"LDL'\"       \"HDL\"        \"HDL'\"      \n",
      "[11] \"SK\"         \"SK'\"        \"SK''\"       \"TD_S\"       \"TD_S'\"     \n",
      "[16] \"RIW_HT\"     \"USIA\"       \"BB\"         \"BB'\"        \"TG\"        \n",
      "[21] \"TG'\"        \"TG''\"       \"GDS\"        \"GDS'\"       \"LEUKOSIT\"  \n",
      "[26] \"LEUKOSIT'\"  \"LEUKOSIT''\" \"HBA1C\"     \n"
     ]
    }
   ],
   "source": [
    "# Tampilkan nama koefisien dari model pertama\n",
    "print(names(coef(ols_models[[1]])))\n"
   ]
  },
  {
   "cell_type": "code",
   "execution_count": 301,
   "metadata": {
    "vscode": {
     "languageId": "r"
    }
   },
   "outputs": [],
   "source": [
    "library(jsonlite)"
   ]
  },
  {
   "cell_type": "code",
   "execution_count": 302,
   "metadata": {
    "vscode": {
     "languageId": "r"
    }
   },
   "outputs": [],
   "source": [
    "extract_model_coefficients <- function(models) {\n",
    "  n_models <- length(models)\n",
    "  coef_names <- names(coef(models[[1]]))\n",
    "  \n",
    "  # Initialize matrix\n",
    "  all_coefs <- matrix(NA, nrow=n_models, ncol=length(coef_names))\n",
    "  colnames(all_coefs) <- coef_names\n",
    "  \n",
    "  # Extract coefficients from each model\n",
    "  for(i in 1:n_models) {\n",
    "    all_coefs[i,] <- coef(models[[i]])\n",
    "  }\n",
    "  \n",
    "  # Calculate mean coefficients\n",
    "  mean_coefs <- colMeans(all_coefs)\n",
    "  \n",
    "  # Fungsi bantuan untuk mendapatkan knots\n",
    "  get_knots <- function(var_name) {\n",
    "    # Cari model dengan data lengkap\n",
    "    for(model in models) {\n",
    "      if(!is.null(model$x) && var_name %in% colnames(model$x)) {\n",
    "        # Gunakan metode alternatif untuk mendapatkan knots\n",
    "        x_var <- model$x[, var_name]\n",
    "        knots <- quantile(x_var, probs = c(0.1, 0.5, 0.9))\n",
    "        return(knots)\n",
    "      }\n",
    "    }\n",
    "    return(NULL)\n",
    "  }\n",
    "  \n",
    "  # Create coefficient object for JavaScript\n",
    "  coeffs <- list(\n",
    "    intercept = mean_coefs[1],  # Intercept\n",
    "    rr_terms = mean_coefs[grep(\"^rr\", names(mean_coefs), ignore.case=TRUE)],\n",
    "    ureum_terms = mean_coefs[grep(\"^ureum\", names(mean_coefs), ignore.case=TRUE)],\n",
    "    ldl_terms = mean_coefs[grep(\"^ldl\", names(mean_coefs), ignore.case=TRUE)],\n",
    "    hdl_terms = mean_coefs[grep(\"^hdl\", names(mean_coefs), ignore.case=TRUE)],\n",
    "    sk_terms = mean_coefs[grep(\"^sk\", names(mean_coefs), ignore.case=TRUE)],\n",
    "    td_s_terms = mean_coefs[grep(\"^td_s\", names(mean_coefs), ignore.case=TRUE)],\n",
    "    riw_ht = mean_coefs[grep(\"^riw_ht\", names(mean_coefs), ignore.case=TRUE)],\n",
    "    usia = mean_coefs[grep(\"^usia\", names(mean_coefs), ignore.case=TRUE)],\n",
    "    bb_terms = mean_coefs[grep(\"^bb\", names(mean_coefs), ignore.case=TRUE)],\n",
    "    tg_terms = mean_coefs[grep(\"^tg\", names(mean_coefs), ignore.case=TRUE)],\n",
    "    gds_terms = mean_coefs[grep(\"^gds\", names(mean_coefs), ignore.case=TRUE)],\n",
    "    leukosit_terms = mean_coefs[grep(\"^leukosit\", names(mean_coefs), ignore.case=TRUE)],\n",
    "    hba1c = mean_coefs[grep(\"^hba1c\", names(mean_coefs), ignore.case=TRUE)]\n",
    "  )\n",
    "  \n",
    "  # Add knots for splines\n",
    "  coeffs$knots <- list(\n",
    "    rr = get_knots(\"RR\"),\n",
    "    ureum = get_knots(\"UREUM\"),\n",
    "    ldl = get_knots(\"LDL\"),\n",
    "    hdl = get_knots(\"HDL\"),\n",
    "    sk = get_knots(\"SK\"),\n",
    "    td_s = get_knots(\"TD_S\"),\n",
    "    bb = get_knots(\"BB\"),\n",
    "    tg = get_knots(\"TG\"),\n",
    "    gds = get_knots(\"GDS\"),\n",
    "    leukosit = get_knots(\"LEUKOSIT\")\n",
    "  )\n",
    "  \n",
    "  # Convert to JSON\n",
    "  json_output <- jsonlite::toJSON(coeffs, pretty=TRUE, auto_unbox=TRUE)\n",
    "  return(json_output)\n",
    "}"
   ]
  },
  {
   "cell_type": "code",
   "execution_count": 303,
   "metadata": {
    "vscode": {
     "languageId": "r"
    }
   },
   "outputs": [],
   "source": [
    "coeffs_json <- extract_model_coefficients(ols_models)\n",
    "write(coeffs_json, \"./out/model_coefficients.json\")"
   ]
  },
  {
   "cell_type": "code",
   "execution_count": 304,
   "metadata": {
    "vscode": {
     "languageId": "r"
    }
   },
   "outputs": [
    {
     "name": "stdout",
     "output_type": "stream",
     "text": [
      "Preview koefisien model:\n",
      "{\n",
      "  \"intercept\": 4.2074,\n",
      "  \"rr_terms\": [0.1351, 0.5245],\n",
      "  \"ureum_terms\": [-0.408, 3.6079, -8.0549],\n",
      "  \"ldl_terms\": [0.1116, -0.1111],\n",
      "  \"hdl_terms\": [-1.1981, 0.9602],\n",
      "  \"sk_terms\": [29.7954, 21.629, -99.1869],\n",
      "  \"td_s_terms\": [-0.067, -0.2865],\n",
      "  \"riw_ht\": -3.8358,\n",
      "  \"usia\": 0.5517,\n",
      "  \"bb_terms\": [-0.3226, -0.006],\n",
      "  \"tg_terms\": [0.2441, -1.9115, 3.366],\n",
      "  \"gds_terms\": [0.0355, -0.0198],\n",
      "  \"leukosit_terms\": [4.051, -16.2034, 27.5119],\n",
      "  \"hba1c\": -0.6342,\n",
      "  \"knots\": {\n",
      "    \"rr\": [18, 20, 28],\n",
      "    \"ureum\": [20, 34, 61],\n",
      "    \"ldl\": [66, 106, 186],\n",
      "    \"hdl\": [28, 39, 53],\n",
      "    \"sk\": [0.7, 1, 1.8],\n",
      "    \"td_s\": [102.4, 131, 170.6],\n",
      "    \"bb\": [50, 65, 75],\n",
      "    \"tg\": [77, 136, 224.8],\n",
      "    \"gds\": [89, 133, 248],\n",
      "    \"leukosit\": [6.6488, 9.57, 15.668]\n",
      "  }\n",
      "} ...\n",
      "[1] \"Struktur koefisien:\"\n",
      "List of 15\n",
      " $ intercept     : num 4.21\n",
      " $ rr_terms      : num [1:2] 0.135 0.524\n",
      " $ ureum_terms   : num [1:3] -0.408 3.608 -8.055\n",
      " $ ldl_terms     : num [1:2] 0.112 -0.111\n",
      " $ hdl_terms     : num [1:2] -1.2 0.96\n",
      " $ sk_terms      : num [1:3] 29.8 21.6 -99.2\n",
      " $ td_s_terms    : num [1:2] -0.067 -0.286\n",
      " $ riw_ht        : num -3.84\n",
      " $ usia          : num 0.552\n",
      " $ bb_terms      : num [1:2] -0.323 -0.006\n",
      " $ tg_terms      : num [1:3] 0.244 -1.911 3.366\n",
      " $ gds_terms     : num [1:2] 0.0355 -0.0198\n",
      " $ leukosit_terms: num [1:3] 4.05 -16.2 27.51\n",
      " $ hba1c         : num -0.634\n",
      " $ knots         :List of 10\n",
      "  ..$ rr      : int [1:3] 18 20 28\n",
      "  ..$ ureum   : int [1:3] 20 34 61\n",
      "  ..$ ldl     : int [1:3] 66 106 186\n",
      "  ..$ hdl     : int [1:3] 28 39 53\n",
      "  ..$ sk      : num [1:3] 0.7 1 1.8\n",
      "  ..$ td_s    : num [1:3] 102 131 171\n",
      "  ..$ bb      : int [1:3] 50 65 75\n",
      "  ..$ tg      : num [1:3] 77 136 225\n",
      "  ..$ gds     : int [1:3] 89 133 248\n",
      "  ..$ leukosit: num [1:3] 6.65 9.57 15.67\n",
      "NULL\n"
     ]
    }
   ],
   "source": [
    "# Extract coefficients from OLS models\n",
    "coeffs_json <- extract_model_coefficients(ols_models)\n",
    "\n",
    "# Print preview\n",
    "cat(\"Preview koefisien model:\\n\")\n",
    "cat(substr(coeffs_json, 1, 1000), \"...\\n\")\n",
    "\n",
    "# Simpan ke file JSON\n",
    "write(coeffs_json, \"./out/model_coefficients.json\")\n",
    "\n",
    "# Print struktur untuk verifikasi\n",
    "print(\"Struktur koefisien:\")\n",
    "print(str(jsonlite::fromJSON(coeffs_json)))"
   ]
  },
  {
   "cell_type": "markdown",
   "metadata": {},
   "source": [
    "### Ekstraksi Koefisien GAM"
   ]
  },
  {
   "cell_type": "code",
   "execution_count": 315,
   "metadata": {
    "vscode": {
     "languageId": "r"
    }
   },
   "outputs": [],
   "source": [
    "extract_gam_coefficients <- function(models) {\n",
    "  n_models <- length(models)\n",
    "  \n",
    "  # Inisialisasi matrix untuk koefisien\n",
    "  coef_names <- names(coef(models[[1]]))\n",
    "  all_coefs <- matrix(NA, nrow=n_models, ncol=length(coef_names))\n",
    "  colnames(all_coefs) <- coef_names\n",
    "  \n",
    "  # Extract koefisien dari setiap model\n",
    "  for(i in 1:n_models) {\n",
    "    all_coefs[i,] <- coef(models[[i]])\n",
    "  }\n",
    "  \n",
    "  # Hitung rata-rata koefisien\n",
    "  mean_coefs <- colMeans(all_coefs)\n",
    "  \n",
    "  # Struktur untuk menyimpan koefisien\n",
    "  coeffs <- list(\n",
    "    intercept = mean_coefs[\"(Intercept)\"],\n",
    "    rr_terms = mean_coefs[grep(\"^s\\\\(RR\\\\)\", names(mean_coefs))],\n",
    "    ureum_terms = mean_coefs[grep(\"^s\\\\(UREUM\\\\)\", names(mean_coefs))],\n",
    "    ldl_terms = mean_coefs[grep(\"^s\\\\(LDL\\\\)\", names(mean_coefs))],\n",
    "    hdl_terms = mean_coefs[grep(\"^s\\\\(HDL\\\\)\", names(mean_coefs))],\n",
    "    sk_terms = mean_coefs[grep(\"^s\\\\(SK\\\\)\", names(mean_coefs))],\n",
    "    td_s_terms = mean_coefs[grep(\"^s\\\\(TD_S\\\\)\", names(mean_coefs))],\n",
    "    bb_terms = mean_coefs[grep(\"^s\\\\(BB\\\\)\", names(mean_coefs))],\n",
    "    tg_terms = mean_coefs[grep(\"^s\\\\(TG\\\\)\", names(mean_coefs))],\n",
    "    gds_terms = mean_coefs[grep(\"^s\\\\(GDS\\\\)\", names(mean_coefs))],\n",
    "    leukosit_terms = mean_coefs[grep(\"^s\\\\(LEUKOSIT\\\\)\", names(mean_coefs))],\n",
    "    hba1c_terms = mean_coefs[grep(\"^s\\\\(HBA1C\\\\)\", names(mean_coefs))],\n",
    "    riw_ht = mean_coefs[\"RIW_HT\"],\n",
    "    usia = mean_coefs[\"USIA\"]\n",
    "  )\n",
    "  \n",
    "  # Dapatkan informasi basis dari model GAM\n",
    "  model1 <- models[[1]]\n",
    "  \n",
    "  # Print untuk debugging\n",
    "  print(\"Model smooth terms:\")\n",
    "  print(names(model1$smooth))\n",
    "  \n",
    "  # Extract basis information dengan penanganan error\n",
    "  coeffs$basis_info <- list()\n",
    "  for(s in model1$smooth) {\n",
    "    var_name <- gsub(\"s\\\\((.+)\\\\)\", \"\\\\1\", s$label)\n",
    "    print(paste(\"Processing:\", var_name))\n",
    "    \n",
    "    coeffs$basis_info[[var_name]] <- list(\n",
    "      basis_type = s$bs.dim,\n",
    "      df = s$df\n",
    "    )\n",
    "    \n",
    "    # Coba dapatkan knots jika tersedia\n",
    "    if(!is.null(s$knots)) {\n",
    "      coeffs$basis_info[[var_name]]$knots <- s$knots\n",
    "    }\n",
    "  }\n",
    "  \n",
    "  # Konversi ke JSON dengan error handling\n",
    "  tryCatch({\n",
    "    json_output <- jsonlite::toJSON(coeffs, pretty=TRUE, auto_unbox=TRUE)\n",
    "    return(json_output)\n",
    "  }, error = function(e) {\n",
    "    print(\"Error dalam konversi JSON:\")\n",
    "    print(e)\n",
    "    return(NULL)\n",
    "  })\n",
    "}\n"
   ]
  },
  {
   "cell_type": "code",
   "execution_count": 317,
   "metadata": {
    "vscode": {
     "languageId": "r"
    }
   },
   "outputs": [
    {
     "name": "stdout",
     "output_type": "stream",
     "text": [
      "[1] \"Starting coefficient extraction...\"\n",
      "[1] \"Model smooth terms:\"\n",
      "NULL\n",
      "[1] \"Processing: RR\"\n",
      "[1] \"Processing: UREUM\"\n",
      "[1] \"Processing: LDL\"\n",
      "[1] \"Processing: HDL\"\n",
      "[1] \"Processing: SK\"\n",
      "[1] \"Processing: TD_S\"\n",
      "[1] \"Processing: BB\"\n",
      "[1] \"Processing: TG\"\n",
      "[1] \"Processing: GDS\"\n",
      "[1] \"Processing: LEUKOSIT\"\n",
      "[1] \"Processing: HBA1C\"\n",
      "Preview koefisien model GAM:\n",
      "{\n",
      "  \"intercept\": 19.5373,\n",
      "  \"rr_terms\": [10.4185, 22.9244, 1.1568, 28.5055, 0.8165, 0.2375, -0.2986, 13.5266, -0.3231],\n",
      "  \"ureum_terms\": [0.0012, 0.0065, 1.2808],\n",
      "  \"ldl_terms\": [-1.3975, 10.9212, 1.0584, -5.3735, -0.05, 7.5951, -2.2597, 25.6734, 4.2388],\n",
      "  \"hdl_terms\": [-1.6803, 0.0512, 0.2935, 1.1611, 0.2045, -1.0143, 0.4765, -12.0484, -2.7314],\n",
      "  \"sk_terms\": [12.8099, 47.8652, -0.3477],\n",
      "  \"td_s_terms\": [-2.824, 5.9761, -1.6805, -3.6287, 1.4193, 3.5005, 0.675, 18.0507, -3.6267],\n",
      "  \"bb_terms\": [-0.0026, 0.0333, -0.001, -0.0517, 0.0007, -0.0445, -0.0078, -0.3589, -2.5616],\n",
      "  \"tg_terms\": [0.6493, -0.8659, -2.0346],\n",
      "  \"gds_terms\": [-2.3672, -8.3592, 5.5826, 12.0289, -3.5308, 7.8214, 5.1663, 38.4247, -4.7174],\n",
      "  \"leukosit_terms\": [-1.2267e-10, 1.6459e-09, -1.8081],\n",
      "  \"hba1c_terms\": [-10.3666, 2.7506, -0.2145, -0.8807, 1.2078, -1.3623, -1.3215, 0.7124, 3.8213],\n",
      "  \"riw_ht\": -3.8669,\n",
      "  \"usia\": 0.5018,\n",
      "  \"basis_info\": {\n",
      "    \"RR\": {\n",
      "      \"basis_type\": 10,\n",
      "      \"df\": 9\n",
      "    },\n",
      "    \"UREUM\": {\n",
      "  ...\n"
     ]
    }
   ],
   "source": [
    "\n",
    "# Jalankan fungsi dengan print debugging\n",
    "print(\"Starting coefficient extraction...\")\n",
    "coeffs_json <- extract_gam_coefficients(gam_models)\n",
    "\n",
    "if(!is.null(coeffs_json)) {\n",
    "  # Simpan ke file\n",
    "  write(coeffs_json, \"./out/gam_coefficients.json\")\n",
    "  \n",
    "  # Print preview\n",
    "  cat(\"Preview koefisien model GAM:\\n\")\n",
    "  cat(substr(coeffs_json, 1, 1000), \"...\\n\")\n",
    "} else {\n",
    "  print(\"Failed to extract coefficients\")\n",
    "}"
   ]
  },
  {
   "cell_type": "code",
   "execution_count": 309,
   "metadata": {
    "vscode": {
     "languageId": "r"
    }
   },
   "outputs": [
    {
     "data": {
      "text/plain": [
       "\n",
       "Family: gaussian \n",
       "Link function: identity \n",
       "\n",
       "Formula:\n",
       "GENSINI ~ s(RR) + s(UREUM, k = 4) + s(LDL) + s(HDL) + s(SK, k = 4) + \n",
       "    s(TD_S) + RIW_HT + USIA + s(BB) + s(TG, k = 4) + s(GDS) + \n",
       "    s(LEUKOSIT, k = 4) + s(HBA1C)\n",
       "\n",
       "Parametric coefficients:\n",
       "            Estimate Std. Error t value Pr(>|t|)  \n",
       "(Intercept)  15.7578    16.5095   0.954   0.3409  \n",
       "RIW_HT       -5.4479     5.5044  -0.990   0.3234  \n",
       "USIA          0.5769     0.2786   2.071   0.0395 *\n",
       "---\n",
       "Signif. codes:  0 '***' 0.001 '**' 0.01 '*' 0.05 '.' 0.1 ' ' 1\n",
       "\n",
       "Approximate significance of smooth terms:\n",
       "              edf Ref.df     F p-value  \n",
       "s(RR)       1.928  2.148 1.716  0.1520  \n",
       "s(UREUM)    1.000  1.000 0.053  0.8187  \n",
       "s(LDL)      1.000  1.000 0.488  0.4854  \n",
       "s(HDL)      2.463  3.159 3.271  0.0193 *\n",
       "s(SK)       1.890  2.203 2.292  0.0993 .\n",
       "s(TD_S)     1.000  1.000 1.359  0.2450  \n",
       "s(BB)       1.000  1.000 1.478  0.2253  \n",
       "s(TG)       1.000  1.000 2.559  0.1111  \n",
       "s(GDS)      3.319  4.134 1.339  0.2662  \n",
       "s(LEUKOSIT) 1.000  1.000 0.529  0.4676  \n",
       "s(HBA1C)    2.435  3.032 0.589  0.6406  \n",
       "---\n",
       "Signif. codes:  0 '***' 0.001 '**' 0.01 '*' 0.05 '.' 0.1 ' ' 1\n",
       "\n",
       "R-sq.(adj) =  0.128   Deviance explained = 19.9%\n",
       "GCV = 1466.2  Scale est. = 1340.3    n = 245"
      ]
     },
     "metadata": {},
     "output_type": "display_data"
    }
   ],
   "source": [
    "summary(gam_models[[1]])"
   ]
  },
  {
   "cell_type": "code",
   "execution_count": 319,
   "metadata": {
    "vscode": {
     "languageId": "r"
    }
   },
   "outputs": [
    {
     "name": "stdout",
     "output_type": "stream",
     "text": [
      "[1] \"GAM prediction: 57.8648498744768\"\n"
     ]
    }
   ],
   "source": [
    "# Buat data frame baru dengan nilai default\n",
    "newdata <- data.frame(\n",
    "    RR = 28,\n",
    "    UREUM = 58,\n",
    "    LDL = 201,\n",
    "    HDL = 68,\n",
    "    SK = 0.6,\n",
    "    TD_S = 96,\n",
    "    RIW_HT = 0,  # 0 untuk \"Tidak\"\n",
    "    USIA = 60,\n",
    "    BB = 60,\n",
    "    TG = 177,\n",
    "    GDS = 245,\n",
    "    LEUKOSIT = 8.813,\n",
    "    HBA1C = 10.7\n",
    ")\n",
    "\n",
    "# Predict menggunakan model GAM\n",
    "pred_gam <- predict(gam_models[[1]], newdata=newdata)\n",
    "print(paste(\"GAM prediction:\", pred_gam))"
   ]
  }
 ],
 "metadata": {
  "kernelspec": {
   "display_name": "R",
   "language": "R",
   "name": "ir"
  },
  "language_info": {
   "codemirror_mode": "r",
   "file_extension": ".r",
   "mimetype": "text/x-r-source",
   "name": "R",
   "pygments_lexer": "r",
   "version": "4.4.2"
  }
 },
 "nbformat": 4,
 "nbformat_minor": 2
}
