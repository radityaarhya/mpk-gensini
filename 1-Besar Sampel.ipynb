{
 "cells": [
  {
   "cell_type": "markdown",
   "metadata": {},
   "source": [
    "# Besar Sampel\n",
    "HAK CIPTA\n",
    "2024 © MADE RADITYA ARHYA PUTRA\n",
    "\n",
    "## PAPER RUJUKAN #####\n",
    "1. Metodologi Perhitungan Sampel:\n",
    "- Riley RD, Snell KIE, Ensor J, et al. \n",
    "- \"Minimum sample size for developing a multivariable prediction model: PART I - Continuous outcomes\"\n",
    "- Statistics in Medicine. 2019;38(7):1262-1275\n",
    "- DOI: https://doi.org/10.1002/sim.7993\n",
    "\n",
    "2. Sumber Data Rerata dan Standar Deviasi Skor GENSINI:\n",
    "- Wahyuni I, Wijaya IP, Sukrisman L, Nasution SA, Rumende CM.\n",
    "- \"Diagnostic Accuracy of Platelet/Lymphocyte Ratio for Screening Complex Coronary Lesion \n",
    "- in Different Age Group of Patients with Acute Coronary Syndrome\"\n",
    "- Acta Medica Indonesiana. 2018;50(3)\n",
    "- URL: https://www.actamedindones.org/index.php/ijim/article/view/401\n",
    "\n",
    "## METODE PERHITUNGAN #####\n",
    "- Menggunakan package R 'pmsampsize', yang mengimplementasikan metodologi Riley et al.\n",
    "- Package ini menghitung ukuran sampel minimum yang diperlukan untuk mengembangkan model prediksi\n",
    "- Berdasarkan empat kriteria utama untuk meminimalkan overfitting dan memastikan estimasi parameter yang presisi:\n",
    "    1. Overfitting yang kecil (ditentukan oleh expected shrinkage ≤ 10%)\n",
    "    2. Perbedaan absolut yang kecil (0.05) antara R-squared apparent dan adjusted\n",
    "    3. Estimasi yang presisi dari standar deviasi residual\n",
    "    4. Estimasi yang presisi dari nilai outcome rata-rata"
   ]
  },
  {
   "cell_type": "code",
   "execution_count": 1,
   "metadata": {
    "vscode": {
     "languageId": "r"
    }
   },
   "outputs": [],
   "source": [
    "# Memuat package yang diperlukan #\n",
    "library(pmsampsize)"
   ]
  },
  {
   "cell_type": "code",
   "execution_count": 2,
   "metadata": {
    "vscode": {
     "languageId": "r"
    }
   },
   "outputs": [],
   "source": [
    "# Menghitung ukuran sampel minimum #\n",
    "hasil_sampel <- pmsampsize(\n",
    "    type = \"c\",           # Menentukan luaran kontinu (skor GENSINI)\n",
    "    rsquared = 0.15,      # Perkiraan R-squared (estimasi konservatif untuk prediksi medis)\n",
    "    parameters = 5,       # Jumlah parameter prediktor (usia [1], LDL [1], gula darah sewaktu [1], sistolik [1], IMT [1]) -> Nilai dapat disesuaikan dengan ketersediaan data\n",
    "    intercept = 169.3,    # Rerata skor GENSINI tertinggi (dari kelompok usia ≤45 tahun dengan Gensini ≤53)\n",
    "    sd = 74.1,            # SD tertinggi (dari kelompok usia ≤45 tahun dengan Gensini ≤53)\n",
    "    shrinkage = 0.9,      # Faktor shrinkage target (memungkinkan 10% overfitting) - default 0.9\n",
    "    mmoe = 1.1            # (Multiplicative Margin of Error) Margin error multiplikatif untuk estimasi intercept - default 1.1\n",
    ")\n",
    "\n",
    "# PENJELASAN PARAMETER #\n",
    "# type = \"c\"         : Menunjukkan luaran kontinu (skor GENSINI)\n",
    "# rsquared = 0.15    : Estimasi konservatif karena tidak ada model serupa sebelumnya / seberapa besar nilai variabilitas outcome pada model\n",
    "# parameters = 4     : Empat prediktor (usia kontinu, jenis kelamin biner, LDL kontinu, gula darah sewaktu kontinu)\n",
    "# intercept = 169.3  : Nilai rerata tertinggi skor GENSINI dari studi Wahyuni et al. (2018)\n",
    "# sd = 74.1          : Nilai SD tertinggi dari studi Wahyuni et al. (2018)\n",
    "# shrinkage = 0.9    : Nilai yang direkomendasikan untuk mengontrol overfitting sesuai paper Riley et al, 2019\n",
    "# mmoe = 1.1         : Nilai yang direkomendasikan untuk estimasi intercept yang presisi sesuai paper Riley et al, 2019, \n",
    "#                      artinya diperbolehkan 10% error dalam model menentukan mean dikemudian hari\n"
   ]
  },
  {
   "cell_type": "code",
   "execution_count": 3,
   "metadata": {
    "vscode": {
     "languageId": "r"
    }
   },
   "outputs": [
    {
     "name": "stdout",
     "output_type": "stream",
     "text": [
      "NB: Assuming 0.05 acceptable difference in apparent & adjusted R-squared \n",
      "NB: Assuming MMOE <= 1.1 in estimation of intercept & residual standard deviation \n",
      "SPP - Subjects per Predictor Parameter \n",
      " \n",
      "            Samp_size Shrinkage Parameter  Rsq   SPP\n",
      "Criteria 1        596     0.900        13 0.15 45.85\n",
      "Criteria 2        222     0.778        13 0.15 17.08\n",
      "Criteria 3        247     0.795        13 0.15 19.00\n",
      "Criteria 4*       596     0.900        13 0.15 45.85\n",
      "Final             596     0.900        13 0.15 45.85\n",
      " \n",
      " Minimum sample size required for new model development based on user inputs = 596  \n",
      " \n",
      " * 95% CI for intercept = (163.8, 174.8), for sample size n = 596"
     ]
    }
   ],
   "source": [
    "print(hasil_sampel)"
   ]
  }
 ],
 "metadata": {
  "kernelspec": {
   "display_name": "R",
   "language": "R",
   "name": "ir"
  },
  "language_info": {
   "codemirror_mode": "r",
   "file_extension": ".r",
   "mimetype": "text/x-r-source",
   "name": "R",
   "pygments_lexer": "r",
   "version": "4.4.2"
  }
 },
 "nbformat": 4,
 "nbformat_minor": 2
}
