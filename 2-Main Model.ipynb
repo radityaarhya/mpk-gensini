{
 "cells": [
  {
   "cell_type": "code",
   "execution_count": null,
   "metadata": {
    "vscode": {
     "languageId": "r"
    }
   },
   "outputs": [],
   "source": [
    "#### MENYIAPKAN ENVIRONMENT #####\n",
    "# Membersihkan semua objek dari memory\n",
    "rm(list=ls()) \n",
    "\n",
    "# Mengatur seed untuk reproducible random numbers\n",
    "set.seed(42) "
   ]
  },
  {
   "cell_type": "markdown",
   "metadata": {},
   "source": [
    "### Data Simulasi"
   ]
  },
  {
   "cell_type": "code",
   "execution_count": null,
   "metadata": {
    "vscode": {
     "languageId": "r"
    }
   },
   "outputs": [
    {
     "data": {
      "text/html": [
       "100"
      ],
      "text/latex": [
       "100"
      ],
      "text/markdown": [
       "100"
      ],
      "text/plain": [
       "[1] 100"
      ]
     },
     "metadata": {},
     "output_type": "display_data"
    }
   ],
   "source": [
    "# Load library data simulasi\n",
    "library(MASS) # untuk simulasi data dan fungsi stepAIC\n",
    "\n",
    "# Menentukan jumlah observasi simulasi\n",
    "N <- 100\n",
    "N"
   ]
  },
  {
   "cell_type": "code",
   "execution_count": null,
   "metadata": {
    "vscode": {
     "languageId": "r"
    }
   },
   "outputs": [
    {
     "data": {
      "text/html": [
       "<table class=\"dataframe\">\n",
       "<caption>A matrix: 10 × 10 of type dbl</caption>\n",
       "<tbody>\n",
       "\t<tr><td>1.000000000</td><td>0.50000000</td><td>0.2500000</td><td>0.125000</td><td>0.06250</td><td>0.03125</td><td>0.015625</td><td>0.0078125</td><td>0.00390625</td><td>0.001953125</td></tr>\n",
       "\t<tr><td>0.500000000</td><td>1.00000000</td><td>0.5000000</td><td>0.250000</td><td>0.12500</td><td>0.06250</td><td>0.031250</td><td>0.0156250</td><td>0.00781250</td><td>0.003906250</td></tr>\n",
       "\t<tr><td>0.250000000</td><td>0.50000000</td><td>1.0000000</td><td>0.500000</td><td>0.25000</td><td>0.12500</td><td>0.062500</td><td>0.0312500</td><td>0.01562500</td><td>0.007812500</td></tr>\n",
       "\t<tr><td>0.125000000</td><td>0.25000000</td><td>0.5000000</td><td>1.000000</td><td>0.50000</td><td>0.25000</td><td>0.125000</td><td>0.0625000</td><td>0.03125000</td><td>0.015625000</td></tr>\n",
       "\t<tr><td>0.062500000</td><td>0.12500000</td><td>0.2500000</td><td>0.500000</td><td>1.00000</td><td>0.50000</td><td>0.250000</td><td>0.1250000</td><td>0.06250000</td><td>0.031250000</td></tr>\n",
       "\t<tr><td>0.031250000</td><td>0.06250000</td><td>0.1250000</td><td>0.250000</td><td>0.50000</td><td>1.00000</td><td>0.500000</td><td>0.2500000</td><td>0.12500000</td><td>0.062500000</td></tr>\n",
       "\t<tr><td>0.015625000</td><td>0.03125000</td><td>0.0625000</td><td>0.125000</td><td>0.25000</td><td>0.50000</td><td>1.000000</td><td>0.5000000</td><td>0.25000000</td><td>0.125000000</td></tr>\n",
       "\t<tr><td>0.007812500</td><td>0.01562500</td><td>0.0312500</td><td>0.062500</td><td>0.12500</td><td>0.25000</td><td>0.500000</td><td>1.0000000</td><td>0.50000000</td><td>0.250000000</td></tr>\n",
       "\t<tr><td>0.003906250</td><td>0.00781250</td><td>0.0156250</td><td>0.031250</td><td>0.06250</td><td>0.12500</td><td>0.250000</td><td>0.5000000</td><td>1.00000000</td><td>0.500000000</td></tr>\n",
       "\t<tr><td>0.001953125</td><td>0.00390625</td><td>0.0078125</td><td>0.015625</td><td>0.03125</td><td>0.06250</td><td>0.125000</td><td>0.2500000</td><td>0.50000000</td><td>1.000000000</td></tr>\n",
       "</tbody>\n",
       "</table>\n"
      ],
      "text/latex": [
       "A matrix: 10 × 10 of type dbl\n",
       "\\begin{tabular}{llllllllll}\n",
       "\t 1.000000000 & 0.50000000 & 0.2500000 & 0.125000 & 0.06250 & 0.03125 & 0.015625 & 0.0078125 & 0.00390625 & 0.001953125\\\\\n",
       "\t 0.500000000 & 1.00000000 & 0.5000000 & 0.250000 & 0.12500 & 0.06250 & 0.031250 & 0.0156250 & 0.00781250 & 0.003906250\\\\\n",
       "\t 0.250000000 & 0.50000000 & 1.0000000 & 0.500000 & 0.25000 & 0.12500 & 0.062500 & 0.0312500 & 0.01562500 & 0.007812500\\\\\n",
       "\t 0.125000000 & 0.25000000 & 0.5000000 & 1.000000 & 0.50000 & 0.25000 & 0.125000 & 0.0625000 & 0.03125000 & 0.015625000\\\\\n",
       "\t 0.062500000 & 0.12500000 & 0.2500000 & 0.500000 & 1.00000 & 0.50000 & 0.250000 & 0.1250000 & 0.06250000 & 0.031250000\\\\\n",
       "\t 0.031250000 & 0.06250000 & 0.1250000 & 0.250000 & 0.50000 & 1.00000 & 0.500000 & 0.2500000 & 0.12500000 & 0.062500000\\\\\n",
       "\t 0.015625000 & 0.03125000 & 0.0625000 & 0.125000 & 0.25000 & 0.50000 & 1.000000 & 0.5000000 & 0.25000000 & 0.125000000\\\\\n",
       "\t 0.007812500 & 0.01562500 & 0.0312500 & 0.062500 & 0.12500 & 0.25000 & 0.500000 & 1.0000000 & 0.50000000 & 0.250000000\\\\\n",
       "\t 0.003906250 & 0.00781250 & 0.0156250 & 0.031250 & 0.06250 & 0.12500 & 0.250000 & 0.5000000 & 1.00000000 & 0.500000000\\\\\n",
       "\t 0.001953125 & 0.00390625 & 0.0078125 & 0.015625 & 0.03125 & 0.06250 & 0.125000 & 0.2500000 & 0.50000000 & 1.000000000\\\\\n",
       "\\end{tabular}\n"
      ],
      "text/markdown": [
       "\n",
       "A matrix: 10 × 10 of type dbl\n",
       "\n",
       "| 1.000000000 | 0.50000000 | 0.2500000 | 0.125000 | 0.06250 | 0.03125 | 0.015625 | 0.0078125 | 0.00390625 | 0.001953125 |\n",
       "| 0.500000000 | 1.00000000 | 0.5000000 | 0.250000 | 0.12500 | 0.06250 | 0.031250 | 0.0156250 | 0.00781250 | 0.003906250 |\n",
       "| 0.250000000 | 0.50000000 | 1.0000000 | 0.500000 | 0.25000 | 0.12500 | 0.062500 | 0.0312500 | 0.01562500 | 0.007812500 |\n",
       "| 0.125000000 | 0.25000000 | 0.5000000 | 1.000000 | 0.50000 | 0.25000 | 0.125000 | 0.0625000 | 0.03125000 | 0.015625000 |\n",
       "| 0.062500000 | 0.12500000 | 0.2500000 | 0.500000 | 1.00000 | 0.50000 | 0.250000 | 0.1250000 | 0.06250000 | 0.031250000 |\n",
       "| 0.031250000 | 0.06250000 | 0.1250000 | 0.250000 | 0.50000 | 1.00000 | 0.500000 | 0.2500000 | 0.12500000 | 0.062500000 |\n",
       "| 0.015625000 | 0.03125000 | 0.0625000 | 0.125000 | 0.25000 | 0.50000 | 1.000000 | 0.5000000 | 0.25000000 | 0.125000000 |\n",
       "| 0.007812500 | 0.01562500 | 0.0312500 | 0.062500 | 0.12500 | 0.25000 | 0.500000 | 1.0000000 | 0.50000000 | 0.250000000 |\n",
       "| 0.003906250 | 0.00781250 | 0.0156250 | 0.031250 | 0.06250 | 0.12500 | 0.250000 | 0.5000000 | 1.00000000 | 0.500000000 |\n",
       "| 0.001953125 | 0.00390625 | 0.0078125 | 0.015625 | 0.03125 | 0.06250 | 0.125000 | 0.2500000 | 0.50000000 | 1.000000000 |\n",
       "\n"
      ],
      "text/plain": [
       "      [,1]        [,2]       [,3]      [,4]     [,5]    [,6]    [,7]    \n",
       " [1,] 1.000000000 0.50000000 0.2500000 0.125000 0.06250 0.03125 0.015625\n",
       " [2,] 0.500000000 1.00000000 0.5000000 0.250000 0.12500 0.06250 0.031250\n",
       " [3,] 0.250000000 0.50000000 1.0000000 0.500000 0.25000 0.12500 0.062500\n",
       " [4,] 0.125000000 0.25000000 0.5000000 1.000000 0.50000 0.25000 0.125000\n",
       " [5,] 0.062500000 0.12500000 0.2500000 0.500000 1.00000 0.50000 0.250000\n",
       " [6,] 0.031250000 0.06250000 0.1250000 0.250000 0.50000 1.00000 0.500000\n",
       " [7,] 0.015625000 0.03125000 0.0625000 0.125000 0.25000 0.50000 1.000000\n",
       " [8,] 0.007812500 0.01562500 0.0312500 0.062500 0.12500 0.25000 0.500000\n",
       " [9,] 0.003906250 0.00781250 0.0156250 0.031250 0.06250 0.12500 0.250000\n",
       "[10,] 0.001953125 0.00390625 0.0078125 0.015625 0.03125 0.06250 0.125000\n",
       "      [,8]      [,9]       [,10]      \n",
       " [1,] 0.0078125 0.00390625 0.001953125\n",
       " [2,] 0.0156250 0.00781250 0.003906250\n",
       " [3,] 0.0312500 0.01562500 0.007812500\n",
       " [4,] 0.0625000 0.03125000 0.015625000\n",
       " [5,] 0.1250000 0.06250000 0.031250000\n",
       " [6,] 0.2500000 0.12500000 0.062500000\n",
       " [7,] 0.5000000 0.25000000 0.125000000\n",
       " [8,] 1.0000000 0.50000000 0.250000000\n",
       " [9,] 0.5000000 1.00000000 0.500000000\n",
       "[10,] 0.2500000 0.50000000 1.000000000"
      ]
     },
     "metadata": {},
     "output_type": "display_data"
    }
   ],
   "source": [
    "# Membuat matriks korelasi dengan pola exponential decay\n",
    "# Menghasilkan matriks 10x10 dengan sifat:\n",
    "# - Simetris (korelasi i,j sama dengan j,i)\n",
    "# - Definit positif (syarat untuk matriks kovarian)\n",
    "# - Nilai diagonal = 1 (korelasi variabel dengan dirinya sendiri)\n",
    "# - Korelasi menurun secara exponential berdasarkan jarak antar variabel\n",
    "Sigma <- outer(1:10, 1:10, function(x,y) 0.5^abs(x-y))\n",
    "Sigma"
   ]
  },
  {
   "cell_type": "code",
   "execution_count": 31,
   "metadata": {
    "vscode": {
     "languageId": "r"
    }
   },
   "outputs": [
    {
     "data": {
      "text/html": [
       "<table class=\"dataframe\">\n",
       "<caption>A matrix: 6 × 10 of type dbl</caption>\n",
       "<tbody>\n",
       "\t<tr><td>-1.8256814</td><td>-0.1174426</td><td>-0.04164722</td><td> 0.35180444</td><td> 1.3619220</td><td> 0.7319327</td><td> 0.2272463</td><td> 0.92189204</td><td> 0.35758636</td><td> 0.03645931</td></tr>\n",
       "\t<tr><td> 0.2688495</td><td> 0.6200021</td><td> 0.98226915</td><td>-0.75525573</td><td> 0.3608686</td><td> 1.6662047</td><td> 1.7220392</td><td> 0.73220464</td><td>-1.05017427</td><td>-0.05005634</td></tr>\n",
       "\t<tr><td> 0.6777329</td><td> 0.4105477</td><td> 1.61997069</td><td> 0.00105218</td><td>-0.1859264</td><td>-1.0831533</td><td> 1.0122380</td><td> 0.45175381</td><td>-0.23750452</td><td> 0.87307661</td></tr>\n",
       "\t<tr><td> 0.8231561</td><td> 0.4956478</td><td> 0.58663857</td><td>-1.31688328</td><td> 1.1018949</td><td>-0.2817486</td><td>-0.3561922</td><td>-0.06705255</td><td> 0.08478662</td><td> 0.04455286</td></tr>\n",
       "\t<tr><td>-0.6894078</td><td> 1.1172485</td><td> 0.01647177</td><td>-0.20857370</td><td> 0.2258124</td><td>-1.5204248</td><td> 0.2913901</td><td>-0.82511718</td><td>-1.08685263</td><td>-0.68162500</td></tr>\n",
       "\t<tr><td>-0.8049910</td><td> 0.6010623</td><td> 0.94666014</td><td>-0.15001445</td><td>-0.0248337</td><td> 0.2073651</td><td>-1.2202014</td><td>-1.30269106</td><td>-0.80810337</td><td> 0.39173406</td></tr>\n",
       "</tbody>\n",
       "</table>\n"
      ],
      "text/latex": [
       "A matrix: 6 × 10 of type dbl\n",
       "\\begin{tabular}{llllllllll}\n",
       "\t -1.8256814 & -0.1174426 & -0.04164722 &  0.35180444 &  1.3619220 &  0.7319327 &  0.2272463 &  0.92189204 &  0.35758636 &  0.03645931\\\\\n",
       "\t  0.2688495 &  0.6200021 &  0.98226915 & -0.75525573 &  0.3608686 &  1.6662047 &  1.7220392 &  0.73220464 & -1.05017427 & -0.05005634\\\\\n",
       "\t  0.6777329 &  0.4105477 &  1.61997069 &  0.00105218 & -0.1859264 & -1.0831533 &  1.0122380 &  0.45175381 & -0.23750452 &  0.87307661\\\\\n",
       "\t  0.8231561 &  0.4956478 &  0.58663857 & -1.31688328 &  1.1018949 & -0.2817486 & -0.3561922 & -0.06705255 &  0.08478662 &  0.04455286\\\\\n",
       "\t -0.6894078 &  1.1172485 &  0.01647177 & -0.20857370 &  0.2258124 & -1.5204248 &  0.2913901 & -0.82511718 & -1.08685263 & -0.68162500\\\\\n",
       "\t -0.8049910 &  0.6010623 &  0.94666014 & -0.15001445 & -0.0248337 &  0.2073651 & -1.2202014 & -1.30269106 & -0.80810337 &  0.39173406\\\\\n",
       "\\end{tabular}\n"
      ],
      "text/markdown": [
       "\n",
       "A matrix: 6 × 10 of type dbl\n",
       "\n",
       "| -1.8256814 | -0.1174426 | -0.04164722 |  0.35180444 |  1.3619220 |  0.7319327 |  0.2272463 |  0.92189204 |  0.35758636 |  0.03645931 |\n",
       "|  0.2688495 |  0.6200021 |  0.98226915 | -0.75525573 |  0.3608686 |  1.6662047 |  1.7220392 |  0.73220464 | -1.05017427 | -0.05005634 |\n",
       "|  0.6777329 |  0.4105477 |  1.61997069 |  0.00105218 | -0.1859264 | -1.0831533 |  1.0122380 |  0.45175381 | -0.23750452 |  0.87307661 |\n",
       "|  0.8231561 |  0.4956478 |  0.58663857 | -1.31688328 |  1.1018949 | -0.2817486 | -0.3561922 | -0.06705255 |  0.08478662 |  0.04455286 |\n",
       "| -0.6894078 |  1.1172485 |  0.01647177 | -0.20857370 |  0.2258124 | -1.5204248 |  0.2913901 | -0.82511718 | -1.08685263 | -0.68162500 |\n",
       "| -0.8049910 |  0.6010623 |  0.94666014 | -0.15001445 | -0.0248337 |  0.2073651 | -1.2202014 | -1.30269106 | -0.80810337 |  0.39173406 |\n",
       "\n"
      ],
      "text/plain": [
       "     [,1]       [,2]       [,3]        [,4]        [,5]       [,6]      \n",
       "[1,] -1.8256814 -0.1174426 -0.04164722  0.35180444  1.3619220  0.7319327\n",
       "[2,]  0.2688495  0.6200021  0.98226915 -0.75525573  0.3608686  1.6662047\n",
       "[3,]  0.6777329  0.4105477  1.61997069  0.00105218 -0.1859264 -1.0831533\n",
       "[4,]  0.8231561  0.4956478  0.58663857 -1.31688328  1.1018949 -0.2817486\n",
       "[5,] -0.6894078  1.1172485  0.01647177 -0.20857370  0.2258124 -1.5204248\n",
       "[6,] -0.8049910  0.6010623  0.94666014 -0.15001445 -0.0248337  0.2073651\n",
       "     [,7]       [,8]        [,9]        [,10]      \n",
       "[1,]  0.2272463  0.92189204  0.35758636  0.03645931\n",
       "[2,]  1.7220392  0.73220464 -1.05017427 -0.05005634\n",
       "[3,]  1.0122380  0.45175381 -0.23750452  0.87307661\n",
       "[4,] -0.3561922 -0.06705255  0.08478662  0.04455286\n",
       "[5,]  0.2913901 -0.82511718 -1.08685263 -0.68162500\n",
       "[6,] -1.2202014 -1.30269106 -0.80810337  0.39173406"
      ]
     },
     "metadata": {},
     "output_type": "display_data"
    }
   ],
   "source": [
    "# Membuat data multivariat normal\n",
    "# - Menggunakan fungsi mvrnorm dari package MASS\n",
    "# - Menghasilkan matriks N×10 (100 observasi, 10 variabel)\n",
    "# - Mean setiap variabel = 0 (rep(0,10))\n",
    "# - Struktur korelasi antar variabel mengikuti matriks Sigma\n",
    "x_mvrnorm <- mvrnorm(N, rep(0,10), Sigma)\n",
    "head(x_mvrnorm)"
   ]
  },
  {
   "cell_type": "code",
   "execution_count": 32,
   "metadata": {
    "vscode": {
     "languageId": "r"
    }
   },
   "outputs": [
    {
     "data": {
      "text/html": [
       "<table class=\"dataframe\">\n",
       "<caption>A matrix: 6 × 10 of type dbl</caption>\n",
       "<tbody>\n",
       "\t<tr><td>-1.8256814</td><td>-0.1174426</td><td>0</td><td>1</td><td>4</td><td> 0.7319327</td><td> 0.2272463</td><td>1</td><td>0</td><td>3</td></tr>\n",
       "\t<tr><td> 0.2688495</td><td> 0.6200021</td><td>1</td><td>0</td><td>3</td><td> 1.6662047</td><td> 1.7220392</td><td>1</td><td>0</td><td>2</td></tr>\n",
       "\t<tr><td> 0.6777329</td><td> 0.4105477</td><td>1</td><td>1</td><td>2</td><td>-1.0831533</td><td> 1.0122380</td><td>1</td><td>0</td><td>3</td></tr>\n",
       "\t<tr><td> 0.8231561</td><td> 0.4956478</td><td>1</td><td>0</td><td>4</td><td>-0.2817486</td><td>-0.3561922</td><td>1</td><td>0</td><td>3</td></tr>\n",
       "\t<tr><td>-0.6894078</td><td> 1.1172485</td><td>0</td><td>0</td><td>3</td><td>-1.5204248</td><td> 0.2913901</td><td>0</td><td>0</td><td>2</td></tr>\n",
       "\t<tr><td>-0.8049910</td><td> 0.6010623</td><td>1</td><td>0</td><td>2</td><td> 0.2073651</td><td>-1.2202014</td><td>0</td><td>0</td><td>3</td></tr>\n",
       "</tbody>\n",
       "</table>\n"
      ],
      "text/latex": [
       "A matrix: 6 × 10 of type dbl\n",
       "\\begin{tabular}{llllllllll}\n",
       "\t -1.8256814 & -0.1174426 & 0 & 1 & 4 &  0.7319327 &  0.2272463 & 1 & 0 & 3\\\\\n",
       "\t  0.2688495 &  0.6200021 & 1 & 0 & 3 &  1.6662047 &  1.7220392 & 1 & 0 & 2\\\\\n",
       "\t  0.6777329 &  0.4105477 & 1 & 1 & 2 & -1.0831533 &  1.0122380 & 1 & 0 & 3\\\\\n",
       "\t  0.8231561 &  0.4956478 & 1 & 0 & 4 & -0.2817486 & -0.3561922 & 1 & 0 & 3\\\\\n",
       "\t -0.6894078 &  1.1172485 & 0 & 0 & 3 & -1.5204248 &  0.2913901 & 0 & 0 & 2\\\\\n",
       "\t -0.8049910 &  0.6010623 & 1 & 0 & 2 &  0.2073651 & -1.2202014 & 0 & 0 & 3\\\\\n",
       "\\end{tabular}\n"
      ],
      "text/markdown": [
       "\n",
       "A matrix: 6 × 10 of type dbl\n",
       "\n",
       "| -1.8256814 | -0.1174426 | 0 | 1 | 4 |  0.7319327 |  0.2272463 | 1 | 0 | 3 |\n",
       "|  0.2688495 |  0.6200021 | 1 | 0 | 3 |  1.6662047 |  1.7220392 | 1 | 0 | 2 |\n",
       "|  0.6777329 |  0.4105477 | 1 | 1 | 2 | -1.0831533 |  1.0122380 | 1 | 0 | 3 |\n",
       "|  0.8231561 |  0.4956478 | 1 | 0 | 4 | -0.2817486 | -0.3561922 | 1 | 0 | 3 |\n",
       "| -0.6894078 |  1.1172485 | 0 | 0 | 3 | -1.5204248 |  0.2913901 | 0 | 0 | 2 |\n",
       "| -0.8049910 |  0.6010623 | 1 | 0 | 2 |  0.2073651 | -1.2202014 | 0 | 0 | 3 |\n",
       "\n"
      ],
      "text/plain": [
       "     [,1]       [,2]       [,3] [,4] [,5] [,6]       [,7]       [,8] [,9] [,10]\n",
       "[1,] -1.8256814 -0.1174426 0    1    4     0.7319327  0.2272463 1    0    3    \n",
       "[2,]  0.2688495  0.6200021 1    0    3     1.6662047  1.7220392 1    0    2    \n",
       "[3,]  0.6777329  0.4105477 1    1    2    -1.0831533  1.0122380 1    0    3    \n",
       "[4,]  0.8231561  0.4956478 1    0    4    -0.2817486 -0.3561922 1    0    3    \n",
       "[5,] -0.6894078  1.1172485 0    0    3    -1.5204248  0.2913901 0    0    2    \n",
       "[6,] -0.8049910  0.6010623 1    0    2     0.2073651 -1.2202014 0    0    3    "
      ]
     },
     "metadata": {},
     "output_type": "display_data"
    }
   ],
   "source": [
    "# Mengubah beberapa variabel kontinyu menjadi kategorik\n",
    "# Mengubah x3 menjadi biner dengan threshold 0.5\n",
    "# Mengubah x4 menjadi biner dengan threshold 0\n",
    "# Mengubah x5 menjadi kategorik 4 level\n",
    "# Mengubah x8 menjadi biner dengan threshold -0.5\n",
    "# Mengubah x9 menjadi biner dengan threshold 0.5\n",
    "# Mengubah x10 menjadi kategorik 4 level\n",
    "x_mvrnorm[,3] <- ifelse(x_mvrnorm[,3] > 0.5, 1, 0)\n",
    "x_mvrnorm[,4] <- ifelse(x_mvrnorm[,4] > 0, 1, 0)      \n",
    "x_mvrnorm[,5] <- cut(x_mvrnorm[,5], breaks=c(-Inf, -1, 0, 1, Inf), labels = FALSE)  \n",
    "x_mvrnorm[,8] <- ifelse(x_mvrnorm[,8] > -0.5, 1, 0)   \n",
    "x_mvrnorm[,9] <- ifelse(x_mvrnorm[,9] > 0.5, 1, 0)    \n",
    "x_mvrnorm[,10] <- cut(x_mvrnorm[,10], breaks=c(-Inf, -1, 0, 1, Inf), labels = FALSE) \n",
    "head(x_mvrnorm)"
   ]
  },
  {
   "cell_type": "code",
   "execution_count": 33,
   "metadata": {
    "vscode": {
     "languageId": "r"
    }
   },
   "outputs": [
    {
     "data": {
      "text/html": [
       "<table class=\"dataframe\">\n",
       "<caption>A data.frame: 6 × 10</caption>\n",
       "<thead>\n",
       "\t<tr><th></th><th scope=col>x1</th><th scope=col>x2</th><th scope=col>x3</th><th scope=col>x4</th><th scope=col>x5</th><th scope=col>z1</th><th scope=col>z2</th><th scope=col>z3</th><th scope=col>z4</th><th scope=col>z5</th></tr>\n",
       "\t<tr><th></th><th scope=col>&lt;dbl&gt;</th><th scope=col>&lt;dbl&gt;</th><th scope=col>&lt;dbl&gt;</th><th scope=col>&lt;dbl&gt;</th><th scope=col>&lt;dbl&gt;</th><th scope=col>&lt;dbl&gt;</th><th scope=col>&lt;dbl&gt;</th><th scope=col>&lt;dbl&gt;</th><th scope=col>&lt;dbl&gt;</th><th scope=col>&lt;dbl&gt;</th></tr>\n",
       "</thead>\n",
       "<tbody>\n",
       "\t<tr><th scope=row>1</th><td>-1.8256814</td><td>-0.1174426</td><td>0</td><td>1</td><td>4</td><td> 0.7319327</td><td> 0.2272463</td><td>1</td><td>0</td><td>3</td></tr>\n",
       "\t<tr><th scope=row>2</th><td> 0.2688495</td><td> 0.6200021</td><td>1</td><td>0</td><td>3</td><td> 1.6662047</td><td> 1.7220392</td><td>1</td><td>0</td><td>2</td></tr>\n",
       "\t<tr><th scope=row>3</th><td> 0.6777329</td><td> 0.4105477</td><td>1</td><td>1</td><td>2</td><td>-1.0831533</td><td> 1.0122380</td><td>1</td><td>0</td><td>3</td></tr>\n",
       "\t<tr><th scope=row>4</th><td> 0.8231561</td><td> 0.4956478</td><td>1</td><td>0</td><td>4</td><td>-0.2817486</td><td>-0.3561922</td><td>1</td><td>0</td><td>3</td></tr>\n",
       "\t<tr><th scope=row>5</th><td>-0.6894078</td><td> 1.1172485</td><td>0</td><td>0</td><td>3</td><td>-1.5204248</td><td> 0.2913901</td><td>0</td><td>0</td><td>2</td></tr>\n",
       "\t<tr><th scope=row>6</th><td>-0.8049910</td><td> 0.6010623</td><td>1</td><td>0</td><td>2</td><td> 0.2073651</td><td>-1.2202014</td><td>0</td><td>0</td><td>3</td></tr>\n",
       "</tbody>\n",
       "</table>\n"
      ],
      "text/latex": [
       "A data.frame: 6 × 10\n",
       "\\begin{tabular}{r|llllllllll}\n",
       "  & x1 & x2 & x3 & x4 & x5 & z1 & z2 & z3 & z4 & z5\\\\\n",
       "  & <dbl> & <dbl> & <dbl> & <dbl> & <dbl> & <dbl> & <dbl> & <dbl> & <dbl> & <dbl>\\\\\n",
       "\\hline\n",
       "\t1 & -1.8256814 & -0.1174426 & 0 & 1 & 4 &  0.7319327 &  0.2272463 & 1 & 0 & 3\\\\\n",
       "\t2 &  0.2688495 &  0.6200021 & 1 & 0 & 3 &  1.6662047 &  1.7220392 & 1 & 0 & 2\\\\\n",
       "\t3 &  0.6777329 &  0.4105477 & 1 & 1 & 2 & -1.0831533 &  1.0122380 & 1 & 0 & 3\\\\\n",
       "\t4 &  0.8231561 &  0.4956478 & 1 & 0 & 4 & -0.2817486 & -0.3561922 & 1 & 0 & 3\\\\\n",
       "\t5 & -0.6894078 &  1.1172485 & 0 & 0 & 3 & -1.5204248 &  0.2913901 & 0 & 0 & 2\\\\\n",
       "\t6 & -0.8049910 &  0.6010623 & 1 & 0 & 2 &  0.2073651 & -1.2202014 & 0 & 0 & 3\\\\\n",
       "\\end{tabular}\n"
      ],
      "text/markdown": [
       "\n",
       "A data.frame: 6 × 10\n",
       "\n",
       "| <!--/--> | x1 &lt;dbl&gt; | x2 &lt;dbl&gt; | x3 &lt;dbl&gt; | x4 &lt;dbl&gt; | x5 &lt;dbl&gt; | z1 &lt;dbl&gt; | z2 &lt;dbl&gt; | z3 &lt;dbl&gt; | z4 &lt;dbl&gt; | z5 &lt;dbl&gt; |\n",
       "|---|---|---|---|---|---|---|---|---|---|---|\n",
       "| 1 | -1.8256814 | -0.1174426 | 0 | 1 | 4 |  0.7319327 |  0.2272463 | 1 | 0 | 3 |\n",
       "| 2 |  0.2688495 |  0.6200021 | 1 | 0 | 3 |  1.6662047 |  1.7220392 | 1 | 0 | 2 |\n",
       "| 3 |  0.6777329 |  0.4105477 | 1 | 1 | 2 | -1.0831533 |  1.0122380 | 1 | 0 | 3 |\n",
       "| 4 |  0.8231561 |  0.4956478 | 1 | 0 | 4 | -0.2817486 | -0.3561922 | 1 | 0 | 3 |\n",
       "| 5 | -0.6894078 |  1.1172485 | 0 | 0 | 3 | -1.5204248 |  0.2913901 | 0 | 0 | 2 |\n",
       "| 6 | -0.8049910 |  0.6010623 | 1 | 0 | 2 |  0.2073651 | -1.2202014 | 0 | 0 | 3 |\n",
       "\n"
      ],
      "text/plain": [
       "  x1         x2         x3 x4 x5 z1         z2         z3 z4 z5\n",
       "1 -1.8256814 -0.1174426 0  1  4   0.7319327  0.2272463 1  0  3 \n",
       "2  0.2688495  0.6200021 1  0  3   1.6662047  1.7220392 1  0  2 \n",
       "3  0.6777329  0.4105477 1  1  2  -1.0831533  1.0122380 1  0  3 \n",
       "4  0.8231561  0.4956478 1  0  4  -0.2817486 -0.3561922 1  0  3 \n",
       "5 -0.6894078  1.1172485 0  0  3  -1.5204248  0.2913901 0  0  2 \n",
       "6 -0.8049910  0.6010623 1  0  2   0.2073651 -1.2202014 0  0  3 "
      ]
     },
     "metadata": {},
     "output_type": "display_data"
    }
   ],
   "source": [
    "# Mengubah matriks x menjadi data frame dan memberi nama kolom\n",
    "data.cont.complete <- data.frame(x_mvrnorm)\n",
    "colnames(data.cont.complete) <- c(paste0(\"x\", 1:5), paste0(\"z\", 1:5))\n",
    "\n",
    "head(data.cont.complete)"
   ]
  },
  {
   "cell_type": "code",
   "execution_count": 34,
   "metadata": {
    "vscode": {
     "languageId": "r"
    }
   },
   "outputs": [
    {
     "data": {
      "text/html": [
       "<table class=\"dataframe\">\n",
       "<caption>A data.frame: 6 × 11</caption>\n",
       "<thead>\n",
       "\t<tr><th></th><th scope=col>x1</th><th scope=col>x2</th><th scope=col>x3</th><th scope=col>x4</th><th scope=col>x5</th><th scope=col>z1</th><th scope=col>z2</th><th scope=col>z3</th><th scope=col>z4</th><th scope=col>z5</th><th scope=col>y</th></tr>\n",
       "\t<tr><th></th><th scope=col>&lt;dbl&gt;</th><th scope=col>&lt;dbl&gt;</th><th scope=col>&lt;dbl&gt;</th><th scope=col>&lt;dbl&gt;</th><th scope=col>&lt;dbl&gt;</th><th scope=col>&lt;dbl&gt;</th><th scope=col>&lt;dbl&gt;</th><th scope=col>&lt;dbl&gt;</th><th scope=col>&lt;dbl&gt;</th><th scope=col>&lt;dbl&gt;</th><th scope=col>&lt;dbl&gt;</th></tr>\n",
       "</thead>\n",
       "<tbody>\n",
       "\t<tr><th scope=row>1</th><td>-1.8256814</td><td>-0.1174426</td><td>0</td><td>1</td><td>4</td><td> 0.7319327</td><td> 0.2272463</td><td>1</td><td>0</td><td>3</td><td>-1.2074773</td></tr>\n",
       "\t<tr><th scope=row>2</th><td> 0.2688495</td><td> 0.6200021</td><td>1</td><td>0</td><td>3</td><td> 1.6662047</td><td> 1.7220392</td><td>1</td><td>0</td><td>2</td><td> 1.6434017</td></tr>\n",
       "\t<tr><th scope=row>3</th><td> 0.6777329</td><td> 0.4105477</td><td>1</td><td>1</td><td>2</td><td>-1.0831533</td><td> 1.0122380</td><td>1</td><td>0</td><td>3</td><td> 1.5757554</td></tr>\n",
       "\t<tr><th scope=row>4</th><td> 0.8231561</td><td> 0.4956478</td><td>1</td><td>0</td><td>4</td><td>-0.2817486</td><td>-0.3561922</td><td>1</td><td>0</td><td>3</td><td> 0.9202520</td></tr>\n",
       "\t<tr><th scope=row>5</th><td>-0.6894078</td><td> 1.1172485</td><td>0</td><td>0</td><td>3</td><td>-1.5204248</td><td> 0.2913901</td><td>0</td><td>0</td><td>2</td><td>-1.0192352</td></tr>\n",
       "\t<tr><th scope=row>6</th><td>-0.8049910</td><td> 0.6010623</td><td>1</td><td>0</td><td>2</td><td> 0.2073651</td><td>-1.2202014</td><td>0</td><td>0</td><td>3</td><td>-0.5223372</td></tr>\n",
       "</tbody>\n",
       "</table>\n"
      ],
      "text/latex": [
       "A data.frame: 6 × 11\n",
       "\\begin{tabular}{r|lllllllllll}\n",
       "  & x1 & x2 & x3 & x4 & x5 & z1 & z2 & z3 & z4 & z5 & y\\\\\n",
       "  & <dbl> & <dbl> & <dbl> & <dbl> & <dbl> & <dbl> & <dbl> & <dbl> & <dbl> & <dbl> & <dbl>\\\\\n",
       "\\hline\n",
       "\t1 & -1.8256814 & -0.1174426 & 0 & 1 & 4 &  0.7319327 &  0.2272463 & 1 & 0 & 3 & -1.2074773\\\\\n",
       "\t2 &  0.2688495 &  0.6200021 & 1 & 0 & 3 &  1.6662047 &  1.7220392 & 1 & 0 & 2 &  1.6434017\\\\\n",
       "\t3 &  0.6777329 &  0.4105477 & 1 & 1 & 2 & -1.0831533 &  1.0122380 & 1 & 0 & 3 &  1.5757554\\\\\n",
       "\t4 &  0.8231561 &  0.4956478 & 1 & 0 & 4 & -0.2817486 & -0.3561922 & 1 & 0 & 3 &  0.9202520\\\\\n",
       "\t5 & -0.6894078 &  1.1172485 & 0 & 0 & 3 & -1.5204248 &  0.2913901 & 0 & 0 & 2 & -1.0192352\\\\\n",
       "\t6 & -0.8049910 &  0.6010623 & 1 & 0 & 2 &  0.2073651 & -1.2202014 & 0 & 0 & 3 & -0.5223372\\\\\n",
       "\\end{tabular}\n"
      ],
      "text/markdown": [
       "\n",
       "A data.frame: 6 × 11\n",
       "\n",
       "| <!--/--> | x1 &lt;dbl&gt; | x2 &lt;dbl&gt; | x3 &lt;dbl&gt; | x4 &lt;dbl&gt; | x5 &lt;dbl&gt; | z1 &lt;dbl&gt; | z2 &lt;dbl&gt; | z3 &lt;dbl&gt; | z4 &lt;dbl&gt; | z5 &lt;dbl&gt; | y &lt;dbl&gt; |\n",
       "|---|---|---|---|---|---|---|---|---|---|---|---|\n",
       "| 1 | -1.8256814 | -0.1174426 | 0 | 1 | 4 |  0.7319327 |  0.2272463 | 1 | 0 | 3 | -1.2074773 |\n",
       "| 2 |  0.2688495 |  0.6200021 | 1 | 0 | 3 |  1.6662047 |  1.7220392 | 1 | 0 | 2 |  1.6434017 |\n",
       "| 3 |  0.6777329 |  0.4105477 | 1 | 1 | 2 | -1.0831533 |  1.0122380 | 1 | 0 | 3 |  1.5757554 |\n",
       "| 4 |  0.8231561 |  0.4956478 | 1 | 0 | 4 | -0.2817486 | -0.3561922 | 1 | 0 | 3 |  0.9202520 |\n",
       "| 5 | -0.6894078 |  1.1172485 | 0 | 0 | 3 | -1.5204248 |  0.2913901 | 0 | 0 | 2 | -1.0192352 |\n",
       "| 6 | -0.8049910 |  0.6010623 | 1 | 0 | 2 |  0.2073651 | -1.2202014 | 0 | 0 | 3 | -0.5223372 |\n",
       "\n"
      ],
      "text/plain": [
       "  x1         x2         x3 x4 x5 z1         z2         z3 z4 z5 y         \n",
       "1 -1.8256814 -0.1174426 0  1  4   0.7319327  0.2272463 1  0  3  -1.2074773\n",
       "2  0.2688495  0.6200021 1  0  3   1.6662047  1.7220392 1  0  2   1.6434017\n",
       "3  0.6777329  0.4105477 1  1  2  -1.0831533  1.0122380 1  0  3   1.5757554\n",
       "4  0.8231561  0.4956478 1  0  4  -0.2817486 -0.3561922 1  0  3   0.9202520\n",
       "5 -0.6894078  1.1172485 0  0  3  -1.5204248  0.2913901 0  0  2  -1.0192352\n",
       "6 -0.8049910  0.6010623 1  0  2   0.2073651 -1.2202014 0  0  3  -0.5223372"
      ]
     },
     "metadata": {},
     "output_type": "display_data"
    }
   ],
   "source": [
    "# Membuat variabel respon (y)\n",
    "# dengan hubungan non-linear dengan masing-masing prediktornya\n",
    "# Komponen dalam pembuatan y:\n",
    "# - Efek linear: x1, x2\n",
    "# - Efek kuadratik: x1^2, x2^2\n",
    "# - Efek variabel biner: x3, x4\n",
    "# - Efek kategorik x5:\n",
    "#   * Level 2: +0.2\n",
    "#   * Level 3: -0.1\n",
    "#   * Level 4: +0.4\n",
    "#   * Level 1: 0 (kategori referensi)\n",
    "# - Random error: rnorm(N,0,1) untuk menambahkan noise\n",
    "\n",
    "data.cont.complete$y <- with(\n",
    "  data.cont.complete,\n",
    "  x1 + 0.2*x1^2 + 0.5*x2 - 0.2*x2^2 + 0.3*x3 + 0.2*x4 + 0.2*(x5==2) - 0.1*(x5==3) + 0.4*(x5==4) + rnorm(N,0,1)\n",
    ")\n",
    "\n",
    "head(data.cont.complete)"
   ]
  },
  {
   "cell_type": "code",
   "execution_count": 35,
   "metadata": {
    "vscode": {
     "languageId": "r"
    }
   },
   "outputs": [
    {
     "data": {
      "text/html": [
       "<table class=\"dataframe\">\n",
       "<caption>A data.frame: 6 × 11</caption>\n",
       "<thead>\n",
       "\t<tr><th></th><th scope=col>x1</th><th scope=col>x2</th><th scope=col>x3</th><th scope=col>x4</th><th scope=col>x5</th><th scope=col>z1</th><th scope=col>z2</th><th scope=col>z3</th><th scope=col>z4</th><th scope=col>z5</th><th scope=col>y</th></tr>\n",
       "\t<tr><th></th><th scope=col>&lt;dbl&gt;</th><th scope=col>&lt;dbl&gt;</th><th scope=col>&lt;fct&gt;</th><th scope=col>&lt;fct&gt;</th><th scope=col>&lt;fct&gt;</th><th scope=col>&lt;dbl&gt;</th><th scope=col>&lt;dbl&gt;</th><th scope=col>&lt;fct&gt;</th><th scope=col>&lt;fct&gt;</th><th scope=col>&lt;fct&gt;</th><th scope=col>&lt;dbl&gt;</th></tr>\n",
       "</thead>\n",
       "<tbody>\n",
       "\t<tr><th scope=row>1</th><td>-1.8256814</td><td>-0.1174426</td><td>0</td><td>1</td><td>4</td><td> 0.7319327</td><td> 0.2272463</td><td>1</td><td>0</td><td>3</td><td>-1.2074773</td></tr>\n",
       "\t<tr><th scope=row>2</th><td> 0.2688495</td><td> 0.6200021</td><td>1</td><td>0</td><td>3</td><td> 1.6662047</td><td> 1.7220392</td><td>1</td><td>0</td><td>2</td><td> 1.6434017</td></tr>\n",
       "\t<tr><th scope=row>3</th><td> 0.6777329</td><td> 0.4105477</td><td>1</td><td>1</td><td>2</td><td>-1.0831533</td><td> 1.0122380</td><td>1</td><td>0</td><td>3</td><td> 1.5757554</td></tr>\n",
       "\t<tr><th scope=row>4</th><td> 0.8231561</td><td> 0.4956478</td><td>1</td><td>0</td><td>4</td><td>-0.2817486</td><td>-0.3561922</td><td>1</td><td>0</td><td>3</td><td> 0.9202520</td></tr>\n",
       "\t<tr><th scope=row>5</th><td>-0.6894078</td><td> 1.1172485</td><td>0</td><td>0</td><td>3</td><td>-1.5204248</td><td> 0.2913901</td><td>0</td><td>0</td><td>2</td><td>-1.0192352</td></tr>\n",
       "\t<tr><th scope=row>6</th><td>-0.8049910</td><td> 0.6010623</td><td>1</td><td>0</td><td>2</td><td> 0.2073651</td><td>-1.2202014</td><td>0</td><td>0</td><td>3</td><td>-0.5223372</td></tr>\n",
       "</tbody>\n",
       "</table>\n"
      ],
      "text/latex": [
       "A data.frame: 6 × 11\n",
       "\\begin{tabular}{r|lllllllllll}\n",
       "  & x1 & x2 & x3 & x4 & x5 & z1 & z2 & z3 & z4 & z5 & y\\\\\n",
       "  & <dbl> & <dbl> & <fct> & <fct> & <fct> & <dbl> & <dbl> & <fct> & <fct> & <fct> & <dbl>\\\\\n",
       "\\hline\n",
       "\t1 & -1.8256814 & -0.1174426 & 0 & 1 & 4 &  0.7319327 &  0.2272463 & 1 & 0 & 3 & -1.2074773\\\\\n",
       "\t2 &  0.2688495 &  0.6200021 & 1 & 0 & 3 &  1.6662047 &  1.7220392 & 1 & 0 & 2 &  1.6434017\\\\\n",
       "\t3 &  0.6777329 &  0.4105477 & 1 & 1 & 2 & -1.0831533 &  1.0122380 & 1 & 0 & 3 &  1.5757554\\\\\n",
       "\t4 &  0.8231561 &  0.4956478 & 1 & 0 & 4 & -0.2817486 & -0.3561922 & 1 & 0 & 3 &  0.9202520\\\\\n",
       "\t5 & -0.6894078 &  1.1172485 & 0 & 0 & 3 & -1.5204248 &  0.2913901 & 0 & 0 & 2 & -1.0192352\\\\\n",
       "\t6 & -0.8049910 &  0.6010623 & 1 & 0 & 2 &  0.2073651 & -1.2202014 & 0 & 0 & 3 & -0.5223372\\\\\n",
       "\\end{tabular}\n"
      ],
      "text/markdown": [
       "\n",
       "A data.frame: 6 × 11\n",
       "\n",
       "| <!--/--> | x1 &lt;dbl&gt; | x2 &lt;dbl&gt; | x3 &lt;fct&gt; | x4 &lt;fct&gt; | x5 &lt;fct&gt; | z1 &lt;dbl&gt; | z2 &lt;dbl&gt; | z3 &lt;fct&gt; | z4 &lt;fct&gt; | z5 &lt;fct&gt; | y &lt;dbl&gt; |\n",
       "|---|---|---|---|---|---|---|---|---|---|---|---|\n",
       "| 1 | -1.8256814 | -0.1174426 | 0 | 1 | 4 |  0.7319327 |  0.2272463 | 1 | 0 | 3 | -1.2074773 |\n",
       "| 2 |  0.2688495 |  0.6200021 | 1 | 0 | 3 |  1.6662047 |  1.7220392 | 1 | 0 | 2 |  1.6434017 |\n",
       "| 3 |  0.6777329 |  0.4105477 | 1 | 1 | 2 | -1.0831533 |  1.0122380 | 1 | 0 | 3 |  1.5757554 |\n",
       "| 4 |  0.8231561 |  0.4956478 | 1 | 0 | 4 | -0.2817486 | -0.3561922 | 1 | 0 | 3 |  0.9202520 |\n",
       "| 5 | -0.6894078 |  1.1172485 | 0 | 0 | 3 | -1.5204248 |  0.2913901 | 0 | 0 | 2 | -1.0192352 |\n",
       "| 6 | -0.8049910 |  0.6010623 | 1 | 0 | 2 |  0.2073651 | -1.2202014 | 0 | 0 | 3 | -0.5223372 |\n",
       "\n"
      ],
      "text/plain": [
       "  x1         x2         x3 x4 x5 z1         z2         z3 z4 z5 y         \n",
       "1 -1.8256814 -0.1174426 0  1  4   0.7319327  0.2272463 1  0  3  -1.2074773\n",
       "2  0.2688495  0.6200021 1  0  3   1.6662047  1.7220392 1  0  2   1.6434017\n",
       "3  0.6777329  0.4105477 1  1  2  -1.0831533  1.0122380 1  0  3   1.5757554\n",
       "4  0.8231561  0.4956478 1  0  4  -0.2817486 -0.3561922 1  0  3   0.9202520\n",
       "5 -0.6894078  1.1172485 0  0  3  -1.5204248  0.2913901 0  0  2  -1.0192352\n",
       "6 -0.8049910  0.6010623 1  0  2   0.2073651 -1.2202014 0  0  3  -0.5223372"
      ]
     },
     "metadata": {},
     "output_type": "display_data"
    }
   ],
   "source": [
    "# Mengubah variabel kategorik menjadi faktor\n",
    "# - Kolom 3,4,8,9: variabel biner (0/1)\n",
    "# - Kolom 5,10: variabel kategorik (1-4)\n",
    "# - Kesimpulan: variabel yang dirubah yaitu 3-5 dan 8-10\n",
    "# Data ini cocok untuk:\n",
    "# - Simulasi model regresi\n",
    "# - Pengujian metode statistik\n",
    "# - Studi simulasi dengan prediktor campuran (kontinyu, biner, kategorik)\n",
    "data.cont.complete[,c(3:5, 8:10)] <- lapply(\n",
    "    data.cont.complete[,c(3:5, 8:10)],\n",
    "    factor\n",
    ")\n",
    "head(data.cont.complete)"
   ]
  },
  {
   "cell_type": "markdown",
   "metadata": {},
   "source": [
    "### Simulasi _Missing Data_"
   ]
  },
  {
   "cell_type": "code",
   "execution_count": null,
   "metadata": {
    "vscode": {
     "languageId": "r"
    }
   },
   "outputs": [
    {
     "data": {
      "text/html": [
       "<table class=\"dataframe\">\n",
       "<caption>A matrix: 6 × 11 of type dbl</caption>\n",
       "<tbody>\n",
       "\t<tr><td>0</td><td>0</td><td>0</td><td>0</td><td>0</td><td>0</td><td>0</td><td>0</td><td>0</td><td>0</td><td>0</td></tr>\n",
       "\t<tr><td>0</td><td>0</td><td>0</td><td>0</td><td>0</td><td>0</td><td>0</td><td>0</td><td>0</td><td>0</td><td>0</td></tr>\n",
       "\t<tr><td>0</td><td>0</td><td>0</td><td>0</td><td>0</td><td>0</td><td>0</td><td>0</td><td>0</td><td>0</td><td>0</td></tr>\n",
       "\t<tr><td>0</td><td>0</td><td>0</td><td>0</td><td>0</td><td>0</td><td>0</td><td>0</td><td>0</td><td>0</td><td>0</td></tr>\n",
       "\t<tr><td>0</td><td>0</td><td>0</td><td>0</td><td>0</td><td>0</td><td>0</td><td>0</td><td>0</td><td>0</td><td>0</td></tr>\n",
       "\t<tr><td>0</td><td>0</td><td>0</td><td>0</td><td>0</td><td>0</td><td>0</td><td>0</td><td>0</td><td>0</td><td>0</td></tr>\n",
       "</tbody>\n",
       "</table>\n"
      ],
      "text/latex": [
       "A matrix: 6 × 11 of type dbl\n",
       "\\begin{tabular}{lllllllllll}\n",
       "\t 0 & 0 & 0 & 0 & 0 & 0 & 0 & 0 & 0 & 0 & 0\\\\\n",
       "\t 0 & 0 & 0 & 0 & 0 & 0 & 0 & 0 & 0 & 0 & 0\\\\\n",
       "\t 0 & 0 & 0 & 0 & 0 & 0 & 0 & 0 & 0 & 0 & 0\\\\\n",
       "\t 0 & 0 & 0 & 0 & 0 & 0 & 0 & 0 & 0 & 0 & 0\\\\\n",
       "\t 0 & 0 & 0 & 0 & 0 & 0 & 0 & 0 & 0 & 0 & 0\\\\\n",
       "\t 0 & 0 & 0 & 0 & 0 & 0 & 0 & 0 & 0 & 0 & 0\\\\\n",
       "\\end{tabular}\n"
      ],
      "text/markdown": [
       "\n",
       "A matrix: 6 × 11 of type dbl\n",
       "\n",
       "| 0 | 0 | 0 | 0 | 0 | 0 | 0 | 0 | 0 | 0 | 0 |\n",
       "| 0 | 0 | 0 | 0 | 0 | 0 | 0 | 0 | 0 | 0 | 0 |\n",
       "| 0 | 0 | 0 | 0 | 0 | 0 | 0 | 0 | 0 | 0 | 0 |\n",
       "| 0 | 0 | 0 | 0 | 0 | 0 | 0 | 0 | 0 | 0 | 0 |\n",
       "| 0 | 0 | 0 | 0 | 0 | 0 | 0 | 0 | 0 | 0 | 0 |\n",
       "| 0 | 0 | 0 | 0 | 0 | 0 | 0 | 0 | 0 | 0 | 0 |\n",
       "\n"
      ],
      "text/plain": [
       "     [,1] [,2] [,3] [,4] [,5] [,6] [,7] [,8] [,9] [,10] [,11]\n",
       "[1,] 0    0    0    0    0    0    0    0    0    0     0    \n",
       "[2,] 0    0    0    0    0    0    0    0    0    0     0    \n",
       "[3,] 0    0    0    0    0    0    0    0    0    0     0    \n",
       "[4,] 0    0    0    0    0    0    0    0    0    0     0    \n",
       "[5,] 0    0    0    0    0    0    0    0    0    0     0    \n",
       "[6,] 0    0    0    0    0    0    0    0    0    0     0    "
      ]
     },
     "metadata": {},
     "output_type": "display_data"
    },
    {
     "data": {
      "text/html": [
       "1100"
      ],
      "text/latex": [
       "1100"
      ],
      "text/markdown": [
       "1100"
      ],
      "text/plain": [
       "[1] 1100"
      ]
     },
     "metadata": {},
     "output_type": "display_data"
    }
   ],
   "source": [
    "# Step 1: Create matrix of zeros with same dimensions as our data (data.cont.complete)\n",
    "missing.matrix = matrix(0, nrow=nrow(data.cont.complete), ncol=ncol(data.cont.complete))\n",
    "head(missing.matrix)\n",
    "length(missing.matrix) # 11 variabel x 100 observasi = 1100 data "
   ]
  },
  {
   "cell_type": "code",
   "execution_count": 46,
   "metadata": {
    "vscode": {
     "languageId": "r"
    }
   },
   "outputs": [
    {
     "data": {
      "text/html": [
       "<table class=\"dataframe\">\n",
       "<caption>A matrix: 6 × 11 of type int</caption>\n",
       "<tbody>\n",
       "\t<tr><td>0</td><td>0</td><td>0</td><td>0</td><td>0</td><td>1</td><td>0</td><td>0</td><td>0</td><td>0</td><td>0</td></tr>\n",
       "\t<tr><td>0</td><td>0</td><td>0</td><td>0</td><td>0</td><td>1</td><td>0</td><td>0</td><td>0</td><td>0</td><td>0</td></tr>\n",
       "\t<tr><td>0</td><td>0</td><td>0</td><td>0</td><td>0</td><td>1</td><td>0</td><td>1</td><td>0</td><td>0</td><td>0</td></tr>\n",
       "\t<tr><td>1</td><td>0</td><td>0</td><td>0</td><td>0</td><td>0</td><td>1</td><td>0</td><td>0</td><td>0</td><td>0</td></tr>\n",
       "\t<tr><td>0</td><td>0</td><td>0</td><td>0</td><td>0</td><td>0</td><td>0</td><td>0</td><td>0</td><td>0</td><td>0</td></tr>\n",
       "\t<tr><td>1</td><td>0</td><td>0</td><td>0</td><td>0</td><td>0</td><td>0</td><td>0</td><td>0</td><td>0</td><td>0</td></tr>\n",
       "</tbody>\n",
       "</table>\n"
      ],
      "text/latex": [
       "A matrix: 6 × 11 of type int\n",
       "\\begin{tabular}{lllllllllll}\n",
       "\t 0 & 0 & 0 & 0 & 0 & 1 & 0 & 0 & 0 & 0 & 0\\\\\n",
       "\t 0 & 0 & 0 & 0 & 0 & 1 & 0 & 0 & 0 & 0 & 0\\\\\n",
       "\t 0 & 0 & 0 & 0 & 0 & 1 & 0 & 1 & 0 & 0 & 0\\\\\n",
       "\t 1 & 0 & 0 & 0 & 0 & 0 & 1 & 0 & 0 & 0 & 0\\\\\n",
       "\t 0 & 0 & 0 & 0 & 0 & 0 & 0 & 0 & 0 & 0 & 0\\\\\n",
       "\t 1 & 0 & 0 & 0 & 0 & 0 & 0 & 0 & 0 & 0 & 0\\\\\n",
       "\\end{tabular}\n"
      ],
      "text/markdown": [
       "\n",
       "A matrix: 6 × 11 of type int\n",
       "\n",
       "| 0 | 0 | 0 | 0 | 0 | 1 | 0 | 0 | 0 | 0 | 0 |\n",
       "| 0 | 0 | 0 | 0 | 0 | 1 | 0 | 0 | 0 | 0 | 0 |\n",
       "| 0 | 0 | 0 | 0 | 0 | 1 | 0 | 1 | 0 | 0 | 0 |\n",
       "| 1 | 0 | 0 | 0 | 0 | 0 | 1 | 0 | 0 | 0 | 0 |\n",
       "| 0 | 0 | 0 | 0 | 0 | 0 | 0 | 0 | 0 | 0 | 0 |\n",
       "| 1 | 0 | 0 | 0 | 0 | 0 | 0 | 0 | 0 | 0 | 0 |\n",
       "\n"
      ],
      "text/plain": [
       "     [,1] [,2] [,3] [,4] [,5] [,6] [,7] [,8] [,9] [,10] [,11]\n",
       "[1,] 0    0    0    0    0    1    0    0    0    0     0    \n",
       "[2,] 0    0    0    0    0    1    0    0    0    0     0    \n",
       "[3,] 0    0    0    0    0    1    0    1    0    0     0    \n",
       "[4,] 1    0    0    0    0    0    1    0    0    0     0    \n",
       "[5,] 0    0    0    0    0    0    0    0    0    0     0    \n",
       "[6,] 1    0    0    0    0    0    0    0    0    0     0    "
      ]
     },
     "metadata": {},
     "output_type": "display_data"
    }
   ],
   "source": [
    "# Step 2: Fill matrix with random binary (0/1) using rbinom\n",
    "# rbinom(n, size=1, prob=0.1) menghasilkan bilangan random bernoulli (0 atau 1)\n",
    "# p=0.1 artinya ada 10% peluang mendapatkan nilai 1 (missing)\n",
    "# length(missing.matrix) adalah total sel dalam matriks\n",
    "missing.matrix = matrix(rbinom(length(missing.matrix), 1, p=0.1), nrow=nrow(data.cont.complete))\n",
    "head(missing.matrix)"
   ]
  },
  {
   "cell_type": "code",
   "execution_count": 48,
   "metadata": {
    "vscode": {
     "languageId": "r"
    }
   },
   "outputs": [
    {
     "data": {
      "text/html": [
       "<table class=\"dataframe\">\n",
       "<caption>A data.frame: 6 × 11</caption>\n",
       "<thead>\n",
       "\t<tr><th></th><th scope=col>x1</th><th scope=col>x2</th><th scope=col>x3</th><th scope=col>x4</th><th scope=col>x5</th><th scope=col>z1</th><th scope=col>z2</th><th scope=col>z3</th><th scope=col>z4</th><th scope=col>z5</th><th scope=col>y</th></tr>\n",
       "\t<tr><th></th><th scope=col>&lt;dbl&gt;</th><th scope=col>&lt;dbl&gt;</th><th scope=col>&lt;fct&gt;</th><th scope=col>&lt;fct&gt;</th><th scope=col>&lt;fct&gt;</th><th scope=col>&lt;dbl&gt;</th><th scope=col>&lt;dbl&gt;</th><th scope=col>&lt;fct&gt;</th><th scope=col>&lt;fct&gt;</th><th scope=col>&lt;fct&gt;</th><th scope=col>&lt;dbl&gt;</th></tr>\n",
       "</thead>\n",
       "<tbody>\n",
       "\t<tr><th scope=row>1</th><td>-1.8256814</td><td>-0.1174426</td><td>0</td><td>1</td><td>4</td><td> 0.7319327</td><td> 0.2272463</td><td>1</td><td>0</td><td>3</td><td>-1.2074773</td></tr>\n",
       "\t<tr><th scope=row>2</th><td> 0.2688495</td><td> 0.6200021</td><td>1</td><td>0</td><td>3</td><td> 1.6662047</td><td> 1.7220392</td><td>1</td><td>0</td><td>2</td><td> 1.6434017</td></tr>\n",
       "\t<tr><th scope=row>3</th><td> 0.6777329</td><td> 0.4105477</td><td>1</td><td>1</td><td>2</td><td>-1.0831533</td><td> 1.0122380</td><td>1</td><td>0</td><td>3</td><td> 1.5757554</td></tr>\n",
       "\t<tr><th scope=row>4</th><td> 0.8231561</td><td> 0.4956478</td><td>1</td><td>0</td><td>4</td><td>-0.2817486</td><td>-0.3561922</td><td>1</td><td>0</td><td>3</td><td> 0.9202520</td></tr>\n",
       "\t<tr><th scope=row>5</th><td>-0.6894078</td><td> 1.1172485</td><td>0</td><td>0</td><td>3</td><td>-1.5204248</td><td> 0.2913901</td><td>0</td><td>0</td><td>2</td><td>-1.0192352</td></tr>\n",
       "\t<tr><th scope=row>6</th><td>-0.8049910</td><td> 0.6010623</td><td>1</td><td>0</td><td>2</td><td> 0.2073651</td><td>-1.2202014</td><td>0</td><td>0</td><td>3</td><td>-0.5223372</td></tr>\n",
       "</tbody>\n",
       "</table>\n"
      ],
      "text/latex": [
       "A data.frame: 6 × 11\n",
       "\\begin{tabular}{r|lllllllllll}\n",
       "  & x1 & x2 & x3 & x4 & x5 & z1 & z2 & z3 & z4 & z5 & y\\\\\n",
       "  & <dbl> & <dbl> & <fct> & <fct> & <fct> & <dbl> & <dbl> & <fct> & <fct> & <fct> & <dbl>\\\\\n",
       "\\hline\n",
       "\t1 & -1.8256814 & -0.1174426 & 0 & 1 & 4 &  0.7319327 &  0.2272463 & 1 & 0 & 3 & -1.2074773\\\\\n",
       "\t2 &  0.2688495 &  0.6200021 & 1 & 0 & 3 &  1.6662047 &  1.7220392 & 1 & 0 & 2 &  1.6434017\\\\\n",
       "\t3 &  0.6777329 &  0.4105477 & 1 & 1 & 2 & -1.0831533 &  1.0122380 & 1 & 0 & 3 &  1.5757554\\\\\n",
       "\t4 &  0.8231561 &  0.4956478 & 1 & 0 & 4 & -0.2817486 & -0.3561922 & 1 & 0 & 3 &  0.9202520\\\\\n",
       "\t5 & -0.6894078 &  1.1172485 & 0 & 0 & 3 & -1.5204248 &  0.2913901 & 0 & 0 & 2 & -1.0192352\\\\\n",
       "\t6 & -0.8049910 &  0.6010623 & 1 & 0 & 2 &  0.2073651 & -1.2202014 & 0 & 0 & 3 & -0.5223372\\\\\n",
       "\\end{tabular}\n"
      ],
      "text/markdown": [
       "\n",
       "A data.frame: 6 × 11\n",
       "\n",
       "| <!--/--> | x1 &lt;dbl&gt; | x2 &lt;dbl&gt; | x3 &lt;fct&gt; | x4 &lt;fct&gt; | x5 &lt;fct&gt; | z1 &lt;dbl&gt; | z2 &lt;dbl&gt; | z3 &lt;fct&gt; | z4 &lt;fct&gt; | z5 &lt;fct&gt; | y &lt;dbl&gt; |\n",
       "|---|---|---|---|---|---|---|---|---|---|---|---|\n",
       "| 1 | -1.8256814 | -0.1174426 | 0 | 1 | 4 |  0.7319327 |  0.2272463 | 1 | 0 | 3 | -1.2074773 |\n",
       "| 2 |  0.2688495 |  0.6200021 | 1 | 0 | 3 |  1.6662047 |  1.7220392 | 1 | 0 | 2 |  1.6434017 |\n",
       "| 3 |  0.6777329 |  0.4105477 | 1 | 1 | 2 | -1.0831533 |  1.0122380 | 1 | 0 | 3 |  1.5757554 |\n",
       "| 4 |  0.8231561 |  0.4956478 | 1 | 0 | 4 | -0.2817486 | -0.3561922 | 1 | 0 | 3 |  0.9202520 |\n",
       "| 5 | -0.6894078 |  1.1172485 | 0 | 0 | 3 | -1.5204248 |  0.2913901 | 0 | 0 | 2 | -1.0192352 |\n",
       "| 6 | -0.8049910 |  0.6010623 | 1 | 0 | 2 |  0.2073651 | -1.2202014 | 0 | 0 | 3 | -0.5223372 |\n",
       "\n"
      ],
      "text/plain": [
       "  x1         x2         x3 x4 x5 z1         z2         z3 z4 z5 y         \n",
       "1 -1.8256814 -0.1174426 0  1  4   0.7319327  0.2272463 1  0  3  -1.2074773\n",
       "2  0.2688495  0.6200021 1  0  3   1.6662047  1.7220392 1  0  2   1.6434017\n",
       "3  0.6777329  0.4105477 1  1  2  -1.0831533  1.0122380 1  0  3   1.5757554\n",
       "4  0.8231561  0.4956478 1  0  4  -0.2817486 -0.3561922 1  0  3   0.9202520\n",
       "5 -0.6894078  1.1172485 0  0  3  -1.5204248  0.2913901 0  0  2  -1.0192352\n",
       "6 -0.8049910  0.6010623 1  0  2   0.2073651 -1.2202014 0  0  3  -0.5223372"
      ]
     },
     "metadata": {},
     "output_type": "display_data"
    }
   ],
   "source": [
    "# Step 3: Create copy of complete data ke data.cont\n",
    "data.cont = data.cont.complete\n",
    "head(data.cont)"
   ]
  },
  {
   "cell_type": "code",
   "execution_count": null,
   "metadata": {
    "vscode": {
     "languageId": "r"
    }
   },
   "outputs": [
    {
     "data": {
      "text/html": [
       "<table class=\"dataframe\">\n",
       "<caption>A data.frame: 6 × 11</caption>\n",
       "<thead>\n",
       "\t<tr><th></th><th scope=col>x1</th><th scope=col>x2</th><th scope=col>x3</th><th scope=col>x4</th><th scope=col>x5</th><th scope=col>z1</th><th scope=col>z2</th><th scope=col>z3</th><th scope=col>z4</th><th scope=col>z5</th><th scope=col>y</th></tr>\n",
       "\t<tr><th></th><th scope=col>&lt;dbl&gt;</th><th scope=col>&lt;dbl&gt;</th><th scope=col>&lt;fct&gt;</th><th scope=col>&lt;fct&gt;</th><th scope=col>&lt;fct&gt;</th><th scope=col>&lt;dbl&gt;</th><th scope=col>&lt;dbl&gt;</th><th scope=col>&lt;fct&gt;</th><th scope=col>&lt;fct&gt;</th><th scope=col>&lt;fct&gt;</th><th scope=col>&lt;dbl&gt;</th></tr>\n",
       "</thead>\n",
       "<tbody>\n",
       "\t<tr><th scope=row>1</th><td>-1.8256814</td><td>-0.1174426</td><td>0</td><td>1</td><td>4</td><td>        NA</td><td> 0.2272463</td><td>1 </td><td>0</td><td>3</td><td>-1.2074773</td></tr>\n",
       "\t<tr><th scope=row>2</th><td> 0.2688495</td><td> 0.6200021</td><td>1</td><td>0</td><td>3</td><td>        NA</td><td> 1.7220392</td><td>1 </td><td>0</td><td>2</td><td> 1.6434017</td></tr>\n",
       "\t<tr><th scope=row>3</th><td> 0.6777329</td><td> 0.4105477</td><td>1</td><td>1</td><td>2</td><td>        NA</td><td> 1.0122380</td><td>NA</td><td>0</td><td>3</td><td> 1.5757554</td></tr>\n",
       "\t<tr><th scope=row>4</th><td>        NA</td><td> 0.4956478</td><td>1</td><td>0</td><td>4</td><td>-0.2817486</td><td>        NA</td><td>1 </td><td>0</td><td>3</td><td> 0.9202520</td></tr>\n",
       "\t<tr><th scope=row>5</th><td>-0.6894078</td><td> 1.1172485</td><td>0</td><td>0</td><td>3</td><td>-1.5204248</td><td> 0.2913901</td><td>0 </td><td>0</td><td>2</td><td>-1.0192352</td></tr>\n",
       "\t<tr><th scope=row>6</th><td>        NA</td><td> 0.6010623</td><td>1</td><td>0</td><td>2</td><td> 0.2073651</td><td>-1.2202014</td><td>0 </td><td>0</td><td>3</td><td>-0.5223372</td></tr>\n",
       "</tbody>\n",
       "</table>\n"
      ],
      "text/latex": [
       "A data.frame: 6 × 11\n",
       "\\begin{tabular}{r|lllllllllll}\n",
       "  & x1 & x2 & x3 & x4 & x5 & z1 & z2 & z3 & z4 & z5 & y\\\\\n",
       "  & <dbl> & <dbl> & <fct> & <fct> & <fct> & <dbl> & <dbl> & <fct> & <fct> & <fct> & <dbl>\\\\\n",
       "\\hline\n",
       "\t1 & -1.8256814 & -0.1174426 & 0 & 1 & 4 &         NA &  0.2272463 & 1  & 0 & 3 & -1.2074773\\\\\n",
       "\t2 &  0.2688495 &  0.6200021 & 1 & 0 & 3 &         NA &  1.7220392 & 1  & 0 & 2 &  1.6434017\\\\\n",
       "\t3 &  0.6777329 &  0.4105477 & 1 & 1 & 2 &         NA &  1.0122380 & NA & 0 & 3 &  1.5757554\\\\\n",
       "\t4 &         NA &  0.4956478 & 1 & 0 & 4 & -0.2817486 &         NA & 1  & 0 & 3 &  0.9202520\\\\\n",
       "\t5 & -0.6894078 &  1.1172485 & 0 & 0 & 3 & -1.5204248 &  0.2913901 & 0  & 0 & 2 & -1.0192352\\\\\n",
       "\t6 &         NA &  0.6010623 & 1 & 0 & 2 &  0.2073651 & -1.2202014 & 0  & 0 & 3 & -0.5223372\\\\\n",
       "\\end{tabular}\n"
      ],
      "text/markdown": [
       "\n",
       "A data.frame: 6 × 11\n",
       "\n",
       "| <!--/--> | x1 &lt;dbl&gt; | x2 &lt;dbl&gt; | x3 &lt;fct&gt; | x4 &lt;fct&gt; | x5 &lt;fct&gt; | z1 &lt;dbl&gt; | z2 &lt;dbl&gt; | z3 &lt;fct&gt; | z4 &lt;fct&gt; | z5 &lt;fct&gt; | y &lt;dbl&gt; |\n",
       "|---|---|---|---|---|---|---|---|---|---|---|---|\n",
       "| 1 | -1.8256814 | -0.1174426 | 0 | 1 | 4 |         NA |  0.2272463 | 1  | 0 | 3 | -1.2074773 |\n",
       "| 2 |  0.2688495 |  0.6200021 | 1 | 0 | 3 |         NA |  1.7220392 | 1  | 0 | 2 |  1.6434017 |\n",
       "| 3 |  0.6777329 |  0.4105477 | 1 | 1 | 2 |         NA |  1.0122380 | NA | 0 | 3 |  1.5757554 |\n",
       "| 4 |         NA |  0.4956478 | 1 | 0 | 4 | -0.2817486 |         NA | 1  | 0 | 3 |  0.9202520 |\n",
       "| 5 | -0.6894078 |  1.1172485 | 0 | 0 | 3 | -1.5204248 |  0.2913901 | 0  | 0 | 2 | -1.0192352 |\n",
       "| 6 |         NA |  0.6010623 | 1 | 0 | 2 |  0.2073651 | -1.2202014 | 0  | 0 | 3 | -0.5223372 |\n",
       "\n"
      ],
      "text/plain": [
       "  x1         x2         x3 x4 x5 z1         z2         z3 z4 z5 y         \n",
       "1 -1.8256814 -0.1174426 0  1  4          NA  0.2272463 1  0  3  -1.2074773\n",
       "2  0.2688495  0.6200021 1  0  3          NA  1.7220392 1  0  2   1.6434017\n",
       "3  0.6777329  0.4105477 1  1  2          NA  1.0122380 NA 0  3   1.5757554\n",
       "4         NA  0.4956478 1  0  4  -0.2817486         NA 1  0  3   0.9202520\n",
       "5 -0.6894078  1.1172485 0  0  3  -1.5204248  0.2913901 0  0  2  -1.0192352\n",
       "6         NA  0.6010623 1  0  2   0.2073651 -1.2202014 0  0  3  -0.5223372"
      ]
     },
     "metadata": {},
     "output_type": "display_data"
    },
    {
     "data": {
      "text/html": [
       "<style>\n",
       ".list-inline {list-style: none; margin:0; padding: 0}\n",
       ".list-inline>li {display: inline-block}\n",
       ".list-inline>li:not(:last-child)::after {content: \"\\00b7\"; padding: 0 .5ex}\n",
       "</style>\n",
       "<ol class=list-inline><li>100</li><li>11</li></ol>\n"
      ],
      "text/latex": [
       "\\begin{enumerate*}\n",
       "\\item 100\n",
       "\\item 11\n",
       "\\end{enumerate*}\n"
      ],
      "text/markdown": [
       "1. 100\n",
       "2. 11\n",
       "\n",
       "\n"
      ],
      "text/plain": [
       "[1] 100  11"
      ]
     },
     "metadata": {},
     "output_type": "display_data"
    },
    {
     "data": {
      "text/html": [
       "<style>\n",
       ".list-inline {list-style: none; margin:0; padding: 0}\n",
       ".list-inline>li {display: inline-block}\n",
       ".list-inline>li:not(:last-child)::after {content: \"\\00b7\"; padding: 0 .5ex}\n",
       "</style>\n",
       "<ol class=list-inline><li>100</li><li>11</li></ol>\n"
      ],
      "text/latex": [
       "\\begin{enumerate*}\n",
       "\\item 100\n",
       "\\item 11\n",
       "\\end{enumerate*}\n"
      ],
      "text/markdown": [
       "1. 100\n",
       "2. 11\n",
       "\n",
       "\n"
      ],
      "text/plain": [
       "[1] 100  11"
      ]
     },
     "metadata": {},
     "output_type": "display_data"
    }
   ],
   "source": [
    "# Step 4: Set values to NA where missing.matrix = 1\n",
    "# Mengubah nilai menjadi NA (missing) pada posisi dimana missing.matrix bernilai 1\n",
    "# Karena dimensi matriks data.cont dan missing.matrix itu sama,\n",
    "# maka sekitar 10% data akan menjadi missing secara random sesuai template missing.matrix\n",
    "# (MCAR - Missing Completely At Random)\n",
    "data.cont[missing.matrix==1] = NA\n",
    "head(data.cont)\n",
    "dim(data.cont)\n",
    "dim(missing.matrix)\n"
   ]
  },
  {
   "cell_type": "code",
   "execution_count": 54,
   "metadata": {
    "vscode": {
     "languageId": "r"
    }
   },
   "outputs": [
    {
     "data": {
      "text/html": [
       "<table class=\"dataframe\">\n",
       "<caption>A data.frame: 6 × 12</caption>\n",
       "<thead>\n",
       "\t<tr><th></th><th scope=col>x1</th><th scope=col>x2</th><th scope=col>x3</th><th scope=col>x4</th><th scope=col>x5</th><th scope=col>z1</th><th scope=col>z2</th><th scope=col>z3</th><th scope=col>z4</th><th scope=col>z5</th><th scope=col>y</th><th scope=col>clust</th></tr>\n",
       "\t<tr><th></th><th scope=col>&lt;dbl&gt;</th><th scope=col>&lt;dbl&gt;</th><th scope=col>&lt;fct&gt;</th><th scope=col>&lt;fct&gt;</th><th scope=col>&lt;fct&gt;</th><th scope=col>&lt;dbl&gt;</th><th scope=col>&lt;dbl&gt;</th><th scope=col>&lt;fct&gt;</th><th scope=col>&lt;fct&gt;</th><th scope=col>&lt;fct&gt;</th><th scope=col>&lt;dbl&gt;</th><th scope=col>&lt;fct&gt;</th></tr>\n",
       "</thead>\n",
       "<tbody>\n",
       "\t<tr><th scope=row>1</th><td>-1.8256814</td><td>-0.1174426</td><td>0</td><td>1</td><td>4</td><td>        NA</td><td> 0.2272463</td><td>1 </td><td>0</td><td>3</td><td>-1.2074773</td><td>3</td></tr>\n",
       "\t<tr><th scope=row>2</th><td> 0.2688495</td><td> 0.6200021</td><td>1</td><td>0</td><td>3</td><td>        NA</td><td> 1.7220392</td><td>1 </td><td>0</td><td>2</td><td> 1.6434017</td><td>1</td></tr>\n",
       "\t<tr><th scope=row>3</th><td> 0.6777329</td><td> 0.4105477</td><td>1</td><td>1</td><td>2</td><td>        NA</td><td> 1.0122380</td><td>NA</td><td>0</td><td>3</td><td> 1.5757554</td><td>2</td></tr>\n",
       "\t<tr><th scope=row>4</th><td>        NA</td><td> 0.4956478</td><td>1</td><td>0</td><td>4</td><td>-0.2817486</td><td>        NA</td><td>1 </td><td>0</td><td>3</td><td> 0.9202520</td><td>2</td></tr>\n",
       "\t<tr><th scope=row>5</th><td>-0.6894078</td><td> 1.1172485</td><td>0</td><td>0</td><td>3</td><td>-1.5204248</td><td> 0.2913901</td><td>0 </td><td>0</td><td>2</td><td>-1.0192352</td><td>1</td></tr>\n",
       "\t<tr><th scope=row>6</th><td>        NA</td><td> 0.6010623</td><td>1</td><td>0</td><td>2</td><td> 0.2073651</td><td>-1.2202014</td><td>0 </td><td>0</td><td>3</td><td>-0.5223372</td><td>1</td></tr>\n",
       "</tbody>\n",
       "</table>\n"
      ],
      "text/latex": [
       "A data.frame: 6 × 12\n",
       "\\begin{tabular}{r|llllllllllll}\n",
       "  & x1 & x2 & x3 & x4 & x5 & z1 & z2 & z3 & z4 & z5 & y & clust\\\\\n",
       "  & <dbl> & <dbl> & <fct> & <fct> & <fct> & <dbl> & <dbl> & <fct> & <fct> & <fct> & <dbl> & <fct>\\\\\n",
       "\\hline\n",
       "\t1 & -1.8256814 & -0.1174426 & 0 & 1 & 4 &         NA &  0.2272463 & 1  & 0 & 3 & -1.2074773 & 3\\\\\n",
       "\t2 &  0.2688495 &  0.6200021 & 1 & 0 & 3 &         NA &  1.7220392 & 1  & 0 & 2 &  1.6434017 & 1\\\\\n",
       "\t3 &  0.6777329 &  0.4105477 & 1 & 1 & 2 &         NA &  1.0122380 & NA & 0 & 3 &  1.5757554 & 2\\\\\n",
       "\t4 &         NA &  0.4956478 & 1 & 0 & 4 & -0.2817486 &         NA & 1  & 0 & 3 &  0.9202520 & 2\\\\\n",
       "\t5 & -0.6894078 &  1.1172485 & 0 & 0 & 3 & -1.5204248 &  0.2913901 & 0  & 0 & 2 & -1.0192352 & 1\\\\\n",
       "\t6 &         NA &  0.6010623 & 1 & 0 & 2 &  0.2073651 & -1.2202014 & 0  & 0 & 3 & -0.5223372 & 1\\\\\n",
       "\\end{tabular}\n"
      ],
      "text/markdown": [
       "\n",
       "A data.frame: 6 × 12\n",
       "\n",
       "| <!--/--> | x1 &lt;dbl&gt; | x2 &lt;dbl&gt; | x3 &lt;fct&gt; | x4 &lt;fct&gt; | x5 &lt;fct&gt; | z1 &lt;dbl&gt; | z2 &lt;dbl&gt; | z3 &lt;fct&gt; | z4 &lt;fct&gt; | z5 &lt;fct&gt; | y &lt;dbl&gt; | clust &lt;fct&gt; |\n",
       "|---|---|---|---|---|---|---|---|---|---|---|---|---|\n",
       "| 1 | -1.8256814 | -0.1174426 | 0 | 1 | 4 |         NA |  0.2272463 | 1  | 0 | 3 | -1.2074773 | 3 |\n",
       "| 2 |  0.2688495 |  0.6200021 | 1 | 0 | 3 |         NA |  1.7220392 | 1  | 0 | 2 |  1.6434017 | 1 |\n",
       "| 3 |  0.6777329 |  0.4105477 | 1 | 1 | 2 |         NA |  1.0122380 | NA | 0 | 3 |  1.5757554 | 2 |\n",
       "| 4 |         NA |  0.4956478 | 1 | 0 | 4 | -0.2817486 |         NA | 1  | 0 | 3 |  0.9202520 | 2 |\n",
       "| 5 | -0.6894078 |  1.1172485 | 0 | 0 | 3 | -1.5204248 |  0.2913901 | 0  | 0 | 2 | -1.0192352 | 1 |\n",
       "| 6 |         NA |  0.6010623 | 1 | 0 | 2 |  0.2073651 | -1.2202014 | 0  | 0 | 3 | -0.5223372 | 1 |\n",
       "\n"
      ],
      "text/plain": [
       "  x1         x2         x3 x4 x5 z1         z2         z3 z4 z5 y         \n",
       "1 -1.8256814 -0.1174426 0  1  4          NA  0.2272463 1  0  3  -1.2074773\n",
       "2  0.2688495  0.6200021 1  0  3          NA  1.7220392 1  0  2   1.6434017\n",
       "3  0.6777329  0.4105477 1  1  2          NA  1.0122380 NA 0  3   1.5757554\n",
       "4         NA  0.4956478 1  0  4  -0.2817486         NA 1  0  3   0.9202520\n",
       "5 -0.6894078  1.1172485 0  0  3  -1.5204248  0.2913901 0  0  2  -1.0192352\n",
       "6         NA  0.6010623 1  0  2   0.2073651 -1.2202014 0  0  3  -0.5223372\n",
       "  clust\n",
       "1 3    \n",
       "2 1    \n",
       "3 2    \n",
       "4 2    \n",
       "5 1    \n",
       "6 1    "
      ]
     },
     "metadata": {},
     "output_type": "display_data"
    }
   ],
   "source": [
    "# Step 5: Create a clustering variable\n",
    "# Tujuan: Mengelompokkan data untuk internal-external validation\n",
    "data.cont$clust <- factor(\n",
    "  sample(                  # Mengambil sampel random\n",
    "    1:5,                   # Dari angka 1-5 (5 cluster)\n",
    "    size = N,              # Sebanyak N (jumlah observasi)\n",
    "    replace = TRUE,        # Dengan pengembalian atau nilai yang sama dapat diambil kembali\n",
    "    prob = rep(0.2,5)      # Probabilitas sama untuk tiap cluster (0.2)\n",
    "  )\n",
    ")\n",
    "head(data.cont)"
   ]
  },
  {
   "cell_type": "code",
   "execution_count": 56,
   "metadata": {
    "vscode": {
     "languageId": "r"
    }
   },
   "outputs": [
    {
     "data": {
      "text/html": [
       "<table class=\"dataframe\">\n",
       "<caption>A data.frame: 6 × 12</caption>\n",
       "<thead>\n",
       "\t<tr><th></th><th scope=col>x1</th><th scope=col>x2</th><th scope=col>x3</th><th scope=col>x4</th><th scope=col>x5</th><th scope=col>z1</th><th scope=col>z2</th><th scope=col>z3</th><th scope=col>z4</th><th scope=col>z5</th><th scope=col>y</th><th scope=col>clust</th></tr>\n",
       "\t<tr><th></th><th scope=col>&lt;dbl&gt;</th><th scope=col>&lt;dbl&gt;</th><th scope=col>&lt;fct&gt;</th><th scope=col>&lt;fct&gt;</th><th scope=col>&lt;fct&gt;</th><th scope=col>&lt;dbl&gt;</th><th scope=col>&lt;dbl&gt;</th><th scope=col>&lt;fct&gt;</th><th scope=col>&lt;fct&gt;</th><th scope=col>&lt;fct&gt;</th><th scope=col>&lt;dbl&gt;</th><th scope=col>&lt;fct&gt;</th></tr>\n",
       "</thead>\n",
       "<tbody>\n",
       "\t<tr><th scope=row>2</th><td> 0.2688495</td><td>0.62000209</td><td>1</td><td>0 </td><td>3</td><td>         NA</td><td> 1.7220392</td><td>1</td><td>0</td><td>2 </td><td> 1.6434017</td><td>1</td></tr>\n",
       "\t<tr><th scope=row>5</th><td>-0.6894078</td><td>1.11724847</td><td>0</td><td>0 </td><td>3</td><td>-1.52042477</td><td> 0.2913901</td><td>0</td><td>0</td><td>2 </td><td>-1.0192352</td><td>1</td></tr>\n",
       "\t<tr><th scope=row>6</th><td>        NA</td><td>0.60106228</td><td>1</td><td>0 </td><td>2</td><td> 0.20736515</td><td>-1.2202014</td><td>0</td><td>0</td><td>3 </td><td>-0.5223372</td><td>1</td></tr>\n",
       "\t<tr><th scope=row>12</th><td> 0.9237489</td><td>0.89367223</td><td>0</td><td>1 </td><td>1</td><td>-0.29824957</td><td>        NA</td><td>0</td><td>0</td><td>3 </td><td> 0.7121298</td><td>1</td></tr>\n",
       "\t<tr><th scope=row>13</th><td>        NA</td><td>        NA</td><td>0</td><td>0 </td><td>2</td><td>-0.03254685</td><td>        NA</td><td>1</td><td>0</td><td>3 </td><td> 0.7522273</td><td>1</td></tr>\n",
       "\t<tr><th scope=row>18</th><td>-0.9584556</td><td>0.01146436</td><td>0</td><td>NA</td><td>2</td><td>         NA</td><td> 1.1174678</td><td>1</td><td>1</td><td>NA</td><td>        NA</td><td>1</td></tr>\n",
       "</tbody>\n",
       "</table>\n"
      ],
      "text/latex": [
       "A data.frame: 6 × 12\n",
       "\\begin{tabular}{r|llllllllllll}\n",
       "  & x1 & x2 & x3 & x4 & x5 & z1 & z2 & z3 & z4 & z5 & y & clust\\\\\n",
       "  & <dbl> & <dbl> & <fct> & <fct> & <fct> & <dbl> & <dbl> & <fct> & <fct> & <fct> & <dbl> & <fct>\\\\\n",
       "\\hline\n",
       "\t2 &  0.2688495 & 0.62000209 & 1 & 0  & 3 &          NA &  1.7220392 & 1 & 0 & 2  &  1.6434017 & 1\\\\\n",
       "\t5 & -0.6894078 & 1.11724847 & 0 & 0  & 3 & -1.52042477 &  0.2913901 & 0 & 0 & 2  & -1.0192352 & 1\\\\\n",
       "\t6 &         NA & 0.60106228 & 1 & 0  & 2 &  0.20736515 & -1.2202014 & 0 & 0 & 3  & -0.5223372 & 1\\\\\n",
       "\t12 &  0.9237489 & 0.89367223 & 0 & 1  & 1 & -0.29824957 &         NA & 0 & 0 & 3  &  0.7121298 & 1\\\\\n",
       "\t13 &         NA &         NA & 0 & 0  & 2 & -0.03254685 &         NA & 1 & 0 & 3  &  0.7522273 & 1\\\\\n",
       "\t18 & -0.9584556 & 0.01146436 & 0 & NA & 2 &          NA &  1.1174678 & 1 & 1 & NA &         NA & 1\\\\\n",
       "\\end{tabular}\n"
      ],
      "text/markdown": [
       "\n",
       "A data.frame: 6 × 12\n",
       "\n",
       "| <!--/--> | x1 &lt;dbl&gt; | x2 &lt;dbl&gt; | x3 &lt;fct&gt; | x4 &lt;fct&gt; | x5 &lt;fct&gt; | z1 &lt;dbl&gt; | z2 &lt;dbl&gt; | z3 &lt;fct&gt; | z4 &lt;fct&gt; | z5 &lt;fct&gt; | y &lt;dbl&gt; | clust &lt;fct&gt; |\n",
       "|---|---|---|---|---|---|---|---|---|---|---|---|---|\n",
       "| 2 |  0.2688495 | 0.62000209 | 1 | 0  | 3 |          NA |  1.7220392 | 1 | 0 | 2  |  1.6434017 | 1 |\n",
       "| 5 | -0.6894078 | 1.11724847 | 0 | 0  | 3 | -1.52042477 |  0.2913901 | 0 | 0 | 2  | -1.0192352 | 1 |\n",
       "| 6 |         NA | 0.60106228 | 1 | 0  | 2 |  0.20736515 | -1.2202014 | 0 | 0 | 3  | -0.5223372 | 1 |\n",
       "| 12 |  0.9237489 | 0.89367223 | 0 | 1  | 1 | -0.29824957 |         NA | 0 | 0 | 3  |  0.7121298 | 1 |\n",
       "| 13 |         NA |         NA | 0 | 0  | 2 | -0.03254685 |         NA | 1 | 0 | 3  |  0.7522273 | 1 |\n",
       "| 18 | -0.9584556 | 0.01146436 | 0 | NA | 2 |          NA |  1.1174678 | 1 | 1 | NA |         NA | 1 |\n",
       "\n"
      ],
      "text/plain": [
       "   x1         x2         x3 x4 x5 z1          z2         z3 z4 z5 y         \n",
       "2   0.2688495 0.62000209 1  0  3           NA  1.7220392 1  0  2   1.6434017\n",
       "5  -0.6894078 1.11724847 0  0  3  -1.52042477  0.2913901 0  0  2  -1.0192352\n",
       "6          NA 0.60106228 1  0  2   0.20736515 -1.2202014 0  0  3  -0.5223372\n",
       "12  0.9237489 0.89367223 0  1  1  -0.29824957         NA 0  0  3   0.7121298\n",
       "13         NA         NA 0  0  2  -0.03254685         NA 1  0  3   0.7522273\n",
       "18 -0.9584556 0.01146436 0  NA 2           NA  1.1174678 1  1  NA         NA\n",
       "   clust\n",
       "2  1    \n",
       "5  1    \n",
       "6  1    \n",
       "12 1    \n",
       "13 1    \n",
       "18 1    "
      ]
     },
     "metadata": {},
     "output_type": "display_data"
    }
   ],
   "source": [
    "# Mengurutkan data berdasarkan cluster\n",
    "# Tujuan: Memudahkan visualisasi dan analisis per cluster\n",
    "data.cont <- data.cont[order(data.cont$clust),]\n",
    "head(data.cont)"
   ]
  },
  {
   "cell_type": "code",
   "execution_count": 57,
   "metadata": {
    "vscode": {
     "languageId": "r"
    }
   },
   "outputs": [
    {
     "data": {
      "text/html": [
       "<style>\n",
       ".dl-inline {width: auto; margin:0; padding: 0}\n",
       ".dl-inline>dt, .dl-inline>dd {float: none; width: auto; display: inline-block}\n",
       ".dl-inline>dt::after {content: \":\\0020\"; padding-right: .5ex}\n",
       ".dl-inline>dt:not(:first-of-type) {padding-left: .5ex}\n",
       "</style><dl class=dl-inline><dt>x1</dt><dd>0.12</dd><dt>x2</dt><dd>0.09</dd><dt>x3</dt><dd>0.06</dd><dt>x4</dt><dd>0.1</dd><dt>x5</dt><dd>0.05</dd><dt>z1</dt><dd>0.11</dd><dt>z2</dt><dd>0.13</dd><dt>z3</dt><dd>0.12</dd><dt>z4</dt><dd>0.09</dd><dt>z5</dt><dd>0.11</dd><dt>y</dt><dd>0.07</dd><dt>clust</dt><dd>0</dd></dl>\n"
      ],
      "text/latex": [
       "\\begin{description*}\n",
       "\\item[x1] 0.12\n",
       "\\item[x2] 0.09\n",
       "\\item[x3] 0.06\n",
       "\\item[x4] 0.1\n",
       "\\item[x5] 0.05\n",
       "\\item[z1] 0.11\n",
       "\\item[z2] 0.13\n",
       "\\item[z3] 0.12\n",
       "\\item[z4] 0.09\n",
       "\\item[z5] 0.11\n",
       "\\item[y] 0.07\n",
       "\\item[clust] 0\n",
       "\\end{description*}\n"
      ],
      "text/markdown": [
       "x1\n",
       ":   0.12x2\n",
       ":   0.09x3\n",
       ":   0.06x4\n",
       ":   0.1x5\n",
       ":   0.05z1\n",
       ":   0.11z2\n",
       ":   0.13z3\n",
       ":   0.12z4\n",
       ":   0.09z5\n",
       ":   0.11y\n",
       ":   0.07clust\n",
       ":   0\n",
       "\n"
      ],
      "text/plain": [
       "   x1    x2    x3    x4    x5    z1    z2    z3    z4    z5     y clust \n",
       " 0.12  0.09  0.06  0.10  0.05  0.11  0.13  0.12  0.09  0.11  0.07  0.00 "
      ]
     },
     "metadata": {},
     "output_type": "display_data"
    }
   ],
   "source": [
    "# Melihat proporsi missing di setiap kolom\n",
    "colMeans(is.na(data.cont))"
   ]
  },
  {
   "cell_type": "code",
   "execution_count": 68,
   "metadata": {
    "vscode": {
     "languageId": "r"
    }
   },
   "outputs": [
    {
     "data": {
      "text/html": [
       "<table class=\"dataframe\">\n",
       "<caption>A matrix: 6 × 2 of type int</caption>\n",
       "<thead>\n",
       "\t<tr><th></th><th scope=col>row</th><th scope=col>col</th></tr>\n",
       "</thead>\n",
       "<tbody>\n",
       "\t<tr><th scope=row>6</th><td> 3</td><td>1</td></tr>\n",
       "\t<tr><th scope=row>13</th><td> 5</td><td>1</td></tr>\n",
       "\t<tr><th scope=row>77</th><td>17</td><td>1</td></tr>\n",
       "\t<tr><th scope=row>4</th><td>23</td><td>1</td></tr>\n",
       "\t<tr><th scope=row>64</th><td>34</td><td>1</td></tr>\n",
       "\t<tr><th scope=row>47</th><td>48</td><td>1</td></tr>\n",
       "</tbody>\n",
       "</table>\n"
      ],
      "text/latex": [
       "A matrix: 6 × 2 of type int\n",
       "\\begin{tabular}{r|ll}\n",
       "  & row & col\\\\\n",
       "\\hline\n",
       "\t6 &  3 & 1\\\\\n",
       "\t13 &  5 & 1\\\\\n",
       "\t77 & 17 & 1\\\\\n",
       "\t4 & 23 & 1\\\\\n",
       "\t64 & 34 & 1\\\\\n",
       "\t47 & 48 & 1\\\\\n",
       "\\end{tabular}\n"
      ],
      "text/markdown": [
       "\n",
       "A matrix: 6 × 2 of type int\n",
       "\n",
       "| <!--/--> | row | col |\n",
       "|---|---|---|\n",
       "| 6 |  3 | 1 |\n",
       "| 13 |  5 | 1 |\n",
       "| 77 | 17 | 1 |\n",
       "| 4 | 23 | 1 |\n",
       "| 64 | 34 | 1 |\n",
       "| 47 | 48 | 1 |\n",
       "\n"
      ],
      "text/plain": [
       "   row col\n",
       "6   3  1  \n",
       "13  5  1  \n",
       "77 17  1  \n",
       "4  23  1  \n",
       "64 34  1  \n",
       "47 48  1  "
      ]
     },
     "metadata": {},
     "output_type": "display_data"
    }
   ],
   "source": [
    "# Melihat posisi NA dalam data\n",
    "head(which(is.na(data.cont), arr.ind=TRUE))"
   ]
  },
  {
   "cell_type": "code",
   "execution_count": 59,
   "metadata": {
    "vscode": {
     "languageId": "r"
    }
   },
   "outputs": [
    {
     "data": {
      "text/html": [
       "<table class=\"dataframe\">\n",
       "<caption>A data.frame: 6 × 11</caption>\n",
       "<thead>\n",
       "\t<tr><th></th><th scope=col>x1</th><th scope=col>x2</th><th scope=col>x3</th><th scope=col>x4</th><th scope=col>x5</th><th scope=col>z1</th><th scope=col>z2</th><th scope=col>z3</th><th scope=col>z4</th><th scope=col>z5</th><th scope=col>y</th></tr>\n",
       "\t<tr><th></th><th scope=col>&lt;dbl&gt;</th><th scope=col>&lt;dbl&gt;</th><th scope=col>&lt;fct&gt;</th><th scope=col>&lt;fct&gt;</th><th scope=col>&lt;fct&gt;</th><th scope=col>&lt;dbl&gt;</th><th scope=col>&lt;dbl&gt;</th><th scope=col>&lt;fct&gt;</th><th scope=col>&lt;fct&gt;</th><th scope=col>&lt;fct&gt;</th><th scope=col>&lt;dbl&gt;</th></tr>\n",
       "</thead>\n",
       "<tbody>\n",
       "\t<tr><th scope=row>1</th><td>-1.8256814</td><td>-0.1174426</td><td>0</td><td>1</td><td>4</td><td> 0.7319327</td><td> 0.2272463</td><td>1</td><td>0</td><td>3</td><td>-1.2074773</td></tr>\n",
       "\t<tr><th scope=row>2</th><td> 0.2688495</td><td> 0.6200021</td><td>1</td><td>0</td><td>3</td><td> 1.6662047</td><td> 1.7220392</td><td>1</td><td>0</td><td>2</td><td> 1.6434017</td></tr>\n",
       "\t<tr><th scope=row>3</th><td> 0.6777329</td><td> 0.4105477</td><td>1</td><td>1</td><td>2</td><td>-1.0831533</td><td> 1.0122380</td><td>1</td><td>0</td><td>3</td><td> 1.5757554</td></tr>\n",
       "\t<tr><th scope=row>4</th><td> 0.8231561</td><td> 0.4956478</td><td>1</td><td>0</td><td>4</td><td>-0.2817486</td><td>-0.3561922</td><td>1</td><td>0</td><td>3</td><td> 0.9202520</td></tr>\n",
       "\t<tr><th scope=row>5</th><td>-0.6894078</td><td> 1.1172485</td><td>0</td><td>0</td><td>3</td><td>-1.5204248</td><td> 0.2913901</td><td>0</td><td>0</td><td>2</td><td>-1.0192352</td></tr>\n",
       "\t<tr><th scope=row>6</th><td>-0.8049910</td><td> 0.6010623</td><td>1</td><td>0</td><td>2</td><td> 0.2073651</td><td>-1.2202014</td><td>0</td><td>0</td><td>3</td><td>-0.5223372</td></tr>\n",
       "</tbody>\n",
       "</table>\n"
      ],
      "text/latex": [
       "A data.frame: 6 × 11\n",
       "\\begin{tabular}{r|lllllllllll}\n",
       "  & x1 & x2 & x3 & x4 & x5 & z1 & z2 & z3 & z4 & z5 & y\\\\\n",
       "  & <dbl> & <dbl> & <fct> & <fct> & <fct> & <dbl> & <dbl> & <fct> & <fct> & <fct> & <dbl>\\\\\n",
       "\\hline\n",
       "\t1 & -1.8256814 & -0.1174426 & 0 & 1 & 4 &  0.7319327 &  0.2272463 & 1 & 0 & 3 & -1.2074773\\\\\n",
       "\t2 &  0.2688495 &  0.6200021 & 1 & 0 & 3 &  1.6662047 &  1.7220392 & 1 & 0 & 2 &  1.6434017\\\\\n",
       "\t3 &  0.6777329 &  0.4105477 & 1 & 1 & 2 & -1.0831533 &  1.0122380 & 1 & 0 & 3 &  1.5757554\\\\\n",
       "\t4 &  0.8231561 &  0.4956478 & 1 & 0 & 4 & -0.2817486 & -0.3561922 & 1 & 0 & 3 &  0.9202520\\\\\n",
       "\t5 & -0.6894078 &  1.1172485 & 0 & 0 & 3 & -1.5204248 &  0.2913901 & 0 & 0 & 2 & -1.0192352\\\\\n",
       "\t6 & -0.8049910 &  0.6010623 & 1 & 0 & 2 &  0.2073651 & -1.2202014 & 0 & 0 & 3 & -0.5223372\\\\\n",
       "\\end{tabular}\n"
      ],
      "text/markdown": [
       "\n",
       "A data.frame: 6 × 11\n",
       "\n",
       "| <!--/--> | x1 &lt;dbl&gt; | x2 &lt;dbl&gt; | x3 &lt;fct&gt; | x4 &lt;fct&gt; | x5 &lt;fct&gt; | z1 &lt;dbl&gt; | z2 &lt;dbl&gt; | z3 &lt;fct&gt; | z4 &lt;fct&gt; | z5 &lt;fct&gt; | y &lt;dbl&gt; |\n",
       "|---|---|---|---|---|---|---|---|---|---|---|---|\n",
       "| 1 | -1.8256814 | -0.1174426 | 0 | 1 | 4 |  0.7319327 |  0.2272463 | 1 | 0 | 3 | -1.2074773 |\n",
       "| 2 |  0.2688495 |  0.6200021 | 1 | 0 | 3 |  1.6662047 |  1.7220392 | 1 | 0 | 2 |  1.6434017 |\n",
       "| 3 |  0.6777329 |  0.4105477 | 1 | 1 | 2 | -1.0831533 |  1.0122380 | 1 | 0 | 3 |  1.5757554 |\n",
       "| 4 |  0.8231561 |  0.4956478 | 1 | 0 | 4 | -0.2817486 | -0.3561922 | 1 | 0 | 3 |  0.9202520 |\n",
       "| 5 | -0.6894078 |  1.1172485 | 0 | 0 | 3 | -1.5204248 |  0.2913901 | 0 | 0 | 2 | -1.0192352 |\n",
       "| 6 | -0.8049910 |  0.6010623 | 1 | 0 | 2 |  0.2073651 | -1.2202014 | 0 | 0 | 3 | -0.5223372 |\n",
       "\n"
      ],
      "text/plain": [
       "  x1         x2         x3 x4 x5 z1         z2         z3 z4 z5 y         \n",
       "1 -1.8256814 -0.1174426 0  1  4   0.7319327  0.2272463 1  0  3  -1.2074773\n",
       "2  0.2688495  0.6200021 1  0  3   1.6662047  1.7220392 1  0  2   1.6434017\n",
       "3  0.6777329  0.4105477 1  1  2  -1.0831533  1.0122380 1  0  3   1.5757554\n",
       "4  0.8231561  0.4956478 1  0  4  -0.2817486 -0.3561922 1  0  3   0.9202520\n",
       "5 -0.6894078  1.1172485 0  0  3  -1.5204248  0.2913901 0  0  2  -1.0192352\n",
       "6 -0.8049910  0.6010623 1  0  2   0.2073651 -1.2202014 0  0  3  -0.5223372"
      ]
     },
     "metadata": {},
     "output_type": "display_data"
    },
    {
     "data": {
      "text/html": [
       "<table class=\"dataframe\">\n",
       "<caption>A data.frame: 6 × 12</caption>\n",
       "<thead>\n",
       "\t<tr><th></th><th scope=col>x1</th><th scope=col>x2</th><th scope=col>x3</th><th scope=col>x4</th><th scope=col>x5</th><th scope=col>z1</th><th scope=col>z2</th><th scope=col>z3</th><th scope=col>z4</th><th scope=col>z5</th><th scope=col>y</th><th scope=col>clust</th></tr>\n",
       "\t<tr><th></th><th scope=col>&lt;dbl&gt;</th><th scope=col>&lt;dbl&gt;</th><th scope=col>&lt;fct&gt;</th><th scope=col>&lt;fct&gt;</th><th scope=col>&lt;fct&gt;</th><th scope=col>&lt;dbl&gt;</th><th scope=col>&lt;dbl&gt;</th><th scope=col>&lt;fct&gt;</th><th scope=col>&lt;fct&gt;</th><th scope=col>&lt;fct&gt;</th><th scope=col>&lt;dbl&gt;</th><th scope=col>&lt;fct&gt;</th></tr>\n",
       "</thead>\n",
       "<tbody>\n",
       "\t<tr><th scope=row>2</th><td> 0.2688495</td><td>0.62000209</td><td>1</td><td>0 </td><td>3</td><td>         NA</td><td> 1.7220392</td><td>1</td><td>0</td><td>2 </td><td> 1.6434017</td><td>1</td></tr>\n",
       "\t<tr><th scope=row>5</th><td>-0.6894078</td><td>1.11724847</td><td>0</td><td>0 </td><td>3</td><td>-1.52042477</td><td> 0.2913901</td><td>0</td><td>0</td><td>2 </td><td>-1.0192352</td><td>1</td></tr>\n",
       "\t<tr><th scope=row>6</th><td>        NA</td><td>0.60106228</td><td>1</td><td>0 </td><td>2</td><td> 0.20736515</td><td>-1.2202014</td><td>0</td><td>0</td><td>3 </td><td>-0.5223372</td><td>1</td></tr>\n",
       "\t<tr><th scope=row>12</th><td> 0.9237489</td><td>0.89367223</td><td>0</td><td>1 </td><td>1</td><td>-0.29824957</td><td>        NA</td><td>0</td><td>0</td><td>3 </td><td> 0.7121298</td><td>1</td></tr>\n",
       "\t<tr><th scope=row>13</th><td>        NA</td><td>        NA</td><td>0</td><td>0 </td><td>2</td><td>-0.03254685</td><td>        NA</td><td>1</td><td>0</td><td>3 </td><td> 0.7522273</td><td>1</td></tr>\n",
       "\t<tr><th scope=row>18</th><td>-0.9584556</td><td>0.01146436</td><td>0</td><td>NA</td><td>2</td><td>         NA</td><td> 1.1174678</td><td>1</td><td>1</td><td>NA</td><td>        NA</td><td>1</td></tr>\n",
       "</tbody>\n",
       "</table>\n"
      ],
      "text/latex": [
       "A data.frame: 6 × 12\n",
       "\\begin{tabular}{r|llllllllllll}\n",
       "  & x1 & x2 & x3 & x4 & x5 & z1 & z2 & z3 & z4 & z5 & y & clust\\\\\n",
       "  & <dbl> & <dbl> & <fct> & <fct> & <fct> & <dbl> & <dbl> & <fct> & <fct> & <fct> & <dbl> & <fct>\\\\\n",
       "\\hline\n",
       "\t2 &  0.2688495 & 0.62000209 & 1 & 0  & 3 &          NA &  1.7220392 & 1 & 0 & 2  &  1.6434017 & 1\\\\\n",
       "\t5 & -0.6894078 & 1.11724847 & 0 & 0  & 3 & -1.52042477 &  0.2913901 & 0 & 0 & 2  & -1.0192352 & 1\\\\\n",
       "\t6 &         NA & 0.60106228 & 1 & 0  & 2 &  0.20736515 & -1.2202014 & 0 & 0 & 3  & -0.5223372 & 1\\\\\n",
       "\t12 &  0.9237489 & 0.89367223 & 0 & 1  & 1 & -0.29824957 &         NA & 0 & 0 & 3  &  0.7121298 & 1\\\\\n",
       "\t13 &         NA &         NA & 0 & 0  & 2 & -0.03254685 &         NA & 1 & 0 & 3  &  0.7522273 & 1\\\\\n",
       "\t18 & -0.9584556 & 0.01146436 & 0 & NA & 2 &          NA &  1.1174678 & 1 & 1 & NA &         NA & 1\\\\\n",
       "\\end{tabular}\n"
      ],
      "text/markdown": [
       "\n",
       "A data.frame: 6 × 12\n",
       "\n",
       "| <!--/--> | x1 &lt;dbl&gt; | x2 &lt;dbl&gt; | x3 &lt;fct&gt; | x4 &lt;fct&gt; | x5 &lt;fct&gt; | z1 &lt;dbl&gt; | z2 &lt;dbl&gt; | z3 &lt;fct&gt; | z4 &lt;fct&gt; | z5 &lt;fct&gt; | y &lt;dbl&gt; | clust &lt;fct&gt; |\n",
       "|---|---|---|---|---|---|---|---|---|---|---|---|---|\n",
       "| 2 |  0.2688495 | 0.62000209 | 1 | 0  | 3 |          NA |  1.7220392 | 1 | 0 | 2  |  1.6434017 | 1 |\n",
       "| 5 | -0.6894078 | 1.11724847 | 0 | 0  | 3 | -1.52042477 |  0.2913901 | 0 | 0 | 2  | -1.0192352 | 1 |\n",
       "| 6 |         NA | 0.60106228 | 1 | 0  | 2 |  0.20736515 | -1.2202014 | 0 | 0 | 3  | -0.5223372 | 1 |\n",
       "| 12 |  0.9237489 | 0.89367223 | 0 | 1  | 1 | -0.29824957 |         NA | 0 | 0 | 3  |  0.7121298 | 1 |\n",
       "| 13 |         NA |         NA | 0 | 0  | 2 | -0.03254685 |         NA | 1 | 0 | 3  |  0.7522273 | 1 |\n",
       "| 18 | -0.9584556 | 0.01146436 | 0 | NA | 2 |          NA |  1.1174678 | 1 | 1 | NA |         NA | 1 |\n",
       "\n"
      ],
      "text/plain": [
       "   x1         x2         x3 x4 x5 z1          z2         z3 z4 z5 y         \n",
       "2   0.2688495 0.62000209 1  0  3           NA  1.7220392 1  0  2   1.6434017\n",
       "5  -0.6894078 1.11724847 0  0  3  -1.52042477  0.2913901 0  0  2  -1.0192352\n",
       "6          NA 0.60106228 1  0  2   0.20736515 -1.2202014 0  0  3  -0.5223372\n",
       "12  0.9237489 0.89367223 0  1  1  -0.29824957         NA 0  0  3   0.7121298\n",
       "13         NA         NA 0  0  2  -0.03254685         NA 1  0  3   0.7522273\n",
       "18 -0.9584556 0.01146436 0  NA 2           NA  1.1174678 1  1  NA         NA\n",
       "   clust\n",
       "2  1    \n",
       "5  1    \n",
       "6  1    \n",
       "12 1    \n",
       "13 1    \n",
       "18 1    "
      ]
     },
     "metadata": {},
     "output_type": "display_data"
    }
   ],
   "source": [
    "# Membandingkan data asli vs data dengan missing\n",
    "head(data.cont.complete) # data asli\n",
    "head(data.cont)         # data dengan NA"
   ]
  },
  {
   "cell_type": "markdown",
   "metadata": {},
   "source": [
    "### Koreksi _Missing Data_"
   ]
  },
  {
   "cell_type": "markdown",
   "metadata": {},
   "source": [
    "#### Visualisasi _Missing Data_"
   ]
  },
  {
   "cell_type": "code",
   "execution_count": null,
   "metadata": {
    "vscode": {
     "languageId": "r"
    }
   },
   "outputs": [],
   "source": [
    "###### MULTIPLE IMPUTATION UNTUK MISSING DATA ####\n",
    "# Tujuan: Mengisi missing data dengan mempertimbangkan hubungan antar variabel\n",
    "# Metode: Multiple imputation dengan aregImpute dari package Hmisc\n",
    "# Output: 10 dataset lengkap dengan nilai imputasi yang berbeda-beda"
   ]
  },
  {
   "cell_type": "code",
   "execution_count": 104,
   "metadata": {
    "vscode": {
     "languageId": "r"
    }
   },
   "outputs": [
    {
     "data": {
      "text/html": [
       "65"
      ],
      "text/latex": [
       "65"
      ],
      "text/markdown": [
       "65"
      ],
      "text/plain": [
       "[1] 65"
      ]
     },
     "metadata": {},
     "output_type": "display_data"
    },
    {
     "data": {
      "text/html": [
       "93"
      ],
      "text/latex": [
       "93"
      ],
      "text/markdown": [
       "93"
      ],
      "text/plain": [
       "[1] 93"
      ]
     },
     "metadata": {},
     "output_type": "display_data"
    }
   ],
   "source": [
    "# Periksa jumlah missing data\n",
    "sum(complete.cases(data.cont[,1:5])) # jumlah pasien dengan data observasi lengkap untuk prediktor x1,2,3,4,5 (5 kolom pertama)\n",
    "sum(complete.cases(data.cont$y)) # jumlah pasien dengan data observasi lengkap untuk outcome y"
   ]
  },
  {
   "cell_type": "code",
   "execution_count": 119,
   "metadata": {
    "vscode": {
     "languageId": "r"
    }
   },
   "outputs": [
    {
     "data": {
      "text/html": [
       "<table class=\"dataframe\">\n",
       "<caption>A matrix: 40 × 13 of type dbl</caption>\n",
       "<thead>\n",
       "\t<tr><th></th><th scope=col>clust</th><th scope=col>x5</th><th scope=col>x3</th><th scope=col>y</th><th scope=col>x2</th><th scope=col>z4</th><th scope=col>x4</th><th scope=col>z1</th><th scope=col>z5</th><th scope=col>x1</th><th scope=col>z3</th><th scope=col>z2</th><th scope=col></th></tr>\n",
       "</thead>\n",
       "<tbody>\n",
       "\t<tr><th scope=row>36</th><td>1</td><td>1</td><td>1</td><td>1</td><td>1</td><td>1</td><td> 1</td><td> 1</td><td> 1</td><td> 1</td><td> 1</td><td> 1</td><td>  0</td></tr>\n",
       "\t<tr><th scope=row>4</th><td>1</td><td>1</td><td>1</td><td>1</td><td>1</td><td>1</td><td> 1</td><td> 1</td><td> 1</td><td> 1</td><td> 1</td><td> 0</td><td>  1</td></tr>\n",
       "\t<tr><th scope=row>2</th><td>1</td><td>1</td><td>1</td><td>1</td><td>1</td><td>1</td><td> 1</td><td> 1</td><td> 1</td><td> 1</td><td> 0</td><td> 1</td><td>  1</td></tr>\n",
       "\t<tr><th scope=row>3</th><td>1</td><td>1</td><td>1</td><td>1</td><td>1</td><td>1</td><td> 1</td><td> 1</td><td> 1</td><td> 1</td><td> 0</td><td> 0</td><td>  2</td></tr>\n",
       "\t<tr><th scope=row>4</th><td>1</td><td>1</td><td>1</td><td>1</td><td>1</td><td>1</td><td> 1</td><td> 1</td><td> 1</td><td> 0</td><td> 1</td><td> 1</td><td>  1</td></tr>\n",
       "\t<tr><th scope=row>1</th><td>1</td><td>1</td><td>1</td><td>1</td><td>1</td><td>1</td><td> 1</td><td> 1</td><td> 1</td><td> 0</td><td> 1</td><td> 0</td><td>  2</td></tr>\n",
       "\t<tr><th scope=row>2</th><td>1</td><td>1</td><td>1</td><td>1</td><td>1</td><td>1</td><td> 1</td><td> 1</td><td> 0</td><td> 1</td><td> 1</td><td> 1</td><td>  1</td></tr>\n",
       "\t<tr><th scope=row>2</th><td>1</td><td>1</td><td>1</td><td>1</td><td>1</td><td>1</td><td> 1</td><td> 1</td><td> 0</td><td> 1</td><td> 1</td><td> 0</td><td>  2</td></tr>\n",
       "\t<tr><th scope=row>4</th><td>1</td><td>1</td><td>1</td><td>1</td><td>1</td><td>1</td><td> 1</td><td> 0</td><td> 1</td><td> 1</td><td> 1</td><td> 1</td><td>  1</td></tr>\n",
       "\t<tr><th scope=row>1</th><td>1</td><td>1</td><td>1</td><td>1</td><td>1</td><td>1</td><td> 1</td><td> 0</td><td> 1</td><td> 1</td><td> 0</td><td> 1</td><td>  2</td></tr>\n",
       "\t<tr><th scope=row>1</th><td>1</td><td>1</td><td>1</td><td>1</td><td>1</td><td>1</td><td> 1</td><td> 0</td><td> 1</td><td> 0</td><td> 1</td><td> 1</td><td>  2</td></tr>\n",
       "\t<tr><th scope=row>5</th><td>1</td><td>1</td><td>1</td><td>1</td><td>1</td><td>1</td><td> 0</td><td> 1</td><td> 1</td><td> 1</td><td> 1</td><td> 1</td><td>  1</td></tr>\n",
       "\t<tr><th scope=row>2</th><td>1</td><td>1</td><td>1</td><td>1</td><td>1</td><td>1</td><td> 0</td><td> 1</td><td> 1</td><td> 0</td><td> 1</td><td> 1</td><td>  2</td></tr>\n",
       "\t<tr><th scope=row>4</th><td>1</td><td>1</td><td>1</td><td>1</td><td>1</td><td>0</td><td> 1</td><td> 1</td><td> 1</td><td> 1</td><td> 1</td><td> 1</td><td>  1</td></tr>\n",
       "\t<tr><th scope=row>1</th><td>1</td><td>1</td><td>1</td><td>1</td><td>1</td><td>0</td><td> 1</td><td> 1</td><td> 1</td><td> 1</td><td> 1</td><td> 0</td><td>  2</td></tr>\n",
       "\t<tr><th scope=row>1</th><td>1</td><td>1</td><td>1</td><td>1</td><td>1</td><td>0</td><td> 1</td><td> 1</td><td> 1</td><td> 1</td><td> 0</td><td> 1</td><td>  2</td></tr>\n",
       "\t<tr><th scope=row>1</th><td>1</td><td>1</td><td>1</td><td>1</td><td>1</td><td>0</td><td> 0</td><td> 0</td><td> 1</td><td> 1</td><td> 1</td><td> 1</td><td>  3</td></tr>\n",
       "\t<tr><th scope=row>1</th><td>1</td><td>1</td><td>1</td><td>1</td><td>0</td><td>1</td><td> 1</td><td> 1</td><td> 1</td><td> 1</td><td> 1</td><td> 1</td><td>  1</td></tr>\n",
       "\t<tr><th scope=row>1</th><td>1</td><td>1</td><td>1</td><td>1</td><td>0</td><td>1</td><td> 1</td><td> 1</td><td> 1</td><td> 1</td><td> 0</td><td> 1</td><td>  2</td></tr>\n",
       "\t<tr><th scope=row>1</th><td>1</td><td>1</td><td>1</td><td>1</td><td>0</td><td>1</td><td> 1</td><td> 1</td><td> 1</td><td> 0</td><td> 1</td><td> 1</td><td>  2</td></tr>\n",
       "\t<tr><th scope=row>1</th><td>1</td><td>1</td><td>1</td><td>1</td><td>0</td><td>1</td><td> 1</td><td> 1</td><td> 1</td><td> 0</td><td> 1</td><td> 0</td><td>  3</td></tr>\n",
       "\t<tr><th scope=row>1</th><td>1</td><td>1</td><td>1</td><td>1</td><td>0</td><td>1</td><td> 1</td><td> 1</td><td> 0</td><td> 1</td><td> 1</td><td> 1</td><td>  2</td></tr>\n",
       "\t<tr><th scope=row>1</th><td>1</td><td>1</td><td>1</td><td>1</td><td>0</td><td>1</td><td> 1</td><td> 1</td><td> 0</td><td> 1</td><td> 0</td><td> 1</td><td>  3</td></tr>\n",
       "\t<tr><th scope=row>1</th><td>1</td><td>1</td><td>1</td><td>1</td><td>0</td><td>1</td><td> 1</td><td> 0</td><td> 1</td><td> 1</td><td> 1</td><td> 1</td><td>  2</td></tr>\n",
       "\t<tr><th scope=row>1</th><td>1</td><td>1</td><td>1</td><td>1</td><td>0</td><td>1</td><td> 1</td><td> 0</td><td> 1</td><td> 0</td><td> 0</td><td> 1</td><td>  4</td></tr>\n",
       "\t<tr><th scope=row>1</th><td>1</td><td>1</td><td>1</td><td>0</td><td>1</td><td>1</td><td> 1</td><td> 1</td><td> 1</td><td> 1</td><td> 1</td><td> 1</td><td>  1</td></tr>\n",
       "\t<tr><th scope=row>1</th><td>1</td><td>1</td><td>1</td><td>0</td><td>1</td><td>1</td><td> 1</td><td> 1</td><td> 1</td><td> 1</td><td> 0</td><td> 1</td><td>  2</td></tr>\n",
       "\t<tr><th scope=row>2</th><td>1</td><td>1</td><td>1</td><td>0</td><td>1</td><td>1</td><td> 1</td><td> 1</td><td> 0</td><td> 1</td><td> 1</td><td> 1</td><td>  2</td></tr>\n",
       "\t<tr><th scope=row>1</th><td>1</td><td>1</td><td>1</td><td>0</td><td>1</td><td>1</td><td> 1</td><td> 1</td><td> 0</td><td> 1</td><td> 0</td><td> 1</td><td>  3</td></tr>\n",
       "\t<tr><th scope=row>1</th><td>1</td><td>1</td><td>1</td><td>0</td><td>1</td><td>1</td><td> 0</td><td> 0</td><td> 0</td><td> 1</td><td> 1</td><td> 1</td><td>  4</td></tr>\n",
       "\t<tr><th scope=row>1</th><td>1</td><td>1</td><td>1</td><td>0</td><td>0</td><td>1</td><td> 1</td><td> 1</td><td> 1</td><td> 1</td><td> 1</td><td> 1</td><td>  2</td></tr>\n",
       "\t<tr><th scope=row>2</th><td>1</td><td>1</td><td>0</td><td>1</td><td>1</td><td>1</td><td> 1</td><td> 1</td><td> 1</td><td> 1</td><td> 1</td><td> 1</td><td>  1</td></tr>\n",
       "\t<tr><th scope=row>1</th><td>1</td><td>1</td><td>0</td><td>1</td><td>1</td><td>1</td><td> 1</td><td> 1</td><td> 1</td><td> 1</td><td> 1</td><td> 0</td><td>  2</td></tr>\n",
       "\t<tr><th scope=row>1</th><td>1</td><td>1</td><td>0</td><td>1</td><td>1</td><td>1</td><td> 1</td><td> 1</td><td> 0</td><td> 1</td><td> 1</td><td> 1</td><td>  2</td></tr>\n",
       "\t<tr><th scope=row>1</th><td>1</td><td>1</td><td>0</td><td>1</td><td>1</td><td>1</td><td> 0</td><td> 1</td><td> 1</td><td> 1</td><td> 1</td><td> 1</td><td>  2</td></tr>\n",
       "\t<tr><th scope=row>1</th><td>1</td><td>1</td><td>0</td><td>1</td><td>1</td><td>0</td><td> 1</td><td> 1</td><td> 1</td><td> 1</td><td> 1</td><td> 1</td><td>  2</td></tr>\n",
       "\t<tr><th scope=row>3</th><td>1</td><td>0</td><td>1</td><td>1</td><td>1</td><td>1</td><td> 1</td><td> 1</td><td> 1</td><td> 1</td><td> 1</td><td> 1</td><td>  1</td></tr>\n",
       "\t<tr><th scope=row>1</th><td>1</td><td>0</td><td>1</td><td>1</td><td>1</td><td>1</td><td> 1</td><td> 1</td><td> 1</td><td> 0</td><td> 1</td><td> 1</td><td>  2</td></tr>\n",
       "\t<tr><th scope=row>1</th><td>1</td><td>0</td><td>1</td><td>1</td><td>1</td><td>0</td><td> 1</td><td> 0</td><td> 1</td><td> 1</td><td> 1</td><td> 1</td><td>  3</td></tr>\n",
       "\t<tr><th scope=row></th><td>0</td><td>5</td><td>6</td><td>7</td><td>9</td><td>9</td><td>10</td><td>11</td><td>11</td><td>12</td><td>12</td><td>13</td><td>105</td></tr>\n",
       "</tbody>\n",
       "</table>\n"
      ],
      "text/latex": [
       "A matrix: 40 × 13 of type dbl\n",
       "\\begin{tabular}{r|lllllllllllll}\n",
       "  & clust & x5 & x3 & y & x2 & z4 & x4 & z1 & z5 & x1 & z3 & z2 & \\\\\n",
       "\\hline\n",
       "\t36 & 1 & 1 & 1 & 1 & 1 & 1 &  1 &  1 &  1 &  1 &  1 &  1 &   0\\\\\n",
       "\t4 & 1 & 1 & 1 & 1 & 1 & 1 &  1 &  1 &  1 &  1 &  1 &  0 &   1\\\\\n",
       "\t2 & 1 & 1 & 1 & 1 & 1 & 1 &  1 &  1 &  1 &  1 &  0 &  1 &   1\\\\\n",
       "\t3 & 1 & 1 & 1 & 1 & 1 & 1 &  1 &  1 &  1 &  1 &  0 &  0 &   2\\\\\n",
       "\t4 & 1 & 1 & 1 & 1 & 1 & 1 &  1 &  1 &  1 &  0 &  1 &  1 &   1\\\\\n",
       "\t1 & 1 & 1 & 1 & 1 & 1 & 1 &  1 &  1 &  1 &  0 &  1 &  0 &   2\\\\\n",
       "\t2 & 1 & 1 & 1 & 1 & 1 & 1 &  1 &  1 &  0 &  1 &  1 &  1 &   1\\\\\n",
       "\t2 & 1 & 1 & 1 & 1 & 1 & 1 &  1 &  1 &  0 &  1 &  1 &  0 &   2\\\\\n",
       "\t4 & 1 & 1 & 1 & 1 & 1 & 1 &  1 &  0 &  1 &  1 &  1 &  1 &   1\\\\\n",
       "\t1 & 1 & 1 & 1 & 1 & 1 & 1 &  1 &  0 &  1 &  1 &  0 &  1 &   2\\\\\n",
       "\t1 & 1 & 1 & 1 & 1 & 1 & 1 &  1 &  0 &  1 &  0 &  1 &  1 &   2\\\\\n",
       "\t5 & 1 & 1 & 1 & 1 & 1 & 1 &  0 &  1 &  1 &  1 &  1 &  1 &   1\\\\\n",
       "\t2 & 1 & 1 & 1 & 1 & 1 & 1 &  0 &  1 &  1 &  0 &  1 &  1 &   2\\\\\n",
       "\t4 & 1 & 1 & 1 & 1 & 1 & 0 &  1 &  1 &  1 &  1 &  1 &  1 &   1\\\\\n",
       "\t1 & 1 & 1 & 1 & 1 & 1 & 0 &  1 &  1 &  1 &  1 &  1 &  0 &   2\\\\\n",
       "\t1 & 1 & 1 & 1 & 1 & 1 & 0 &  1 &  1 &  1 &  1 &  0 &  1 &   2\\\\\n",
       "\t1 & 1 & 1 & 1 & 1 & 1 & 0 &  0 &  0 &  1 &  1 &  1 &  1 &   3\\\\\n",
       "\t1 & 1 & 1 & 1 & 1 & 0 & 1 &  1 &  1 &  1 &  1 &  1 &  1 &   1\\\\\n",
       "\t1 & 1 & 1 & 1 & 1 & 0 & 1 &  1 &  1 &  1 &  1 &  0 &  1 &   2\\\\\n",
       "\t1 & 1 & 1 & 1 & 1 & 0 & 1 &  1 &  1 &  1 &  0 &  1 &  1 &   2\\\\\n",
       "\t1 & 1 & 1 & 1 & 1 & 0 & 1 &  1 &  1 &  1 &  0 &  1 &  0 &   3\\\\\n",
       "\t1 & 1 & 1 & 1 & 1 & 0 & 1 &  1 &  1 &  0 &  1 &  1 &  1 &   2\\\\\n",
       "\t1 & 1 & 1 & 1 & 1 & 0 & 1 &  1 &  1 &  0 &  1 &  0 &  1 &   3\\\\\n",
       "\t1 & 1 & 1 & 1 & 1 & 0 & 1 &  1 &  0 &  1 &  1 &  1 &  1 &   2\\\\\n",
       "\t1 & 1 & 1 & 1 & 1 & 0 & 1 &  1 &  0 &  1 &  0 &  0 &  1 &   4\\\\\n",
       "\t1 & 1 & 1 & 1 & 0 & 1 & 1 &  1 &  1 &  1 &  1 &  1 &  1 &   1\\\\\n",
       "\t1 & 1 & 1 & 1 & 0 & 1 & 1 &  1 &  1 &  1 &  1 &  0 &  1 &   2\\\\\n",
       "\t2 & 1 & 1 & 1 & 0 & 1 & 1 &  1 &  1 &  0 &  1 &  1 &  1 &   2\\\\\n",
       "\t1 & 1 & 1 & 1 & 0 & 1 & 1 &  1 &  1 &  0 &  1 &  0 &  1 &   3\\\\\n",
       "\t1 & 1 & 1 & 1 & 0 & 1 & 1 &  0 &  0 &  0 &  1 &  1 &  1 &   4\\\\\n",
       "\t1 & 1 & 1 & 1 & 0 & 0 & 1 &  1 &  1 &  1 &  1 &  1 &  1 &   2\\\\\n",
       "\t2 & 1 & 1 & 0 & 1 & 1 & 1 &  1 &  1 &  1 &  1 &  1 &  1 &   1\\\\\n",
       "\t1 & 1 & 1 & 0 & 1 & 1 & 1 &  1 &  1 &  1 &  1 &  1 &  0 &   2\\\\\n",
       "\t1 & 1 & 1 & 0 & 1 & 1 & 1 &  1 &  1 &  0 &  1 &  1 &  1 &   2\\\\\n",
       "\t1 & 1 & 1 & 0 & 1 & 1 & 1 &  0 &  1 &  1 &  1 &  1 &  1 &   2\\\\\n",
       "\t1 & 1 & 1 & 0 & 1 & 1 & 0 &  1 &  1 &  1 &  1 &  1 &  1 &   2\\\\\n",
       "\t3 & 1 & 0 & 1 & 1 & 1 & 1 &  1 &  1 &  1 &  1 &  1 &  1 &   1\\\\\n",
       "\t1 & 1 & 0 & 1 & 1 & 1 & 1 &  1 &  1 &  1 &  0 &  1 &  1 &   2\\\\\n",
       "\t1 & 1 & 0 & 1 & 1 & 1 & 0 &  1 &  0 &  1 &  1 &  1 &  1 &   3\\\\\n",
       "\t & 0 & 5 & 6 & 7 & 9 & 9 & 10 & 11 & 11 & 12 & 12 & 13 & 105\\\\\n",
       "\\end{tabular}\n"
      ],
      "text/markdown": [
       "\n",
       "A matrix: 40 × 13 of type dbl\n",
       "\n",
       "| <!--/--> | clust | x5 | x3 | y | x2 | z4 | x4 | z1 | z5 | x1 | z3 | z2 | <!----> |\n",
       "|---|---|---|---|---|---|---|---|---|---|---|---|---|---|\n",
       "| 36 | 1 | 1 | 1 | 1 | 1 | 1 |  1 |  1 |  1 |  1 |  1 |  1 |   0 |\n",
       "| 4 | 1 | 1 | 1 | 1 | 1 | 1 |  1 |  1 |  1 |  1 |  1 |  0 |   1 |\n",
       "| 2 | 1 | 1 | 1 | 1 | 1 | 1 |  1 |  1 |  1 |  1 |  0 |  1 |   1 |\n",
       "| 3 | 1 | 1 | 1 | 1 | 1 | 1 |  1 |  1 |  1 |  1 |  0 |  0 |   2 |\n",
       "| 4 | 1 | 1 | 1 | 1 | 1 | 1 |  1 |  1 |  1 |  0 |  1 |  1 |   1 |\n",
       "| 1 | 1 | 1 | 1 | 1 | 1 | 1 |  1 |  1 |  1 |  0 |  1 |  0 |   2 |\n",
       "| 2 | 1 | 1 | 1 | 1 | 1 | 1 |  1 |  1 |  0 |  1 |  1 |  1 |   1 |\n",
       "| 2 | 1 | 1 | 1 | 1 | 1 | 1 |  1 |  1 |  0 |  1 |  1 |  0 |   2 |\n",
       "| 4 | 1 | 1 | 1 | 1 | 1 | 1 |  1 |  0 |  1 |  1 |  1 |  1 |   1 |\n",
       "| 1 | 1 | 1 | 1 | 1 | 1 | 1 |  1 |  0 |  1 |  1 |  0 |  1 |   2 |\n",
       "| 1 | 1 | 1 | 1 | 1 | 1 | 1 |  1 |  0 |  1 |  0 |  1 |  1 |   2 |\n",
       "| 5 | 1 | 1 | 1 | 1 | 1 | 1 |  0 |  1 |  1 |  1 |  1 |  1 |   1 |\n",
       "| 2 | 1 | 1 | 1 | 1 | 1 | 1 |  0 |  1 |  1 |  0 |  1 |  1 |   2 |\n",
       "| 4 | 1 | 1 | 1 | 1 | 1 | 0 |  1 |  1 |  1 |  1 |  1 |  1 |   1 |\n",
       "| 1 | 1 | 1 | 1 | 1 | 1 | 0 |  1 |  1 |  1 |  1 |  1 |  0 |   2 |\n",
       "| 1 | 1 | 1 | 1 | 1 | 1 | 0 |  1 |  1 |  1 |  1 |  0 |  1 |   2 |\n",
       "| 1 | 1 | 1 | 1 | 1 | 1 | 0 |  0 |  0 |  1 |  1 |  1 |  1 |   3 |\n",
       "| 1 | 1 | 1 | 1 | 1 | 0 | 1 |  1 |  1 |  1 |  1 |  1 |  1 |   1 |\n",
       "| 1 | 1 | 1 | 1 | 1 | 0 | 1 |  1 |  1 |  1 |  1 |  0 |  1 |   2 |\n",
       "| 1 | 1 | 1 | 1 | 1 | 0 | 1 |  1 |  1 |  1 |  0 |  1 |  1 |   2 |\n",
       "| 1 | 1 | 1 | 1 | 1 | 0 | 1 |  1 |  1 |  1 |  0 |  1 |  0 |   3 |\n",
       "| 1 | 1 | 1 | 1 | 1 | 0 | 1 |  1 |  1 |  0 |  1 |  1 |  1 |   2 |\n",
       "| 1 | 1 | 1 | 1 | 1 | 0 | 1 |  1 |  1 |  0 |  1 |  0 |  1 |   3 |\n",
       "| 1 | 1 | 1 | 1 | 1 | 0 | 1 |  1 |  0 |  1 |  1 |  1 |  1 |   2 |\n",
       "| 1 | 1 | 1 | 1 | 1 | 0 | 1 |  1 |  0 |  1 |  0 |  0 |  1 |   4 |\n",
       "| 1 | 1 | 1 | 1 | 0 | 1 | 1 |  1 |  1 |  1 |  1 |  1 |  1 |   1 |\n",
       "| 1 | 1 | 1 | 1 | 0 | 1 | 1 |  1 |  1 |  1 |  1 |  0 |  1 |   2 |\n",
       "| 2 | 1 | 1 | 1 | 0 | 1 | 1 |  1 |  1 |  0 |  1 |  1 |  1 |   2 |\n",
       "| 1 | 1 | 1 | 1 | 0 | 1 | 1 |  1 |  1 |  0 |  1 |  0 |  1 |   3 |\n",
       "| 1 | 1 | 1 | 1 | 0 | 1 | 1 |  0 |  0 |  0 |  1 |  1 |  1 |   4 |\n",
       "| 1 | 1 | 1 | 1 | 0 | 0 | 1 |  1 |  1 |  1 |  1 |  1 |  1 |   2 |\n",
       "| 2 | 1 | 1 | 0 | 1 | 1 | 1 |  1 |  1 |  1 |  1 |  1 |  1 |   1 |\n",
       "| 1 | 1 | 1 | 0 | 1 | 1 | 1 |  1 |  1 |  1 |  1 |  1 |  0 |   2 |\n",
       "| 1 | 1 | 1 | 0 | 1 | 1 | 1 |  1 |  1 |  0 |  1 |  1 |  1 |   2 |\n",
       "| 1 | 1 | 1 | 0 | 1 | 1 | 1 |  0 |  1 |  1 |  1 |  1 |  1 |   2 |\n",
       "| 1 | 1 | 1 | 0 | 1 | 1 | 0 |  1 |  1 |  1 |  1 |  1 |  1 |   2 |\n",
       "| 3 | 1 | 0 | 1 | 1 | 1 | 1 |  1 |  1 |  1 |  1 |  1 |  1 |   1 |\n",
       "| 1 | 1 | 0 | 1 | 1 | 1 | 1 |  1 |  1 |  1 |  0 |  1 |  1 |   2 |\n",
       "| 1 | 1 | 0 | 1 | 1 | 1 | 0 |  1 |  0 |  1 |  1 |  1 |  1 |   3 |\n",
       "| <!----> | 0 | 5 | 6 | 7 | 9 | 9 | 10 | 11 | 11 | 12 | 12 | 13 | 105 |\n",
       "\n"
      ],
      "text/plain": [
       "   clust x5 x3 y x2 z4 x4 z1 z5 x1 z3 z2    \n",
       "36 1     1  1  1 1  1   1  1  1  1  1  1   0\n",
       "4  1     1  1  1 1  1   1  1  1  1  1  0   1\n",
       "2  1     1  1  1 1  1   1  1  1  1  0  1   1\n",
       "3  1     1  1  1 1  1   1  1  1  1  0  0   2\n",
       "4  1     1  1  1 1  1   1  1  1  0  1  1   1\n",
       "1  1     1  1  1 1  1   1  1  1  0  1  0   2\n",
       "2  1     1  1  1 1  1   1  1  0  1  1  1   1\n",
       "2  1     1  1  1 1  1   1  1  0  1  1  0   2\n",
       "4  1     1  1  1 1  1   1  0  1  1  1  1   1\n",
       "1  1     1  1  1 1  1   1  0  1  1  0  1   2\n",
       "1  1     1  1  1 1  1   1  0  1  0  1  1   2\n",
       "5  1     1  1  1 1  1   0  1  1  1  1  1   1\n",
       "2  1     1  1  1 1  1   0  1  1  0  1  1   2\n",
       "4  1     1  1  1 1  0   1  1  1  1  1  1   1\n",
       "1  1     1  1  1 1  0   1  1  1  1  1  0   2\n",
       "1  1     1  1  1 1  0   1  1  1  1  0  1   2\n",
       "1  1     1  1  1 1  0   0  0  1  1  1  1   3\n",
       "1  1     1  1  1 0  1   1  1  1  1  1  1   1\n",
       "1  1     1  1  1 0  1   1  1  1  1  0  1   2\n",
       "1  1     1  1  1 0  1   1  1  1  0  1  1   2\n",
       "1  1     1  1  1 0  1   1  1  1  0  1  0   3\n",
       "1  1     1  1  1 0  1   1  1  0  1  1  1   2\n",
       "1  1     1  1  1 0  1   1  1  0  1  0  1   3\n",
       "1  1     1  1  1 0  1   1  0  1  1  1  1   2\n",
       "1  1     1  1  1 0  1   1  0  1  0  0  1   4\n",
       "1  1     1  1  0 1  1   1  1  1  1  1  1   1\n",
       "1  1     1  1  0 1  1   1  1  1  1  0  1   2\n",
       "2  1     1  1  0 1  1   1  1  0  1  1  1   2\n",
       "1  1     1  1  0 1  1   1  1  0  1  0  1   3\n",
       "1  1     1  1  0 1  1   0  0  0  1  1  1   4\n",
       "1  1     1  1  0 0  1   1  1  1  1  1  1   2\n",
       "2  1     1  0  1 1  1   1  1  1  1  1  1   1\n",
       "1  1     1  0  1 1  1   1  1  1  1  1  0   2\n",
       "1  1     1  0  1 1  1   1  1  0  1  1  1   2\n",
       "1  1     1  0  1 1  1   0  1  1  1  1  1   2\n",
       "1  1     1  0  1 1  0   1  1  1  1  1  1   2\n",
       "3  1     0  1  1 1  1   1  1  1  1  1  1   1\n",
       "1  1     0  1  1 1  1   1  1  1  0  1  1   2\n",
       "1  1     0  1  1 1  0   1  0  1  1  1  1   3\n",
       "   0     5  6  7 9  9  10 11 11 12 12 13 105"
      ]
     },
     "metadata": {},
     "output_type": "display_data"
    },
    {
     "data": {
      "image/png": "[encoded data removed]",
      "text/plain": [
       "plot without title"
      ]
     },
     "metadata": {
      "image/png": {
       "height": 420,
       "width": 420
      }
     },
     "output_type": "display_data"
    }
   ],
   "source": [
    "# Visualisasikan missing data dengan mice dan VIM\n",
    "# (Visualization of Missing and Imputed Values)\n",
    "library(mice)\n",
    "md.pattern(data.cont, plot = TRUE)"
   ]
  },
  {
   "cell_type": "code",
   "execution_count": 120,
   "metadata": {
    "vscode": {
     "languageId": "r"
    }
   },
   "outputs": [
    {
     "data": {
      "image/png": "[encoded data removed]",
      "text/plain": [
       "plot without title"
      ]
     },
     "metadata": {
      "image/png": {
       "height": 420,
       "width": 420
      }
     },
     "output_type": "display_data"
    }
   ],
   "source": [
    "library(VIM)\n",
    "aggr_plot <- aggr(\n",
    "  data.cont,\n",
    "  col=c('navyblue','red'),\n",
    "  numbers=TRUE,\n",
    "  sortVars=FALSE,\n",
    "  labels=names(data.cont),\n",
    "  cex.axis=.7,\n",
    "  gap=3,\n",
    "  ylab=c(\"Histogram of missing data\",\"Pattern\")\n",
    ")"
   ]
  },
  {
   "cell_type": "markdown",
   "metadata": {},
   "source": [
    "#### _Multiple Imputation_"
   ]
  },
  {
   "cell_type": "code",
   "execution_count": 122,
   "metadata": {
    "vscode": {
     "languageId": "r"
    }
   },
   "outputs": [],
   "source": [
    "# Load package yang dibutuhkan\n",
    "library(Hmisc)"
   ]
  },
  {
   "cell_type": "code",
   "execution_count": 123,
   "metadata": {
    "vscode": {
     "languageId": "r"
    }
   },
   "outputs": [
    {
     "data": {
      "text/html": [
       "<style>\n",
       ".dl-inline {width: auto; margin:0; padding: 0}\n",
       ".dl-inline>dt, .dl-inline>dd {float: none; width: auto; display: inline-block}\n",
       ".dl-inline>dt::after {content: \":\\0020\"; padding-right: .5ex}\n",
       ".dl-inline>dt:not(:first-of-type) {padding-left: .5ex}\n",
       "</style><dl class=dl-inline><dt>x1</dt><dd>0.12</dd><dt>x2</dt><dd>0.09</dd><dt>x3</dt><dd>0.06</dd><dt>x4</dt><dd>0.1</dd><dt>x5</dt><dd>0.05</dd><dt>z1</dt><dd>0.11</dd><dt>z2</dt><dd>0.13</dd><dt>z3</dt><dd>0.12</dd><dt>z4</dt><dd>0.09</dd><dt>z5</dt><dd>0.11</dd><dt>y</dt><dd>0.07</dd><dt>clust</dt><dd>0</dd></dl>\n"
      ],
      "text/latex": [
       "\\begin{description*}\n",
       "\\item[x1] 0.12\n",
       "\\item[x2] 0.09\n",
       "\\item[x3] 0.06\n",
       "\\item[x4] 0.1\n",
       "\\item[x5] 0.05\n",
       "\\item[z1] 0.11\n",
       "\\item[z2] 0.13\n",
       "\\item[z3] 0.12\n",
       "\\item[z4] 0.09\n",
       "\\item[z5] 0.11\n",
       "\\item[y] 0.07\n",
       "\\item[clust] 0\n",
       "\\end{description*}\n"
      ],
      "text/markdown": [
       "x1\n",
       ":   0.12x2\n",
       ":   0.09x3\n",
       ":   0.06x4\n",
       ":   0.1x5\n",
       ":   0.05z1\n",
       ":   0.11z2\n",
       ":   0.13z3\n",
       ":   0.12z4\n",
       ":   0.09z5\n",
       ":   0.11y\n",
       ":   0.07clust\n",
       ":   0\n",
       "\n"
      ],
      "text/plain": [
       "   x1    x2    x3    x4    x5    z1    z2    z3    z4    z5     y clust \n",
       " 0.12  0.09  0.06  0.10  0.05  0.11  0.13  0.12  0.09  0.11  0.07  0.00 "
      ]
     },
     "metadata": {},
     "output_type": "display_data"
    }
   ],
   "source": [
    "# Proporsi missing di data asli\n",
    "colSums(is.na(data.cont))/nrow(data.cont) "
   ]
  },
  {
   "cell_type": "code",
   "execution_count": 124,
   "metadata": {
    "vscode": {
     "languageId": "r"
    }
   },
   "outputs": [],
   "source": [
    "# Menentukan jumlah imputasi\n",
    "# - Minimal direkomendasikan 5-10 imputasi\n",
    "# - Semakin besar n.impute, semakin stabil estimasi tapi komputasi lebih lama\n",
    "# - Rule of thumb: n.impute minimal sama dengan persentase missing data\n",
    "n.impute <- 10"
   ]
  },
  {
   "cell_type": "code",
   "execution_count": 127,
   "metadata": {
    "vscode": {
     "languageId": "r"
    }
   },
   "outputs": [
    {
     "name": "stdout",
     "output_type": "stream",
     "text": [
      "Iteration 13 \n"
     ]
    },
    {
     "data": {
      "text/plain": [
       "\n",
       "Multiple Imputation using Bootstrap and PMM\n",
       "\n",
       "aregImpute(formula = I(y) ~ x1 + x2 + I(x3) + I(x4) + I(x5) + \n",
       "    z1 + z2 + I(z3) + I(z4) + I(z5), data = data.cont, n.impute = n.impute, \n",
       "    nk = 3, match = \"closest\")\n",
       "\n",
       "n: 100 \tp: 11 \tImputations: 10  \tnk: 3 \n",
       "\n",
       "Number of NAs:\n",
       " y x1 x2 x3 x4 x5 z1 z2 z3 z4 z5 \n",
       " 7 12  9  6 10  5 11 13 12  9 11 \n",
       "\n",
       "   type d.f.\n",
       "y     l    1\n",
       "x1    s    2\n",
       "x2    s    2\n",
       "x3    c    1\n",
       "x4    c    1\n",
       "x5    c    3\n",
       "z1    s    2\n",
       "z2    s    2\n",
       "z3    c    1\n",
       "z4    c    1\n",
       "z5    c    3\n",
       "\n",
       "Transformation of Target Variables Forced to be Linear\n",
       "\n",
       "R-squares for Predicting Non-Missing Values for Each Variable\n",
       "Using Last Imputations of Predictors\n",
       "    y    x1    x2    x3    x4    x5    z1    z2    z3    z4    z5 \n",
       "0.836 0.699 0.626 0.491 0.409 0.639 0.440 0.550 0.439 0.307 0.409 "
      ]
     },
     "metadata": {},
     "output_type": "display_data"
    }
   ],
   "source": [
    "# Melakukan multiple imputation menggunakan aregImpute\n",
    "a <- aregImpute(\n",
    "  # Formula model:\n",
    "  # - y sebagai outcome\n",
    "  # - x1,x2: variabel kontinyu dengan splines (hubungan non-linear)\n",
    "  # - x3,x4,x5: variabel kategorik untuk predictor pertama (dibungkus dengan I())\n",
    "  # - z1,z2: variabel kontinyu tanpa splines\n",
    "  # - z3,z4,z5: variabel kategorik untuk predictor kedua (dibungkus dengan I())\n",
    "  formula = I(y)~x1+x2+I(x3)+I(x4)+I(x5)+z1+z2+I(z3)+I(z4)+I(z5),\n",
    "  data = data.cont,    # dataset dengan missing values\n",
    "  n.impute = n.impute, # jumlah dataset imputasi yang diinginkan\n",
    "  nk = 3,              # jumlah knots untuk splines (x1 dan x2)\n",
    "  match = 'closest'    # metode predictive mean matching\n",
    ")\n",
    "a"
   ]
  },
  {
   "cell_type": "code",
   "execution_count": 148,
   "metadata": {
    "vscode": {
     "languageId": "r"
    }
   },
   "outputs": [],
   "source": [
    "# Menyimpan hasil imputasi dalam list\n",
    "# Setiap elemen list berisi satu dataset lengkap hasil imputasi\n",
    "imputed_list <- list()"
   ]
  },
  {
   "cell_type": "code",
   "execution_count": 149,
   "metadata": {
    "vscode": {
     "languageId": "r"
    }
   },
   "outputs": [
    {
     "name": "stdout",
     "output_type": "stream",
     "text": [
      "\n",
      "\n",
      "Imputed missing values with the following frequencies\n",
      " and stored them in variables with their original names:\n",
      "\n",
      " y x1 x2 x3 x4 x5 z1 z2 z3 z4 z5 \n",
      " 7 12  9  6 10  5 11 13 12  9 11 \n",
      "\n",
      "\n",
      "Imputed missing values with the following frequencies\n",
      " and stored them in variables with their original names:\n",
      "\n",
      " y x1 x2 x3 x4 x5 z1 z2 z3 z4 z5 \n",
      " 7 12  9  6 10  5 11 13 12  9 11 \n",
      "\n",
      "\n",
      "Imputed missing values with the following frequencies\n",
      " and stored them in variables with their original names:\n",
      "\n",
      " y x1 x2 x3 x4 x5 z1 z2 z3 z4 z5 \n",
      " 7 12  9  6 10  5 11 13 12  9 11 \n",
      "\n",
      "\n",
      "Imputed missing values with the following frequencies\n",
      " and stored them in variables with their original names:\n",
      "\n",
      " y x1 x2 x3 x4 x5 z1 z2 z3 z4 z5 \n",
      " 7 12  9  6 10  5 11 13 12  9 11 \n",
      "\n",
      "\n",
      "Imputed missing values with the following frequencies\n",
      " and stored them in variables with their original names:\n",
      "\n",
      " y x1 x2 x3 x4 x5 z1 z2 z3 z4 z5 \n",
      " 7 12  9  6 10  5 11 13 12  9 11 \n",
      "\n",
      "\n",
      "Imputed missing values with the following frequencies\n",
      " and stored them in variables with their original names:\n",
      "\n",
      " y x1 x2 x3 x4 x5 z1 z2 z3 z4 z5 \n",
      " 7 12  9  6 10  5 11 13 12  9 11 \n",
      "\n",
      "\n",
      "Imputed missing values with the following frequencies\n",
      " and stored them in variables with their original names:\n",
      "\n",
      " y x1 x2 x3 x4 x5 z1 z2 z3 z4 z5 \n",
      " 7 12  9  6 10  5 11 13 12  9 11 \n",
      "\n",
      "\n",
      "Imputed missing values with the following frequencies\n",
      " and stored them in variables with their original names:\n",
      "\n",
      " y x1 x2 x3 x4 x5 z1 z2 z3 z4 z5 \n",
      " 7 12  9  6 10  5 11 13 12  9 11 \n",
      "\n",
      "\n",
      "Imputed missing values with the following frequencies\n",
      " and stored them in variables with their original names:\n",
      "\n",
      " y x1 x2 x3 x4 x5 z1 z2 z3 z4 z5 \n",
      " 7 12  9  6 10  5 11 13 12  9 11 \n",
      "\n",
      "\n",
      "Imputed missing values with the following frequencies\n",
      " and stored them in variables with their original names:\n",
      "\n",
      " y x1 x2 x3 x4 x5 z1 z2 z3 z4 z5 \n",
      " 7 12  9  6 10  5 11 13 12  9 11 \n"
     ]
    }
   ],
   "source": [
    "# Loop untuk mendapatkan setiap dataset hasil imputasi\n",
    "for (i in 1:n.impute){\n",
    "  # impute.transcan: mengaplikasikan hasil aregImpute ke data\n",
    "  # - Mengambil hasil transformasi dari aregImpute\n",
    "  # - Mengaplikasikan ke missing values\n",
    "  # - Menghasilkan dataset lengkap\n",
    "  imputed_list[[i]] <- impute.transcan(\n",
    "    a,                # hasil dari aregImpute\n",
    "    imputation = i,   # mengambil hasil imputasi ke-i\n",
    "    data = data.cont, # data original dengan missing\n",
    "    list.out = TRUE,  # output dalam bentuk list\n",
    "    pr = TRUE,       # tidak print progress\n",
    "    check = FALSE     # tidak cek konsistensi\n",
    "  )\n",
    "}"
   ]
  },
  {
   "cell_type": "code",
   "execution_count": 150,
   "metadata": {
    "vscode": {
     "languageId": "r"
    }
   },
   "outputs": [],
   "source": [
    "# PENTING: Penanganan missing pada outcome (y)\n",
    "# JIKA tidak menggunakan auxiliary variables:\n",
    "missing.y <- which(is.na(data.cont$y))\n",
    "for (i in 1:n.impute){\n",
    "  imputed_list[[i]] <- as.data.frame(imputed_list[[i]])\n",
    "  imputed_list[[i]] <- imputed_list[[i]][-missing.y,]\n",
    "}\n",
    "\n",
    "# JIKA menggunakan auxiliary variables:\n",
    "# Biarkan kode selesai sampai di atas loop kedua"
   ]
  },
  {
   "cell_type": "code",
   "execution_count": 151,
   "metadata": {
    "vscode": {
     "languageId": "r"
    }
   },
   "outputs": [
    {
     "data": {
      "text/html": [
       "<table class=\"dataframe\">\n",
       "<caption>A data.frame: 6 × 11</caption>\n",
       "<thead>\n",
       "\t<tr><th></th><th scope=col>y</th><th scope=col>x1</th><th scope=col>x2</th><th scope=col>x3</th><th scope=col>x4</th><th scope=col>x5</th><th scope=col>z1</th><th scope=col>z2</th><th scope=col>z3</th><th scope=col>z4</th><th scope=col>z5</th></tr>\n",
       "\t<tr><th></th><th scope=col>&lt;dbl&gt;</th><th scope=col>&lt;impute&gt;</th><th scope=col>&lt;impute&gt;</th><th scope=col>&lt;fct&gt;</th><th scope=col>&lt;fct&gt;</th><th scope=col>&lt;fct&gt;</th><th scope=col>&lt;impute&gt;</th><th scope=col>&lt;impute&gt;</th><th scope=col>&lt;fct&gt;</th><th scope=col>&lt;fct&gt;</th><th scope=col>&lt;fct&gt;</th></tr>\n",
       "</thead>\n",
       "<tbody>\n",
       "\t<tr><th scope=row>1</th><td> 1.6434017</td><td> 0.2688495</td><td> 0.6200021</td><td>1</td><td>0</td><td>3</td><td> 3.25509611</td><td> 1.7220392</td><td>1</td><td>0</td><td>2</td></tr>\n",
       "\t<tr><th scope=row>2</th><td>-1.0192352</td><td>-0.6894078</td><td> 1.1172485</td><td>0</td><td>0</td><td>3</td><td>-1.52042477</td><td> 0.2913901</td><td>0</td><td>0</td><td>2</td></tr>\n",
       "\t<tr><th scope=row>3</th><td>-0.5223372</td><td>-0.4706753</td><td> 0.6010623</td><td>1</td><td>0</td><td>2</td><td> 0.20736515</td><td>-1.2202014</td><td>0</td><td>0</td><td>3</td></tr>\n",
       "\t<tr><th scope=row>4</th><td> 0.7121298</td><td> 0.9237489</td><td> 0.8936722</td><td>0</td><td>1</td><td>1</td><td>-0.29824957</td><td>-1.6426383</td><td>0</td><td>0</td><td>3</td></tr>\n",
       "\t<tr><th scope=row>5</th><td> 0.7522273</td><td>-0.1179529</td><td>-0.4783984</td><td>0</td><td>0</td><td>2</td><td>-0.03254685</td><td>-1.2202014</td><td>1</td><td>0</td><td>3</td></tr>\n",
       "\t<tr><th scope=row>7</th><td> 2.1240517</td><td> 1.3979796</td><td> 1.1087925</td><td>0</td><td>1</td><td>2</td><td>-1.45559556</td><td>-0.9655180</td><td>1</td><td>0</td><td>2</td></tr>\n",
       "</tbody>\n",
       "</table>\n"
      ],
      "text/latex": [
       "A data.frame: 6 × 11\n",
       "\\begin{tabular}{r|lllllllllll}\n",
       "  & y & x1 & x2 & x3 & x4 & x5 & z1 & z2 & z3 & z4 & z5\\\\\n",
       "  & <dbl> & <impute> & <impute> & <fct> & <fct> & <fct> & <impute> & <impute> & <fct> & <fct> & <fct>\\\\\n",
       "\\hline\n",
       "\t1 &  1.6434017 &  0.2688495 &  0.6200021 & 1 & 0 & 3 &  3.25509611 &  1.7220392 & 1 & 0 & 2\\\\\n",
       "\t2 & -1.0192352 & -0.6894078 &  1.1172485 & 0 & 0 & 3 & -1.52042477 &  0.2913901 & 0 & 0 & 2\\\\\n",
       "\t3 & -0.5223372 & -0.4706753 &  0.6010623 & 1 & 0 & 2 &  0.20736515 & -1.2202014 & 0 & 0 & 3\\\\\n",
       "\t4 &  0.7121298 &  0.9237489 &  0.8936722 & 0 & 1 & 1 & -0.29824957 & -1.6426383 & 0 & 0 & 3\\\\\n",
       "\t5 &  0.7522273 & -0.1179529 & -0.4783984 & 0 & 0 & 2 & -0.03254685 & -1.2202014 & 1 & 0 & 3\\\\\n",
       "\t7 &  2.1240517 &  1.3979796 &  1.1087925 & 0 & 1 & 2 & -1.45559556 & -0.9655180 & 1 & 0 & 2\\\\\n",
       "\\end{tabular}\n"
      ],
      "text/markdown": [
       "\n",
       "A data.frame: 6 × 11\n",
       "\n",
       "| <!--/--> | y &lt;dbl&gt; | x1 &lt;impute&gt; | x2 &lt;impute&gt; | x3 &lt;fct&gt; | x4 &lt;fct&gt; | x5 &lt;fct&gt; | z1 &lt;impute&gt; | z2 &lt;impute&gt; | z3 &lt;fct&gt; | z4 &lt;fct&gt; | z5 &lt;fct&gt; |\n",
       "|---|---|---|---|---|---|---|---|---|---|---|---|\n",
       "| 1 |  1.6434017 |  0.2688495 |  0.6200021 | 1 | 0 | 3 |  3.25509611 |  1.7220392 | 1 | 0 | 2 |\n",
       "| 2 | -1.0192352 | -0.6894078 |  1.1172485 | 0 | 0 | 3 | -1.52042477 |  0.2913901 | 0 | 0 | 2 |\n",
       "| 3 | -0.5223372 | -0.4706753 |  0.6010623 | 1 | 0 | 2 |  0.20736515 | -1.2202014 | 0 | 0 | 3 |\n",
       "| 4 |  0.7121298 |  0.9237489 |  0.8936722 | 0 | 1 | 1 | -0.29824957 | -1.6426383 | 0 | 0 | 3 |\n",
       "| 5 |  0.7522273 | -0.1179529 | -0.4783984 | 0 | 0 | 2 | -0.03254685 | -1.2202014 | 1 | 0 | 3 |\n",
       "| 7 |  2.1240517 |  1.3979796 |  1.1087925 | 0 | 1 | 2 | -1.45559556 | -0.9655180 | 1 | 0 | 2 |\n",
       "\n"
      ],
      "text/plain": [
       "  y          x1         x2         x3 x4 x5 z1          z2         z3 z4 z5\n",
       "1  1.6434017  0.2688495  0.6200021 1  0  3   3.25509611  1.7220392 1  0  2 \n",
       "2 -1.0192352 -0.6894078  1.1172485 0  0  3  -1.52042477  0.2913901 0  0  2 \n",
       "3 -0.5223372 -0.4706753  0.6010623 1  0  2   0.20736515 -1.2202014 0  0  3 \n",
       "4  0.7121298  0.9237489  0.8936722 0  1  1  -0.29824957 -1.6426383 0  0  3 \n",
       "5  0.7522273 -0.1179529 -0.4783984 0  0  2  -0.03254685 -1.2202014 1  0  3 \n",
       "7  2.1240517  1.3979796  1.1087925 0  1  2  -1.45559556 -0.9655180 1  0  2 "
      ]
     },
     "metadata": {},
     "output_type": "display_data"
    }
   ],
   "source": [
    "# Melihat hasil imputasi pertama\n",
    "head(imputed_list[[1]])"
   ]
  },
  {
   "cell_type": "code",
   "execution_count": 152,
   "metadata": {
    "vscode": {
     "languageId": "r"
    }
   },
   "outputs": [
    {
     "data": {
      "text/html": [
       "<style>\n",
       ".dl-inline {width: auto; margin:0; padding: 0}\n",
       ".dl-inline>dt, .dl-inline>dd {float: none; width: auto; display: inline-block}\n",
       ".dl-inline>dt::after {content: \":\\0020\"; padding-right: .5ex}\n",
       ".dl-inline>dt:not(:first-of-type) {padding-left: .5ex}\n",
       "</style><dl class=dl-inline><dt>x1</dt><dd>0.12</dd><dt>x2</dt><dd>0.09</dd><dt>x3</dt><dd>0.06</dd><dt>x4</dt><dd>0.1</dd><dt>x5</dt><dd>0.05</dd><dt>z1</dt><dd>0.11</dd><dt>z2</dt><dd>0.13</dd><dt>z3</dt><dd>0.12</dd><dt>z4</dt><dd>0.09</dd><dt>z5</dt><dd>0.11</dd><dt>y</dt><dd>0.07</dd><dt>clust</dt><dd>0</dd></dl>\n"
      ],
      "text/latex": [
       "\\begin{description*}\n",
       "\\item[x1] 0.12\n",
       "\\item[x2] 0.09\n",
       "\\item[x3] 0.06\n",
       "\\item[x4] 0.1\n",
       "\\item[x5] 0.05\n",
       "\\item[z1] 0.11\n",
       "\\item[z2] 0.13\n",
       "\\item[z3] 0.12\n",
       "\\item[z4] 0.09\n",
       "\\item[z5] 0.11\n",
       "\\item[y] 0.07\n",
       "\\item[clust] 0\n",
       "\\end{description*}\n"
      ],
      "text/markdown": [
       "x1\n",
       ":   0.12x2\n",
       ":   0.09x3\n",
       ":   0.06x4\n",
       ":   0.1x5\n",
       ":   0.05z1\n",
       ":   0.11z2\n",
       ":   0.13z3\n",
       ":   0.12z4\n",
       ":   0.09z5\n",
       ":   0.11y\n",
       ":   0.07clust\n",
       ":   0\n",
       "\n"
      ],
      "text/plain": [
       "   x1    x2    x3    x4    x5    z1    z2    z3    z4    z5     y clust \n",
       " 0.12  0.09  0.06  0.10  0.05  0.11  0.13  0.12  0.09  0.11  0.07  0.00 "
      ]
     },
     "metadata": {},
     "output_type": "display_data"
    }
   ],
   "source": [
    "# Melihat hasil imputasi dan membandingkan data dengan missing values (data.cont)\n",
    "# Proporsi missing di data asli\n",
    "colSums(is.na(data.cont))/nrow(data.cont)  "
   ]
  },
  {
   "cell_type": "code",
   "execution_count": null,
   "metadata": {
    "vscode": {
     "languageId": "r"
    }
   },
   "outputs": [
    {
     "data": {
      "text/html": [
       "<style>\n",
       ".dl-inline {width: auto; margin:0; padding: 0}\n",
       ".dl-inline>dt, .dl-inline>dd {float: none; width: auto; display: inline-block}\n",
       ".dl-inline>dt::after {content: \":\\0020\"; padding-right: .5ex}\n",
       ".dl-inline>dt:not(:first-of-type) {padding-left: .5ex}\n",
       "</style><dl class=dl-inline><dt>y</dt><dd>0</dd><dt>x1</dt><dd>0</dd><dt>x2</dt><dd>0</dd><dt>x3</dt><dd>0</dd><dt>x4</dt><dd>0</dd><dt>x5</dt><dd>0</dd><dt>z1</dt><dd>0</dd><dt>z2</dt><dd>0</dd><dt>z3</dt><dd>0</dd><dt>z4</dt><dd>0</dd><dt>z5</dt><dd>0</dd></dl>\n"
      ],
      "text/latex": [
       "\\begin{description*}\n",
       "\\item[y] 0\n",
       "\\item[x1] 0\n",
       "\\item[x2] 0\n",
       "\\item[x3] 0\n",
       "\\item[x4] 0\n",
       "\\item[x5] 0\n",
       "\\item[z1] 0\n",
       "\\item[z2] 0\n",
       "\\item[z3] 0\n",
       "\\item[z4] 0\n",
       "\\item[z5] 0\n",
       "\\end{description*}\n"
      ],
      "text/markdown": [
       "y\n",
       ":   0x1\n",
       ":   0x2\n",
       ":   0x3\n",
       ":   0x4\n",
       ":   0x5\n",
       ":   0z1\n",
       ":   0z2\n",
       ":   0z3\n",
       ":   0z4\n",
       ":   0z5\n",
       ":   0\n",
       "\n"
      ],
      "text/plain": [
       " y x1 x2 x3 x4 x5 z1 z2 z3 z4 z5 \n",
       " 0  0  0  0  0  0  0  0  0  0  0 "
      ]
     },
     "metadata": {},
     "output_type": "display_data"
    }
   ],
   "source": [
    "# Mengkonversi hasil imputasi ke format data frame untuk pengecekan\n",
    "imputed_df1 <- as.data.frame(imputed_list[[1]])\n",
    "colSums(is.na(imputed_df1))/nrow(imputed_df1)  # seharusnya semua 0 karena sudah diimputasi"
   ]
  },
  {
   "cell_type": "code",
   "execution_count": 139,
   "metadata": {
    "vscode": {
     "languageId": "r"
    }
   },
   "outputs": [],
   "source": [
    "# Alternatif: melihat struktur data hasil imputasi\n",
    "# str(imputed1[[1]])"
   ]
  },
  {
   "cell_type": "code",
   "execution_count": 157,
   "metadata": {
    "vscode": {
     "languageId": "r"
    }
   },
   "outputs": [
    {
     "data": {
      "text/html": [
       "<table class=\"dataframe\">\n",
       "<caption>A data.frame: 6 × 11</caption>\n",
       "<thead>\n",
       "\t<tr><th></th><th scope=col>y</th><th scope=col>x1</th><th scope=col>x2</th><th scope=col>x3</th><th scope=col>x4</th><th scope=col>x5</th><th scope=col>z1</th><th scope=col>z2</th><th scope=col>z3</th><th scope=col>z4</th><th scope=col>z5</th></tr>\n",
       "\t<tr><th></th><th scope=col>&lt;dbl&gt;</th><th scope=col>&lt;impute&gt;</th><th scope=col>&lt;impute&gt;</th><th scope=col>&lt;fct&gt;</th><th scope=col>&lt;fct&gt;</th><th scope=col>&lt;fct&gt;</th><th scope=col>&lt;impute&gt;</th><th scope=col>&lt;impute&gt;</th><th scope=col>&lt;fct&gt;</th><th scope=col>&lt;fct&gt;</th><th scope=col>&lt;fct&gt;</th></tr>\n",
       "</thead>\n",
       "<tbody>\n",
       "\t<tr><th scope=row>1</th><td> 1.6434017</td><td> 0.2688495</td><td> 0.6200021</td><td>1</td><td>0</td><td>3</td><td> 3.25509611</td><td> 1.7220392</td><td>1</td><td>0</td><td>2</td></tr>\n",
       "\t<tr><th scope=row>2</th><td>-1.0192352</td><td>-0.6894078</td><td> 1.1172485</td><td>0</td><td>0</td><td>3</td><td>-1.52042477</td><td> 0.2913901</td><td>0</td><td>0</td><td>2</td></tr>\n",
       "\t<tr><th scope=row>3</th><td>-0.5223372</td><td>-0.4706753</td><td> 0.6010623</td><td>1</td><td>0</td><td>2</td><td> 0.20736515</td><td>-1.2202014</td><td>0</td><td>0</td><td>3</td></tr>\n",
       "\t<tr><th scope=row>4</th><td> 0.7121298</td><td> 0.9237489</td><td> 0.8936722</td><td>0</td><td>1</td><td>1</td><td>-0.29824957</td><td>-1.6426383</td><td>0</td><td>0</td><td>3</td></tr>\n",
       "\t<tr><th scope=row>5</th><td> 0.7522273</td><td>-0.1179529</td><td>-0.4783984</td><td>0</td><td>0</td><td>2</td><td>-0.03254685</td><td>-1.2202014</td><td>1</td><td>0</td><td>3</td></tr>\n",
       "\t<tr><th scope=row>7</th><td> 2.1240517</td><td> 1.3979796</td><td> 1.1087925</td><td>0</td><td>1</td><td>2</td><td>-1.45559556</td><td>-0.9655180</td><td>1</td><td>0</td><td>2</td></tr>\n",
       "</tbody>\n",
       "</table>\n"
      ],
      "text/latex": [
       "A data.frame: 6 × 11\n",
       "\\begin{tabular}{r|lllllllllll}\n",
       "  & y & x1 & x2 & x3 & x4 & x5 & z1 & z2 & z3 & z4 & z5\\\\\n",
       "  & <dbl> & <impute> & <impute> & <fct> & <fct> & <fct> & <impute> & <impute> & <fct> & <fct> & <fct>\\\\\n",
       "\\hline\n",
       "\t1 &  1.6434017 &  0.2688495 &  0.6200021 & 1 & 0 & 3 &  3.25509611 &  1.7220392 & 1 & 0 & 2\\\\\n",
       "\t2 & -1.0192352 & -0.6894078 &  1.1172485 & 0 & 0 & 3 & -1.52042477 &  0.2913901 & 0 & 0 & 2\\\\\n",
       "\t3 & -0.5223372 & -0.4706753 &  0.6010623 & 1 & 0 & 2 &  0.20736515 & -1.2202014 & 0 & 0 & 3\\\\\n",
       "\t4 &  0.7121298 &  0.9237489 &  0.8936722 & 0 & 1 & 1 & -0.29824957 & -1.6426383 & 0 & 0 & 3\\\\\n",
       "\t5 &  0.7522273 & -0.1179529 & -0.4783984 & 0 & 0 & 2 & -0.03254685 & -1.2202014 & 1 & 0 & 3\\\\\n",
       "\t7 &  2.1240517 &  1.3979796 &  1.1087925 & 0 & 1 & 2 & -1.45559556 & -0.9655180 & 1 & 0 & 2\\\\\n",
       "\\end{tabular}\n"
      ],
      "text/markdown": [
       "\n",
       "A data.frame: 6 × 11\n",
       "\n",
       "| <!--/--> | y &lt;dbl&gt; | x1 &lt;impute&gt; | x2 &lt;impute&gt; | x3 &lt;fct&gt; | x4 &lt;fct&gt; | x5 &lt;fct&gt; | z1 &lt;impute&gt; | z2 &lt;impute&gt; | z3 &lt;fct&gt; | z4 &lt;fct&gt; | z5 &lt;fct&gt; |\n",
       "|---|---|---|---|---|---|---|---|---|---|---|---|\n",
       "| 1 |  1.6434017 |  0.2688495 |  0.6200021 | 1 | 0 | 3 |  3.25509611 |  1.7220392 | 1 | 0 | 2 |\n",
       "| 2 | -1.0192352 | -0.6894078 |  1.1172485 | 0 | 0 | 3 | -1.52042477 |  0.2913901 | 0 | 0 | 2 |\n",
       "| 3 | -0.5223372 | -0.4706753 |  0.6010623 | 1 | 0 | 2 |  0.20736515 | -1.2202014 | 0 | 0 | 3 |\n",
       "| 4 |  0.7121298 |  0.9237489 |  0.8936722 | 0 | 1 | 1 | -0.29824957 | -1.6426383 | 0 | 0 | 3 |\n",
       "| 5 |  0.7522273 | -0.1179529 | -0.4783984 | 0 | 0 | 2 | -0.03254685 | -1.2202014 | 1 | 0 | 3 |\n",
       "| 7 |  2.1240517 |  1.3979796 |  1.1087925 | 0 | 1 | 2 | -1.45559556 | -0.9655180 | 1 | 0 | 2 |\n",
       "\n"
      ],
      "text/plain": [
       "  y          x1         x2         x3 x4 x5 z1          z2         z3 z4 z5\n",
       "1  1.6434017  0.2688495  0.6200021 1  0  3   3.25509611  1.7220392 1  0  2 \n",
       "2 -1.0192352 -0.6894078  1.1172485 0  0  3  -1.52042477  0.2913901 0  0  2 \n",
       "3 -0.5223372 -0.4706753  0.6010623 1  0  2   0.20736515 -1.2202014 0  0  3 \n",
       "4  0.7121298  0.9237489  0.8936722 0  1  1  -0.29824957 -1.6426383 0  0  3 \n",
       "5  0.7522273 -0.1179529 -0.4783984 0  0  2  -0.03254685 -1.2202014 1  0  3 \n",
       "7  2.1240517  1.3979796  1.1087925 0  1  2  -1.45559556 -0.9655180 1  0  2 "
      ]
     },
     "metadata": {},
     "output_type": "display_data"
    }
   ],
   "source": [
    "# Melihat beberapa baris pertama hasil imputasi\n",
    "head(as.data.frame(imputed_list[[1]]))"
   ]
  },
  {
   "cell_type": "markdown",
   "metadata": {},
   "source": [
    "### _Create Model_"
   ]
  },
  {
   "cell_type": "markdown",
   "metadata": {
    "vscode": {
     "languageId": "r"
    }
   },
   "source": [
    "#### Model OLS"
   ]
  },
  {
   "cell_type": "markdown",
   "metadata": {},
   "source": [
    "##### Membuat Model OLS"
   ]
  },
  {
   "cell_type": "code",
   "execution_count": 159,
   "metadata": {
    "vscode": {
     "languageId": "r"
    }
   },
   "outputs": [],
   "source": [
    "# Load library yang dibutuhkan\n",
    "library(rms)    # untuk fungsi ols dan rcs"
   ]
  },
  {
   "cell_type": "code",
   "execution_count": 164,
   "metadata": {
    "vscode": {
     "languageId": "r"
    }
   },
   "outputs": [],
   "source": [
    "# Membuat list untuk menyimpan model regresi\n",
    "regression.splines <- list()\n",
    "\n",
    "# Fit model untuk setiap dataset hasil imputation\n",
    "for (i in 1:n.impute){\n",
    "  # Ordinary Least Squares dengan restricted cubic splines\n",
    "  regression.splines[[i]] <- ols(\n",
    "    # Formula model:\n",
    "    # - y: outcome\n",
    "    # - rcs(x1,3): restricted cubic splines untuk x1 dengan 3 knots\n",
    "    # - rcs(x2,3): restricted cubic splines untuk x2 dengan 3 knots\n",
    "    # - x3,x4,x5: predictor kategorik\n",
    "    formula = y ~ rcs(x1,3) + rcs(x2,3) + x3 + x4 + x5,\n",
    "    data = imputed_list[[i]]\n",
    "  )\n",
    "}"
   ]
  },
  {
   "cell_type": "code",
   "execution_count": 177,
   "metadata": {
    "vscode": {
     "languageId": "r"
    }
   },
   "outputs": [
    {
     "data": {
      "text/plain": [
       "[[1]]\n",
       "Linear Regression Model\n",
       "\n",
       "ols(formula = y ~ rcs(x1, 3) + rcs(x2, 3) + x3 + x4 + x5, data = imputed_list[[i]])\n",
       "\n",
       "                Model Likelihood    Discrimination    \n",
       "                      Ratio Test           Indexes    \n",
       "Obs      93    LR chi2     99.30    R2       0.656    \n",
       "sigma1.0384    d.f.            9    R2 adj   0.619    \n",
       "d.f.     83    Pr(> chi2) 0.0000    g        1.542    \n",
       "\n",
       "Residuals\n",
       "\n",
       "    Min      1Q  Median      3Q     Max \n",
       "-2.3148 -0.6202  0.1029  0.5903  2.4009 \n",
       "\n",
       "\n",
       "          Coef    S.E.   t     Pr(>|t|)\n",
       "Intercept -0.2346 0.5167 -0.45 0.6509  \n",
       "x1        -0.0298 0.3452 -0.09 0.9314  \n",
       "x1'        1.1367 0.4323  2.63 0.0102  \n",
       "x2         1.2215 0.3071  3.98 0.0001  \n",
       "x2'       -0.5519 0.3893 -1.42 0.1600  \n",
       "x3=1       0.3481 0.2554  1.36 0.1766  \n",
       "x4=1      -0.3865 0.2421 -1.60 0.1142  \n",
       "x5=2       0.2146 0.3760  0.57 0.5698  \n",
       "x5=3      -0.0200 0.3800 -0.05 0.9581  \n",
       "x5=4       0.4582 0.4834  0.95 0.3460  \n",
       "\n",
       "\n",
       "[[2]]\n",
       "Linear Regression Model\n",
       "\n",
       "ols(formula = y ~ rcs(x1, 3) + rcs(x2, 3) + x3 + x4 + x5, data = imputed_list[[i]])\n",
       "\n",
       "                Model Likelihood    Discrimination    \n",
       "                      Ratio Test           Indexes    \n",
       "Obs      93    LR chi2    107.00    R2       0.684    \n",
       "sigma0.9963    d.f.            9    R2 adj   0.649    \n",
       "d.f.     83    Pr(> chi2) 0.0000    g        1.571    \n",
       "\n",
       "Residuals\n",
       "\n",
       "    Min      1Q  Median      3Q     Max \n",
       "-2.4332 -0.5409  0.1138  0.5792  2.5688 \n",
       "\n",
       "\n",
       "          Coef    S.E.   t     Pr(>|t|)\n",
       "Intercept -0.5377 0.4548 -1.18 0.2405  \n",
       "x1         0.0534 0.3196  0.17 0.8676  \n",
       "x1'        1.1936 0.3992  2.99 0.0037  \n",
       "x2         1.0193 0.2659  3.83 0.0002  \n",
       "x2'       -0.4707 0.3335 -1.41 0.1619  \n",
       "x3=1       0.3119 0.2389  1.31 0.1953  \n",
       "x4=1      -0.3574 0.2377 -1.50 0.1366  \n",
       "x5=2       0.2797 0.3505  0.80 0.4272  \n",
       "x5=3       0.3506 0.3396  1.03 0.3049  \n",
       "x5=4       1.2112 0.4627  2.62 0.0105  \n",
       "\n",
       "\n",
       "[[3]]\n",
       "Linear Regression Model\n",
       "\n",
       "ols(formula = y ~ rcs(x1, 3) + rcs(x2, 3) + x3 + x4 + x5, data = imputed_list[[i]])\n",
       "\n",
       "                Model Likelihood    Discrimination    \n",
       "                      Ratio Test           Indexes    \n",
       "Obs      93    LR chi2    104.96    R2       0.677    \n",
       "sigma1.0073    d.f.            9    R2 adj   0.641    \n",
       "d.f.     83    Pr(> chi2) 0.0000    g        1.552    \n",
       "\n",
       "Residuals\n",
       "\n",
       "     Min       1Q   Median       3Q      Max \n",
       "-2.53254 -0.62592  0.04662  0.54725  2.69525 \n",
       "\n",
       "\n",
       "          Coef    S.E.   t     Pr(>|t|)\n",
       "Intercept -0.5881 0.4651 -1.26 0.2096  \n",
       "x1         0.0829 0.3402  0.24 0.8082  \n",
       "x1'        1.2833 0.4119  3.12 0.0025  \n",
       "x2         1.0995 0.2892  3.80 0.0003  \n",
       "x2'       -0.7507 0.3695 -2.03 0.0454  \n",
       "x3=1       0.5194 0.2433  2.13 0.0357  \n",
       "x4=1      -0.2988 0.2333 -1.28 0.2039  \n",
       "x5=2       0.4493 0.3582  1.25 0.2133  \n",
       "x5=3       0.2718 0.3535  0.77 0.4441  \n",
       "x5=4       1.1268 0.4702  2.40 0.0188  \n",
       "\n",
       "\n",
       "[[4]]\n",
       "Linear Regression Model\n",
       "\n",
       "ols(formula = y ~ rcs(x1, 3) + rcs(x2, 3) + x3 + x4 + x5, data = imputed_list[[i]])\n",
       "\n",
       "                Model Likelihood    Discrimination    \n",
       "                      Ratio Test           Indexes    \n",
       "Obs      93    LR chi2     86.06    R2       0.604    \n",
       "sigma1.1150    d.f.            9    R2 adj   0.561    \n",
       "d.f.     83    Pr(> chi2) 0.0000    g        1.474    \n",
       "\n",
       "Residuals\n",
       "\n",
       "     Min       1Q   Median       3Q      Max \n",
       "-2.48232 -0.57563 -0.01333  0.58535  3.95938 \n",
       "\n",
       "\n",
       "          Coef    S.E.   t     Pr(>|t|)\n",
       "Intercept -0.3180 0.5172 -0.61 0.5403  \n",
       "x1         0.3605 0.3525  1.02 0.3095  \n",
       "x1'        0.7611 0.4376  1.74 0.0857  \n",
       "x2         0.8947 0.3336  2.68 0.0088  \n",
       "x2'       -0.3360 0.4602 -0.73 0.4674  \n",
       "x3=1       0.2550 0.2678  0.95 0.3438  \n",
       "x4=1      -0.2091 0.2597 -0.81 0.4230  \n",
       "x5=2       0.0875 0.3969  0.22 0.8261  \n",
       "x5=3       0.1759 0.3926  0.45 0.6554  \n",
       "x5=4       0.9463 0.5253  1.80 0.0753  \n",
       "\n",
       "\n",
       "[[5]]\n",
       "Linear Regression Model\n",
       "\n",
       "ols(formula = y ~ rcs(x1, 3) + rcs(x2, 3) + x3 + x4 + x5, data = imputed_list[[i]])\n",
       "\n",
       "                Model Likelihood    Discrimination    \n",
       "                      Ratio Test           Indexes    \n",
       "Obs      93    LR chi2     93.98    R2       0.636    \n",
       "sigma1.0686    d.f.            9    R2 adj   0.597    \n",
       "d.f.     83    Pr(> chi2) 0.0000    g        1.525    \n",
       "\n",
       "Residuals\n",
       "\n",
       "     Min       1Q   Median       3Q      Max \n",
       "-3.14456 -0.62167  0.05999  0.69997  2.35332 \n",
       "\n",
       "\n",
       "          Coef    S.E.   t     Pr(>|t|)\n",
       "Intercept -0.0511 0.5130 -0.10 0.9209  \n",
       "x1         0.1556 0.3379  0.46 0.6465  \n",
       "x1'        0.9131 0.4157  2.20 0.0308  \n",
       "x2         1.2419 0.3060  4.06 0.0001  \n",
       "x2'       -0.6771 0.3974 -1.70 0.0922  \n",
       "x3=1       0.2279 0.2691  0.85 0.3994  \n",
       "x4=1      -0.1887 0.2526 -0.75 0.4571  \n",
       "x5=2      -0.0632 0.3827 -0.17 0.8691  \n",
       "x5=3      -0.0410 0.3731 -0.11 0.9128  \n",
       "x5=4       0.8445 0.5061  1.67 0.0990  \n",
       "\n",
       "\n",
       "[[6]]\n",
       "Linear Regression Model\n",
       "\n",
       "ols(formula = y ~ rcs(x1, 3) + rcs(x2, 3) + x3 + x4 + x5, data = imputed_list[[i]])\n",
       "\n",
       "                Model Likelihood    Discrimination    \n",
       "                      Ratio Test           Indexes    \n",
       "Obs      93    LR chi2    106.87    R2       0.683    \n",
       "sigma0.9970    d.f.            9    R2 adj   0.649    \n",
       "d.f.     83    Pr(> chi2) 0.0000    g        1.562    \n",
       "\n",
       "Residuals\n",
       "\n",
       "     Min       1Q   Median       3Q      Max \n",
       "-2.38042 -0.65515  0.09636  0.58828  2.47322 \n",
       "\n",
       "\n",
       "          Coef    S.E.   t     Pr(>|t|)\n",
       "Intercept -0.3072 0.4796 -0.64 0.5236  \n",
       "x1         0.0865 0.3183  0.27 0.7866  \n",
       "x1'        1.2298 0.4075  3.02 0.0034  \n",
       "x2         1.1620 0.3017  3.85 0.0002  \n",
       "x2'       -0.6672 0.4107 -1.62 0.1081  \n",
       "x3=1       0.2882 0.2517  1.15 0.2555  \n",
       "x4=1      -0.3576 0.2250 -1.59 0.1157  \n",
       "x5=2       0.0932 0.3536  0.26 0.7928  \n",
       "x5=3       0.1521 0.3526  0.43 0.6673  \n",
       "x5=4       0.8830 0.4751  1.86 0.0666  \n",
       "\n",
       "\n",
       "[[7]]\n",
       "Linear Regression Model\n",
       "\n",
       "ols(formula = y ~ rcs(x1, 3) + rcs(x2, 3) + x3 + x4 + x5, data = imputed_list[[i]])\n",
       "\n",
       "                Model Likelihood    Discrimination    \n",
       "                      Ratio Test           Indexes    \n",
       "Obs      93    LR chi2    103.80    R2       0.672    \n",
       "sigma1.0136    d.f.            9    R2 adj   0.637    \n",
       "d.f.     83    Pr(> chi2) 0.0000    g        1.562    \n",
       "\n",
       "Residuals\n",
       "\n",
       "     Min       1Q   Median       3Q      Max \n",
       "-2.36288 -0.48671  0.07846  0.60247  2.33548 \n",
       "\n",
       "\n",
       "          Coef    S.E.   t     Pr(>|t|)\n",
       "Intercept -0.2455 0.5164 -0.48 0.6357  \n",
       "x1        -0.1290 0.3156 -0.41 0.6837  \n",
       "x1'        1.1712 0.3518  3.33 0.0013  \n",
       "x2         1.2856 0.2990  4.30 <0.0001 \n",
       "x2'       -0.7461 0.3812 -1.96 0.0537  \n",
       "x3=1       0.2430 0.2521  0.96 0.3380  \n",
       "x4=1      -0.3524 0.2399 -1.47 0.1455  \n",
       "x5=2      -0.1223 0.3781 -0.32 0.7472  \n",
       "x5=3       0.0102 0.3701  0.03 0.9781  \n",
       "x5=4       0.8315 0.4914  1.69 0.0944  \n",
       "\n",
       "\n",
       "[[8]]\n",
       "Linear Regression Model\n",
       "\n",
       "ols(formula = y ~ rcs(x1, 3) + rcs(x2, 3) + x3 + x4 + x5, data = imputed_list[[i]])\n",
       "\n",
       "                Model Likelihood    Discrimination    \n",
       "                      Ratio Test           Indexes    \n",
       "Obs      93    LR chi2    109.00    R2       0.690    \n",
       "sigma0.9857    d.f.            9    R2 adj   0.657    \n",
       "d.f.     83    Pr(> chi2) 0.0000    g        1.579    \n",
       "\n",
       "Residuals\n",
       "\n",
       "     Min       1Q   Median       3Q      Max \n",
       "-2.43442 -0.61221  0.03083  0.54251  2.30586 \n",
       "\n",
       "\n",
       "          Coef    S.E.   t     Pr(>|t|)\n",
       "Intercept -0.0953 0.4685 -0.20 0.8392  \n",
       "x1         0.2500 0.3244  0.77 0.4432  \n",
       "x1'        1.0213 0.4009  2.55 0.0127  \n",
       "x2         1.0925 0.2868  3.81 0.0003  \n",
       "x2'       -0.5865 0.3649 -1.61 0.1118  \n",
       "x3=1       0.2375 0.2530  0.94 0.3508  \n",
       "x4=1      -0.2683 0.2251 -1.19 0.2368  \n",
       "x5=2      -0.0969 0.3617 -0.27 0.7894  \n",
       "x5=3       0.0144 0.3587  0.04 0.9682  \n",
       "x5=4       0.7297 0.4742  1.54 0.1277  \n",
       "\n",
       "\n",
       "[[9]]\n",
       "Linear Regression Model\n",
       "\n",
       "ols(formula = y ~ rcs(x1, 3) + rcs(x2, 3) + x3 + x4 + x5, data = imputed_list[[i]])\n",
       "\n",
       "                Model Likelihood    Discrimination    \n",
       "                      Ratio Test           Indexes    \n",
       "Obs      93    LR chi2    106.97    R2       0.683    \n",
       "sigma0.9965    d.f.            9    R2 adj   0.649    \n",
       "d.f.     83    Pr(> chi2) 0.0000    g        1.569    \n",
       "\n",
       "Residuals\n",
       "\n",
       "    Min      1Q  Median      3Q     Max \n",
       "-2.2971 -0.6105  0.0684  0.5932  2.4642 \n",
       "\n",
       "\n",
       "          Coef    S.E.   t     Pr(>|t|)\n",
       "Intercept -0.3617 0.4455 -0.81 0.4192  \n",
       "x1         0.0689 0.3361  0.20 0.8382  \n",
       "x1'        1.1440 0.4058  2.82 0.0060  \n",
       "x2         1.0932 0.2868  3.81 0.0003  \n",
       "x2'       -0.5037 0.3622 -1.39 0.1680  \n",
       "x3=1       0.3932 0.2430  1.62 0.1095  \n",
       "x4=1      -0.3474 0.2280 -1.52 0.1314  \n",
       "x5=2       0.1334 0.3471  0.38 0.7018  \n",
       "x5=3      -0.0262 0.3437 -0.08 0.9394  \n",
       "x5=4       0.9666 0.4627  2.09 0.0397  \n",
       "\n",
       "\n",
       "[[10]]\n",
       "Linear Regression Model\n",
       "\n",
       "ols(formula = y ~ rcs(x1, 3) + rcs(x2, 3) + x3 + x4 + x5, data = imputed_list[[i]])\n",
       "\n",
       "                Model Likelihood    Discrimination    \n",
       "                      Ratio Test           Indexes    \n",
       "Obs      93    LR chi2     95.51    R2       0.642    \n",
       "sigma1.0598    d.f.            9    R2 adj   0.603    \n",
       "d.f.     83    Pr(> chi2) 0.0000    g        1.513    \n",
       "\n",
       "Residuals\n",
       "\n",
       "     Min       1Q   Median       3Q      Max \n",
       "-2.51427 -0.59901  0.07429  0.63017  2.58483 \n",
       "\n",
       "\n",
       "          Coef    S.E.   t     Pr(>|t|)\n",
       "Intercept -0.5464 0.5101 -1.07 0.2872  \n",
       "x1        -0.0536 0.3620 -0.15 0.8826  \n",
       "x1'        1.3522 0.4321  3.13 0.0024  \n",
       "x2         1.1105 0.3148  3.53 0.0007  \n",
       "x2'       -0.6922 0.4105 -1.69 0.0955  \n",
       "x3=1       0.3865 0.2589  1.49 0.1392  \n",
       "x4=1      -0.2449 0.2433 -1.01 0.3172  \n",
       "x5=2       0.2272 0.3748  0.61 0.5461  \n",
       "x5=3       0.1679 0.3666  0.46 0.6482  \n",
       "x5=4       1.1368 0.4817  2.36 0.0206  \n",
       "\n"
      ]
     },
     "metadata": {},
     "output_type": "display_data"
    }
   ],
   "source": [
    "regression.splines"
   ]
  },
  {
   "cell_type": "code",
   "execution_count": 186,
   "metadata": {
    "vscode": {
     "languageId": "r"
    }
   },
   "outputs": [
    {
     "data": {
      "text/html": [
       "10"
      ],
      "text/latex": [
       "10"
      ],
      "text/markdown": [
       "10"
      ],
      "text/plain": [
       "[1] 10"
      ]
     },
     "metadata": {},
     "output_type": "display_data"
    }
   ],
   "source": [
    "length(regression.splines)"
   ]
  },
  {
   "cell_type": "markdown",
   "metadata": {},
   "source": [
    "##### Visualisasi Splines (x1, x2) Model OLS"
   ]
  },
  {
   "cell_type": "code",
   "execution_count": 163,
   "metadata": {
    "vscode": {
     "languageId": "r"
    }
   },
   "outputs": [],
   "source": [
    "# Tujuan: Memvisualisasikan hubungan non-linear antara prediktor kontinyu (x1, x2) \n",
    "# dengan outcome (y) yang dimodelkan menggunakan restricted cubic splines\n",
    "\n",
    "# Load package untuk menyusun multiple plot\n",
    "library(gridExtra)  "
   ]
  },
  {
   "cell_type": "code",
   "execution_count": 168,
   "metadata": {
    "vscode": {
     "languageId": "r"
    }
   },
   "outputs": [],
   "source": [
    "###### PLOT UNTUK VARIABEL X1 -------------------------\n",
    "p.sp1 <- ggplot(\n",
    "  # Membuat data frame untuk plotting x1\n",
    "  data.frame(\n",
    "    # Membuat sequence nilai x1 dari -3 sampai 3 dengan interval 0.1\n",
    "    x1 = seq(-3,3, 0.1),  \n",
    "    \n",
    "    # Prediksi y menggunakan model OLS dengan splines\n",
    "    # - Variasi nilai x1 sesuai sequence\n",
    "    # - Nilai prediktor lain dibuat tetap:\n",
    "    #   * x2 = 0 (nilai tengah)\n",
    "    #   * x3 = 1 (kategori referensi)\n",
    "    #   * x4 = 1 (kategori referensi) \n",
    "    #   * x5 = 2 (kategori referensi)\n",
    "    y = Predict(\n",
    "      regression.splines[[i]], \n",
    "      x1 = seq(-3,3, 0.1),\n",
    "      x2 = 0, \n",
    "      x3 = 1, \n",
    "      x4 = 1, \n",
    "      x5 = 2\n",
    "    )$yhat\n",
    "  ),\n",
    "  # Mapping estetika plot\n",
    "  aes(x=x1, y=y)\n",
    ") + geom_smooth()  # Tambahkan garis smooth dengan confidence interval"
   ]
  },
  {
   "cell_type": "code",
   "execution_count": 173,
   "metadata": {
    "vscode": {
     "languageId": "r"
    }
   },
   "outputs": [],
   "source": [
    "###### PLOT UNTUK VARIABEL X2 -------------------------\n",
    "p.sp2 <- ggplot(\n",
    "  # Membuat data frame untuk plotting x2\n",
    "  data.frame(\n",
    "    # Membuat sequence nilai x2 dari -3 sampai 3 dengan interval 0.1 \n",
    "    x2 = seq(-3,3, 0.1),\n",
    "    \n",
    "    # Prediksi y menggunakan model OLS dengan splines\n",
    "    # - Variasi nilai x2 sesuai sequence\n",
    "    # - Nilai prediktor lain dibuat tetap:\n",
    "    #   * x1 = 1 (nilai tengah)\n",
    "    #   * x3 = 1 (kategori referensi)\n",
    "    #   * x4 = 1 (kategori referensi)\n",
    "    #   * x5 = 2 (kategori referensi)\n",
    "    y = Predict(\n",
    "      regression.splines[[i]], \n",
    "      x1 = 1,\n",
    "      x2 = seq(-3,3, 0.1),\n",
    "      x3 = 1,\n",
    "      x4 = 1,\n",
    "      x5 = 2\n",
    "    )$yhat\n",
    "  ),\n",
    "  # Mapping estetika plot  \n",
    "  aes(x=x2, y=y)\n",
    ") + geom_smooth()  # Tambahkan garis smooth dengan confidence interval"
   ]
  },
  {
   "cell_type": "code",
   "execution_count": 174,
   "metadata": {
    "vscode": {
     "languageId": "r"
    }
   },
   "outputs": [
    {
     "name": "stderr",
     "output_type": "stream",
     "text": [
      "\u001b[1m\u001b[22m`geom_smooth()` using method = 'loess' and formula = 'y ~ x'\n",
      "\u001b[1m\u001b[22m`geom_smooth()` using method = 'loess' and formula = 'y ~ x'\n"
     ]
    },
    {
     "data": {
      "image/png": "[encoded data removed]",
      "text/plain": [
       "plot without title"
      ]
     },
     "metadata": {
      "image/png": {
       "height": 420,
       "width": 420
      }
     },
     "output_type": "display_data"
    }
   ],
   "source": [
    "######  TAMPILKAN PLOT -------------------------\n",
    "# Arrange kedua plot secara berdampingan dengan 2 kolom\n",
    "grid.arrange(p.sp1, p.sp2, ncol=2)\n",
    "\n",
    "# Output yang dihasilkan:\n",
    "# - Dua plot yang menunjukkan hubungan non-linear antara x1 dan x2 dengan y\n",
    "# - Sumbu x: nilai prediktor (x1 atau x2)\n",
    "# - Sumbu y: nilai prediksi outcome (y)\n",
    "# - Garis biru: estimasi hubungan non-linear dari splines\n",
    "# - Area abu-abu: confidence interval dari estimasi"
   ]
  },
  {
   "cell_type": "markdown",
   "metadata": {},
   "source": [
    "### Exploratory Data Analysis (EDA)"
   ]
  },
  {
   "cell_type": "code",
   "execution_count": 140,
   "metadata": {
    "vscode": {
     "languageId": "r"
    }
   },
   "outputs": [],
   "source": [
    "# Load library\n",
    "library(ggplot2)\n",
    "library(tidyverse)  # For data manipulation and visualization\n",
    "library(car)        # For VIF calculation\n",
    "library(glmnet)     # For regularization methods\n",
    "library(caret)      # For modeling and cross-validation\n",
    "library(corrplot)   # For correlation plots"
   ]
  },
  {
   "cell_type": "code",
   "execution_count": 141,
   "metadata": {
    "vscode": {
     "languageId": "r"
    }
   },
   "outputs": [
    {
     "data": {
      "text/plain": [
       "       x1                 x2              x3        x4        x5    \n",
       " Min.   :-1.90473   Min.   :-2.22799   0   :65   0   :46   1   :13  \n",
       " 1st Qu.:-0.65695   1st Qu.:-0.65653   1   :29   1   :44   2   :31  \n",
       " Median :-0.08144   Median : 0.02646   NA's: 6   NA's:10   3   :42  \n",
       " Mean   :-0.03625   Mean   :-0.01692                       4   : 9  \n",
       " 3rd Qu.: 0.49757   3rd Qu.: 0.58318                       NA's: 5  \n",
       " Max.   : 2.16585   Max.   : 1.92748                                \n",
       " NA's   :12         NA's   :9                                       \n",
       "       z1                z2             z3        z4        z5    \n",
       " Min.   :-2.3542   Min.   :-2.1768   0   :36   0   :72   1   :18  \n",
       " 1st Qu.:-0.5142   1st Qu.:-0.6992   1   :52   1   :19   2   :25  \n",
       " Median : 0.1431   Median : 0.2447   NA's:12   NA's: 9   3   :30  \n",
       " Mean   : 0.1298   Mean   : 0.1295                       4   :16  \n",
       " 3rd Qu.: 0.7445   3rd Qu.: 0.9109                       NA's:11  \n",
       " Max.   : 3.2551   Max.   : 2.5723                                \n",
       " NA's   :11        NA's   :13                                     \n",
       "       y           clust \n",
       " Min.   :-3.5302   1:21  \n",
       " 1st Qu.:-1.1194   2:18  \n",
       " Median : 0.2140   3:24  \n",
       " Mean   : 0.1117   4:20  \n",
       " 3rd Qu.: 1.2819   5:17  \n",
       " Max.   : 4.5105         \n",
       " NA's   :7               "
      ]
     },
     "metadata": {},
     "output_type": "display_data"
    },
    {
     "data": {
      "text/html": [
       "<table class=\"dataframe\">\n",
       "<caption>A data.frame: 6 × 12</caption>\n",
       "<thead>\n",
       "\t<tr><th></th><th scope=col>x1</th><th scope=col>x2</th><th scope=col>x3</th><th scope=col>x4</th><th scope=col>x5</th><th scope=col>z1</th><th scope=col>z2</th><th scope=col>z3</th><th scope=col>z4</th><th scope=col>z5</th><th scope=col>y</th><th scope=col>clust</th></tr>\n",
       "\t<tr><th></th><th scope=col>&lt;dbl&gt;</th><th scope=col>&lt;dbl&gt;</th><th scope=col>&lt;fct&gt;</th><th scope=col>&lt;fct&gt;</th><th scope=col>&lt;fct&gt;</th><th scope=col>&lt;dbl&gt;</th><th scope=col>&lt;dbl&gt;</th><th scope=col>&lt;fct&gt;</th><th scope=col>&lt;fct&gt;</th><th scope=col>&lt;fct&gt;</th><th scope=col>&lt;dbl&gt;</th><th scope=col>&lt;fct&gt;</th></tr>\n",
       "</thead>\n",
       "<tbody>\n",
       "\t<tr><th scope=row>2</th><td> 0.2688495</td><td>0.62000209</td><td>1</td><td>0 </td><td>3</td><td>         NA</td><td> 1.7220392</td><td>1</td><td>0</td><td>2 </td><td> 1.6434017</td><td>1</td></tr>\n",
       "\t<tr><th scope=row>5</th><td>-0.6894078</td><td>1.11724847</td><td>0</td><td>0 </td><td>3</td><td>-1.52042477</td><td> 0.2913901</td><td>0</td><td>0</td><td>2 </td><td>-1.0192352</td><td>1</td></tr>\n",
       "\t<tr><th scope=row>6</th><td>        NA</td><td>0.60106228</td><td>1</td><td>0 </td><td>2</td><td> 0.20736515</td><td>-1.2202014</td><td>0</td><td>0</td><td>3 </td><td>-0.5223372</td><td>1</td></tr>\n",
       "\t<tr><th scope=row>12</th><td> 0.9237489</td><td>0.89367223</td><td>0</td><td>1 </td><td>1</td><td>-0.29824957</td><td>        NA</td><td>0</td><td>0</td><td>3 </td><td> 0.7121298</td><td>1</td></tr>\n",
       "\t<tr><th scope=row>13</th><td>        NA</td><td>        NA</td><td>0</td><td>0 </td><td>2</td><td>-0.03254685</td><td>        NA</td><td>1</td><td>0</td><td>3 </td><td> 0.7522273</td><td>1</td></tr>\n",
       "\t<tr><th scope=row>18</th><td>-0.9584556</td><td>0.01146436</td><td>0</td><td>NA</td><td>2</td><td>         NA</td><td> 1.1174678</td><td>1</td><td>1</td><td>NA</td><td>        NA</td><td>1</td></tr>\n",
       "</tbody>\n",
       "</table>\n"
      ],
      "text/latex": [
       "A data.frame: 6 × 12\n",
       "\\begin{tabular}{r|llllllllllll}\n",
       "  & x1 & x2 & x3 & x4 & x5 & z1 & z2 & z3 & z4 & z5 & y & clust\\\\\n",
       "  & <dbl> & <dbl> & <fct> & <fct> & <fct> & <dbl> & <dbl> & <fct> & <fct> & <fct> & <dbl> & <fct>\\\\\n",
       "\\hline\n",
       "\t2 &  0.2688495 & 0.62000209 & 1 & 0  & 3 &          NA &  1.7220392 & 1 & 0 & 2  &  1.6434017 & 1\\\\\n",
       "\t5 & -0.6894078 & 1.11724847 & 0 & 0  & 3 & -1.52042477 &  0.2913901 & 0 & 0 & 2  & -1.0192352 & 1\\\\\n",
       "\t6 &         NA & 0.60106228 & 1 & 0  & 2 &  0.20736515 & -1.2202014 & 0 & 0 & 3  & -0.5223372 & 1\\\\\n",
       "\t12 &  0.9237489 & 0.89367223 & 0 & 1  & 1 & -0.29824957 &         NA & 0 & 0 & 3  &  0.7121298 & 1\\\\\n",
       "\t13 &         NA &         NA & 0 & 0  & 2 & -0.03254685 &         NA & 1 & 0 & 3  &  0.7522273 & 1\\\\\n",
       "\t18 & -0.9584556 & 0.01146436 & 0 & NA & 2 &          NA &  1.1174678 & 1 & 1 & NA &         NA & 1\\\\\n",
       "\\end{tabular}\n"
      ],
      "text/markdown": [
       "\n",
       "A data.frame: 6 × 12\n",
       "\n",
       "| <!--/--> | x1 &lt;dbl&gt; | x2 &lt;dbl&gt; | x3 &lt;fct&gt; | x4 &lt;fct&gt; | x5 &lt;fct&gt; | z1 &lt;dbl&gt; | z2 &lt;dbl&gt; | z3 &lt;fct&gt; | z4 &lt;fct&gt; | z5 &lt;fct&gt; | y &lt;dbl&gt; | clust &lt;fct&gt; |\n",
       "|---|---|---|---|---|---|---|---|---|---|---|---|---|\n",
       "| 2 |  0.2688495 | 0.62000209 | 1 | 0  | 3 |          NA |  1.7220392 | 1 | 0 | 2  |  1.6434017 | 1 |\n",
       "| 5 | -0.6894078 | 1.11724847 | 0 | 0  | 3 | -1.52042477 |  0.2913901 | 0 | 0 | 2  | -1.0192352 | 1 |\n",
       "| 6 |         NA | 0.60106228 | 1 | 0  | 2 |  0.20736515 | -1.2202014 | 0 | 0 | 3  | -0.5223372 | 1 |\n",
       "| 12 |  0.9237489 | 0.89367223 | 0 | 1  | 1 | -0.29824957 |         NA | 0 | 0 | 3  |  0.7121298 | 1 |\n",
       "| 13 |         NA |         NA | 0 | 0  | 2 | -0.03254685 |         NA | 1 | 0 | 3  |  0.7522273 | 1 |\n",
       "| 18 | -0.9584556 | 0.01146436 | 0 | NA | 2 |          NA |  1.1174678 | 1 | 1 | NA |         NA | 1 |\n",
       "\n"
      ],
      "text/plain": [
       "   x1         x2         x3 x4 x5 z1          z2         z3 z4 z5 y         \n",
       "2   0.2688495 0.62000209 1  0  3           NA  1.7220392 1  0  2   1.6434017\n",
       "5  -0.6894078 1.11724847 0  0  3  -1.52042477  0.2913901 0  0  2  -1.0192352\n",
       "6          NA 0.60106228 1  0  2   0.20736515 -1.2202014 0  0  3  -0.5223372\n",
       "12  0.9237489 0.89367223 0  1  1  -0.29824957         NA 0  0  3   0.7121298\n",
       "13         NA         NA 0  0  2  -0.03254685         NA 1  0  3   0.7522273\n",
       "18 -0.9584556 0.01146436 0  NA 2           NA  1.1174678 1  1  NA         NA\n",
       "   clust\n",
       "2  1    \n",
       "5  1    \n",
       "6  1    \n",
       "12 1    \n",
       "13 1    \n",
       "18 1    "
      ]
     },
     "metadata": {},
     "output_type": "display_data"
    }
   ],
   "source": [
    "summary(data.cont)\n",
    "head(data.cont)"
   ]
  },
  {
   "cell_type": "code",
   "execution_count": 144,
   "metadata": {
    "vscode": {
     "languageId": "r"
    }
   },
   "outputs": [
    {
     "data": {
      "text/plain": [
       "   Min. 1st Qu.  Median    Mean 3rd Qu.    Max. \n",
       "-3.5302 -1.1194  0.2140  0.1117  1.2819  4.5105 "
      ]
     },
     "metadata": {},
     "output_type": "display_data"
    }
   ],
   "source": [
    "summary(imputed1[[1]]$y)"
   ]
  },
  {
   "cell_type": "markdown",
   "metadata": {},
   "source": [
    "##### Analisis Univariat"
   ]
  },
  {
   "cell_type": "code",
   "execution_count": 147,
   "metadata": {
    "vscode": {
     "languageId": "r"
    }
   },
   "outputs": [
    {
     "data": {
      "image/png": "[encoded data removed]",
      "text/plain": [
       "plot without title"
      ]
     },
     "metadata": {
      "image/png": {
       "height": 420,
       "width": 420
      }
     },
     "output_type": "display_data"
    }
   ],
   "source": [
    "# Create histogram of outcome variable y\n",
    "# Membuat histogram untuk melihat distribusi variabel y\n",
    "# binwidth = 0.5 menentukan lebar tiap bar dalam histogram\n",
    "ggplot(imputed1[[1]], aes(x=y)) + geom_histogram(color=\"black\", fill=\"white\", binwidth = 0.5)"
   ]
  },
  {
   "cell_type": "code",
   "execution_count": 110,
   "metadata": {
    "vscode": {
     "languageId": "r"
    }
   },
   "outputs": [
    {
     "name": "stderr",
     "output_type": "stream",
     "text": [
      "Warning message:\n",
      "\"\u001b[1m\u001b[22mRemoved 52 rows containing non-finite outside the scale range (`stat_bin()`).\"\n"
     ]
    },
    {
     "data": {
      "image/png": "[encoded data removed]",
      "text/plain": [
       "plot without title"
      ]
     },
     "metadata": {
      "image/png": {
       "height": 420,
       "width": 420
      }
     },
     "output_type": "display_data"
    }
   ],
   "source": [
    "# Histograms for numerical variables\n",
    "data.cont %>%\n",
    "  select(x1, x2, z1, z2, y) %>%\n",
    "  pivot_longer(cols = everything(), names_to = \"Variable\", values_to = \"Value\") %>%\n",
    "  ggplot(aes(x = Value)) +\n",
    "  facet_wrap(~ Variable, scales = \"free\", ncol = 3) +\n",
    "  geom_histogram(binwidth = 0.5, fill = \"skyblue\", color = \"black\") +\n",
    "  theme_minimal() +\n",
    "  labs(title = \"Histograms of Numerical Variables\")\n"
   ]
  },
  {
   "cell_type": "code",
   "execution_count": 111,
   "metadata": {
    "vscode": {
     "languageId": "r"
    }
   },
   "outputs": [
    {
     "name": "stderr",
     "output_type": "stream",
     "text": [
      "Warning message:\n",
      "\"\u001b[1m\u001b[22mRemoved 52 rows containing non-finite outside the scale range\n",
      "(`stat_boxplot()`).\"\n"
     ]
    },
    {
     "data": {
      "image/png": "[encoded data removed]",
      "text/plain": [
       "plot without title"
      ]
     },
     "metadata": {
      "image/png": {
       "height": 420,
       "width": 420
      }
     },
     "output_type": "display_data"
    }
   ],
   "source": [
    "# Boxplots for numerical variables\n",
    "data.cont %>%\n",
    "  select(x1, x2, z1, z2, y) %>%\n",
    "  pivot_longer(cols = everything(), names_to = \"Variable\", values_to = \"Value\") %>%\n",
    "  ggplot(aes(x = Variable, y = Value)) +\n",
    "  geom_boxplot(fill = \"lightgreen\") +\n",
    "  theme_minimal() +\n",
    "  labs(title = \"Boxplots of Numerical Variables\")\n"
   ]
  },
  {
   "cell_type": "code",
   "execution_count": 112,
   "metadata": {
    "vscode": {
     "languageId": "r"
    }
   },
   "outputs": [
    {
     "data": {
      "image/png": "[encoded data removed]",
      "text/plain": [
       "plot without title"
      ]
     },
     "metadata": {
      "image/png": {
       "height": 420,
       "width": 420
      }
     },
     "output_type": "display_data"
    }
   ],
   "source": [
    "# Bar plots for categorical variables\n",
    "data.cont %>%\n",
    "  select(x3, x4, x5, z3, z4, z5, clust) %>%\n",
    "  pivot_longer(cols = everything(), names_to = \"Variable\", values_to = \"Category\") %>%\n",
    "  ggplot(aes(x = Category)) +\n",
    "  facet_wrap(~ Variable, scales = \"free\", ncol = 4) +\n",
    "  geom_bar(fill = \"coral\") +\n",
    "  theme_minimal() +\n",
    "  labs(title = \"Bar Plots of Categorical Variables\")\n"
   ]
  },
  {
   "cell_type": "markdown",
   "metadata": {},
   "source": [
    "##### Analisis Bivariat"
   ]
  },
  {
   "cell_type": "code",
   "execution_count": 113,
   "metadata": {
    "vscode": {
     "languageId": "r"
    }
   },
   "outputs": [
    {
     "data": {
      "text/html": [
       "<table class=\"dataframe\">\n",
       "<caption>A data.frame: 6 × 5</caption>\n",
       "<thead>\n",
       "\t<tr><th></th><th scope=col>x1</th><th scope=col>x2</th><th scope=col>z1</th><th scope=col>z2</th><th scope=col>y</th></tr>\n",
       "\t<tr><th></th><th scope=col>&lt;dbl&gt;</th><th scope=col>&lt;dbl&gt;</th><th scope=col>&lt;dbl&gt;</th><th scope=col>&lt;dbl&gt;</th><th scope=col>&lt;dbl&gt;</th></tr>\n",
       "</thead>\n",
       "<tbody>\n",
       "\t<tr><th scope=row>2</th><td> 0.2688495</td><td>0.62000209</td><td>         NA</td><td> 1.7220392</td><td> 1.6434017</td></tr>\n",
       "\t<tr><th scope=row>5</th><td>-0.6894078</td><td>1.11724847</td><td>-1.52042477</td><td> 0.2913901</td><td>-1.0192352</td></tr>\n",
       "\t<tr><th scope=row>6</th><td>        NA</td><td>0.60106228</td><td> 0.20736515</td><td>-1.2202014</td><td>-0.5223372</td></tr>\n",
       "\t<tr><th scope=row>12</th><td> 0.9237489</td><td>0.89367223</td><td>-0.29824957</td><td>        NA</td><td> 0.7121298</td></tr>\n",
       "\t<tr><th scope=row>13</th><td>        NA</td><td>        NA</td><td>-0.03254685</td><td>        NA</td><td> 0.7522273</td></tr>\n",
       "\t<tr><th scope=row>18</th><td>-0.9584556</td><td>0.01146436</td><td>         NA</td><td> 1.1174678</td><td>        NA</td></tr>\n",
       "</tbody>\n",
       "</table>\n"
      ],
      "text/latex": [
       "A data.frame: 6 × 5\n",
       "\\begin{tabular}{r|lllll}\n",
       "  & x1 & x2 & z1 & z2 & y\\\\\n",
       "  & <dbl> & <dbl> & <dbl> & <dbl> & <dbl>\\\\\n",
       "\\hline\n",
       "\t2 &  0.2688495 & 0.62000209 &          NA &  1.7220392 &  1.6434017\\\\\n",
       "\t5 & -0.6894078 & 1.11724847 & -1.52042477 &  0.2913901 & -1.0192352\\\\\n",
       "\t6 &         NA & 0.60106228 &  0.20736515 & -1.2202014 & -0.5223372\\\\\n",
       "\t12 &  0.9237489 & 0.89367223 & -0.29824957 &         NA &  0.7121298\\\\\n",
       "\t13 &         NA &         NA & -0.03254685 &         NA &  0.7522273\\\\\n",
       "\t18 & -0.9584556 & 0.01146436 &          NA &  1.1174678 &         NA\\\\\n",
       "\\end{tabular}\n"
      ],
      "text/markdown": [
       "\n",
       "A data.frame: 6 × 5\n",
       "\n",
       "| <!--/--> | x1 &lt;dbl&gt; | x2 &lt;dbl&gt; | z1 &lt;dbl&gt; | z2 &lt;dbl&gt; | y &lt;dbl&gt; |\n",
       "|---|---|---|---|---|---|\n",
       "| 2 |  0.2688495 | 0.62000209 |          NA |  1.7220392 |  1.6434017 |\n",
       "| 5 | -0.6894078 | 1.11724847 | -1.52042477 |  0.2913901 | -1.0192352 |\n",
       "| 6 |         NA | 0.60106228 |  0.20736515 | -1.2202014 | -0.5223372 |\n",
       "| 12 |  0.9237489 | 0.89367223 | -0.29824957 |         NA |  0.7121298 |\n",
       "| 13 |         NA |         NA | -0.03254685 |         NA |  0.7522273 |\n",
       "| 18 | -0.9584556 | 0.01146436 |          NA |  1.1174678 |         NA |\n",
       "\n"
      ],
      "text/plain": [
       "   x1         x2         z1          z2         y         \n",
       "2   0.2688495 0.62000209          NA  1.7220392  1.6434017\n",
       "5  -0.6894078 1.11724847 -1.52042477  0.2913901 -1.0192352\n",
       "6          NA 0.60106228  0.20736515 -1.2202014 -0.5223372\n",
       "12  0.9237489 0.89367223 -0.29824957         NA  0.7121298\n",
       "13         NA         NA -0.03254685         NA  0.7522273\n",
       "18 -0.9584556 0.01146436          NA  1.1174678         NA"
      ]
     },
     "metadata": {},
     "output_type": "display_data"
    }
   ],
   "source": [
    "# Select numerical variables\n",
    "numeric_vars <- data.cont %>%\n",
    "  select(x1, x2, z1, z2, y)\n",
    "\n",
    "head(numeric_vars)"
   ]
  },
  {
   "cell_type": "code",
   "execution_count": 114,
   "metadata": {
    "vscode": {
     "languageId": "r"
    }
   },
   "outputs": [
    {
     "name": "stdout",
     "output_type": "stream",
     "text": [
      "   x1 x2 z1 z2  y\n",
      "x1  1 NA NA NA NA\n",
      "x2 NA  1 NA NA NA\n",
      "z1 NA NA  1 NA NA\n",
      "z2 NA NA NA  1 NA\n",
      "y  NA NA NA NA  1\n"
     ]
    }
   ],
   "source": [
    "# Compute correlation matrix\n",
    "cor_matrix <- cor(numeric_vars) # default adalah Pearson's correlaton\n",
    "\n",
    "# Display correlation matrix\n",
    "print(cor_matrix)"
   ]
  },
  {
   "cell_type": "code",
   "execution_count": 115,
   "metadata": {
    "vscode": {
     "languageId": "r"
    }
   },
   "outputs": [
    {
     "data": {
      "image/png": "[encoded data removed]",
      "text/plain": [
       "Plot with title \"Correlation Matrix\""
      ]
     },
     "metadata": {
      "image/png": {
       "height": 420,
       "width": 420
      }
     },
     "output_type": "display_data"
    }
   ],
   "source": [
    "\n",
    "# Visualize correlation matrix\n",
    "corrplot(cor_matrix, method = \"color\", addCoef.col = \"black\",\n",
    "         tl.col = \"black\", number.cex = 0.7, type = \"upper\",\n",
    "         title = \"Correlation Matrix\", mar = c(0,0,1,0))\n"
   ]
  }
 ],
 "metadata": {
  "kernelspec": {
   "display_name": "R",
   "language": "R",
   "name": "ir"
  },
  "language_info": {
   "codemirror_mode": "r",
   "file_extension": ".r",
   "mimetype": "text/x-r-source",
   "name": "R",
   "pygments_lexer": "r",
   "version": "4.4.2"
  }
 },
 "nbformat": 4,
 "nbformat_minor": 2
}
